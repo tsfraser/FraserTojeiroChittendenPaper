{
 "cells": [
  {
   "cell_type": "markdown",
   "metadata": {},
   "source": [
    "## Example notebook on Illustris-TNG: using the API\n",
    "\n",
    "This notebook uses the group catalogues and the web API to download the star-formation and chemical enrichment histories of TNG-100 galaxies with logM* > 9.5.\n",
    "\n",
    "It takes a long time to run for the full snapshot, and it's only meant to be run once. The data is saved on to an hdf5 file.\n",
    "\n",
    "Using the API: https://www.illustris-project.org/data/docs/api/"
   ]
  },
  {
   "cell_type": "code",
   "execution_count": 1,
   "metadata": {},
   "outputs": [],
   "source": [
    "import numpy as np\n",
    "import pandas as pd\n",
    "import matplotlib.pyplot as plt\n",
    "from scipy import stats\n",
    "import six\n",
    "from os.path import isfile\n",
    "import os, sys\n",
    "import h5py\n",
    "import requests\n",
    "import math\n",
    "import csv\n",
    "import astropy\n",
    "sys.path.append(os.environ['HOME'] + '/SummerWork/Dropbox/Illustris-TNG/')\n",
    "import illustris_python as il\n"
   ]
  },
  {
   "cell_type": "code",
   "execution_count": 2,
   "metadata": {},
   "outputs": [
    {
     "data": {
      "text/plain": [
       "'/Users/tristanfraser'"
      ]
     },
     "execution_count": 2,
     "metadata": {},
     "output_type": "execute_result"
    }
   ],
   "source": [
    "os.environ['HOME']"
   ]
  },
  {
   "cell_type": "code",
   "execution_count": 3,
   "metadata": {},
   "outputs": [],
   "source": [
    "from astropy.cosmology import FlatLambdaCDM\n",
    "cosmo = FlatLambdaCDM(H0=0.6774*100, Om0=0.2726)\n",
    "c = 299792458.0\n",
    "redshift=0\n",
    "scale_factor = 1.0 / (1+redshift)\n",
    "h = 0.6774\n",
    "solar_Z = 0.0127"
   ]
  },
  {
   "cell_type": "code",
   "execution_count": 4,
   "metadata": {},
   "outputs": [],
   "source": [
    "baseUrl = 'http://www.tng-project.org/api/'\n",
    "headers = {\"api-key\":\"de46f69cfffbca16ffc078e126306229\"}"
   ]
  },
  {
   "cell_type": "code",
   "execution_count": 5,
   "metadata": {},
   "outputs": [],
   "source": [
    "basePath = os.environ['HOME']+'/SummerWork/Dropbox/Illustris-TNG/TNG100-1/output'\n",
    "cutoutsPath = os.environ['HOME']+'/SummerWork/Dropbox/Illustris-TNG/TNG100-1/cutouts/'\n",
    "snapNum=99"
   ]
  },
  {
   "cell_type": "markdown",
   "metadata": {},
   "source": [
    "Define the resolution in lookbacktime to store the SFHs and ZHs."
   ]
  },
  {
   "cell_type": "code",
   "execution_count": 6,
   "metadata": {},
   "outputs": [],
   "source": [
    "Nt = 100 #number of bins in lookback time\n",
    "sfh_t_boundary = np.linspace((1e-4),(13.8), num=Nt+1) #bin boundaries, in Gyr\n",
    "sfh_t = np.zeros(Nt)\n",
    "sfh_t = [ (sfh_t_boundary[i+1] + sfh_t_boundary[i])/2 for i in range(0,Nt)]"
   ]
  },
  {
   "cell_type": "code",
   "execution_count": 7,
   "metadata": {},
   "outputs": [
    {
     "data": {
      "text/plain": [
       "[0.0690995,\n",
       " 0.20709850000000002,\n",
       " 0.34509750000000006,\n",
       " 0.48309650000000004,\n",
       " 0.6210955,\n",
       " 0.7590945,\n",
       " 0.8970935000000001,\n",
       " 1.0350925000000002,\n",
       " 1.1730915,\n",
       " 1.3110905000000002,\n",
       " 1.4490895,\n",
       " 1.5870885000000001,\n",
       " 1.7250875000000003,\n",
       " 1.8630865,\n",
       " 2.0010855000000003,\n",
       " 2.1390845,\n",
       " 2.2770835000000007,\n",
       " 2.4150825000000005,\n",
       " 2.5530815000000002,\n",
       " 2.6910805000000004,\n",
       " 2.8290795000000006,\n",
       " 2.9670785000000004,\n",
       " 3.1050775,\n",
       " 3.243076500000001,\n",
       " 3.3810755000000006,\n",
       " 3.5190745000000003,\n",
       " 3.6570735000000005,\n",
       " 3.7950725000000007,\n",
       " 3.9330715000000005,\n",
       " 4.071070499999999,\n",
       " 4.2090695,\n",
       " 4.347068500000001,\n",
       " 4.4850674999999995,\n",
       " 4.6230665,\n",
       " 4.761065500000001,\n",
       " 4.8990645,\n",
       " 5.0370635,\n",
       " 5.1750625,\n",
       " 5.3130615,\n",
       " 5.4510605000000005,\n",
       " 5.5890595,\n",
       " 5.7270585,\n",
       " 5.865057500000001,\n",
       " 6.0030565,\n",
       " 6.1410555,\n",
       " 6.279054500000001,\n",
       " 6.4170535,\n",
       " 6.5550525,\n",
       " 6.693051500000001,\n",
       " 6.8310505,\n",
       " 6.969049500000001,\n",
       " 7.1070485,\n",
       " 7.2450475,\n",
       " 7.383046500000001,\n",
       " 7.5210455,\n",
       " 7.6590445,\n",
       " 7.797043500000001,\n",
       " 7.9350425,\n",
       " 8.0730415,\n",
       " 8.2110405,\n",
       " 8.3490395,\n",
       " 8.4870385,\n",
       " 8.625037500000001,\n",
       " 8.7630365,\n",
       " 8.9010355,\n",
       " 9.0390345,\n",
       " 9.1770335,\n",
       " 9.315032500000001,\n",
       " 9.453031500000002,\n",
       " 9.5910305,\n",
       " 9.7290295,\n",
       " 9.8670285,\n",
       " 10.0050275,\n",
       " 10.143026500000001,\n",
       " 10.2810255,\n",
       " 10.4190245,\n",
       " 10.5570235,\n",
       " 10.6950225,\n",
       " 10.833021500000001,\n",
       " 10.971020500000002,\n",
       " 11.1090195,\n",
       " 11.247018500000001,\n",
       " 11.3850175,\n",
       " 11.5230165,\n",
       " 11.661015500000001,\n",
       " 11.7990145,\n",
       " 11.9370135,\n",
       " 12.0750125,\n",
       " 12.2130115,\n",
       " 12.351010500000001,\n",
       " 12.489009500000002,\n",
       " 12.6270085,\n",
       " 12.765007500000001,\n",
       " 12.9030065,\n",
       " 13.0410055,\n",
       " 13.179004500000001,\n",
       " 13.317003500000002,\n",
       " 13.4550025,\n",
       " 13.5930015,\n",
       " 13.7310005]"
      ]
     },
     "execution_count": 7,
     "metadata": {},
     "output_type": "execute_result"
    }
   ],
   "source": [
    "sfh_t"
   ]
  },
  {
   "cell_type": "code",
   "execution_count": 8,
   "metadata": {},
   "outputs": [],
   "source": [
    "def get(path, params=None):\n",
    "    # make HTTP GET request to path\n",
    "    r = requests.get(path, params=params, headers=headers)\n",
    "\n",
    "    # raise exception if response code is not HTTP SUCCESS (200)\n",
    "    r.raise_for_status()\n",
    "\n",
    "    if r.headers['content-type'] == 'application/json':\n",
    "        return r.json() # parse json responses automatically\n",
    "\n",
    "    if 'content-disposition' in r.headers:\n",
    "        filename = cutoutsPath + r.headers['content-disposition'].split(\"filename=\")[1]\n",
    "        with open(filename, 'wb') as f:\n",
    "            f.write(r.content)\n",
    "        return filename # return the filename string\n",
    "\n",
    "    return r"
   ]
  },
  {
   "cell_type": "code",
   "execution_count": 62,
   "metadata": {},
   "outputs": [],
   "source": [
    "def get_sfh(id, radius=None, force_download=False):\n",
    "    redshift=0\n",
    "    \n",
    "    #change this to check if cutout is already downloaded\n",
    "    #parameters requested for each particle in the cutout\n",
    "    p = {'stars':'Coordinates,GFM_InitialMass,GFM_Metallicity,GFM_StellarFormationTime'}\n",
    "    \n",
    "    filename = cutoutsPath+'/cutout_'+str(id)+'.hdf5'\n",
    "    url = baseUrl+\"/TNG100-1/snapshots/z=\" + str(redshift) + \"/subhalos/\" + str(id)\n",
    "    sub = get(url) # get json response of subhalo properties\n",
    "\n",
    "    if (not os.path.isfile(filename)) | (force_download):\n",
    "        saved_filename = get(url +\"/cutout.hdf5\",p) # get and save HDF5 cutout file\n",
    "        #print(saved_filename)\n",
    "    else:\n",
    "        saved_filename=filename\n",
    "        if id%100 == 0: print('restoring previously saved file: ', saved_filename)\n",
    "    \n",
    "    with h5py.File(saved_filename) as g:\n",
    "        a_formation = g['PartType4']['GFM_StellarFormationTime'][:]\n",
    "        \n",
    "        if radius:\n",
    "            dx = g['PartType4']['Coordinates'][:,0] - sub['pos_x']\n",
    "            dy = g['PartType4']['Coordinates'][:,1] - sub['pos_y']\n",
    "            dz = g['PartType4']['Coordinates'][:,2] - sub['pos_z']\n",
    "            rr = np.sqrt(dx**2 + dy**2 + dz**2)\n",
    "            w = np.where((a_formation>0) & (rr < radius))#remove wind particles and cut to radius\n",
    "        else:\n",
    "            w = np.where((a_formation>0)) #remove wind particles\n",
    "\n",
    "        metals = g['PartType4']['GFM_Metallicity'][:]\n",
    "        metals = metals[w]\n",
    "        mass = g['PartType4']['GFM_InitialMass'][:]\n",
    "        #mass = g['PartType4']['Masses'][:]\n",
    "        mass = mass[w]* 1e10 / h\n",
    "        #print(np.shape(mass),'mass size')\n",
    "        #print(mass)\n",
    "        z_formation = 1.0/a_formation[w] - 1\n",
    "\n",
    "        age = cosmo.lookback_time(z_formation).value \n",
    "        \n",
    "        #plt.hist(age, weights=mass,bins=sfh_t_boundary)\n",
    "        sfh, x= np.histogram(age, bins=sfh_t_boundary, weights=mass)\n",
    "        z, x = np.histogram(age, bins=sfh_t_boundary, weights = mass*metals)\n",
    "        \n",
    "        zh = np.zeros(Nt)\n",
    "        zh[sfh>0] = np.divide(z[sfh>0], sfh[sfh>0])\n",
    "        #print(z[sfh>0],sfh[sfh>0],zh[sfh>0],np.shape(z[sfh>0]),np.shape(zh[sfh>0]),np.shape(sfh[sfh>0]))\n",
    "        #print('mean metallicity is: '+str(np.mean(metals)))\n",
    "        ##print('mean mass weighted metallicity is: ' + str(np.mean(metals*mass)))\n",
    "        #print('mean zm', np.mean(z))\n",
    "\n",
    "    return sfh, zh, z "
   ]
  },
  {
   "cell_type": "code",
   "execution_count": null,
   "metadata": {},
   "outputs": [],
   "source": []
  },
  {
   "cell_type": "code",
   "execution_count": 10,
   "metadata": {},
   "outputs": [
    {
     "name": "stdout",
     "output_type": "stream",
     "text": [
      "dict_keys(['simulations'])\n"
     ]
    },
    {
     "data": {
      "text/plain": [
       "['Illustris-1',\n",
       " 'Illustris-1-Dark',\n",
       " 'Illustris-2',\n",
       " 'Illustris-2-Dark',\n",
       " 'Illustris-3',\n",
       " 'Illustris-3-Dark',\n",
       " 'TNG100-1',\n",
       " 'TNG100-1-Dark',\n",
       " 'TNG100-2',\n",
       " 'TNG100-2-Dark',\n",
       " 'TNG100-3',\n",
       " 'TNG100-3-Dark',\n",
       " 'TNG300-3',\n",
       " 'TNG300-2-Dark',\n",
       " 'TNG300-2',\n",
       " 'TNG300-1-Dark',\n",
       " 'TNG300-1',\n",
       " 'TNG300-3-Dark',\n",
       " 'TNG50-1',\n",
       " 'TNG50-1-Dark',\n",
       " 'TNG50-2',\n",
       " 'TNG50-2-Dark',\n",
       " 'TNG50-3',\n",
       " 'TNG50-3-Dark',\n",
       " 'TNG50-4',\n",
       " 'TNG50-4-Dark',\n",
       " 'Illustris-1-Subbox0',\n",
       " 'Illustris-1-Subbox1',\n",
       " 'Illustris-1-Subbox2',\n",
       " 'Illustris-1-Subbox3',\n",
       " 'Illustris-2-Subbox0',\n",
       " 'Illustris-2-Subbox1',\n",
       " 'Illustris-2-Subbox2',\n",
       " 'Illustris-2-Subbox3',\n",
       " 'Illustris-3-Subbox0',\n",
       " 'Illustris-3-Subbox1',\n",
       " 'Illustris-3-Subbox2',\n",
       " 'Illustris-3-Subbox3',\n",
       " 'TNG100-1-Subbox0',\n",
       " 'TNG100-1-Subbox1',\n",
       " 'TNG100-2-Subbox0',\n",
       " 'TNG100-2-Subbox1',\n",
       " 'TNG100-3-Subbox0',\n",
       " 'TNG100-3-Subbox1',\n",
       " 'TNG300-3-Subbox1',\n",
       " 'TNG300-3-Subbox2',\n",
       " 'TNG300-3-Subbox0',\n",
       " 'TNG300-2-Subbox1',\n",
       " 'TNG300-2-Subbox2',\n",
       " 'TNG300-2-Subbox0',\n",
       " 'TNG300-1-Subbox1',\n",
       " 'TNG300-1-Subbox2',\n",
       " 'TNG300-1-Subbox0',\n",
       " 'TNG50-1-Subbox0',\n",
       " 'TNG50-1-Subbox2',\n",
       " 'TNG50-1-Subbox1',\n",
       " 'TNG50-2-Subbox0',\n",
       " 'TNG50-2-Subbox2',\n",
       " 'TNG50-2-Subbox1',\n",
       " 'TNG50-3-Subbox0',\n",
       " 'TNG50-3-Subbox2',\n",
       " 'TNG50-3-Subbox1',\n",
       " 'TNG50-4-Subbox0',\n",
       " 'TNG50-4-Subbox2',\n",
       " 'TNG50-4-Subbox1']"
      ]
     },
     "execution_count": 10,
     "metadata": {},
     "output_type": "execute_result"
    }
   ],
   "source": [
    "r = get(baseUrl)\n",
    "print(r.keys())\n",
    "[sim['name'] for sim in r['simulations']]"
   ]
  },
  {
   "cell_type": "markdown",
   "metadata": {},
   "source": [
    "Get the stellar and halo mass of the galaxies in the snapshot."
   ]
  },
  {
   "cell_type": "code",
   "execution_count": 11,
   "metadata": {},
   "outputs": [],
   "source": [
    "SubhaloHalfmass_stars=np.array(il.groupcat.loadSubhalos(basePath,snapNum,\n",
    "                                        fields=\"SubhaloHalfmassRadType\"))[:,4]\n",
    "Groups = np.array(il.groupcat.loadSubhalos(basePath,snapNum,\n",
    "                                        fields=\"SubhaloGrNr\")) # considered incorporating environment, but encountered issues\n",
    "# in computing it, and shelved it for now.\n",
    "BHSubhaloHalfmass_stars=np.array(il.groupcat.loadSubhalos(basePath,snapNum,\n",
    "                                        fields=\"SubhaloHalfmassRadType\"))[:,5]\n",
    "Ms = np.array(il.groupcat.loadSubhalos(basePath,snapNum,\n",
    "                                        fields=\"SubhaloMassType\"))[:,4]* 1e10 / h\n",
    "Mhalo = np.array(il.groupcat.loadSubhalos(basePath,snapNum,\n",
    "                                        fields=\"SubhaloMass\"))* 1e10 / h\n",
    "HalosZ = np.array(il.groupcat.loadSubhalos(basePath,snapNum,\n",
    "                                        fields=\"SubhaloGasMetallicity\"))\n",
    "Coord = np.array(il.groupcat.loadSubhalos(basePath,snapNum,\n",
    "                                        fields=\"SubhaloPos\")) * c/h\n",
    "BHMs = np.array(il.groupcat.loadSubhalos(basePath,snapNum,\n",
    "                                        fields=\"SubhaloBHMass\"))* 1e10 / h\n",
    "BHMdot = np.array(il.groupcat.loadSubhalos(basePath,snapNum,\n",
    "                                        fields=\"SubhaloBHMdot\"))* 1e10 / h * (h/(0.978*1e9)) # convert Gyr to yr..\n",
    "FoFhalos = il.groupcat.loadHalos(basePath,snapNum,fields=['Group_M_Mean200','GroupFirstSub','GroupBHMass','GroupBHMdot'])\n"
   ]
  },
  {
   "cell_type": "code",
   "execution_count": 12,
   "metadata": {},
   "outputs": [],
   "source": [
    "truths = FoFhalos['GroupFirstSub'] > -1  \n",
    "# some more failed environment code...\n",
    "#np.shape(Ms[FoFhalos['GroupFirstSub']][Ms[FoFhalos['GroupFirstSub']]>10**9.5])"
   ]
  },
  {
   "cell_type": "code",
   "execution_count": 13,
   "metadata": {},
   "outputs": [],
   "source": [
    "TrimmedGroups = Groups[Ms>10**9.5]\n",
    "#TrimmedGroups failed environment code"
   ]
  },
  {
   "cell_type": "code",
   "execution_count": 14,
   "metadata": {},
   "outputs": [
    {
     "name": "stdout",
     "output_type": "stream",
     "text": [
      "[]\n"
     ]
    }
   ],
   "source": [
    "step1 = (FoFhalos['GroupFirstSub'])\n",
    "step2  = FoFhalos['GroupFirstSub'][Ms[step1] > 10**9.5]\n",
    "print(np.argwhere(step2 == -1))\n",
    "#np.shape(step2) more environment code"
   ]
  },
  {
   "cell_type": "code",
   "execution_count": 15,
   "metadata": {},
   "outputs": [
    {
     "name": "stdout",
     "output_type": "stream",
     "text": [
      "(982, 1)\n"
     ]
    },
    {
     "data": {
      "image/png": "[encoded data removed]",
      "text/plain": [
       "<Figure size 432x288 with 1 Axes>"
      ]
     },
     "metadata": {
      "needs_background": "light"
     },
     "output_type": "display_data"
    }
   ],
   "source": [
    "np.shape(Ms) # subhalo masses. So first, cut for 9.5\n",
    "MsCut = Ms >10**9.5\n",
    "Ms2 = Ms[MsCut]\n",
    "GroupCut = Groups[MsCut]\n",
    "centralC = np.zeros(np.size(np.unique(GroupCut)))\n",
    "env = np.zeros(np.size(np.unique(GroupCut)))\n",
    "#most massives:\n",
    "for i in range(np.size(np.unique(GroupCut))):\n",
    "    #print(i)\n",
    "    centralC[i] = np.max(Ms2[np.argwhere(GroupCut == GroupCut[i] )[:,0]])\n",
    "    env[i]= centralC[i]/np.sum(Ms2[np.argwhere(GroupCut == GroupCut[i] )[:,0]])\n",
    "plt.hist(env,bins = 20) # tried determining environment, to limited success (using GroupFirstSub and GrNr)\n",
    "#plt.hist(centralMs)\n",
    "print(np.shape(np.argwhere(env == 1)))"
   ]
  },
  {
   "cell_type": "code",
   "execution_count": 16,
   "metadata": {},
   "outputs": [
    {
     "data": {
      "image/png": "[encoded data removed]",
      "text/plain": [
       "<Figure size 432x288 with 1 Axes>"
      ]
     },
     "metadata": {
      "needs_background": "light"
     },
     "output_type": "display_data"
    }
   ],
   "source": [
    "plt.hist(centralC[env ==1],bins = np.logspace(9,13,20))\n",
    "plt.hist(centralC,histtype = 'step',bins = np.logspace(9,13,20))\n",
    "# demonstrated lower env (=1) occurs more for lower mass\n",
    "plt.xscale('log')"
   ]
  },
  {
   "cell_type": "code",
   "execution_count": 17,
   "metadata": {},
   "outputs": [
    {
     "name": "stdout",
     "output_type": "stream",
     "text": [
      "(12535,)\n",
      "(2584, 1)\n"
     ]
    },
    {
     "data": {
      "text/plain": [
       "(array([ 37.,  53.,  42.,  26.,  33.,  35.,  53.,  72.,  91.,  97., 137.,\n",
       "        173., 153., 200., 186., 160., 160., 117., 120., 110., 106.,  65.,\n",
       "         59.,  49.,  29.,  33.,  26.,  18.,  33.,  10.,  14.,  15.,  10.,\n",
       "         10.,   9.,   5.,   7.,   9.,   5.,   5.,   1.,   1.,   5.,   2.,\n",
       "          1.,   2.,   0.,   0.,   0.]),\n",
       " array([ 9.5       ,  9.6122449 ,  9.7244898 ,  9.83673469,  9.94897959,\n",
       "        10.06122449, 10.17346939, 10.28571429, 10.39795918, 10.51020408,\n",
       "        10.62244898, 10.73469388, 10.84693878, 10.95918367, 11.07142857,\n",
       "        11.18367347, 11.29591837, 11.40816327, 11.52040816, 11.63265306,\n",
       "        11.74489796, 11.85714286, 11.96938776, 12.08163265, 12.19387755,\n",
       "        12.30612245, 12.41836735, 12.53061224, 12.64285714, 12.75510204,\n",
       "        12.86734694, 12.97959184, 13.09183673, 13.20408163, 13.31632653,\n",
       "        13.42857143, 13.54081633, 13.65306122, 13.76530612, 13.87755102,\n",
       "        13.98979592, 14.10204082, 14.21428571, 14.32653061, 14.43877551,\n",
       "        14.55102041, 14.66326531, 14.7755102 , 14.8877551 , 15.        ]),\n",
       " <a list of 49 Patch objects>)"
      ]
     },
     "execution_count": 17,
     "metadata": {},
     "output_type": "execute_result"
    },
    {
     "data": {
      "image/png": "[encoded data removed]",
      "text/plain": [
       "<Figure size 432x288 with 1 Axes>"
      ]
     },
     "metadata": {
      "needs_background": "light"
     },
     "output_type": "display_data"
    }
   ],
   "source": [
    "MhaloC = Mhalo[Ms>10**9.5]\n",
    "print(np.shape(MhaloC))\n",
    "env1 = np.argwhere(env <=0.5)\n",
    "print(np.shape(env1))\n",
    "#print(env1)\n",
    "plt.hist(np.log10(MhaloC),bins =np.linspace(9.5,15, 50),histtype ='step',color = 'black')\n",
    "plt.hist(np.log10(MhaloC[env1]),bins =np.linspace(9.5,15, 50),color= 'red')\n",
    "# some more environment, time for < 0.5"
   ]
  },
  {
   "cell_type": "code",
   "execution_count": 18,
   "metadata": {},
   "outputs": [
    {
     "data": {
      "text/plain": [
       "Text(0.5, 1.0, 'centrals only')"
      ]
     },
     "execution_count": 18,
     "metadata": {},
     "output_type": "execute_result"
    },
    {
     "data": {
      "image/png": "[encoded data removed]",
      "text/plain": [
       "<Figure size 432x288 with 1 Axes>"
      ]
     },
     "metadata": {
      "needs_background": "light"
     },
     "output_type": "display_data"
    }
   ],
   "source": [
    "mass_halo = FoFhalos['Group_M_Mean200'] * 1e10 / h\n",
    "mass_msun = Ms[FoFhalos['GroupFirstSub']]\n",
    "mbh = FoFhalos['GroupBHMass']*1e10/h\n",
    "mdot = FoFhalos['GroupBHMdot']*1e10/h * (h/0.978)\n",
    "plt.plot(mass_halo,mass_msun,'.',ms =0.1)\n",
    "plt.xscale('log')\n",
    "plt.yscale('log')\n",
    "plt.ylabel('Total Stellar Mass [$M_\\odot$]')\n",
    "plt.xlabel('Halo mass [$M_\\odot$]')\n",
    "plt.title('centrals only')\n",
    "#plt.ylim(1e9,1e12)\n",
    "#plt.xlim(1e11,1e15)"
   ]
  },
  {
   "cell_type": "code",
   "execution_count": 19,
   "metadata": {},
   "outputs": [],
   "source": [
    "#m95 = mass_msun[mass_msun>10**9.5]\n",
    "#np.shape(m95)"
   ]
  },
  {
   "cell_type": "code",
   "execution_count": 20,
   "metadata": {},
   "outputs": [
    {
     "name": "stdout",
     "output_type": "stream",
     "text": [
      "(7237,)\n",
      "(7237,)\n"
     ]
    },
    {
     "data": {
      "image/png": "[encoded data removed]",
      "text/plain": [
       "<Figure size 432x288 with 1 Axes>"
      ]
     },
     "metadata": {
      "needs_background": "light"
     },
     "output_type": "display_data"
    }
   ],
   "source": [
    "centralmask = (mass_msun>10**9.5) # extracting centrals\n",
    "centralMs = mass_msun[centralmask]\n",
    "centralMh = mass_halo[centralmask]\n",
    "maskidx = np.argwhere(centralmask == True)[:,0]\n",
    "print(np.shape(FoFhalos['GroupFirstSub'][maskidx]))\n",
    "centralIDs = FoFhalos['GroupFirstSub'][maskidx]\n",
    "plt.scatter(np.log10(centralMs),np.log10(centralMh),s = 0.1)\n",
    "print(np.shape(centralMs))"
   ]
  },
  {
   "cell_type": "code",
   "execution_count": 21,
   "metadata": {},
   "outputs": [
    {
     "data": {
      "text/plain": [
       "12.568857"
      ]
     },
     "execution_count": 21,
     "metadata": {},
     "output_type": "execute_result"
    }
   ],
   "source": [
    "np.max(np.log10(centralMs))"
   ]
  },
  {
   "cell_type": "code",
   "execution_count": 22,
   "metadata": {},
   "outputs": [
    {
     "name": "stdout",
     "output_type": "stream",
     "text": [
      "(7237,)\n"
     ]
    },
    {
     "data": {
      "image/png": "[encoded data removed]",
      "text/plain": [
       "<Figure size 432x288 with 1 Axes>"
      ]
     },
     "metadata": {
      "needs_background": "light"
     },
     "output_type": "display_data"
    }
   ],
   "source": [
    "plt.hist(centralMs, bins = np.logspace(9.5,15,100))\n",
    "plt.xscale('log')\n",
    "print(np.shape(centralMs)) # these are identical to my implementation with IsPrimary, can be used if you want."
   ]
  },
  {
   "cell_type": "code",
   "execution_count": 23,
   "metadata": {},
   "outputs": [
    {
     "data": {
      "text/plain": [
       "(array([6.60000e+01, 1.10000e+02, 1.78000e+02, 2.15000e+02, 2.49000e+02,\n",
       "        3.81000e+02, 6.87000e+02, 3.80170e+05, 8.69154e+05, 7.67333e+05,\n",
       "        6.03615e+05, 4.40635e+05, 3.43327e+05, 2.51208e+05, 1.86432e+05,\n",
       "        1.39555e+05, 1.02091e+05, 7.45580e+04, 5.44540e+04, 4.10710e+04,\n",
       "        3.04100e+04, 2.17570e+04, 1.59880e+04, 1.19760e+04, 9.08200e+03,\n",
       "        6.93200e+03, 5.18100e+03, 3.90900e+03, 2.77900e+03, 2.10600e+03,\n",
       "        1.60500e+03, 1.09200e+03, 8.75000e+02, 6.48000e+02, 3.77000e+02,\n",
       "        3.13000e+02, 1.88000e+02, 1.47000e+02, 1.08000e+02, 6.40000e+01,\n",
       "        6.50000e+01, 3.90000e+01, 1.90000e+01, 1.80000e+01, 1.90000e+01,\n",
       "        1.00000e+01, 4.00000e+00, 2.00000e+00, 6.00000e+00, 3.00000e+00]),\n",
       " array([ 7.0879803,  7.2383833,  7.388787 ,  7.53919  ,  7.689593 ,\n",
       "         7.8399963,  7.9903994,  8.140802 ,  8.291205 ,  8.441608 ,\n",
       "         8.592012 ,  8.742415 ,  8.892818 ,  9.043221 ,  9.1936245,\n",
       "         9.3440275,  9.4944315,  9.6448345,  9.795238 ,  9.945641 ,\n",
       "        10.096044 , 10.246447 , 10.396851 , 10.547254 , 10.697657 ,\n",
       "        10.84806  , 10.998463 , 11.148866 , 11.299269 , 11.449673 ,\n",
       "        11.600076 , 11.750479 , 11.900882 , 12.051285 , 12.201688 ,\n",
       "        12.352092 , 12.502495 , 12.652898 , 12.803301 , 12.953704 ,\n",
       "        13.104107 , 13.254511 , 13.404914 , 13.555317 , 13.70572  ,\n",
       "        13.856123 , 14.006526 , 14.15693  , 14.307333 , 14.457736 ,\n",
       "        14.608139 ], dtype=float32),\n",
       " <a list of 50 Patch objects>)"
      ]
     },
     "execution_count": 23,
     "metadata": {},
     "output_type": "execute_result"
    },
    {
     "data": {
      "image/png": "[encoded data removed]",
      "text/plain": [
       "<Figure size 432x288 with 1 Axes>"
      ]
     },
     "metadata": {
      "needs_background": "light"
     },
     "output_type": "display_data"
    }
   ],
   "source": [
    "plt.hist(np.log10(Mhalo),bins = 50)"
   ]
  },
  {
   "cell_type": "code",
   "execution_count": 24,
   "metadata": {},
   "outputs": [
    {
     "data": {
      "text/plain": [
       "(4371211,)"
      ]
     },
     "execution_count": 24,
     "metadata": {},
     "output_type": "execute_result"
    }
   ],
   "source": [
    "mask  =(Ms>10**9.5)\n",
    "np.shape(mask)"
   ]
  },
  {
   "cell_type": "code",
   "execution_count": 25,
   "metadata": {},
   "outputs": [
    {
     "name": "stdout",
     "output_type": "stream",
     "text": [
      "(4371211, 8, 12)\n",
      "(4371211,)\n"
     ]
    }
   ],
   "source": [
    "phot  = h5py.File(\"Subhalo_StellarPhot_p07c_cf00dust_res_conv_ns1_rad30pkpc_099.hdf5\",\"r\")\n",
    "bars = h5py.File(\"tng100-1_bars_099.hdf5\",\"r\")\n",
    "\n",
    "astid = phot['subhaloIDs'][()]\n",
    "bands = phot['Subhalo_StellarPhot_p07c_cf00dust_res_conv_ns1_rad30pkpc'][()]\n",
    "print(np.shape(bands))\n",
    "print(np.shape(astid))\n",
    "idx = astid[mask]#(np.argwhere(np.in1d(astid,SubID) == True))\n",
    "bands = bands[idx]\n",
    "#print(np.shape(bands))\n",
    "U = bands[:,0,0]\n",
    "G = bands[:,1,0]\n",
    "R = bands[:,2,0]\n",
    "I = bands[:,3,0]  # preparing the magnitude data. Documentation of supplemental catalog indicates I can pick any\n",
    "Z = bands[:,4,0]  # index (reflecting angle of obs), and apply for all."
   ]
  },
  {
   "cell_type": "code",
   "execution_count": 26,
   "metadata": {},
   "outputs": [],
   "source": [
    "# Move onto morphologies\n",
    "stara = h5py.File(\"stellar_assembly.hdf5\",\"r\")\n",
    "starcirc = h5py.File(\"stellar_circs.hdf5\",\"r\")\n",
    "bars = h5py.File(\"tng100-1_bars_099.hdf5\",\"r\")"
   ]
  },
  {
   "cell_type": "code",
   "execution_count": 27,
   "metadata": {},
   "outputs": [
    {
     "name": "stdout",
     "output_type": "stream",
     "text": [
      "(32910,)\n"
     ]
    }
   ],
   "source": [
    "AngID= starcirc['Snapshot_99']['SubfindID'][()]#.keys()\n",
    "print(np.shape(AngID)) # looked at angular momentum but ultimately discarded\n",
    "#idx = AngID[mask]#(np.argwhere(np.in1d(AngID,SubID) == True))\n",
    "#Angidx"
   ]
  },
  {
   "cell_type": "code",
   "execution_count": 28,
   "metadata": {},
   "outputs": [
    {
     "name": "stdout",
     "output_type": "stream",
     "text": [
      "(12535,)\n"
     ]
    }
   ],
   "source": [
    "morphg = h5py.File(\"sdss_morphs_g.hdf5 \",\"r\")\n",
    "morphoGID = morphg['subfind_id'][()]\n",
    "print(np.shape(morphoGID))\n",
    "morphoflag = morphg['flag'][()]\n",
    "#maskIDX = morphoGID[mask]#np.argwhere(((morphoGID == SubID)))\n",
    "#np.shape(maskIDX)"
   ]
  },
  {
   "cell_type": "code",
   "execution_count": 29,
   "metadata": {},
   "outputs": [
    {
     "data": {
      "text/plain": [
       "1031"
      ]
     },
     "execution_count": 29,
     "metadata": {},
     "output_type": "execute_result"
    }
   ],
   "source": [
    "np.size(morphoflag[morphoflag == 1]) # flagging galaxies with poor sersic fit"
   ]
  },
  {
   "cell_type": "code",
   "execution_count": 30,
   "metadata": {},
   "outputs": [
    {
     "name": "stdout",
     "output_type": "stream",
     "text": [
      "(12535,)\n"
     ]
    },
    {
     "data": {
      "text/plain": [
       "(array([ 13.,  36.,  43.,  94., 134., 211., 269., 313., 300., 310., 293.,\n",
       "        288., 303., 286., 294., 269., 342., 288., 300., 306., 306., 301.,\n",
       "        305., 293., 285., 285., 285., 241., 252., 208., 211., 176., 173.,\n",
       "        214., 155., 143., 146., 108., 112., 102.,  96., 102.,  93.,  88.,\n",
       "         91.,  75.,  73.,  75.,  81.,  63.,  68.,  76.,  48.,  57.,  48.,\n",
       "         65.,  49.,  87.,  48.,  68.,  57.,  35.,  38.,  46.,  26.,  44.,\n",
       "         44.,  41.,  29.,  36.,  32.,  35.,  35.,  36.,  25.,  31.,  21.,\n",
       "         29.,  32.,  22.,  26.,  22.,  24.,  18.,  29.,  29.,  13.,  16.,\n",
       "         14.,  12.,  14.,  12.,  22.,  21.,  13.,  16.,  16.,   8.,  17.]),\n",
       " array([0.        , 0.06060606, 0.12121212, 0.18181818, 0.24242424,\n",
       "        0.3030303 , 0.36363636, 0.42424242, 0.48484848, 0.54545455,\n",
       "        0.60606061, 0.66666667, 0.72727273, 0.78787879, 0.84848485,\n",
       "        0.90909091, 0.96969697, 1.03030303, 1.09090909, 1.15151515,\n",
       "        1.21212121, 1.27272727, 1.33333333, 1.39393939, 1.45454545,\n",
       "        1.51515152, 1.57575758, 1.63636364, 1.6969697 , 1.75757576,\n",
       "        1.81818182, 1.87878788, 1.93939394, 2.        , 2.06060606,\n",
       "        2.12121212, 2.18181818, 2.24242424, 2.3030303 , 2.36363636,\n",
       "        2.42424242, 2.48484848, 2.54545455, 2.60606061, 2.66666667,\n",
       "        2.72727273, 2.78787879, 2.84848485, 2.90909091, 2.96969697,\n",
       "        3.03030303, 3.09090909, 3.15151515, 3.21212121, 3.27272727,\n",
       "        3.33333333, 3.39393939, 3.45454545, 3.51515152, 3.57575758,\n",
       "        3.63636364, 3.6969697 , 3.75757576, 3.81818182, 3.87878788,\n",
       "        3.93939394, 4.        , 4.06060606, 4.12121212, 4.18181818,\n",
       "        4.24242424, 4.3030303 , 4.36363636, 4.42424242, 4.48484848,\n",
       "        4.54545455, 4.60606061, 4.66666667, 4.72727273, 4.78787879,\n",
       "        4.84848485, 4.90909091, 4.96969697, 5.03030303, 5.09090909,\n",
       "        5.15151515, 5.21212121, 5.27272727, 5.33333333, 5.39393939,\n",
       "        5.45454545, 5.51515152, 5.57575758, 5.63636364, 5.6969697 ,\n",
       "        5.75757576, 5.81818182, 5.87878788, 5.93939394, 6.        ]),\n",
       " <a list of 99 Patch objects>)"
      ]
     },
     "execution_count": 30,
     "metadata": {},
     "output_type": "execute_result"
    },
    {
     "data": {
      "image/png": "[encoded data removed]",
      "text/plain": [
       "<Figure size 432x288 with 1 Axes>"
      ]
     },
     "metadata": {
      "needs_background": "light"
     },
     "output_type": "display_data"
    }
   ],
   "source": [
    "sersics = morphg['sersic_n'][()]\n",
    "print(np.shape(sersics)) # experimental work with sersic index\n",
    "plt.hist(sersics, bins = np.linspace(0,6,100))"
   ]
  },
  {
   "cell_type": "code",
   "execution_count": 31,
   "metadata": {
    "scrolled": false
   },
   "outputs": [
    {
     "data": {
      "text/plain": [
       "(0, 6.1)"
      ]
     },
     "execution_count": 31,
     "metadata": {},
     "output_type": "execute_result"
    },
    {
     "data": {
      "image/png": "[encoded data removed]",
      "text/plain": [
       "<Figure size 432x288 with 1 Axes>"
      ]
     },
     "metadata": {
      "needs_background": "light"
     },
     "output_type": "display_data"
    }
   ],
   "source": [
    "plt.scatter(sersics[sersics <=6],(U-R)[sersics<=6],s = 0.1) # experimental work with Sersic index\n",
    "plt.xlim(0,6.1)"
   ]
  },
  {
   "cell_type": "code",
   "execution_count": 32,
   "metadata": {},
   "outputs": [
    {
     "name": "stdout",
     "output_type": "stream",
     "text": [
      "(4371211,)\n",
      "(4371211,)\n",
      "12535\n",
      "(12535,)\n"
     ]
    }
   ],
   "source": [
    "#select galaxies for which we want SFHs. Start with a simple mass cut\n",
    "SubID=np.arange(Ms.shape[0])\n",
    "print(np.shape(SubID))\n",
    "mask=(Ms>10**9.5)\n",
    "print(np.shape(mask))\n",
    "SubhaloHalfmass_stars=SubhaloHalfmass_stars[mask]\n",
    "BHSubhaloHalfmass_stars = BHSubhaloHalfmass_stars[mask]\n",
    "SubID=SubID[mask]\n",
    "Ms = Ms[mask]\n",
    "BHMs = BHMs[mask]\n",
    "BHMdot = BHMdot[mask]\n",
    "Mh = Mhalo[mask]\n",
    "HaloZ = HalosZ[mask]\n",
    "Coords = Coord[mask]\n",
    "#MBH = mbh[mask]\n",
    "print(len(SubID))\n",
    "print(np.shape(SubhaloHalfmass_stars))\n",
    "Ng = len(SubID)\n"
   ]
  },
  {
   "cell_type": "code",
   "execution_count": 33,
   "metadata": {},
   "outputs": [],
   "source": [
    "Ngc = int(np.size(centralMh)) # number of centrals"
   ]
  },
  {
   "cell_type": "code",
   "execution_count": 34,
   "metadata": {},
   "outputs": [
    {
     "name": "stdout",
     "output_type": "stream",
     "text": [
      "0\n"
     ]
    },
    {
     "data": {
      "image/png": "[encoded data removed]",
      "text/plain": [
       "<Figure size 432x288 with 1 Axes>"
      ]
     },
     "metadata": {
      "needs_background": "light"
     },
     "output_type": "display_data"
    }
   ],
   "source": [
    "plt.scatter(np.log10(Ms),np.log10(Mh), s=0.01)\n",
    "print(np.size(np.argwhere(Mh == 0)))"
   ]
  },
  {
   "cell_type": "markdown",
   "metadata": {},
   "source": [
    "### Preparing the file and the datasets to write to"
   ]
  },
  {
   "cell_type": "code",
   "execution_count": 35,
   "metadata": {},
   "outputs": [],
   "source": [
    "coutfile = \"new_centrals_file.hdf5\"\n",
    " # can optionally use a centrals file"
   ]
  },
  {
   "cell_type": "code",
   "execution_count": 36,
   "metadata": {},
   "outputs": [],
   "source": [
    "cs1 = h5py.File(coutfile,\"w\")\n",
    "#cs1.close() "
   ]
  },
  {
   "cell_type": "code",
   "execution_count": 37,
   "metadata": {},
   "outputs": [],
   "source": [
    "c_centralIDs = cs1.create_dataset(\"centralID\",(Ngc,),dtype = np.dtype(float))"
   ]
  },
  {
   "cell_type": "code",
   "execution_count": 38,
   "metadata": {},
   "outputs": [],
   "source": [
    "c_logMs = cs1.create_dataset(\"logMs\", (Ngc,), dtype=np.dtype(float))\n",
    "c_logMh = cs1.create_dataset(\"logMh\", (Ngc,), dtype=np.dtype(float))"
   ]
  },
  {
   "cell_type": "code",
   "execution_count": 39,
   "metadata": {},
   "outputs": [],
   "source": [
    "c_logMh[:] = np.log10(centralMh)\n",
    "c_logMs[:] = np.log10(centralMs)\n",
    "c_centralIDs[:] = centralIDs # this is ultimately optional, but I keep it here if you want to compare my \n",
    "# choice of centrals with this one. They are ultimately identical"
   ]
  },
  {
   "cell_type": "code",
   "execution_count": 40,
   "metadata": {},
   "outputs": [],
   "source": [
    "cs1.close()"
   ]
  },
  {
   "cell_type": "code",
   "execution_count": 41,
   "metadata": {},
   "outputs": [],
   "source": [
    "boutfile = \"07_02_BHoutput_file_new.hdf5\" # file names...\n",
    "outfileF = \"new_output_file.hdf5\"\n",
    "\n",
    "#outfile2 = \"Users\\tristanfraser\\SummerWork\\cutout_0.hdf5\"\n",
    "bf = h5py.File(boutfile, \"w\")\n",
    "#f = h5py.File(outfile,\"w\")\n",
    "\n"
   ]
  },
  {
   "cell_type": "code",
   "execution_count": 52,
   "metadata": {},
   "outputs": [],
   "source": [
    "outfileF = \"rebinned_output_file.hdf5\""
   ]
  },
  {
   "cell_type": "code",
   "execution_count": 43,
   "metadata": {},
   "outputs": [],
   "source": [
    "f_BHM = bf.create_dataset(\"MBH\",(Ng,),dtype= np.dtype(float)) # Black hole mass\n",
    "f_BHMdot = bf.create_dataset(\"BHMdot\",(Ng,),dtype = np.dtype(float))\n",
    "bf_subID = bf.create_dataset(\"subID\", (Ng,), dtype=np.dtype(float))\n",
    "bf_subID[:] = SubID # creating entries"
   ]
  },
  {
   "cell_type": "code",
   "execution_count": 44,
   "metadata": {},
   "outputs": [],
   "source": [
    "f_BHM[:] = BHMs\n",
    "f_BHMdot[:]= BHMdot # populating \n",
    "bf_subID[:] = SubID"
   ]
  },
  {
   "cell_type": "code",
   "execution_count": 45,
   "metadata": {},
   "outputs": [],
   "source": [
    "bf.close() #closing"
   ]
  },
  {
   "cell_type": "code",
   "execution_count": 53,
   "metadata": {},
   "outputs": [],
   "source": [
    "f = h5py.File(outfileF,\"a\") # open & repeat"
   ]
  },
  {
   "cell_type": "code",
   "execution_count": 54,
   "metadata": {},
   "outputs": [],
   "source": [
    "f_Ang = f.create_dataset(\"AngMom\", (Ng,), dtype=np.dtype(float)) # Angular Momentum\n",
    "f_logMs = f.create_dataset(\"logMs\", (Ng,), dtype=np.dtype(float)) #total stellar mass\n",
    "f_logMh = f.create_dataset(\"logMh\",(Ng,),dtype = np.dtype(float)) # Halo mass\n",
    "f_HaloZ = f.create_dataset(\"HaloZ\",(Ng,),dtype = np.dtype(float)) # Halo gas metallicity \n",
    "f_bands = f.create_dataset(\"bands\",(Ng,5),dtype = np.dtype(float)) # Magnitudes\n",
    "\n",
    "f_sfh_t = f.create_dataset(\"sfh_t\", (Nt,), dtype=np.dtype(float)) #bins in lookback time\n",
    "f_sfh_t_boundaries = f.create_dataset(\"sfh_t_boundaries\", (Nt+1,), dtype=np.dtype(float)) #bin boundaries\n",
    "f_sfh = f.create_dataset(\"sfh\", (Ng,Nt),dtype=np.dtype(float)) #mass formed in each bin of lookback time [solar masses]\n",
    "f_zh = f.create_dataset(\"zh\", (Ng,Nt),dtype=np.dtype(float)) #mass-weighted metallicity of stars formed in each bin of lookback time\n",
    "f_subID = f.create_dataset(\"subID\", (Ng,), dtype=np.dtype(float)) # this is integer id (closer to an idx)\n",
    "f_AUXID = f.create_dataset(\"True_subID\", (Ng,), dtype=np.dtype(float)) # this is the actual subhalo id\n"
   ]
  },
  {
   "cell_type": "code",
   "execution_count": 50,
   "metadata": {},
   "outputs": [
    {
     "ename": "RuntimeError",
     "evalue": "Unable to create link (name already exists)",
     "output_type": "error",
     "traceback": [
      "\u001b[0;31m---------------------------------------------------------------------------\u001b[0m",
      "\u001b[0;31mRuntimeError\u001b[0m                              Traceback (most recent call last)",
      "\u001b[0;32m<ipython-input-50-d4d73c5d6b93>\u001b[0m in \u001b[0;36m<module>\u001b[0;34m\u001b[0m\n\u001b[0;32m----> 1\u001b[0;31m \u001b[0mf_logMs\u001b[0m \u001b[0;34m=\u001b[0m \u001b[0mf\u001b[0m\u001b[0;34m.\u001b[0m\u001b[0mcreate_dataset\u001b[0m\u001b[0;34m(\u001b[0m\u001b[0;34m\"logMs\"\u001b[0m\u001b[0;34m,\u001b[0m \u001b[0;34m(\u001b[0m\u001b[0mNg\u001b[0m\u001b[0;34m,\u001b[0m\u001b[0;34m)\u001b[0m\u001b[0;34m,\u001b[0m \u001b[0mdtype\u001b[0m\u001b[0;34m=\u001b[0m\u001b[0mnp\u001b[0m\u001b[0;34m.\u001b[0m\u001b[0mdtype\u001b[0m\u001b[0;34m(\u001b[0m\u001b[0mfloat\u001b[0m\u001b[0;34m)\u001b[0m\u001b[0;34m)\u001b[0m \u001b[0;31m#total stellar mass\u001b[0m\u001b[0;34m\u001b[0m\u001b[0;34m\u001b[0m\u001b[0m\n\u001b[0m\u001b[1;32m      2\u001b[0m \u001b[0mf_logMh\u001b[0m \u001b[0;34m=\u001b[0m \u001b[0mf\u001b[0m\u001b[0;34m.\u001b[0m\u001b[0mcreate_dataset\u001b[0m\u001b[0;34m(\u001b[0m\u001b[0;34m\"logMh\"\u001b[0m\u001b[0;34m,\u001b[0m\u001b[0;34m(\u001b[0m\u001b[0mNg\u001b[0m\u001b[0;34m,\u001b[0m\u001b[0;34m)\u001b[0m\u001b[0;34m,\u001b[0m\u001b[0mdtype\u001b[0m \u001b[0;34m=\u001b[0m \u001b[0mnp\u001b[0m\u001b[0;34m.\u001b[0m\u001b[0mdtype\u001b[0m\u001b[0;34m(\u001b[0m\u001b[0mfloat\u001b[0m\u001b[0;34m)\u001b[0m\u001b[0;34m)\u001b[0m \u001b[0;31m# Halo mass\u001b[0m\u001b[0;34m\u001b[0m\u001b[0;34m\u001b[0m\u001b[0m\n\u001b[1;32m      3\u001b[0m \u001b[0mf_HaloZ\u001b[0m \u001b[0;34m=\u001b[0m \u001b[0mf\u001b[0m\u001b[0;34m.\u001b[0m\u001b[0mcreate_dataset\u001b[0m\u001b[0;34m(\u001b[0m\u001b[0;34m\"HaloZ\"\u001b[0m\u001b[0;34m,\u001b[0m\u001b[0;34m(\u001b[0m\u001b[0mNg\u001b[0m\u001b[0;34m,\u001b[0m\u001b[0;34m)\u001b[0m\u001b[0;34m,\u001b[0m\u001b[0mdtype\u001b[0m \u001b[0;34m=\u001b[0m \u001b[0mnp\u001b[0m\u001b[0;34m.\u001b[0m\u001b[0mdtype\u001b[0m\u001b[0;34m(\u001b[0m\u001b[0mfloat\u001b[0m\u001b[0;34m)\u001b[0m\u001b[0;34m)\u001b[0m \u001b[0;31m# Halo gas metallicity\u001b[0m\u001b[0;34m\u001b[0m\u001b[0;34m\u001b[0m\u001b[0m\n\u001b[1;32m      4\u001b[0m \u001b[0mf_bands\u001b[0m \u001b[0;34m=\u001b[0m \u001b[0mf\u001b[0m\u001b[0;34m.\u001b[0m\u001b[0mcreate_dataset\u001b[0m\u001b[0;34m(\u001b[0m\u001b[0;34m\"bands\"\u001b[0m\u001b[0;34m,\u001b[0m\u001b[0;34m(\u001b[0m\u001b[0mNg\u001b[0m\u001b[0;34m,\u001b[0m\u001b[0;36m5\u001b[0m\u001b[0;34m)\u001b[0m\u001b[0;34m,\u001b[0m\u001b[0mdtype\u001b[0m \u001b[0;34m=\u001b[0m \u001b[0mnp\u001b[0m\u001b[0;34m.\u001b[0m\u001b[0mdtype\u001b[0m\u001b[0;34m(\u001b[0m\u001b[0mfloat\u001b[0m\u001b[0;34m)\u001b[0m\u001b[0;34m)\u001b[0m \u001b[0;31m# Magnitudes\u001b[0m\u001b[0;34m\u001b[0m\u001b[0;34m\u001b[0m\u001b[0m\n\u001b[1;32m      5\u001b[0m \u001b[0;34m\u001b[0m\u001b[0m\n",
      "\u001b[0;32m/opt/anaconda3/lib/python3.7/site-packages/h5py/_hl/group.py\u001b[0m in \u001b[0;36mcreate_dataset\u001b[0;34m(self, name, shape, dtype, data, **kwds)\u001b[0m\n\u001b[1;32m    137\u001b[0m             \u001b[0mdset\u001b[0m \u001b[0;34m=\u001b[0m \u001b[0mdataset\u001b[0m\u001b[0;34m.\u001b[0m\u001b[0mDataset\u001b[0m\u001b[0;34m(\u001b[0m\u001b[0mdsid\u001b[0m\u001b[0;34m)\u001b[0m\u001b[0;34m\u001b[0m\u001b[0;34m\u001b[0m\u001b[0m\n\u001b[1;32m    138\u001b[0m             \u001b[0;32mif\u001b[0m \u001b[0mname\u001b[0m \u001b[0;32mis\u001b[0m \u001b[0;32mnot\u001b[0m \u001b[0;32mNone\u001b[0m\u001b[0;34m:\u001b[0m\u001b[0;34m\u001b[0m\u001b[0;34m\u001b[0m\u001b[0m\n\u001b[0;32m--> 139\u001b[0;31m                 \u001b[0mself\u001b[0m\u001b[0;34m[\u001b[0m\u001b[0mname\u001b[0m\u001b[0;34m]\u001b[0m \u001b[0;34m=\u001b[0m \u001b[0mdset\u001b[0m\u001b[0;34m\u001b[0m\u001b[0;34m\u001b[0m\u001b[0m\n\u001b[0m\u001b[1;32m    140\u001b[0m             \u001b[0;32mreturn\u001b[0m \u001b[0mdset\u001b[0m\u001b[0;34m\u001b[0m\u001b[0;34m\u001b[0m\u001b[0m\n\u001b[1;32m    141\u001b[0m \u001b[0;34m\u001b[0m\u001b[0m\n",
      "\u001b[0;32m/opt/anaconda3/lib/python3.7/site-packages/h5py/_hl/group.py\u001b[0m in \u001b[0;36m__setitem__\u001b[0;34m(self, name, obj)\u001b[0m\n\u001b[1;32m    371\u001b[0m \u001b[0;34m\u001b[0m\u001b[0m\n\u001b[1;32m    372\u001b[0m             \u001b[0;32mif\u001b[0m \u001b[0misinstance\u001b[0m\u001b[0;34m(\u001b[0m\u001b[0mobj\u001b[0m\u001b[0;34m,\u001b[0m \u001b[0mHLObject\u001b[0m\u001b[0;34m)\u001b[0m\u001b[0;34m:\u001b[0m\u001b[0;34m\u001b[0m\u001b[0;34m\u001b[0m\u001b[0m\n\u001b[0;32m--> 373\u001b[0;31m                 \u001b[0mh5o\u001b[0m\u001b[0;34m.\u001b[0m\u001b[0mlink\u001b[0m\u001b[0;34m(\u001b[0m\u001b[0mobj\u001b[0m\u001b[0;34m.\u001b[0m\u001b[0mid\u001b[0m\u001b[0;34m,\u001b[0m \u001b[0mself\u001b[0m\u001b[0;34m.\u001b[0m\u001b[0mid\u001b[0m\u001b[0;34m,\u001b[0m \u001b[0mname\u001b[0m\u001b[0;34m,\u001b[0m \u001b[0mlcpl\u001b[0m\u001b[0;34m=\u001b[0m\u001b[0mlcpl\u001b[0m\u001b[0;34m,\u001b[0m \u001b[0mlapl\u001b[0m\u001b[0;34m=\u001b[0m\u001b[0mself\u001b[0m\u001b[0;34m.\u001b[0m\u001b[0m_lapl\u001b[0m\u001b[0;34m)\u001b[0m\u001b[0;34m\u001b[0m\u001b[0;34m\u001b[0m\u001b[0m\n\u001b[0m\u001b[1;32m    374\u001b[0m \u001b[0;34m\u001b[0m\u001b[0m\n\u001b[1;32m    375\u001b[0m             \u001b[0;32melif\u001b[0m \u001b[0misinstance\u001b[0m\u001b[0;34m(\u001b[0m\u001b[0mobj\u001b[0m\u001b[0;34m,\u001b[0m \u001b[0mSoftLink\u001b[0m\u001b[0;34m)\u001b[0m\u001b[0;34m:\u001b[0m\u001b[0;34m\u001b[0m\u001b[0;34m\u001b[0m\u001b[0m\n",
      "\u001b[0;32mh5py/_objects.pyx\u001b[0m in \u001b[0;36mh5py._objects.with_phil.wrapper\u001b[0;34m()\u001b[0m\n",
      "\u001b[0;32mh5py/_objects.pyx\u001b[0m in \u001b[0;36mh5py._objects.with_phil.wrapper\u001b[0;34m()\u001b[0m\n",
      "\u001b[0;32mh5py/h5o.pyx\u001b[0m in \u001b[0;36mh5py.h5o.link\u001b[0;34m()\u001b[0m\n",
      "\u001b[0;31mRuntimeError\u001b[0m: Unable to create link (name already exists)"
     ]
    }
   ],
   "source": [
    "f_logMs = f.create_dataset(\"logMs\", (Ng,), dtype=np.dtype(float)) #total stellar mass\n",
    "f_logMh = f.create_dataset(\"logMh\",(Ng,),dtype = np.dtype(float)) # Halo mass\n",
    "f_HaloZ = f.create_dataset(\"HaloZ\",(Ng,),dtype = np.dtype(float)) # Halo gas metallicity \n",
    "f_bands = f.create_dataset(\"bands\",(Ng,5),dtype = np.dtype(float)) # Magnitudes\n",
    "\n",
    "f_sfh_t = f.create_dataset(\"sfh_t\", (Nt,), dtype=np.dtype(float)) #bins in lookback time\n",
    "f_sfh_t_boundaries = f.create_dataset(\"sfh_t_boundaries\", (Nt+1,), dtype=np.dtype(float)) #bin boundaries\n",
    "f_sfh = f.create_dataset(\"sfh\", (Ng,Nt),dtype=np.dtype(float)) #mass formed in each bin of lookback time [solar masses]\n",
    "f_zh = f.create_dataset(\"zh\", (Ng,Nt),dtype=np.dtype(float)) #mass-weighted metallicity of stars formed in each bin of lookback time\n",
    "f_subID = f.create_dataset(\"subID\", (Ng,), dtype=np.dtype(float)) # this is integer id (closer to an idx)\n",
    "f_AUXID = f.create_dataset(\"True_subID\", (Ng,), dtype=np.dtype(float)) # this is the actual subhalo id\n"
   ]
  },
  {
   "cell_type": "code",
   "execution_count": 55,
   "metadata": {},
   "outputs": [],
   "source": [
    "#_Ang[:] = AngM\n",
    "f_logMs[:] = np.log10(Ms)\n",
    "logMs= np.log10(Ms)\n",
    "f_logMh[:] = np.log10(Mh) # storing halo ids.\n",
    "f_HaloZ[:] = HaloZ\n",
    "f_AUXID[:] = idx\n",
    "f_bands[:] = bands[:,0:5,0]\n",
    "\n",
    "f_sfh_t[:] = sfh_t\n",
    "f_sfh_t_boundaries[:] = sfh_t_boundary\n",
    "f_subID[:] = SubID\n"
   ]
  },
  {
   "cell_type": "code",
   "execution_count": null,
   "metadata": {},
   "outputs": [],
   "source": [
    "f.close()"
   ]
  },
  {
   "cell_type": "code",
   "execution_count": null,
   "metadata": {},
   "outputs": [],
   "source": [
    "zh"
   ]
  },
  {
   "cell_type": "markdown",
   "metadata": {},
   "source": [
    "Write stellar masses and time bins"
   ]
  },
  {
   "cell_type": "code",
   "execution_count": null,
   "metadata": {},
   "outputs": [],
   "source": [
    "sfh,zh,z = get_sfh(SubID[0])"
   ]
  },
  {
   "cell_type": "code",
   "execution_count": null,
   "metadata": {},
   "outputs": [],
   "source": [
    "z"
   ]
  },
  {
   "cell_type": "code",
   "execution_count": null,
   "metadata": {},
   "outputs": [],
   "source": [
    "sfh"
   ]
  },
  {
   "cell_type": "code",
   "execution_count": null,
   "metadata": {},
   "outputs": [],
   "source": [
    "sfht"
   ]
  },
  {
   "cell_type": "code",
   "execution_count": null,
   "metadata": {},
   "outputs": [],
   "source": [
    "z/sfh"
   ]
  },
  {
   "cell_type": "code",
   "execution_count": null,
   "metadata": {},
   "outputs": [],
   "source": [
    "zh"
   ]
  },
  {
   "cell_type": "code",
   "execution_count": null,
   "metadata": {},
   "outputs": [],
   "source": [
    "plt.plot(z)\n",
    "plt.show()\n",
    "plt.plot(sfh)"
   ]
  },
  {
   "cell_type": "code",
   "execution_count": null,
   "metadata": {},
   "outputs": [],
   "source": [
    "plt.plot(zh)"
   ]
  },
  {
   "cell_type": "code",
   "execution_count": null,
   "metadata": {},
   "outputs": [],
   "source": []
  },
  {
   "cell_type": "code",
   "execution_count": 64,
   "metadata": {
    "scrolled": true
   },
   "outputs": [
    {
     "name": "stderr",
     "output_type": "stream",
     "text": [
      "\r",
      "  0%|          | 0/12535 [00:00<?, ?it/s]"
     ]
    },
    {
     "name": "stdout",
     "output_type": "stream",
     "text": [
      "[0.00000000e+00 0.00000000e+00 0.00000000e+00 0.00000000e+00\n",
      " 0.00000000e+00 0.00000000e+00 0.00000000e+00 0.00000000e+00\n",
      " 0.00000000e+00 0.00000000e+00 0.00000000e+00 0.00000000e+00\n",
      " 0.00000000e+00 0.00000000e+00 0.00000000e+00 0.00000000e+00\n",
      " 0.00000000e+00 0.00000000e+00 0.00000000e+00 0.00000000e+00\n",
      " 0.00000000e+00 0.00000000e+00 0.00000000e+00 0.00000000e+00\n",
      " 0.00000000e+00 0.00000000e+00 0.00000000e+00 0.00000000e+00\n",
      " 0.00000000e+00 3.70919555e-02 0.00000000e+00 3.93000841e-02\n",
      " 4.00558673e-02 3.75661477e-02 3.83226462e-02 3.80114838e-02\n",
      " 3.62100601e-02 0.00000000e+00 3.60689051e-02 3.82565334e-02\n",
      " 4.98849265e-02 0.00000000e+00 5.12815751e-02 4.80944999e-02\n",
      " 3.74972746e-02 2.81512421e-02 2.10224688e-02 1.57377571e-02\n",
      " 1.68046448e-02 2.09865104e-02 1.74501389e-02 1.42805437e-02\n",
      " 1.75486971e-02 2.45016702e-02 2.33540181e-02 1.92371085e-02\n",
      " 1.36156306e-02 1.16339596e-02 1.01124477e-02 8.57330672e-03\n",
      " 8.05045478e-03 7.39241485e-03 9.06145014e-03 7.61214271e-03\n",
      " 7.37319747e-03 7.48370728e-03 7.69735966e-03 8.17027502e-03\n",
      " 7.83384312e-03 6.96093310e-03 7.24390708e-03 6.52435562e-03\n",
      " 5.72089665e-03 5.33435168e-03 6.17643679e-03 6.57374877e-03\n",
      " 5.56102348e-03 5.90649527e-03 4.70252521e-03 4.63716267e-03\n",
      " 4.22729459e-03 4.04236466e-03 4.46425285e-03 3.78291612e-03\n",
      " 4.16676980e-03 3.06221051e-03 3.32174869e-03 2.70791259e-03\n",
      " 1.65973289e-03 1.67535059e-03 1.17941899e-03 1.19415764e-03\n",
      " 9.64546518e-04 5.78496838e-04 6.52420567e-04 6.24855107e-04\n",
      " 8.00320646e-04 1.74787303e-04 4.07420703e-05 0.00000000e+00] [0.0000000e+00 0.0000000e+00 0.0000000e+00 0.0000000e+00 0.0000000e+00\n",
      " 0.0000000e+00 0.0000000e+00 0.0000000e+00 0.0000000e+00 0.0000000e+00\n",
      " 0.0000000e+00 0.0000000e+00 0.0000000e+00 0.0000000e+00 0.0000000e+00\n",
      " 0.0000000e+00 0.0000000e+00 0.0000000e+00 0.0000000e+00 0.0000000e+00\n",
      " 0.0000000e+00 0.0000000e+00 0.0000000e+00 0.0000000e+00 0.0000000e+00\n",
      " 0.0000000e+00 0.0000000e+00 0.0000000e+00 0.0000000e+00 1.1151464e+05\n",
      " 0.0000000e+00 5.5468844e+04 1.0918230e+05 9.8214062e+04 1.1950569e+05\n",
      " 4.0472156e+04 4.3744250e+04 0.0000000e+00 8.3245125e+04 4.2402625e+04\n",
      " 7.6334812e+04 0.0000000e+00 2.3559094e+05 8.2857569e+05 1.0807904e+06\n",
      " 2.0650760e+06 2.8596285e+06 4.7108080e+06 4.2903900e+06 5.1564280e+06\n",
      " 7.9442500e+06 6.2195100e+06 4.8907640e+06 4.4926200e+06 5.7214280e+06\n",
      " 6.3701240e+06 5.9402280e+06 4.2778720e+06 3.4689040e+06 2.6184400e+06\n",
      " 2.0460160e+06 1.5487840e+06 1.6225360e+06 1.3998080e+06 9.5856000e+05\n",
      " 8.8513600e+05 4.7144000e+05 5.5154400e+05 7.9573600e+05 5.7602400e+05\n",
      " 8.3044800e+05 7.9290400e+05 9.1052800e+05 5.3663200e+05 4.9892800e+05\n",
      " 5.2923200e+05 3.1097600e+05 5.0954400e+05 3.7356800e+05 4.6053600e+05\n",
      " 3.2125600e+05 2.3657600e+05 3.0892800e+05 3.1304000e+05 3.6642400e+05\n",
      " 1.5028800e+05 1.3784800e+05 1.1119200e+05 8.8216000e+04 5.8896000e+04\n",
      " 3.2800000e+04 1.1072000e+04 1.1800000e+04 5.8000000e+03 3.3120000e+03\n",
      " 5.5200000e+03 4.9520000e+03 1.7040000e+03 3.9200000e+02 0.0000000e+00]\n"
     ]
    },
    {
     "name": "stderr",
     "output_type": "stream",
     "text": [
      "/opt/anaconda3/lib/python3.7/site-packages/ipykernel_launcher.py:19: H5pyDeprecationWarning: The default file mode will change to 'r' (read-only) in h5py 3.0. To suppress this warning, pass the mode you need to h5py.File(), or set the global default h5.get_config().default_file_mode, or set the environment variable H5PY_DEFAULT_READONLY=1. Available modes are: 'r', 'r+', 'w', 'w-'/'x', 'a'. See the docs for details.\n",
      "  1%|          | 100/12535 [03:19<6:56:09,  2.01s/it]"
     ]
    },
    {
     "name": "stdout",
     "output_type": "stream",
     "text": [
      "[0.         0.         0.         0.         0.         0.\n",
      " 0.         0.         0.         0.         0.         0.\n",
      " 0.03486011 0.         0.0365678  0.0357983  0.03361259 0.03710483\n",
      " 0.03462157 0.03580781 0.03171592 0.03100621 0.0313603  0.0300411\n",
      " 0.02569977 0.02582007 0.02598248 0.02855472 0.04593479 0.03893394\n",
      " 0.04169223 0.04370821 0.0394854  0.03335751 0.02873754 0.02616472\n",
      " 0.02698649 0.02763617 0.02494592 0.02473898 0.02550568 0.02760235\n",
      " 0.03030878 0.03173688 0.03092353 0.0318248  0.02849001 0.03024828\n",
      " 0.03415044 0.03759926 0.03689805 0.04028302 0.03729311 0.03574312\n",
      " 0.02812184 0.02918782 0.03129689 0.0303092  0.02564314 0.02382038\n",
      " 0.02910744 0.03059611 0.02734935 0.02421935 0.02649865 0.02722319\n",
      " 0.02396446 0.01980115 0.01839481 0.01598524 0.01374737 0.01390406\n",
      " 0.01580731 0.01569822 0.01582933 0.016477   0.02236697 0.02228788\n",
      " 0.01962034 0.01646767 0.01471889 0.0125696  0.01061446 0.00927126\n",
      " 0.00858443 0.00783266 0.00727086 0.00657464 0.00609167 0.00477203\n",
      " 0.0068648  0.00465817 0.00372814 0.00373331 0.0023978  0.00163757\n",
      " 0.00074732 0.00048667 0.         0.00036994] [0.0000000e+00 0.0000000e+00 0.0000000e+00 0.0000000e+00 0.0000000e+00\n",
      " 0.0000000e+00 0.0000000e+00 0.0000000e+00 0.0000000e+00 0.0000000e+00\n",
      " 0.0000000e+00 0.0000000e+00 3.2126436e+04 0.0000000e+00 2.0784814e+05\n",
      " 6.1653669e+05 9.1837550e+05 9.7038775e+05 1.2768235e+06 1.2923465e+06\n",
      " 5.4644200e+05 5.7410000e+05 4.7880050e+05 5.9955350e+05 1.8544735e+06\n",
      " 1.4259890e+06 6.5040100e+05 1.1937390e+06 6.9567900e+05 1.1871800e+06\n",
      " 1.8518300e+06 3.4011200e+06 3.0647520e+06 2.7496540e+06 4.3267960e+06\n",
      " 3.5315520e+06 4.9740780e+06 4.7883360e+06 4.9552160e+06 5.2891040e+06\n",
      " 5.2705520e+06 4.5122400e+06 3.7239400e+06 3.8581400e+06 4.5344240e+06\n",
      " 4.9182880e+06 3.6105600e+06 2.9256640e+06 3.5934000e+06 2.5121360e+06\n",
      " 3.8517360e+06 4.3560320e+06 4.4299680e+06 6.0942240e+06 8.0504800e+06\n",
      " 5.9145120e+06 5.9424880e+06 6.1925200e+06 5.4834080e+06 4.6861920e+06\n",
      " 5.0128960e+06 5.1919360e+06 5.8576800e+06 7.5461440e+06 5.8478080e+06\n",
      " 6.1971520e+06 6.5051200e+06 9.3517600e+06 8.0360960e+06 7.2030560e+06\n",
      " 5.6094400e+06 5.1109920e+06 5.4715840e+06 3.7663360e+06 3.4520640e+06\n",
      " 3.3575840e+06 5.3490400e+06 8.7008000e+06 1.4336960e+07 9.3768640e+06\n",
      " 9.5886400e+06 1.0507552e+07 8.4740800e+06 7.1067200e+06 5.5249600e+06\n",
      " 3.9435520e+06 4.0505280e+06 2.1574080e+06 1.8287680e+06 1.1239680e+06\n",
      " 1.3021120e+06 1.1680320e+06 1.0241280e+06 9.2409600e+05 3.0464000e+05\n",
      " 1.5155200e+05 4.3840000e+04 1.7536000e+04 0.0000000e+00 6.4960000e+03]\n"
     ]
    },
    {
     "name": "stderr",
     "output_type": "stream",
     "text": [
      "  2%|▏         | 200/12535 [05:43<12:38:42,  3.69s/it]"
     ]
    },
    {
     "name": "stdout",
     "output_type": "stream",
     "text": [
      "[0.00940388 0.01003729 0.01046649 0.01043034 0.01040806 0.01076039\n",
      " 0.01028711 0.00959414 0.00984375 0.00935496 0.00926669 0.00956065\n",
      " 0.00949919 0.0082918  0.00854465 0.0082431  0.00795895 0.00778115\n",
      " 0.00725587 0.00717423 0.00772807 0.00751885 0.0073991  0.00755136\n",
      " 0.00721481 0.00704638 0.00742878 0.00769563 0.00791014 0.0082257\n",
      " 0.00716631 0.00799147 0.00861964 0.00770058 0.00811047 0.0082322\n",
      " 0.0092104  0.00862444 0.00747282 0.00945978 0.01060208 0.00981449\n",
      " 0.01011333 0.01036284 0.01022484 0.01063956 0.0104838  0.01015554\n",
      " 0.00967631 0.01009746 0.00956686 0.01082117 0.01006917 0.00957661\n",
      " 0.01020274 0.0105346  0.00928597 0.00857244 0.01142572 0.01376383\n",
      " 0.01598048 0.01823427 0.01699865 0.01723018 0.01909319 0.0194276\n",
      " 0.01845474 0.040177   0.0383876  0.04405266 0.03064531 0.02367098\n",
      " 0.02820797 0.02552573 0.02407539 0.03022388 0.03080625 0.03157812\n",
      " 0.02932687 0.02518879 0.01844074 0.01663943 0.01703938 0.01700041\n",
      " 0.01835085 0.01849926 0.01913891 0.0193552  0.01414617 0.00914089\n",
      " 0.00896261 0.00935897 0.00678554 0.0044073  0.00360249 0.00259401\n",
      " 0.00170784 0.00116717 0.00055566 0.00034837] [1.5665439e+06 2.2392700e+06 1.8011528e+06 9.8469450e+05 1.0863115e+06\n",
      " 1.1122240e+06 1.2971560e+06 1.3260040e+06 1.1321920e+06 1.5193550e+06\n",
      " 1.9255150e+06 2.6741300e+06 3.0862120e+06 2.7671240e+06 2.2191360e+06\n",
      " 2.9050340e+06 1.6941960e+06 1.4052380e+06 9.8124400e+05 1.6773160e+06\n",
      " 2.5343080e+06 9.2275200e+05 9.1854000e+05 1.0998920e+06 1.4015680e+06\n",
      " 1.3887040e+06 2.0998360e+06 2.0935160e+06 1.6056640e+06 1.5647920e+06\n",
      " 1.6387080e+06 1.1230960e+06 1.8028760e+06 1.4280760e+06 2.6041360e+06\n",
      " 2.6001480e+06 2.1883800e+06 2.2717120e+06 1.5346200e+06 3.2544080e+06\n",
      " 4.1847680e+06 4.3936560e+06 6.0163360e+06 6.8126880e+06 7.6291760e+06\n",
      " 9.1608080e+06 9.4030160e+06 1.1845768e+07 8.0771040e+06 9.3609440e+06\n",
      " 8.0227840e+06 8.3288320e+06 9.3565440e+06 1.0744592e+07 1.5436672e+07\n",
      " 1.4825616e+07 1.1356576e+07 1.0776928e+07 9.4645440e+06 1.3335616e+07\n",
      " 1.7502880e+07 2.0110080e+07 1.3984512e+07 1.3892480e+07 1.3535488e+07\n",
      " 1.6940544e+07 2.0894528e+07 2.5905658e+08 3.6866701e+08 6.6312832e+08\n",
      " 7.1456154e+08 3.5420134e+08 2.9501824e+08 2.2434944e+08 2.2463898e+08\n",
      " 2.3747533e+08 1.8445594e+08 2.0003200e+08 2.8700954e+08 2.9938944e+08\n",
      " 2.4059853e+08 1.3006285e+08 1.0595994e+08 8.7690240e+07 9.9917824e+07\n",
      " 1.0333491e+08 1.2534221e+08 1.6925030e+08 1.4001510e+08 4.7499264e+07\n",
      " 3.1716864e+07 3.2017920e+07 2.2692352e+07 8.9774080e+06 5.7472000e+06\n",
      " 2.5922560e+06 1.1545600e+06 4.5568000e+05 1.3056000e+05 6.1952000e+04]\n"
     ]
    },
    {
     "name": "stderr",
     "output_type": "stream",
     "text": [
      "  2%|▏         | 300/12535 [08:23<3:57:03,  1.16s/it] "
     ]
    },
    {
     "name": "stdout",
     "output_type": "stream",
     "text": [
      "[0.00000000e+00 0.00000000e+00 0.00000000e+00 0.00000000e+00\n",
      " 0.00000000e+00 0.00000000e+00 0.00000000e+00 0.00000000e+00\n",
      " 0.00000000e+00 0.00000000e+00 0.00000000e+00 0.00000000e+00\n",
      " 0.00000000e+00 0.00000000e+00 0.00000000e+00 0.00000000e+00\n",
      " 0.00000000e+00 0.00000000e+00 3.35662961e-02 3.39157134e-02\n",
      " 2.93747019e-02 3.03557627e-02 2.78034806e-02 2.28086375e-02\n",
      " 3.04125976e-02 2.90163495e-02 3.47980335e-02 3.50375175e-02\n",
      " 3.30703929e-02 3.18284631e-02 2.95448732e-02 3.19565497e-02\n",
      " 2.69378871e-02 2.49552857e-02 2.38465052e-02 3.59304398e-02\n",
      " 3.66887264e-02 4.37916033e-02 3.89037803e-02 3.40605117e-02\n",
      " 3.54468338e-02 3.99605408e-02 4.20770943e-02 4.13260944e-02\n",
      " 3.85165513e-02 3.70381847e-02 3.07432432e-02 2.55918987e-02\n",
      " 2.08454896e-02 1.77806765e-02 1.62574761e-02 1.13432305e-02\n",
      " 9.54501517e-03 1.46019151e-02 1.52943078e-02 1.52358040e-02\n",
      " 1.16273891e-02 1.07615422e-02 1.23653188e-02 1.43948132e-02\n",
      " 1.58516616e-02 1.56600419e-02 1.26231182e-02 1.36433039e-02\n",
      " 1.21284639e-02 1.27113918e-02 9.52460244e-03 1.06613887e-02\n",
      " 9.42328107e-03 9.72288195e-03 9.30701662e-03 9.69310477e-03\n",
      " 6.33841287e-03 9.72281583e-03 8.18412565e-03 7.52751809e-03\n",
      " 9.02156252e-03 7.88684934e-03 7.96472561e-03 8.93692579e-03\n",
      " 9.71122738e-03 9.67855472e-03 8.19001067e-03 6.64042542e-03\n",
      " 6.02491386e-03 4.99076629e-03 5.72067685e-03 3.95067921e-03\n",
      " 3.60875577e-03 2.76571489e-03 2.23101373e-03 9.93182533e-04\n",
      " 2.21539428e-03 1.61681254e-03 1.22257147e-03 5.60410321e-04\n",
      " 0.00000000e+00 6.44525688e-04 1.54545822e-04 4.97928613e-06] [0.0000000e+00 0.0000000e+00 0.0000000e+00 0.0000000e+00 0.0000000e+00\n",
      " 0.0000000e+00 0.0000000e+00 0.0000000e+00 0.0000000e+00 0.0000000e+00\n",
      " 0.0000000e+00 0.0000000e+00 0.0000000e+00 0.0000000e+00 0.0000000e+00\n",
      " 0.0000000e+00 0.0000000e+00 0.0000000e+00 1.2126945e+05 6.1980019e+05\n",
      " 9.5620262e+05 1.3587990e+06 8.0620750e+05 5.8001525e+05 7.3884850e+05\n",
      " 7.6720900e+05 9.7104050e+05 1.2798230e+06 7.6279900e+05 1.1315340e+06\n",
      " 1.0691330e+06 6.9372400e+05 6.4486200e+05 4.0217700e+05 5.6824200e+05\n",
      " 8.0303900e+05 1.1754810e+06 9.9511900e+05 9.6469300e+05 6.7253000e+05\n",
      " 7.0796800e+05 1.2487560e+06 9.6916000e+05 1.1056800e+06 1.5768220e+06\n",
      " 2.3138400e+06 3.2444580e+06 3.9802780e+06 5.1223380e+06 5.5817760e+06\n",
      " 5.1564800e+06 3.8679640e+06 2.6627520e+06 2.0848040e+06 2.2482720e+06\n",
      " 2.9408680e+06 3.2900280e+06 2.9029840e+06 2.6654800e+06 2.0597600e+06\n",
      " 2.0457440e+06 2.0557120e+06 1.8266480e+06 1.7997600e+06 2.0134880e+06\n",
      " 2.4593440e+06 1.9712080e+06 1.5941440e+06 1.2678640e+06 1.3300480e+06\n",
      " 1.3390000e+06 1.4551680e+06 6.7424000e+05 9.7230400e+05 8.5280000e+05\n",
      " 6.0276800e+05 7.1736000e+05 6.7550400e+05 5.4624000e+05 6.3816000e+05\n",
      " 4.6148000e+05 4.6708800e+05 5.9704000e+05 6.9205600e+05 4.5684000e+05\n",
      " 4.2513600e+05 1.9047200e+05 2.8881600e+05 2.2232800e+05 1.0895200e+05\n",
      " 9.4840000e+04 4.8464000e+04 2.4792000e+04 3.0888000e+04 1.6032000e+04\n",
      " 5.1920000e+03 0.0000000e+00 9.2320000e+03 1.4800000e+03 3.2000000e+01]\n"
     ]
    },
    {
     "name": "stderr",
     "output_type": "stream",
     "text": [
      "  3%|▎         | 400/12535 [11:19<5:59:25,  1.78s/it] "
     ]
    },
    {
     "name": "stdout",
     "output_type": "stream",
     "text": [
      "[0.         0.         0.         0.         0.         0.\n",
      " 0.         0.         0.         0.         0.         0.\n",
      " 0.         0.         0.         0.         0.         0.\n",
      " 0.         0.         0.         0.         0.         0.\n",
      " 0.         0.         0.         0.         0.         0.\n",
      " 0.         0.         0.         0.         0.         0.\n",
      " 0.         0.         0.         0.         0.         0.04669465\n",
      " 0.05149247 0.05415776 0.06036575 0.06417916 0.06498969 0.06702667\n",
      " 0.07012431 0.070892   0.0665391  0.06509878 0.06358051 0.06074319\n",
      " 0.05515156 0.05069644 0.04412854 0.04189308 0.03762035 0.0327062\n",
      " 0.03219896 0.02973467 0.02910488 0.0297283  0.02805926 0.02581921\n",
      " 0.02579457 0.02609956 0.02552225 0.02764262 0.02669718 0.02522735\n",
      " 0.02793025 0.03030779 0.02868854 0.02510736 0.0228975  0.02284797\n",
      " 0.02339271 0.02075438 0.01755268 0.01826522 0.01811316 0.01563938\n",
      " 0.01462887 0.01366927 0.0142622  0.01148401 0.0097084  0.00864045\n",
      " 0.0073376  0.00640262 0.006039   0.00729783 0.00633349 0.00444718\n",
      " 0.00390174 0.00228981 0.00126246 0.00091396] [       0.          0.          0.          0.          0.          0.\n",
      "        0.          0.          0.          0.          0.          0.\n",
      "        0.          0.          0.          0.          0.          0.\n",
      "        0.          0.          0.          0.          0.          0.\n",
      "        0.          0.          0.          0.          0.          0.\n",
      "        0.          0.          0.          0.          0.          0.\n",
      "        0.          0.          0.          0.          0.     213725.\n",
      "   300766.75   709215.75  1316571.2   1367750.    1492081.2   1214527.5\n",
      "  2420035.5   2206447.    3565196.    4419102.    5637284.    7383670.\n",
      " 10001516.   14334764.   21079564.   18425768.   25390656.   23196032.\n",
      " 20824272.   17784912.   18527488.   18814832.   16821808.   18852304.\n",
      " 21372608.   21131488.   19873312.   20365888.   15031808.   11243008.\n",
      "  9010240.    8313920.   10702976.   12497600.   14994336.   14820448.\n",
      " 15379104.   18244384.   15306720.   14442720.   16129568.   12706944.\n",
      " 11302624.   11384704.   13873216.   13204224.    9298368.    8603072.\n",
      "  5828544.    3153600.    2280192.    2297792.    1951808.    1304640.\n",
      "   698304.     265920.      70272.      31680.  ]\n"
     ]
    },
    {
     "name": "stderr",
     "output_type": "stream",
     "text": [
      "  4%|▍         | 500/12535 [14:20<5:26:41,  1.63s/it] "
     ]
    },
    {
     "name": "stdout",
     "output_type": "stream",
     "text": [
      "[0.         0.         0.         0.         0.         0.\n",
      " 0.         0.         0.         0.         0.         0.\n",
      " 0.         0.         0.         0.         0.         0.\n",
      " 0.         0.         0.         0.         0.         0.\n",
      " 0.         0.         0.         0.         0.         0.\n",
      " 0.         0.         0.         0.         0.         0.\n",
      " 0.         0.         0.         0.         0.         0.\n",
      " 0.         0.         0.         0.         0.         0.\n",
      " 0.         0.         0.         0.         0.         0.\n",
      " 0.         0.         0.         0.         0.         0.\n",
      " 0.         0.         0.         0.         0.         0.\n",
      " 0.         0.         0.         0.         0.         0.02144968\n",
      " 0.04240853 0.0368488  0.02732233 0.02201611 0.02741004 0.03332256\n",
      " 0.04121632 0.04553771 0.05573015 0.05884963 0.04640461 0.03844357\n",
      " 0.03663993 0.03433798 0.02723019 0.0178675  0.01511464 0.01395606\n",
      " 0.01260324 0.01217327 0.01176492 0.00943741 0.00774013 0.00702572\n",
      " 0.00642467 0.00602448 0.00430127 0.00188153] [0.00000000e+00 0.00000000e+00 0.00000000e+00 0.00000000e+00\n",
      " 0.00000000e+00 0.00000000e+00 0.00000000e+00 0.00000000e+00\n",
      " 0.00000000e+00 0.00000000e+00 0.00000000e+00 0.00000000e+00\n",
      " 0.00000000e+00 0.00000000e+00 0.00000000e+00 0.00000000e+00\n",
      " 0.00000000e+00 0.00000000e+00 0.00000000e+00 0.00000000e+00\n",
      " 0.00000000e+00 0.00000000e+00 0.00000000e+00 0.00000000e+00\n",
      " 0.00000000e+00 0.00000000e+00 0.00000000e+00 0.00000000e+00\n",
      " 0.00000000e+00 0.00000000e+00 0.00000000e+00 0.00000000e+00\n",
      " 0.00000000e+00 0.00000000e+00 0.00000000e+00 0.00000000e+00\n",
      " 0.00000000e+00 0.00000000e+00 0.00000000e+00 0.00000000e+00\n",
      " 0.00000000e+00 0.00000000e+00 0.00000000e+00 0.00000000e+00\n",
      " 0.00000000e+00 0.00000000e+00 0.00000000e+00 0.00000000e+00\n",
      " 0.00000000e+00 0.00000000e+00 0.00000000e+00 0.00000000e+00\n",
      " 0.00000000e+00 0.00000000e+00 0.00000000e+00 0.00000000e+00\n",
      " 0.00000000e+00 0.00000000e+00 0.00000000e+00 0.00000000e+00\n",
      " 0.00000000e+00 0.00000000e+00 0.00000000e+00 0.00000000e+00\n",
      " 0.00000000e+00 0.00000000e+00 0.00000000e+00 0.00000000e+00\n",
      " 0.00000000e+00 0.00000000e+00 0.00000000e+00 2.66984938e+05\n",
      " 8.79571520e+07 1.29901336e+08 2.08202048e+08 1.84591456e+08\n",
      " 6.24631040e+07 5.88632960e+07 7.83845760e+07 8.65927680e+07\n",
      " 9.01533440e+07 1.23333696e+08 1.37427456e+08 1.59696128e+08\n",
      " 1.52814848e+08 1.23960576e+08 2.11081472e+08 2.00565376e+08\n",
      " 4.64428800e+07 3.20768000e+07 2.04016640e+07 1.75633920e+07\n",
      " 1.76855040e+07 1.06926080e+07 5.56492800e+06 4.06451200e+06\n",
      " 2.34086400e+06 1.75616000e+06 8.49152000e+05 2.19904000e+05]\n"
     ]
    },
    {
     "name": "stderr",
     "output_type": "stream",
     "text": [
      "  5%|▍         | 600/12535 [17:02<9:20:18,  2.82s/it] "
     ]
    },
    {
     "name": "stdout",
     "output_type": "stream",
     "text": [
      "[0.         0.         0.         0.         0.         0.\n",
      " 0.         0.         0.         0.         0.         0.\n",
      " 0.         0.         0.00431528 0.         0.         0.\n",
      " 0.         0.03076419 0.         0.         0.         0.\n",
      " 0.0116154  0.00822207 0.         0.         0.         0.\n",
      " 0.01139596 0.00659045 0.00568736 0.00865472 0.00764895 0.01323602\n",
      " 0.00957333 0.00810502 0.00661579 0.         0.         0.00692638\n",
      " 0.00621474 0.00729012 0.00881753 0.00886148 0.00969964 0.01291158\n",
      " 0.01301583 0.01150595 0.01089619 0.01188103 0.01125121 0.01123807\n",
      " 0.01140251 0.01159448 0.0107785  0.01044733 0.0127657  0.01385865\n",
      " 0.01478789 0.0131431  0.01302207 0.01426132 0.01240668 0.01305449\n",
      " 0.01587458 0.01236527 0.00997982 0.01028726 0.0108235  0.01014811\n",
      " 0.00954459 0.00857865 0.00694975 0.0095126  0.03222737 0.04033341\n",
      " 0.04128541 0.02941268 0.02203437 0.01461203 0.01164824 0.0128251\n",
      " 0.01270078 0.01351987 0.015331   0.01237043 0.00930305 0.00531539\n",
      " 0.00469047 0.00500842 0.00466232 0.00324347 0.00250211 0.0023992\n",
      " 0.00177114 0.0011693  0.00069075 0.00031726] [0.0000000e+00 0.0000000e+00 0.0000000e+00 0.0000000e+00 0.0000000e+00\n",
      " 0.0000000e+00 0.0000000e+00 0.0000000e+00 0.0000000e+00 0.0000000e+00\n",
      " 0.0000000e+00 0.0000000e+00 0.0000000e+00 0.0000000e+00 8.8729375e+03\n",
      " 0.0000000e+00 0.0000000e+00 0.0000000e+00 0.0000000e+00 3.2039902e+04\n",
      " 0.0000000e+00 0.0000000e+00 0.0000000e+00 0.0000000e+00 2.2296914e+04\n",
      " 1.7910082e+04 0.0000000e+00 0.0000000e+00 0.0000000e+00 0.0000000e+00\n",
      " 1.2541164e+04 2.9072648e+04 5.1319586e+04 4.1813641e+04 7.1051875e+03\n",
      " 7.3808125e+04 7.5867375e+04 8.1175625e+03 9.6617812e+03 0.0000000e+00\n",
      " 0.0000000e+00 2.6315375e+04 4.1379281e+04 4.8384406e+04 3.0409594e+04\n",
      " 1.0789731e+05 3.6838594e+05 1.2142120e+06 4.4103910e+06 6.4068370e+06\n",
      " 3.7405070e+06 6.7039920e+06 9.0327220e+06 7.0005160e+06 7.8795200e+06\n",
      " 1.2373360e+07 7.5709120e+06 4.0683680e+06 6.2006000e+06 9.5383120e+06\n",
      " 1.1296360e+07 8.9579680e+06 1.1221496e+07 2.5582792e+07 1.8707888e+07\n",
      " 2.4104832e+07 3.5813088e+07 4.2791648e+07 2.1600624e+07 1.9231936e+07\n",
      " 1.7173408e+07 1.2106368e+07 1.5180992e+07 1.4835840e+07 9.5632000e+06\n",
      " 7.7654080e+06 5.3900384e+07 8.2829152e+07 1.3287968e+08 1.9794272e+08\n",
      " 2.1015578e+08 1.5868992e+08 4.5117056e+07 3.9081088e+07 3.1041664e+07\n",
      " 2.7031040e+07 2.9235072e+07 3.8885632e+07 2.9597440e+07 7.3826560e+06\n",
      " 4.2520320e+06 4.1356800e+06 3.1091200e+06 2.1664000e+06 1.1663360e+06\n",
      " 8.0281600e+05 5.3504000e+05 2.1030400e+05 7.7568000e+04 2.6112000e+04]\n"
     ]
    },
    {
     "name": "stderr",
     "output_type": "stream",
     "text": [
      "  6%|▌         | 700/12535 [20:02<5:23:02,  1.64s/it] "
     ]
    },
    {
     "name": "stdout",
     "output_type": "stream",
     "text": [
      "[0.         0.         0.         0.         0.         0.\n",
      " 0.         0.         0.         0.         0.         0.\n",
      " 0.         0.         0.         0.         0.         0.\n",
      " 0.         0.         0.         0.         0.         0.\n",
      " 0.         0.         0.         0.         0.         0.\n",
      " 0.         0.         0.         0.         0.         0.\n",
      " 0.         0.         0.         0.         0.         0.\n",
      " 0.         0.         0.         0.         0.         0.\n",
      " 0.00778458 0.00717988 0.00829435 0.0074642  0.00737924 0.0075192\n",
      " 0.0067569  0.00775689 0.00790709 0.0151962  0.01740768 0.01944708\n",
      " 0.02039681 0.02305564 0.02328419 0.02183807 0.0234122  0.02221988\n",
      " 0.02221907 0.02461633 0.02605442 0.03406086 0.03167109 0.03135539\n",
      " 0.03173564 0.0334486  0.03755724 0.03555796 0.03137847 0.02726374\n",
      " 0.02602127 0.02501903 0.02352194 0.0211495  0.0189986  0.01909328\n",
      " 0.02429123 0.0348644  0.02499483 0.02182888 0.02043762 0.01542836\n",
      " 0.01422495 0.01489215 0.01345535 0.01147095 0.00476449 0.00364398\n",
      " 0.00267529 0.00218161 0.00175792 0.00076654] [       0.          0.          0.          0.          0.          0.\n",
      "        0.          0.          0.          0.          0.          0.\n",
      "        0.          0.          0.          0.          0.          0.\n",
      "        0.          0.          0.          0.          0.          0.\n",
      "        0.          0.          0.          0.          0.          0.\n",
      "        0.          0.          0.          0.          0.          0.\n",
      "        0.          0.          0.          0.          0.          0.\n",
      "        0.          0.          0.          0.          0.          0.\n",
      "   117571.42   716236.75  2103477.8   5041739.5   4092415.5   2604167.\n",
      "  1822142.    1868984.    3472310.   10569240.   15582004.   16495416.\n",
      " 14986864.   15284440.   13539016.   13487440.   14585480.   17795712.\n",
      " 19106816.   17570800.   12381952.   12517968.   18386800.   25666592.\n",
      " 23326400.   20787360.   22469600.   30646272.   25650784.   37514464.\n",
      " 48233760.   48821570.   61743650.   55403070.   36132416.   26290816.\n",
      " 38268290.   64944960.   68962180.   53908096.   51206850.   51534336.\n",
      " 33654336.   28988736.   26095616.   29136768.    7762304.    1744000.\n",
      "   868224.     559360.     284288.      69376.  ]\n"
     ]
    },
    {
     "name": "stderr",
     "output_type": "stream",
     "text": [
      "  6%|▋         | 800/12535 [23:06<3:52:59,  1.19s/it] "
     ]
    },
    {
     "name": "stdout",
     "output_type": "stream",
     "text": [
      "[0.02619405 0.02774554 0.02939861 0.02756435 0.02564408 0.02960045\n",
      " 0.03168662 0.03532203 0.03443609 0.03213245 0.03461084 0.03088491\n",
      " 0.02648163 0.02472158 0.02167556 0.02020743 0.01821361 0.01848709\n",
      " 0.02052297 0.02054158 0.01777424 0.0168029  0.01545615 0.01632158\n",
      " 0.01943455 0.0167587  0.02164835 0.04130011 0.04426345 0.04690129\n",
      " 0.03414313 0.02919052 0.02546137 0.01860818 0.02101308 0.01910814\n",
      " 0.01765816 0.01602565 0.01385437 0.01541892 0.01483444 0.01830825\n",
      " 0.01500973 0.02129434 0.02458316 0.01912397 0.0139229  0.01144093\n",
      " 0.01287371 0.01411475 0.01921251 0.02018335 0.02472864 0.02253162\n",
      " 0.0171132  0.01680967 0.01667451 0.01197174 0.00917314 0.01271631\n",
      " 0.01458683 0.00947605 0.01129422 0.01214921 0.00879615 0.00910428\n",
      " 0.0095802  0.00897542 0.00884744 0.00712503 0.00671638 0.00530944\n",
      " 0.0047602  0.00507665 0.00435942 0.00377094 0.00428513 0.00495252\n",
      " 0.00631545 0.00622781 0.0048639  0.0045348  0.00442738 0.00354849\n",
      " 0.00290708 0.00253489 0.00247462 0.00257684 0.00197991 0.00239475\n",
      " 0.00189892 0.00163032 0.00159351 0.00133623 0.00041989 0.00090453\n",
      " 0.00166959 0.00089135 0.00075629 0.0002971 ] [7.7480769e+05 7.5950456e+05 1.5254398e+06 1.8672290e+06 1.2620140e+06\n",
      " 1.7864365e+06 1.7101435e+06 7.8453900e+05 9.0121400e+05 1.2895940e+06\n",
      " 1.3232450e+06 1.1130080e+06 1.1799520e+06 1.1911670e+06 7.9536600e+05\n",
      " 1.3715340e+06 1.1983240e+06 1.4472780e+06 1.5383860e+06 1.6519140e+06\n",
      " 1.6170120e+06 1.9189980e+06 1.4120260e+06 2.5595940e+06 1.7596300e+06\n",
      " 2.2454000e+06 1.8116840e+06 1.4415680e+06 1.5191840e+06 1.2701440e+06\n",
      " 1.8106280e+06 1.9020000e+06 2.5049200e+06 2.6264840e+06 3.1783720e+06\n",
      " 3.4167720e+06 3.4430360e+06 4.2537080e+06 4.4842720e+06 4.0663040e+06\n",
      " 2.3147120e+06 2.9668480e+06 2.3876160e+06 2.6842240e+06 1.9795600e+06\n",
      " 3.6361360e+06 5.5247280e+06 3.8745440e+06 2.5455360e+06 2.2617200e+06\n",
      " 2.9229680e+06 1.6894960e+06 1.5774800e+06 2.1047200e+06 2.2634240e+06\n",
      " 3.4429040e+06 3.0675200e+06 4.3786560e+06 3.5977280e+06 1.9240240e+06\n",
      " 1.6074880e+06 2.2568160e+06 2.4056480e+06 1.5322080e+06 1.4208000e+06\n",
      " 1.1384800e+06 1.3991200e+06 1.2764640e+06 1.4315360e+06 1.0093760e+06\n",
      " 1.2119040e+06 7.5868800e+05 4.9259200e+05 4.7475200e+05 4.2388800e+05\n",
      " 4.8592000e+05 1.9539200e+05 2.8404800e+05 3.3380800e+05 3.5652800e+05\n",
      " 2.5464000e+05 2.9136000e+05 1.6094400e+05 2.3955200e+05 1.3937600e+05\n",
      " 8.7040000e+04 1.1955200e+05 1.6670400e+05 5.6624000e+04 6.8704000e+04\n",
      " 5.9200000e+04 4.2384000e+04 4.3248000e+04 4.9568000e+04 6.5600000e+03\n",
      " 7.9360000e+03 8.8800000e+03 1.8640000e+04 3.2480000e+03 3.3760000e+03]\n"
     ]
    },
    {
     "name": "stderr",
     "output_type": "stream",
     "text": [
      "  7%|▋         | 900/12535 [25:50<4:08:57,  1.28s/it] "
     ]
    },
    {
     "name": "stdout",
     "output_type": "stream",
     "text": [
      "[0.03022818 0.02611446 0.02728365 0.02399831 0.02471973 0.02643041\n",
      " 0.02345721 0.02402343 0.02682303 0.02746598 0.02580053 0.02711742\n",
      " 0.03021903 0.02769444 0.03040004 0.02999692 0.02855138 0.03460437\n",
      " 0.03696931 0.04021686 0.03503641 0.03763038 0.03581915 0.03282966\n",
      " 0.03162865 0.02604249 0.02199746 0.01820401 0.01499946 0.01224056\n",
      " 0.0100947  0.00979026 0.00894515 0.00898877 0.01015646 0.01293156\n",
      " 0.01392632 0.01668116 0.01152703 0.01091996 0.01059815 0.01370551\n",
      " 0.01690065 0.01173055 0.01073151 0.01004693 0.0091696  0.00843236\n",
      " 0.00874352 0.00848127 0.00635894 0.00538905 0.00659608 0.00829414\n",
      " 0.00838155 0.01016649 0.01300945 0.01162542 0.00970665 0.00784114\n",
      " 0.00748101 0.01083692 0.01430775 0.01205588 0.01573419 0.01802234\n",
      " 0.01840433 0.01489909 0.01468326 0.01016505 0.01076503 0.00916631\n",
      " 0.00760379 0.00694284 0.00647265 0.00577843 0.00726175 0.00735546\n",
      " 0.00781611 0.00684857 0.00547328 0.00552671 0.00576236 0.00683795\n",
      " 0.00530716 0.00598868 0.00655101 0.00494206 0.00286172 0.0022668\n",
      " 0.00207415 0.00143679 0.00095788 0.00112718 0.00059373 0.00055607\n",
      " 0.00069398 0.00044697 0.00075459 0.00080758] [4.60245703e+04 4.47311344e+05 7.44734875e+05 1.00529225e+06\n",
      " 6.11484750e+05 8.21783000e+05 7.29161250e+05 4.67509000e+05\n",
      " 3.87813000e+05 4.00639500e+05 2.03621500e+05 3.11708500e+05\n",
      " 6.04134500e+05 3.94819500e+05 7.63866000e+05 2.43574000e+05\n",
      " 2.38563500e+05 6.84109000e+05 1.25015300e+06 7.21605000e+05\n",
      " 6.74392000e+05 7.77505000e+05 8.22277000e+05 8.59243000e+05\n",
      " 1.58073800e+06 2.02779500e+06 2.21288200e+06 2.58334800e+06\n",
      " 2.61236000e+06 3.02189600e+06 3.24504000e+06 3.39588800e+06\n",
      " 3.73170800e+06 2.95294400e+06 2.56532400e+06 2.10193600e+06\n",
      " 1.53784000e+06 1.78246000e+06 1.63252000e+06 1.50782000e+06\n",
      " 1.06242800e+06 1.57044000e+06 1.90240400e+06 2.09006400e+06\n",
      " 2.36943200e+06 2.29829600e+06 1.66449200e+06 1.84606000e+06\n",
      " 1.72848800e+06 1.99161600e+06 1.16954400e+06 1.15752800e+06\n",
      " 1.08697600e+06 9.46368000e+05 5.16160000e+05 3.26296000e+05\n",
      " 6.36696000e+05 3.80424000e+05 6.91648000e+05 9.62784000e+05\n",
      " 1.02844800e+06 9.08040000e+05 1.25371200e+06 1.13573600e+06\n",
      " 1.30730400e+06 1.45914400e+06 1.44992000e+06 1.91816800e+06\n",
      " 2.38328000e+06 1.74445600e+06 2.35811200e+06 1.55562400e+06\n",
      " 1.14647200e+06 1.16072800e+06 1.29196800e+06 1.00952800e+06\n",
      " 1.17959200e+06 9.83136000e+05 8.31704000e+05 7.78744000e+05\n",
      " 6.04584000e+05 5.67016000e+05 7.93768000e+05 4.88520000e+05\n",
      " 4.08432000e+05 3.25600000e+05 4.06848000e+05 4.89088000e+05\n",
      " 2.02312000e+05 2.42496000e+05 1.21336000e+05 3.63360000e+04\n",
      " 1.67680000e+04 3.52560000e+04 1.79920000e+04 6.48000000e+03\n",
      " 1.16800000e+04 3.04000000e+03 4.93600000e+03 7.33600000e+03]\n"
     ]
    },
    {
     "name": "stderr",
     "output_type": "stream",
     "text": [
      "  8%|▊         | 1000/12535 [28:28<3:48:30,  1.19s/it]"
     ]
    },
    {
     "name": "stdout",
     "output_type": "stream",
     "text": [
      "[0.00000000e+00 0.00000000e+00 0.00000000e+00 0.00000000e+00\n",
      " 0.00000000e+00 0.00000000e+00 0.00000000e+00 0.00000000e+00\n",
      " 0.00000000e+00 0.00000000e+00 0.00000000e+00 0.00000000e+00\n",
      " 0.00000000e+00 0.00000000e+00 0.00000000e+00 0.00000000e+00\n",
      " 0.00000000e+00 0.00000000e+00 0.00000000e+00 0.00000000e+00\n",
      " 0.00000000e+00 0.00000000e+00 0.00000000e+00 0.00000000e+00\n",
      " 0.00000000e+00 0.00000000e+00 0.00000000e+00 0.00000000e+00\n",
      " 0.00000000e+00 0.00000000e+00 0.00000000e+00 0.00000000e+00\n",
      " 0.00000000e+00 0.00000000e+00 0.00000000e+00 0.00000000e+00\n",
      " 0.00000000e+00 0.00000000e+00 0.00000000e+00 2.22815461e-02\n",
      " 1.92241520e-02 1.88576039e-02 2.55799275e-02 2.42055394e-02\n",
      " 2.03001071e-02 1.94634926e-02 1.56382658e-02 1.10118436e-02\n",
      " 1.03877848e-02 1.25686144e-02 1.13349874e-02 1.06032752e-02\n",
      " 1.02143707e-02 1.43343098e-02 1.37553373e-02 1.14239659e-02\n",
      " 1.09706558e-02 1.05007580e-02 9.05300584e-03 1.09329736e-02\n",
      " 1.08276801e-02 8.68627708e-03 1.08405417e-02 1.08612627e-02\n",
      " 9.24721174e-03 9.02053993e-03 8.78722593e-03 8.71893950e-03\n",
      " 1.02517763e-02 7.78532634e-03 6.69529196e-03 5.12495777e-03\n",
      " 7.37991603e-03 5.49536012e-03 6.63502514e-03 5.98047720e-03\n",
      " 1.03410808e-02 8.40523932e-03 6.61703385e-03 7.46968389e-03\n",
      " 7.00006168e-03 7.03663472e-03 4.97513777e-03 4.75002592e-03\n",
      " 5.34474198e-03 4.42939391e-03 4.54757409e-03 3.82987363e-03\n",
      " 4.85516107e-03 4.49864520e-03 3.39990831e-03 3.78361228e-03\n",
      " 3.05663538e-03 2.96989828e-03 1.60474493e-03 1.66011858e-03\n",
      " 1.40226260e-03 3.54991389e-05 1.21876656e-03 4.16089897e-04] [0.0000000e+00 0.0000000e+00 0.0000000e+00 0.0000000e+00 0.0000000e+00\n",
      " 0.0000000e+00 0.0000000e+00 0.0000000e+00 0.0000000e+00 0.0000000e+00\n",
      " 0.0000000e+00 0.0000000e+00 0.0000000e+00 0.0000000e+00 0.0000000e+00\n",
      " 0.0000000e+00 0.0000000e+00 0.0000000e+00 0.0000000e+00 0.0000000e+00\n",
      " 0.0000000e+00 0.0000000e+00 0.0000000e+00 0.0000000e+00 0.0000000e+00\n",
      " 0.0000000e+00 0.0000000e+00 0.0000000e+00 0.0000000e+00 0.0000000e+00\n",
      " 0.0000000e+00 0.0000000e+00 0.0000000e+00 0.0000000e+00 0.0000000e+00\n",
      " 0.0000000e+00 0.0000000e+00 0.0000000e+00 0.0000000e+00 5.0304075e+05\n",
      " 2.3921925e+06 2.5001812e+06 2.2008135e+06 2.0965700e+06 2.6461570e+06\n",
      " 3.6396620e+06 4.5210910e+06 3.4904900e+06 2.4459740e+06 1.4017420e+06\n",
      " 1.8097300e+06 1.4877660e+06 1.0784440e+06 8.5260200e+05 7.1420000e+05\n",
      " 1.2065200e+06 1.7257680e+06 1.8059960e+06 1.6041520e+06 1.7360680e+06\n",
      " 1.1563560e+06 7.9214400e+05 1.2754360e+06 1.1418360e+06 1.0005880e+06\n",
      " 1.3905960e+06 1.4316480e+06 9.4969200e+05 1.0358880e+06 6.3603600e+05\n",
      " 4.9826000e+05 4.5978400e+05 6.2474000e+05 4.1385600e+05 7.3150800e+05\n",
      " 5.4272800e+05 4.3013600e+05 6.1684400e+05 5.4864000e+05 6.0774400e+05\n",
      " 3.7338800e+05 4.7356800e+05 6.7431600e+05 4.7149200e+05 3.4464400e+05\n",
      " 2.3002800e+05 3.5565200e+05 1.7731200e+05 1.6689200e+05 1.5374800e+05\n",
      " 1.1996400e+05 1.2168000e+05 1.3359600e+05 1.3656400e+05 7.9924000e+04\n",
      " 1.7632000e+04 3.0188000e+04 2.6400000e+02 2.3600000e+03 3.2320000e+03]\n"
     ]
    },
    {
     "name": "stderr",
     "output_type": "stream",
     "text": [
      "  9%|▉         | 1100/12535 [31:24<13:23:12,  4.21s/it]"
     ]
    },
    {
     "name": "stdout",
     "output_type": "stream",
     "text": [
      "[0.01061584 0.01107846 0.0124761  0.01287735 0.01375394 0.01475833\n",
      " 0.01385743 0.01400201 0.01403138 0.01498511 0.01466789 0.01589089\n",
      " 0.01351163 0.0122774  0.01141666 0.01098925 0.01092484 0.01089113\n",
      " 0.01074617 0.01113934 0.01109115 0.01090829 0.01095252 0.01109471\n",
      " 0.01102027 0.01124764 0.0129802  0.0152324  0.01556298 0.01557673\n",
      " 0.01485916 0.01411907 0.01394081 0.01254896 0.01230611 0.01156113\n",
      " 0.01075581 0.00983384 0.00920812 0.0087687  0.00833153 0.00832628\n",
      " 0.00925636 0.0105543  0.01124017 0.01116099 0.01022212 0.01024172\n",
      " 0.01046127 0.0110254  0.01173639 0.01210451 0.01218122 0.01271596\n",
      " 0.01249926 0.01263695 0.01421996 0.01164024 0.01255416 0.0129223\n",
      " 0.0128802  0.01290041 0.01498802 0.01861956 0.01613835 0.01489051\n",
      " 0.01482061 0.01261854 0.0121485  0.01200791 0.01282944 0.0144306\n",
      " 0.02950222 0.01840651 0.02141405 0.02410765 0.02249216 0.02472511\n",
      " 0.02107326 0.02657685 0.02637476 0.02209052 0.02274985 0.02194229\n",
      " 0.01915007 0.02073254 0.0220962  0.02209798 0.01700757 0.01536659\n",
      " 0.01821405 0.0173198  0.011515   0.01050617 0.01015148 0.00876763\n",
      " 0.00550692 0.00301163 0.00159206 0.0008313 ] [4.9948000e+06 6.0234250e+06 9.4574390e+06 8.7622740e+06 1.2353182e+07\n",
      " 1.8381052e+07 2.1450100e+07 1.9688064e+07 2.2297096e+07 3.1268520e+07\n",
      " 5.3162288e+07 8.3768416e+07 6.6758080e+07 5.2625088e+07 4.4791552e+07\n",
      " 3.4987456e+07 2.8571072e+07 2.5929792e+07 2.0133632e+07 1.9250048e+07\n",
      " 2.1828480e+07 1.7564928e+07 1.7500032e+07 1.7827840e+07 2.2615232e+07\n",
      " 2.2878720e+07 3.6431936e+07 9.3744064e+07 1.3914483e+08 1.2758131e+08\n",
      " 1.2674342e+08 9.9647488e+07 9.2951168e+07 7.0105088e+07 7.1669632e+07\n",
      " 6.2813824e+07 5.0814592e+07 4.6116864e+07 3.3479680e+07 2.7445248e+07\n",
      " 2.3706624e+07 1.8690048e+07 1.8557568e+07 2.1490176e+07 2.5598464e+07\n",
      " 3.1254912e+07 3.4017536e+07 3.9161728e+07 4.2080128e+07 4.5027072e+07\n",
      " 4.4248960e+07 4.1120512e+07 3.8112256e+07 4.1956608e+07 4.0485120e+07\n",
      " 4.7744512e+07 7.6014080e+07 6.0356864e+07 8.0766464e+07 1.0552371e+08\n",
      " 1.1702707e+08 1.1942554e+08 1.5660774e+08 3.0389811e+08 2.9469926e+08\n",
      " 2.7543526e+08 3.4449715e+08 2.7360538e+08 2.3269171e+08 2.1308211e+08\n",
      " 2.2348288e+08 3.2636262e+08 1.9724088e+09 9.4591642e+08 1.2135255e+09\n",
      " 1.9619656e+09 1.9333018e+09 2.4230185e+09 1.8010409e+09 2.4090399e+09\n",
      " 2.7133194e+09 2.4946606e+09 2.6287493e+09 2.8359885e+09 2.3666790e+09\n",
      " 3.6827628e+09 4.2064773e+09 3.5863265e+09 2.6251346e+09 1.9254477e+09\n",
      " 2.3922934e+09 2.2076170e+09 1.0061742e+09 6.4718438e+08 5.3881651e+08\n",
      " 3.7676237e+08 1.5657779e+08 5.0335744e+07 1.5421440e+07 4.6776320e+06]\n"
     ]
    },
    {
     "name": "stderr",
     "output_type": "stream",
     "text": [
      " 10%|▉         | 1200/12535 [34:17<3:56:50,  1.25s/it] "
     ]
    },
    {
     "name": "stdout",
     "output_type": "stream",
     "text": [
      "[0.         0.         0.         0.         0.         0.\n",
      " 0.         0.         0.         0.         0.         0.\n",
      " 0.         0.         0.         0.         0.         0.\n",
      " 0.         0.         0.         0.         0.         0.\n",
      " 0.         0.         0.         0.         0.         0.\n",
      " 0.         0.         0.         0.         0.         0.\n",
      " 0.         0.         0.         0.         0.         0.\n",
      " 0.         0.         0.         0.         0.         0.\n",
      " 0.         0.         0.         0.         0.         0.\n",
      " 0.         0.         0.0284797  0.02844048 0.02149263 0.02502732\n",
      " 0.02539525 0.0216222  0.02025014 0.02038337 0.01816027 0.01801603\n",
      " 0.02262075 0.02088851 0.0209869  0.01543926 0.01758353 0.01829836\n",
      " 0.01422205 0.01411989 0.01469839 0.01469169 0.01133295 0.00902491\n",
      " 0.00796738 0.00875684 0.00796746 0.00644898 0.0068619  0.00684514\n",
      " 0.00741962 0.00616034 0.00488342 0.00347634 0.00298578 0.00324749\n",
      " 0.00232386 0.00171037 0.00225179 0.00162929 0.00154981 0.00100028\n",
      " 0.00096542 0.00082362 0.00100258 0.00010083] [0.0000000e+00 0.0000000e+00 0.0000000e+00 0.0000000e+00 0.0000000e+00\n",
      " 0.0000000e+00 0.0000000e+00 0.0000000e+00 0.0000000e+00 0.0000000e+00\n",
      " 0.0000000e+00 0.0000000e+00 0.0000000e+00 0.0000000e+00 0.0000000e+00\n",
      " 0.0000000e+00 0.0000000e+00 0.0000000e+00 0.0000000e+00 0.0000000e+00\n",
      " 0.0000000e+00 0.0000000e+00 0.0000000e+00 0.0000000e+00 0.0000000e+00\n",
      " 0.0000000e+00 0.0000000e+00 0.0000000e+00 0.0000000e+00 0.0000000e+00\n",
      " 0.0000000e+00 0.0000000e+00 0.0000000e+00 0.0000000e+00 0.0000000e+00\n",
      " 0.0000000e+00 0.0000000e+00 0.0000000e+00 0.0000000e+00 0.0000000e+00\n",
      " 0.0000000e+00 0.0000000e+00 0.0000000e+00 0.0000000e+00 0.0000000e+00\n",
      " 0.0000000e+00 0.0000000e+00 0.0000000e+00 0.0000000e+00 0.0000000e+00\n",
      " 0.0000000e+00 0.0000000e+00 0.0000000e+00 0.0000000e+00 0.0000000e+00\n",
      " 0.0000000e+00 3.4484523e+04 3.1636044e+05 2.4765642e+06 5.4286120e+06\n",
      " 5.7177445e+06 4.8664580e+06 6.4881320e+06 9.9512440e+06 8.6832080e+06\n",
      " 7.2771920e+06 5.2044840e+06 6.6235400e+06 7.2495120e+06 9.7886160e+06\n",
      " 7.6183200e+06 9.3988720e+06 8.7526480e+06 7.4509200e+06 6.6990560e+06\n",
      " 9.0797680e+06 9.4935600e+06 8.8560320e+06 6.5570880e+06 5.9585280e+06\n",
      " 3.7168000e+06 2.2946720e+06 1.2758880e+06 1.5228960e+06 1.9190400e+06\n",
      " 1.6822560e+06 1.3762560e+06 7.0744000e+05 3.6948800e+05 3.5132800e+05\n",
      " 2.4260800e+05 1.2555200e+05 1.4222400e+05 8.4192000e+04 3.9264000e+04\n",
      " 4.9680000e+04 3.3088000e+04 1.1680000e+04 2.6816000e+04 2.3200000e+03]\n"
     ]
    },
    {
     "name": "stderr",
     "output_type": "stream",
     "text": [
      " 10%|█         | 1300/12535 [37:51<4:35:35,  1.47s/it] "
     ]
    },
    {
     "name": "stdout",
     "output_type": "stream",
     "text": [
      "[0.         0.         0.         0.         0.         0.\n",
      " 0.         0.         0.         0.         0.         0.\n",
      " 0.         0.04401994 0.04150534 0.0411879  0.04161618 0.0406555\n",
      " 0.03942689 0.03561165 0.03644964 0.03571064 0.0333638  0.03252927\n",
      " 0.0312429  0.03109289 0.0272844  0.0243625  0.02617897 0.02281966\n",
      " 0.02687561 0.03547145 0.03776743 0.04562706 0.04267238 0.03996167\n",
      " 0.03600194 0.04288896 0.03639206 0.03731708 0.034624   0.03440474\n",
      " 0.02877895 0.02730814 0.03710006 0.03483086 0.03611031 0.03734973\n",
      " 0.03375313 0.0290635  0.02704688 0.0290827  0.03444788 0.04255086\n",
      " 0.04551974 0.04423015 0.04772073 0.04217069 0.03798554 0.03319743\n",
      " 0.0280863  0.02275116 0.02963135 0.03204    0.02879678 0.02832465\n",
      " 0.02594071 0.02176739 0.02227056 0.02534917 0.02010065 0.01862442\n",
      " 0.02081363 0.02018693 0.01736061 0.01650803 0.01571956 0.01566889\n",
      " 0.01427599 0.01470006 0.01388883 0.01336925 0.01114481 0.00931891\n",
      " 0.00885797 0.00711983 0.00572715 0.00485818 0.00396075 0.00369036\n",
      " 0.00361102 0.00384071 0.00311745 0.00225495 0.00285636 0.00258837\n",
      " 0.00192108 0.00122057 0.00142698 0.00079057] [       0.          0.          0.          0.          0.          0.\n",
      "        0.          0.          0.          0.          0.          0.\n",
      "        0.     996074.56   779311.06   795525.9   1024649.    1472458.5\n",
      "  2295215.    4135579.    2900623.    2387672.    4065882.    5087992.\n",
      "  3298302.    3293486.    5553954.    4614400.    5386956.    4151872.\n",
      "  3284796.    3253012.    2859196.    3763384.    5076148.    3401824.\n",
      "  3569936.    4439920.    4485784.    3554000.    3488592.    3191456.\n",
      "  3256624.    2498528.    3816512.    4398144.    4213552.    5782144.\n",
      "  7142504.    6604440.    7771360.    9226400.    6798144.    5216624.\n",
      "  6211776.    6568448.    6770144.    9700624.   12494672.   13983248.\n",
      " 15895328.   17284896.   18457312.   22917600.   26397248.   24270944.\n",
      " 24525216.   23510112.   21951072.   19995648.   25541504.   16126784.\n",
      " 11890016.   12925632.   15946208.   17702368.   15773280.   17309248.\n",
      " 17331392.   11309696.   12400448.   13058944.    9222336.    8380032.\n",
      "  5299968.    4111680.    2279360.    1579264.     785984.     451264.\n",
      "   367424.     403200.     467968.     222336.     248512.     218496.\n",
      "   118208.      71040.      41984.      30272.  ]\n"
     ]
    },
    {
     "name": "stderr",
     "output_type": "stream",
     "text": [
      " 11%|█         | 1400/12535 [40:47<3:59:10,  1.29s/it] "
     ]
    },
    {
     "name": "stdout",
     "output_type": "stream",
     "text": [
      "[0.         0.         0.         0.         0.         0.\n",
      " 0.         0.         0.         0.         0.         0.\n",
      " 0.         0.         0.         0.         0.         0.\n",
      " 0.02023447 0.01939976 0.02097906 0.0214819  0.01727087 0.01678883\n",
      " 0.01535825 0.01414042 0.01183553 0.01282549 0.01307343 0.01531986\n",
      " 0.01546104 0.01446333 0.01391427 0.01277757 0.0091877  0.01002059\n",
      " 0.00940115 0.01040201 0.01099039 0.008567   0.01739466 0.01190701\n",
      " 0.01443601 0.01369269 0.01097141 0.01076005 0.00707783 0.00894708\n",
      " 0.01076284 0.00892551 0.01015577 0.01031309 0.01083789 0.00919099\n",
      " 0.00672716 0.00926897 0.01266572 0.01422163 0.01277757 0.01537405\n",
      " 0.01170483 0.00913924 0.01061287 0.00888817 0.00838188 0.00847992\n",
      " 0.00674624 0.00803951 0.00974766 0.0101531  0.00800219 0.00784026\n",
      " 0.00614475 0.00530841 0.00500865 0.00527462 0.00491183 0.00347903\n",
      " 0.00390249 0.00603279 0.00505812 0.00514665 0.00454545 0.00472894\n",
      " 0.00503842 0.00432562 0.00352886 0.00385798 0.00370604 0.00302076\n",
      " 0.00125887 0.0017352  0.00125784 0.00184916 0.00366195 0.00199162\n",
      " 0.00069579 0.00050697 0.00018987 0.        ] [      0.          0.          0.          0.          0.          0.\n",
      "       0.          0.          0.          0.          0.          0.\n",
      "       0.          0.          0.          0.          0.          0.\n",
      "   46198.727  145923.62  1060300.1   1762351.8   1795551.8   1858977.\n",
      " 1335816.5   1497807.5   2038363.    1810031.    1428499.     551016.\n",
      "  740131.     733883.    1084410.    1369330.     844576.    1081362.\n",
      "  811660.     708660.     704360.     318562.     253912.     442808.\n",
      "  487040.     339414.     333948.     531134.     466306.     283724.\n",
      "   95158.     396448.     358644.     409416.     533148.     812558.\n",
      "  879144.     985898.     586616.     731912.     763612.     771562.\n",
      " 1003192.     688948.     893220.    1054840.    1293992.    1058856.\n",
      "  739816.     786688.     975320.     587272.    1377036.    1169268.\n",
      "  960136.     878840.     436320.     362980.     310708.     238616.\n",
      "  178564.     164200.     291392.     292352.     255844.     145520.\n",
      "  176692.     210768.     259796.     167860.     133908.      94400.\n",
      "   41060.      59908.      32028.      37620.      31448.      66692.\n",
      "   13636.       3276.       2404.          0.   ]\n"
     ]
    },
    {
     "name": "stderr",
     "output_type": "stream",
     "text": [
      " 12%|█▏        | 1500/12535 [44:32<4:54:24,  1.60s/it] "
     ]
    },
    {
     "name": "stdout",
     "output_type": "stream",
     "text": [
      "[0.         0.         0.         0.         0.         0.\n",
      " 0.         0.         0.         0.         0.         0.\n",
      " 0.         0.         0.         0.         0.         0.\n",
      " 0.         0.         0.         0.         0.         0.\n",
      " 0.         0.         0.         0.         0.         0.\n",
      " 0.         0.         0.         0.         0.         0.\n",
      " 0.         0.         0.         0.         0.         0.\n",
      " 0.         0.         0.         0.         0.         0.\n",
      " 0.         0.         0.         0.         0.         0.\n",
      " 0.         0.         0.         0.         0.00699272 0.00809929\n",
      " 0.00797396 0.00541014 0.00498343 0.00830318 0.00535379 0.00346299\n",
      " 0.00372094 0.         0.00398538 0.00672164 0.01201942 0.03467334\n",
      " 0.03508547 0.03801608 0.0358181  0.03914852 0.0356301  0.03333527\n",
      " 0.02969754 0.02415211 0.02373654 0.02426005 0.02158926 0.02013692\n",
      " 0.01928139 0.03443724 0.02947053 0.02192237 0.01888173 0.01520196\n",
      " 0.01119859 0.00829845 0.00715917 0.00702073 0.00619206 0.00380747\n",
      " 0.00180102 0.001722   0.00102893 0.00039783] [0.0000000e+00 0.0000000e+00 0.0000000e+00 0.0000000e+00 0.0000000e+00\n",
      " 0.0000000e+00 0.0000000e+00 0.0000000e+00 0.0000000e+00 0.0000000e+00\n",
      " 0.0000000e+00 0.0000000e+00 0.0000000e+00 0.0000000e+00 0.0000000e+00\n",
      " 0.0000000e+00 0.0000000e+00 0.0000000e+00 0.0000000e+00 0.0000000e+00\n",
      " 0.0000000e+00 0.0000000e+00 0.0000000e+00 0.0000000e+00 0.0000000e+00\n",
      " 0.0000000e+00 0.0000000e+00 0.0000000e+00 0.0000000e+00 0.0000000e+00\n",
      " 0.0000000e+00 0.0000000e+00 0.0000000e+00 0.0000000e+00 0.0000000e+00\n",
      " 0.0000000e+00 0.0000000e+00 0.0000000e+00 0.0000000e+00 0.0000000e+00\n",
      " 0.0000000e+00 0.0000000e+00 0.0000000e+00 0.0000000e+00 0.0000000e+00\n",
      " 0.0000000e+00 0.0000000e+00 0.0000000e+00 0.0000000e+00 0.0000000e+00\n",
      " 0.0000000e+00 0.0000000e+00 0.0000000e+00 0.0000000e+00 0.0000000e+00\n",
      " 0.0000000e+00 0.0000000e+00 0.0000000e+00 2.8718603e+05 5.8377138e+05\n",
      " 2.3560042e+06 6.7727875e+05 1.8212400e+05 8.5196750e+04 2.1642000e+04\n",
      " 4.5957500e+03 2.4848000e+04 0.0000000e+00 7.0640000e+03 1.6603000e+04\n",
      " 5.2443350e+05 1.9841774e+07 1.7697698e+07 2.0493620e+07 3.5563840e+07\n",
      " 5.1821824e+07 8.0325600e+07 8.7121856e+07 8.7434304e+07 9.7375840e+07\n",
      " 6.2778944e+07 5.7746496e+07 5.5958336e+07 5.1400192e+07 3.5488320e+07\n",
      " 3.1444672e+07 5.2952064e+07 6.0486464e+07 4.5165888e+07 3.8726656e+07\n",
      " 2.4818112e+07 1.3854272e+07 7.2677120e+06 4.1500800e+06 3.2860160e+06\n",
      " 1.8607360e+06 3.0028800e+05 1.4752000e+05 4.7232000e+04 1.2544000e+04]\n"
     ]
    },
    {
     "name": "stderr",
     "output_type": "stream",
     "text": [
      " 13%|█▎        | 1600/12535 [47:24<4:26:18,  1.46s/it] "
     ]
    },
    {
     "name": "stdout",
     "output_type": "stream",
     "text": [
      "[0.         0.         0.         0.         0.         0.\n",
      " 0.         0.         0.         0.         0.         0.\n",
      " 0.         0.         0.         0.         0.0639572  0.06143161\n",
      " 0.05412496 0.05990141 0.06222023 0.0581067  0.06873652 0.07043257\n",
      " 0.07139742 0.06044444 0.04310758 0.03632749 0.0309475  0.02865663\n",
      " 0.02592497 0.02375314 0.02491195 0.02889745 0.02889693 0.02382963\n",
      " 0.02029532 0.01750635 0.0177134  0.01772843 0.01748573 0.01748356\n",
      " 0.01912747 0.0174217  0.01801731 0.01625912 0.02029665 0.02172885\n",
      " 0.01966996 0.02916173 0.02618202 0.02326532 0.0182863  0.02043753\n",
      " 0.02367681 0.02279226 0.02381285 0.02758381 0.02367486 0.02351172\n",
      " 0.02042671 0.01790477 0.0166175  0.01424601 0.01657615 0.02061827\n",
      " 0.01817177 0.02040773 0.01915439 0.01788633 0.01659766 0.01466007\n",
      " 0.01350299 0.0112491  0.01045546 0.01144168 0.01096429 0.0129117\n",
      " 0.00943391 0.00981046 0.00824903 0.00865482 0.01043146 0.00815545\n",
      " 0.00894015 0.00647336 0.00712425 0.00724746 0.00679679 0.00691716\n",
      " 0.00663849 0.00617251 0.00481323 0.00333037 0.00273355 0.00166842\n",
      " 0.00115828 0.00084113 0.00057527 0.00019513] [0.0000000e+00 0.0000000e+00 0.0000000e+00 0.0000000e+00 0.0000000e+00\n",
      " 0.0000000e+00 0.0000000e+00 0.0000000e+00 0.0000000e+00 0.0000000e+00\n",
      " 0.0000000e+00 0.0000000e+00 0.0000000e+00 0.0000000e+00 0.0000000e+00\n",
      " 0.0000000e+00 2.2725359e+05 2.3767791e+05 5.1856375e+05 7.5849212e+05\n",
      " 7.9858812e+05 1.4850595e+06 8.5839100e+05 1.3157925e+06 1.2449220e+06\n",
      " 1.8323935e+06 2.7489700e+06 3.9225440e+06 4.6920720e+06 4.8282660e+06\n",
      " 4.2481280e+06 4.6564340e+06 3.8621400e+06 4.0652760e+06 4.1306840e+06\n",
      " 3.2837120e+06 3.2496800e+06 2.3241440e+06 1.7868640e+06 2.0961600e+06\n",
      " 2.1533040e+06 2.2942240e+06 2.5733560e+06 2.0048120e+06 1.8838000e+06\n",
      " 1.9240560e+06 1.6676640e+06 8.6373600e+05 1.2385040e+06 1.8779520e+06\n",
      " 1.3605600e+06 1.2406720e+06 3.4985680e+06 3.2309120e+06 3.7355200e+06\n",
      " 3.7412800e+06 1.7488160e+06 2.9547040e+06 2.9714720e+06 2.9245120e+06\n",
      " 5.4608560e+06 5.0882400e+06 4.3984720e+06 3.2584800e+06 3.0071520e+06\n",
      " 2.4203440e+06 1.3905120e+06 1.8715920e+06 3.1862320e+06 3.8521920e+06\n",
      " 4.0578560e+06 3.9225440e+06 4.5947040e+06 3.9317440e+06 2.5272320e+06\n",
      " 1.9990080e+06 2.1207040e+06 2.5234240e+06 1.6661600e+06 1.7331360e+06\n",
      " 1.4658560e+06 1.0886560e+06 1.8684960e+06 1.3313280e+06 1.2296800e+06\n",
      " 1.1110400e+06 9.8452800e+05 1.0080640e+06 8.9529600e+05 9.1571200e+05\n",
      " 7.5558400e+05 8.5692800e+05 7.0104000e+05 3.7488000e+05 2.4896000e+05\n",
      " 1.0288000e+05 3.0832000e+04 1.3328000e+04 8.6400000e+03 1.2640000e+03]\n"
     ]
    },
    {
     "name": "stderr",
     "output_type": "stream",
     "text": [
      " 14%|█▎        | 1700/12535 [50:47<5:49:19,  1.93s/it] "
     ]
    },
    {
     "name": "stdout",
     "output_type": "stream",
     "text": [
      "[0.03010418 0.03103732 0.03448006 0.03768047 0.03426168 0.02960013\n",
      " 0.0276372  0.02606131 0.02132387 0.02309041 0.02091715 0.02367115\n",
      " 0.02159715 0.01947926 0.0195724  0.01932433 0.02080458 0.02453445\n",
      " 0.02016972 0.01873659 0.02211144 0.02111245 0.02376162 0.01879838\n",
      " 0.01751929 0.01781455 0.01305677 0.01523376 0.01586703 0.01464052\n",
      " 0.01289339 0.01073074 0.01258055 0.01996902 0.01711107 0.01754121\n",
      " 0.01438133 0.0167443  0.02014189 0.01893964 0.01643433 0.01376224\n",
      " 0.014597   0.01301049 0.01290029 0.0111874  0.01351783 0.01599035\n",
      " 0.01584612 0.0147578  0.01248244 0.01035367 0.01287603 0.01336196\n",
      " 0.01177297 0.0124765  0.0139532  0.01367511 0.01125306 0.01280954\n",
      " 0.00988852 0.01482004 0.01285841 0.01207269 0.01120599 0.01694731\n",
      " 0.01335142 0.0139329  0.00997977 0.00998859 0.01104542 0.01012875\n",
      " 0.01021533 0.01028441 0.0090641  0.00939192 0.00804775 0.00827455\n",
      " 0.00645803 0.00942059 0.0084116  0.00571343 0.00685367 0.00555763\n",
      " 0.00412944 0.00419534 0.00440555 0.00492252 0.00292901 0.00151324\n",
      " 0.0021204  0.00234107 0.00249252 0.00238992 0.00198892 0.00158437\n",
      " 0.00109732 0.00051516 0.00025923 0.00012879] [3.0259698e+06 2.8628252e+06 3.7041010e+06 2.6213860e+06 2.5743260e+06\n",
      " 2.7448600e+06 2.9388380e+06 3.7121280e+06 3.7252060e+06 3.8133560e+06\n",
      " 3.9505320e+06 3.8261640e+06 2.8042840e+06 3.4843320e+06 5.3986440e+06\n",
      " 4.8448640e+06 5.1313200e+06 3.5821080e+06 2.4047160e+06 1.9118640e+06\n",
      " 1.4423760e+06 1.0345520e+06 1.5330800e+06 1.7164240e+06 3.1582800e+06\n",
      " 3.1383200e+06 2.7675040e+06 3.1872720e+06 3.1494160e+06 2.8491680e+06\n",
      " 2.5509200e+06 2.0292720e+06 1.8019760e+06 2.3211040e+06 1.9669200e+06\n",
      " 2.3834400e+06 2.3259600e+06 2.7488720e+06 2.8809520e+06 3.2376560e+06\n",
      " 3.0686640e+06 2.8402720e+06 2.7995440e+06 3.3495360e+06 3.2174960e+06\n",
      " 2.2553280e+06 2.6491520e+06 2.2254880e+06 2.1378080e+06 1.9797760e+06\n",
      " 2.1044320e+06 2.0510880e+06 1.6370560e+06 1.8188000e+06 1.5276160e+06\n",
      " 1.4779840e+06 1.7384160e+06 1.4711040e+06 1.0416800e+06 1.7888000e+06\n",
      " 1.4495040e+06 1.7874880e+06 2.3152480e+06 2.2879520e+06 1.5671200e+06\n",
      " 2.0190560e+06 1.9296320e+06 1.7323200e+06 2.4196000e+06 1.9438400e+06\n",
      " 2.1340000e+06 1.6232960e+06 2.1306560e+06 2.1038880e+06 2.1663520e+06\n",
      " 1.4135360e+06 1.0057600e+06 1.0958400e+06 6.9211200e+05 1.4170880e+06\n",
      " 1.8695200e+06 7.6737600e+05 4.8428800e+05 7.5532800e+05 3.5931200e+05\n",
      " 2.5971200e+05 2.3400000e+05 3.8569600e+05 2.9928000e+05 1.1137600e+05\n",
      " 6.2976000e+04 8.7344000e+04 1.0835200e+05 8.5104000e+04 6.1008000e+04\n",
      " 4.0112000e+04 1.5584000e+04 9.0560000e+03 7.4080000e+03 2.0800000e+03]\n"
     ]
    },
    {
     "name": "stderr",
     "output_type": "stream",
     "text": [
      " 14%|█▍        | 1800/12535 [54:11<5:01:37,  1.69s/it] "
     ]
    },
    {
     "name": "stdout",
     "output_type": "stream",
     "text": [
      "[0.04344127 0.04656109 0.05211971 0.05503106 0.04939837 0.04135336\n",
      " 0.03336466 0.03210774 0.02798601 0.02493591 0.02254666 0.02145955\n",
      " 0.0218501  0.02571349 0.02723004 0.02577034 0.02331884 0.02205365\n",
      " 0.0229655  0.02418532 0.02592986 0.0251176  0.02197984 0.0258337\n",
      " 0.02427316 0.02599082 0.02263037 0.02133235 0.01978407 0.01914582\n",
      " 0.01708179 0.02238855 0.02164721 0.02761016 0.0252789  0.02438883\n",
      " 0.02404028 0.02629806 0.02559769 0.02906122 0.03047973 0.03059623\n",
      " 0.0355368  0.03177592 0.03366677 0.02799847 0.02277802 0.02423867\n",
      " 0.01711336 0.01827729 0.01651808 0.01682631 0.01417726 0.01566621\n",
      " 0.0143679  0.0135276  0.01752344 0.01829137 0.01615132 0.02518114\n",
      " 0.02572765 0.01780367 0.01647856 0.01521169 0.01254801 0.01297533\n",
      " 0.01292599 0.01667132 0.01532197 0.01174151 0.01350118 0.01167269\n",
      " 0.01193002 0.0150972  0.01217738 0.01064475 0.01201407 0.01021713\n",
      " 0.00724325 0.00914266 0.00779228 0.0069125  0.00862376 0.00757487\n",
      " 0.00826989 0.00942787 0.00746356 0.00596183 0.00519843 0.00510597\n",
      " 0.00540675 0.00490619 0.00472272 0.00341884 0.00282389 0.0022093\n",
      " 0.00117214 0.00067118 0.00114564 0.00085747] [2425128.5 2271817.5 1968519.5 2499268.5 1908070.  2131850.  3242180.\n",
      " 3115774.  2682766.  3336802.  3764726.  2913820.  3363330.  3406368.\n",
      " 3794524.  3158664.  2823020.  2482412.  2485304.  2044160.  1465136.\n",
      " 1677364.  1318332.  1772180.  1545336.  1307256.   978976.   894940.\n",
      " 1018784.   635776.   815024.  1461112.  1540672.  1818408.  1321576.\n",
      " 1649144.  1681352.  2700112.  1700512.  1372136.  1462512.  1793352.\n",
      " 1778400.  2962032.  3643432.  3641568.  2567984.  3816936.  3974640.\n",
      " 4972312.  5600656.  5819264.  5221384.  6310640.  4282288.  3588192.\n",
      " 4027648.  2560928.  2870864.  3081856.  3042624.  3487600.  4270432.\n",
      " 5122640.  2841392.  3216400.  2497072.  2614080.  2629248.  2788048.\n",
      " 2726000.  2378160.  2234528.  3100704.  2986080.  3517328.  3461552.\n",
      " 2820544.  2015632.  2010544.  1411920.  1162160.  1035280.  1020800.\n",
      " 1333040.  1554288.  1540032.  1146400.   719552.   648592.   562144.\n",
      "  510608.   650224.   418528.   309232.   183712.    51872.    11088.\n",
      "   35248.    25200. ]\n"
     ]
    },
    {
     "name": "stderr",
     "output_type": "stream",
     "text": [
      " 15%|█▌        | 1900/12535 [57:19<4:30:59,  1.53s/it] "
     ]
    },
    {
     "name": "stdout",
     "output_type": "stream",
     "text": [
      "[0.04264666 0.04858637 0.03511442 0.01684717 0.01149979 0.01029167\n",
      " 0.0089409  0.00896603 0.         0.         0.         0.\n",
      " 0.         0.         0.         0.         0.         0.\n",
      " 0.         0.         0.         0.         0.         0.\n",
      " 0.         0.         0.         0.         0.         0.\n",
      " 0.         0.         0.         0.         0.         0.\n",
      " 0.         0.         0.         0.         0.         0.\n",
      " 0.         0.         0.         0.         0.         0.\n",
      " 0.         0.         0.         0.         0.         0.\n",
      " 0.         0.         0.         0.         0.         0.\n",
      " 0.         0.         0.         0.         0.         0.\n",
      " 0.         0.         0.         0.         0.         0.\n",
      " 0.         0.         0.         0.         0.         0.\n",
      " 0.         0.         0.         0.         0.         0.\n",
      " 0.         0.         0.         0.         0.         0.\n",
      " 0.         0.         0.         0.         0.         0.\n",
      " 0.         0.         0.         0.        ] [5.2827840e+07 4.0096172e+07 5.8033632e+07 1.8280368e+07 2.8134880e+06\n",
      " 1.7033440e+06 3.5814400e+05 4.7600000e+04 0.0000000e+00 0.0000000e+00\n",
      " 0.0000000e+00 0.0000000e+00 0.0000000e+00 0.0000000e+00 0.0000000e+00\n",
      " 0.0000000e+00 0.0000000e+00 0.0000000e+00 0.0000000e+00 0.0000000e+00\n",
      " 0.0000000e+00 0.0000000e+00 0.0000000e+00 0.0000000e+00 0.0000000e+00\n",
      " 0.0000000e+00 0.0000000e+00 0.0000000e+00 0.0000000e+00 0.0000000e+00\n",
      " 0.0000000e+00 0.0000000e+00 0.0000000e+00 0.0000000e+00 0.0000000e+00\n",
      " 0.0000000e+00 0.0000000e+00 0.0000000e+00 0.0000000e+00 0.0000000e+00\n",
      " 0.0000000e+00 0.0000000e+00 0.0000000e+00 0.0000000e+00 0.0000000e+00\n",
      " 0.0000000e+00 0.0000000e+00 0.0000000e+00 0.0000000e+00 0.0000000e+00\n",
      " 0.0000000e+00 0.0000000e+00 0.0000000e+00 0.0000000e+00 0.0000000e+00\n",
      " 0.0000000e+00 0.0000000e+00 0.0000000e+00 0.0000000e+00 0.0000000e+00\n",
      " 0.0000000e+00 0.0000000e+00 0.0000000e+00 0.0000000e+00 0.0000000e+00\n",
      " 0.0000000e+00 0.0000000e+00 0.0000000e+00 0.0000000e+00 0.0000000e+00\n",
      " 0.0000000e+00 0.0000000e+00 0.0000000e+00 0.0000000e+00 0.0000000e+00\n",
      " 0.0000000e+00 0.0000000e+00 0.0000000e+00 0.0000000e+00 0.0000000e+00\n",
      " 0.0000000e+00 0.0000000e+00 0.0000000e+00 0.0000000e+00 0.0000000e+00\n",
      " 0.0000000e+00 0.0000000e+00 0.0000000e+00 0.0000000e+00 0.0000000e+00\n",
      " 0.0000000e+00 0.0000000e+00 0.0000000e+00 0.0000000e+00 0.0000000e+00\n",
      " 0.0000000e+00 0.0000000e+00 0.0000000e+00 0.0000000e+00 0.0000000e+00]\n"
     ]
    },
    {
     "name": "stderr",
     "output_type": "stream",
     "text": [
      " 16%|█▌        | 2000/12535 [1:00:54<4:38:48,  1.59s/it] "
     ]
    },
    {
     "name": "stdout",
     "output_type": "stream",
     "text": [
      "[0.         0.         0.         0.         0.         0.\n",
      " 0.         0.         0.         0.         0.         0.\n",
      " 0.         0.         0.         0.         0.         0.\n",
      " 0.         0.         0.         0.         0.         0.\n",
      " 0.         0.         0.         0.         0.05592154 0.06160012\n",
      " 0.06055091 0.05926684 0.05609244 0.05796498 0.06682451 0.06298115\n",
      " 0.05943809 0.05414906 0.04894666 0.04070774 0.039099   0.04284542\n",
      " 0.04037277 0.04012251 0.04363704 0.04767433 0.05126683 0.05281157\n",
      " 0.04631364 0.03867188 0.03460512 0.03484843 0.03433464 0.03357935\n",
      " 0.02892556 0.0295869  0.03320901 0.03086113 0.02503499 0.0223589\n",
      " 0.02416163 0.0256568  0.02705179 0.02777194 0.02751407 0.02674341\n",
      " 0.02633454 0.02310001 0.02403326 0.0237394  0.02619892 0.02868682\n",
      " 0.02948047 0.0281764  0.02392869 0.02306634 0.02641778 0.02145668\n",
      " 0.0239724  0.0213028  0.01848833 0.01629858 0.01080699 0.00967483\n",
      " 0.01103245 0.01202601 0.01014793 0.0075121  0.00820882 0.0080977\n",
      " 0.00715445 0.00659152 0.00642056 0.00461654 0.00420061 0.00340847\n",
      " 0.0027     0.00193643 0.00106419 0.00047393] [0.0000000e+00 0.0000000e+00 0.0000000e+00 0.0000000e+00 0.0000000e+00\n",
      " 0.0000000e+00 0.0000000e+00 0.0000000e+00 0.0000000e+00 0.0000000e+00\n",
      " 0.0000000e+00 0.0000000e+00 0.0000000e+00 0.0000000e+00 0.0000000e+00\n",
      " 0.0000000e+00 0.0000000e+00 0.0000000e+00 0.0000000e+00 0.0000000e+00\n",
      " 0.0000000e+00 0.0000000e+00 0.0000000e+00 0.0000000e+00 0.0000000e+00\n",
      " 0.0000000e+00 0.0000000e+00 0.0000000e+00 1.9653680e+06 2.0471820e+06\n",
      " 3.1301000e+06 2.8565930e+06 3.6827030e+06 3.3970040e+06 4.6771980e+06\n",
      " 6.5862280e+06 9.1157200e+06 1.5574856e+07 2.5414328e+07 3.9707912e+07\n",
      " 2.9437912e+07 2.3098688e+07 3.1275568e+07 2.8371184e+07 2.3164624e+07\n",
      " 2.1099168e+07 1.9620288e+07 2.2539200e+07 2.9548064e+07 3.5921024e+07\n",
      " 3.4590720e+07 2.6108096e+07 2.2692672e+07 2.3948160e+07 2.3673280e+07\n",
      " 2.3111296e+07 2.2515392e+07 2.1692736e+07 2.6273472e+07 1.9979264e+07\n",
      " 2.0937920e+07 1.5808256e+07 1.2638208e+07 8.9016960e+06 9.1939840e+06\n",
      " 7.2707840e+06 7.4963840e+06 9.9504640e+06 1.0897728e+07 8.0634880e+06\n",
      " 7.2631680e+06 8.5187200e+06 9.8616960e+06 8.5083520e+06 6.9067520e+06\n",
      " 7.8602880e+06 9.6789760e+06 7.4769920e+06 8.1745920e+06 1.1175040e+07\n",
      " 8.2471040e+06 9.3380480e+06 1.1493056e+07 8.8110720e+06 3.6340480e+06\n",
      " 3.0579200e+06 3.2577920e+06 2.2586240e+06 1.4790400e+06 1.3178880e+06\n",
      " 1.1667200e+06 6.9568000e+05 8.9913600e+05 8.2169600e+05 1.8323200e+05\n",
      " 1.4105600e+05 7.6032000e+04 5.7984000e+04 8.7680000e+03 1.0240000e+03]\n"
     ]
    },
    {
     "name": "stderr",
     "output_type": "stream",
     "text": [
      " 17%|█▋        | 2100/12535 [1:04:19<5:07:02,  1.77s/it] "
     ]
    },
    {
     "name": "stdout",
     "output_type": "stream",
     "text": [
      "[0.         0.         0.         0.         0.         0.\n",
      " 0.         0.         0.         0.         0.         0.04619065\n",
      " 0.04789459 0.05395004 0.05692066 0.05755587 0.05771502 0.05286585\n",
      " 0.05141723 0.05062313 0.04869526 0.05085934 0.05746502 0.05738635\n",
      " 0.05604035 0.04974085 0.04177758 0.0370725  0.03950012 0.0433472\n",
      " 0.04449553 0.04594698 0.04287366 0.03499729 0.03382221 0.03763415\n",
      " 0.03716185 0.04089253 0.04691419 0.04307991 0.03815446 0.02960796\n",
      " 0.02591681 0.02375428 0.02409822 0.02761666 0.03120554 0.03079824\n",
      " 0.03309319 0.02813191 0.02893131 0.0281259  0.03045563 0.02997355\n",
      " 0.02526482 0.02486801 0.02353932 0.02416014 0.02453579 0.02478663\n",
      " 0.02578272 0.02520869 0.02881265 0.0271507  0.02549323 0.02143566\n",
      " 0.02043848 0.02305461 0.02405609 0.01942871 0.01493288 0.01430557\n",
      " 0.01424719 0.01318638 0.01176096 0.01290247 0.01292892 0.01093025\n",
      " 0.01077422 0.0103614  0.00930314 0.01011017 0.0093871  0.00775805\n",
      " 0.00968161 0.00644854 0.00703063 0.00707847 0.00484291 0.00409131\n",
      " 0.00376459 0.00466989 0.00324695 0.00274178 0.00199685 0.00168933\n",
      " 0.00149736 0.00087111 0.00067277 0.00037405] [0.0000000e+00 0.0000000e+00 0.0000000e+00 0.0000000e+00 0.0000000e+00\n",
      " 0.0000000e+00 0.0000000e+00 0.0000000e+00 0.0000000e+00 0.0000000e+00\n",
      " 0.0000000e+00 7.9517675e+05 3.4305962e+05 4.6472000e+05 1.2838874e+06\n",
      " 2.7652268e+06 1.7924060e+06 1.9830125e+06 1.7967550e+06 2.2431230e+06\n",
      " 2.5795570e+06 2.7929460e+06 3.6317840e+06 6.3441280e+06 9.5342980e+06\n",
      " 1.0303904e+07 1.6066816e+07 2.3499304e+07 1.7713768e+07 1.6857264e+07\n",
      " 1.4128672e+07 1.1896224e+07 9.9805600e+06 1.6403120e+07 2.6189792e+07\n",
      " 2.6221152e+07 2.3926688e+07 2.2155904e+07 3.2846432e+07 3.6640640e+07\n",
      " 4.1936608e+07 3.9588512e+07 4.2771520e+07 3.0873088e+07 1.9972160e+07\n",
      " 1.9004448e+07 1.8327680e+07 1.6577728e+07 1.9302720e+07 1.7893056e+07\n",
      " 1.9028800e+07 1.8493184e+07 2.2068672e+07 2.2799616e+07 1.9830464e+07\n",
      " 2.1842112e+07 2.2419136e+07 1.7415616e+07 1.4304064e+07 1.4977728e+07\n",
      " 1.5037824e+07 1.4345088e+07 1.7456896e+07 2.1257984e+07 2.7438464e+07\n",
      " 2.8319552e+07 2.2244352e+07 1.9304384e+07 2.3732096e+07 2.6533248e+07\n",
      " 2.2172672e+07 1.4716992e+07 1.1147200e+07 1.1233024e+07 9.6687360e+06\n",
      " 8.3842560e+06 9.4666240e+06 8.3758080e+06 7.6241920e+06 6.8716800e+06\n",
      " 5.3009920e+06 6.2826240e+06 6.8999680e+06 4.7048960e+06 5.1746560e+06\n",
      " 2.7463680e+06 2.1359360e+06 2.4495360e+06 1.7602560e+06 1.0785280e+06\n",
      " 7.2153600e+05 5.4822400e+05 4.3315200e+05 2.7648000e+05 1.5526400e+05\n",
      " 8.5248000e+04 4.8256000e+04 2.7392000e+04 1.7920000e+04 4.2240000e+03]\n"
     ]
    },
    {
     "name": "stderr",
     "output_type": "stream",
     "text": [
      " 18%|█▊        | 2200/12535 [1:07:14<3:46:40,  1.32s/it]"
     ]
    },
    {
     "name": "stdout",
     "output_type": "stream",
     "text": [
      "[0.0321679  0.03345812 0.0316581  0.03268097 0.03140852 0.02730349\n",
      " 0.02759556 0.02842755 0.02718436 0.02945804 0.02887372 0.03122726\n",
      " 0.02839588 0.02719396 0.02914182 0.02939328 0.02806427 0.0262574\n",
      " 0.03049434 0.02787528 0.02483215 0.02295784 0.02097451 0.0187757\n",
      " 0.01751915 0.01669831 0.01502331 0.01445569 0.01460283 0.01281802\n",
      " 0.01217332 0.01284568 0.01172705 0.0112562  0.01560055 0.01417679\n",
      " 0.01228886 0.01250259 0.01176037 0.01191159 0.01761946 0.01405056\n",
      " 0.01437902 0.01786201 0.01632857 0.017193   0.0150412  0.01333294\n",
      " 0.01319646 0.01293193 0.01064617 0.00990502 0.00836962 0.00748466\n",
      " 0.00831709 0.00760244 0.00784786 0.00732157 0.007428   0.00817734\n",
      " 0.00773719 0.00685137 0.00691058 0.00660235 0.00615373 0.00643112\n",
      " 0.00470421 0.00484339 0.00529183 0.00632247 0.00553945 0.00512225\n",
      " 0.0046147  0.0051163  0.00515903 0.00478844 0.00389642 0.00400635\n",
      " 0.00523098 0.00573861 0.00431965 0.00315628 0.00352596 0.00324143\n",
      " 0.00348088 0.00466433 0.00373699 0.00376474 0.00365065 0.00244218\n",
      " 0.00219283 0.00116974 0.00049459 0.00078137 0.00089692 0.00103661\n",
      " 0.00061953 0.00054189 0.00032758 0.00045938] [2.9724325e+06 3.3868235e+06 2.7866410e+06 2.8309340e+06 4.0426320e+06\n",
      " 1.9311850e+06 2.1799100e+06 3.6137280e+06 3.7324600e+06 3.3599680e+06\n",
      " 2.8242620e+06 3.1750000e+06 2.8262960e+06 2.0670960e+06 1.9895520e+06\n",
      " 2.8593520e+06 3.8047600e+06 4.0245760e+06 4.1311760e+06 3.8419760e+06\n",
      " 4.7379360e+06 5.5145360e+06 5.3999360e+06 6.7387280e+06 6.1232240e+06\n",
      " 5.5726560e+06 6.5210320e+06 5.1475760e+06 3.6709600e+06 3.8913360e+06\n",
      " 3.9661920e+06 3.2415600e+06 2.6896400e+06 2.4739760e+06 2.9866080e+06\n",
      " 3.0878320e+06 3.1860080e+06 2.9475680e+06 2.9435520e+06 2.5830880e+06\n",
      " 2.6160480e+06 1.7035840e+06 2.3460000e+06 2.6095520e+06 2.0618080e+06\n",
      " 1.7234240e+06 2.0578400e+06 1.5971680e+06 1.9438560e+06 2.2028160e+06\n",
      " 2.0437600e+06 2.9599040e+06 2.9800640e+06 2.5295520e+06 2.7912640e+06\n",
      " 3.1476000e+06 2.3932000e+06 1.8318880e+06 1.8275360e+06 1.8203360e+06\n",
      " 1.9749760e+06 2.0050400e+06 1.6130720e+06 1.3875200e+06 1.5918720e+06\n",
      " 1.1900800e+06 9.0372800e+05 9.9846400e+05 8.0920000e+05 9.8713600e+05\n",
      " 1.0332320e+06 1.1880960e+06 7.8051200e+05 5.3992000e+05 4.8326400e+05\n",
      " 3.3889600e+05 3.5201600e+05 3.3827200e+05 3.1291200e+05 3.0907200e+05\n",
      " 2.6732800e+05 2.2892800e+05 1.9808000e+05 2.1113600e+05 1.0144000e+05\n",
      " 2.3769600e+05 1.8678400e+05 1.6366400e+05 2.1984000e+05 1.5579200e+05\n",
      " 6.5408000e+04 5.1216000e+04 1.4160000e+04 1.5184000e+04 3.5360000e+03\n",
      " 1.1600000e+04 1.0944000e+04 5.8880000e+03 5.2960000e+03 6.1920000e+03]\n"
     ]
    },
    {
     "name": "stderr",
     "output_type": "stream",
     "text": [
      " 18%|█▊        | 2300/12535 [1:10:24<3:51:24,  1.36s/it] "
     ]
    },
    {
     "name": "stdout",
     "output_type": "stream",
     "text": [
      "[0.00000000e+00 0.00000000e+00 0.00000000e+00 0.00000000e+00\n",
      " 0.00000000e+00 0.00000000e+00 0.00000000e+00 0.00000000e+00\n",
      " 0.00000000e+00 0.00000000e+00 0.00000000e+00 0.00000000e+00\n",
      " 0.00000000e+00 0.00000000e+00 0.00000000e+00 0.00000000e+00\n",
      " 0.00000000e+00 0.00000000e+00 0.00000000e+00 0.00000000e+00\n",
      " 0.00000000e+00 0.00000000e+00 0.00000000e+00 0.00000000e+00\n",
      " 0.00000000e+00 0.00000000e+00 4.79831770e-02 4.85521667e-02\n",
      " 4.45766263e-02 4.08844166e-02 3.46967317e-02 3.35952006e-02\n",
      " 3.78618650e-02 3.33427452e-02 2.82957498e-02 2.58766823e-02\n",
      " 3.11351717e-02 2.98156179e-02 2.60262713e-02 2.43200678e-02\n",
      " 2.69293226e-02 2.64115557e-02 2.46350449e-02 2.42195278e-02\n",
      " 2.44190563e-02 2.05386281e-02 2.04861276e-02 1.80479903e-02\n",
      " 1.65370461e-02 1.78552419e-02 1.98133681e-02 1.81313921e-02\n",
      " 1.96704492e-02 1.50898984e-02 1.84786133e-02 2.39175819e-02\n",
      " 2.06642393e-02 1.95045024e-02 1.51920067e-02 1.61308423e-02\n",
      " 1.51317222e-02 1.23754302e-02 1.41747957e-02 1.30333491e-02\n",
      " 8.15384183e-03 6.16571866e-03 6.72924146e-03 8.48885346e-03\n",
      " 7.62692699e-03 6.85778353e-03 6.25154888e-03 8.38386919e-03\n",
      " 9.32699069e-03 8.79198220e-03 6.43337704e-03 5.34116244e-03\n",
      " 4.55452874e-03 3.47234169e-03 3.94383259e-03 4.46645124e-03\n",
      " 3.19735613e-03 5.44637023e-03 4.15443769e-03 4.80164913e-03\n",
      " 4.51866770e-03 3.86157609e-03 3.88021162e-03 3.17358808e-03\n",
      " 2.45911209e-03 2.76012882e-03 2.04712572e-03 2.12428672e-03\n",
      " 1.70556700e-03 1.21478410e-03 1.10013841e-03 3.08523486e-05\n",
      " 3.04207526e-04 1.71255218e-04 0.00000000e+00 1.44782112e-04] [0.0000000e+00 0.0000000e+00 0.0000000e+00 0.0000000e+00 0.0000000e+00\n",
      " 0.0000000e+00 0.0000000e+00 0.0000000e+00 0.0000000e+00 0.0000000e+00\n",
      " 0.0000000e+00 0.0000000e+00 0.0000000e+00 0.0000000e+00 0.0000000e+00\n",
      " 0.0000000e+00 0.0000000e+00 0.0000000e+00 0.0000000e+00 0.0000000e+00\n",
      " 0.0000000e+00 0.0000000e+00 0.0000000e+00 0.0000000e+00 0.0000000e+00\n",
      " 0.0000000e+00 2.2287600e+05 5.9328950e+05 3.9852975e+05 8.8295550e+05\n",
      " 3.8468850e+05 8.8038950e+05 7.6399825e+05 7.5396750e+05 8.5391550e+05\n",
      " 1.5305590e+06 1.8048860e+06 2.5942240e+06 3.0967240e+06 2.7119910e+06\n",
      " 2.8976400e+06 3.1267360e+06 2.6693920e+06 3.0577600e+06 4.3557860e+06\n",
      " 4.8298520e+06 6.7255280e+06 6.4105720e+06 6.1485680e+06 5.2482320e+06\n",
      " 3.0235720e+06 3.5889920e+06 4.1744960e+06 3.9466560e+06 3.0620640e+06\n",
      " 2.1299920e+06 3.2353440e+06 4.6057040e+06 4.3435120e+06 4.9894880e+06\n",
      " 5.2931840e+06 4.7022800e+06 3.2860560e+06 5.5136080e+06 3.2512960e+06\n",
      " 1.9264160e+06 8.4680000e+05 6.1820800e+05 7.3124000e+05 5.5154400e+05\n",
      " 3.3579200e+05 2.4181600e+05 2.4836000e+05 2.4540800e+05 2.1027200e+05\n",
      " 3.6929600e+05 2.4398400e+05 1.2912800e+05 9.8432000e+04 6.1280000e+04\n",
      " 1.0725600e+05 7.7000000e+04 1.1124800e+05 9.0456000e+04 3.9504000e+04\n",
      " 8.5056000e+04 1.0997600e+05 8.5904000e+04 3.7048000e+04 5.8024000e+04\n",
      " 2.7048000e+04 3.7928000e+04 2.0400000e+04 1.6624000e+04 1.1600000e+04\n",
      " 7.2000000e+01 1.0800000e+03 6.7200000e+02 0.0000000e+00 8.0800000e+02]\n"
     ]
    },
    {
     "name": "stderr",
     "output_type": "stream",
     "text": [
      " 19%|█▉        | 2400/12535 [1:13:49<7:27:28,  2.65s/it] "
     ]
    },
    {
     "name": "stdout",
     "output_type": "stream",
     "text": [
      "[0.         0.         0.         0.         0.         0.\n",
      " 0.         0.         0.         0.         0.         0.\n",
      " 0.         0.         0.         0.         0.         0.\n",
      " 0.         0.         0.         0.         0.         0.\n",
      " 0.         0.         0.         0.         0.         0.\n",
      " 0.         0.         0.         0.00592767 0.00536086 0.\n",
      " 0.00535259 0.00555241 0.00622367 0.00617883 0.00591124 0.00541079\n",
      " 0.00635706 0.00584973 0.00647136 0.00658357 0.00876969 0.00891993\n",
      " 0.00831669 0.00778602 0.00861364 0.00874254 0.01116538 0.00745425\n",
      " 0.00759752 0.05488205 0.04046126 0.03491683 0.02950931 0.02425914\n",
      " 0.01674337 0.01480321 0.01783577 0.02244937 0.02144931 0.02206249\n",
      " 0.02362503 0.02672302 0.02882931 0.03127597 0.02900642 0.02731968\n",
      " 0.02849494 0.02247896 0.01926816 0.01905033 0.01894856 0.01661278\n",
      " 0.01655491 0.01798812 0.02021803 0.02154484 0.02268129 0.01946076\n",
      " 0.01742389 0.01577954 0.0150371  0.01504806 0.0159985  0.01356175\n",
      " 0.01009524 0.00861507 0.00894707 0.00703931 0.00370828 0.00281704\n",
      " 0.0018086  0.00127943 0.00084755 0.00050052] [0.0000000e+00 0.0000000e+00 0.0000000e+00 0.0000000e+00 0.0000000e+00\n",
      " 0.0000000e+00 0.0000000e+00 0.0000000e+00 0.0000000e+00 0.0000000e+00\n",
      " 0.0000000e+00 0.0000000e+00 0.0000000e+00 0.0000000e+00 0.0000000e+00\n",
      " 0.0000000e+00 0.0000000e+00 0.0000000e+00 0.0000000e+00 0.0000000e+00\n",
      " 0.0000000e+00 0.0000000e+00 0.0000000e+00 0.0000000e+00 0.0000000e+00\n",
      " 0.0000000e+00 0.0000000e+00 0.0000000e+00 0.0000000e+00 0.0000000e+00\n",
      " 0.0000000e+00 0.0000000e+00 0.0000000e+00 7.2328481e+03 3.0331035e+04\n",
      " 0.0000000e+00 2.1535098e+04 4.8100230e+04 1.5718602e+04 5.4548562e+04\n",
      " 7.2092453e+04 5.3912016e+04 4.2274062e+04 5.7653812e+04 1.3935428e+05\n",
      " 3.4681000e+04 4.1288962e+05 3.9012375e+05 4.1091688e+05 1.6565750e+05\n",
      " 5.9204225e+05 2.1738375e+05 3.0458025e+05 1.1388800e+05 3.4499625e+05\n",
      " 7.1565824e+07 1.2528449e+08 1.5989677e+08 1.7341741e+08 1.8199558e+08\n",
      " 1.5225344e+08 6.6144832e+07 8.0391808e+07 1.3773805e+08 1.2564659e+08\n",
      " 1.2921523e+08 1.0079360e+08 9.6313600e+07 1.0608909e+08 9.8524544e+07\n",
      " 1.1856128e+08 9.1030912e+07 1.4301171e+08 1.6616269e+08 1.1469363e+08\n",
      " 8.9982976e+07 8.8739328e+07 8.5687296e+07 7.2723968e+07 7.0333696e+07\n",
      " 7.0979072e+07 6.6945024e+07 8.6202624e+07 7.2240896e+07 6.4756992e+07\n",
      " 6.3804928e+07 6.6375936e+07 6.1222144e+07 6.2273536e+07 5.9523584e+07\n",
      " 3.9828736e+07 2.3794944e+07 1.8362880e+07 1.4869760e+07 4.8647680e+06\n",
      " 1.8790400e+06 8.4736000e+05 2.7468800e+05 1.7459200e+05 5.5296000e+04]\n"
     ]
    },
    {
     "name": "stderr",
     "output_type": "stream",
     "text": [
      " 20%|█▉        | 2500/12535 [1:16:48<3:37:17,  1.30s/it] "
     ]
    },
    {
     "name": "stdout",
     "output_type": "stream",
     "text": [
      "[0.03325632 0.03131842 0.03485675 0.03468518 0.03313169 0.03533209\n",
      " 0.         0.03497981 0.         0.         0.03849943 0.\n",
      " 0.03764468 0.03725138 0.03478559 0.03750452 0.0396075  0.03694376\n",
      " 0.03568561 0.03191206 0.03718606 0.03773586 0.03582072 0.03353164\n",
      " 0.03022148 0.03457456 0.03526139 0.03547259 0.03250473 0.03186669\n",
      " 0.03178269 0.03794843 0.03776453 0.04053561 0.0398114  0.03256314\n",
      " 0.0316257  0.02719161 0.02892585 0.02734574 0.02433077 0.02704651\n",
      " 0.02463872 0.02210118 0.01838257 0.02773647 0.02445395 0.02100259\n",
      " 0.01799466 0.01775581 0.01693074 0.01893965 0.02015892 0.02113034\n",
      " 0.0219607  0.02213823 0.02384621 0.02921894 0.02399258 0.02133767\n",
      " 0.01827903 0.01773352 0.01833241 0.01611237 0.01344956 0.01320187\n",
      " 0.01248959 0.01160315 0.00967897 0.00948083 0.00892038 0.00877556\n",
      " 0.01148576 0.00981386 0.00804381 0.00795685 0.00739625 0.00798286\n",
      " 0.00848451 0.00804519 0.00935145 0.00912664 0.00706378 0.00633724\n",
      " 0.00669798 0.00595437 0.00518442 0.00425362 0.00628719 0.00524342\n",
      " 0.00527102 0.00463641 0.00372474 0.00410858 0.00344839 0.00369785\n",
      " 0.00246873 0.00110093 0.00031093 0.00045311] [2.5206161e+05 3.9906766e+04 2.3034166e+05 5.2470656e+04 1.0218025e+05\n",
      " 1.2146925e+05 0.0000000e+00 1.7250906e+05 0.0000000e+00 0.0000000e+00\n",
      " 6.5631125e+04 0.0000000e+00 1.1203350e+05 3.0677100e+05 1.4842888e+05\n",
      " 3.6128025e+05 1.0539568e+06 1.8754188e+06 1.7212020e+06 1.2339550e+06\n",
      " 1.2500175e+06 1.2554750e+06 1.7446740e+06 1.5931050e+06 1.2433340e+06\n",
      " 1.4621220e+06 1.3716400e+06 1.2164940e+06 9.9446600e+05 1.5099040e+06\n",
      " 1.2557020e+06 1.3279520e+06 1.5540160e+06 2.0070200e+06 1.4998260e+06\n",
      " 1.1677800e+06 1.4354280e+06 1.0657040e+06 2.4846960e+06 4.5907800e+06\n",
      " 5.2221440e+06 5.1101400e+06 7.3472320e+06 7.4784240e+06 4.1548680e+06\n",
      " 2.9696640e+06 3.5005280e+06 4.5042880e+06 4.4522560e+06 5.2084880e+06\n",
      " 5.6697760e+06 5.7277760e+06 5.0854000e+06 2.5798240e+06 2.2824960e+06\n",
      " 2.3611920e+06 3.1422240e+06 2.4788880e+06 1.4291440e+06 2.9779600e+06\n",
      " 4.0491600e+06 5.5661440e+06 6.2152560e+06 6.8526080e+06 4.8060320e+06\n",
      " 3.6207840e+06 3.4129760e+06 3.1708320e+06 2.9584640e+06 2.7832000e+06\n",
      " 2.8490560e+06 3.0111200e+06 2.6719360e+06 2.5895680e+06 1.8889920e+06\n",
      " 1.5208800e+06 1.7247040e+06 1.6426880e+06 1.9329280e+06 1.4889440e+06\n",
      " 1.6074560e+06 1.4093280e+06 1.5144320e+06 9.9350400e+05 7.1121600e+05\n",
      " 6.3267200e+05 1.0485600e+06 5.5078400e+05 5.3984000e+05 4.6230400e+05\n",
      " 2.9958400e+05 4.8627200e+05 2.6176000e+05 2.6844800e+05 1.7798400e+05\n",
      " 1.7155200e+05 7.1600000e+04 2.3104000e+04 3.8560000e+03 6.4480000e+03]\n"
     ]
    },
    {
     "name": "stderr",
     "output_type": "stream",
     "text": [
      " 21%|██        | 2600/12535 [1:19:38<6:30:04,  2.36s/it]"
     ]
    },
    {
     "name": "stdout",
     "output_type": "stream",
     "text": [
      "[0.01807708 0.01795384 0.01803365 0.01855319 0.02522303 0.02670039\n",
      " 0.02479576 0.02751392 0.02754554 0.02878059 0.02810974 0.02682075\n",
      " 0.02662684 0.03279663 0.03373383 0.03325949 0.03635767 0.03607332\n",
      " 0.03547106 0.03245948 0.03096016 0.03150517 0.03187019 0.03171292\n",
      " 0.03017678 0.02977816 0.0294136  0.0281342  0.02768471 0.02066347\n",
      " 0.01605402 0.01695653 0.01745906 0.0153801  0.01174692 0.01069551\n",
      " 0.00995496 0.00964681 0.00941586 0.00936468 0.00950416 0.00931978\n",
      " 0.01007618 0.01079126 0.01067366 0.01171952 0.01180937 0.01187935\n",
      " 0.01166897 0.01216863 0.01214241 0.01187676 0.01369643 0.01392373\n",
      " 0.01170917 0.01115191 0.01215301 0.01629278 0.0179909  0.02118398\n",
      " 0.02074654 0.01675696 0.01694257 0.01990068 0.01942176 0.01809032\n",
      " 0.02015915 0.02357795 0.02619986 0.02852148 0.02789971 0.02697867\n",
      " 0.0254203  0.02618999 0.02637364 0.02325804 0.01838066 0.01921558\n",
      " 0.01915507 0.01939492 0.02331502 0.02766608 0.02288898 0.02289495\n",
      " 0.02097456 0.01711555 0.01682461 0.01807013 0.0149496  0.0127518\n",
      " 0.0114069  0.01007373 0.0101587  0.00899299 0.00679668 0.00525712\n",
      " 0.00361081 0.00259652 0.00157623 0.00079582] [3.9947092e+06 3.7673275e+06 6.3771085e+06 7.0601660e+06 1.3479876e+07\n",
      " 2.0188928e+07 2.4881084e+07 2.3379936e+07 3.1389088e+07 2.8773296e+07\n",
      " 3.5836896e+07 3.9839056e+07 4.0429040e+07 6.6196128e+07 8.7833760e+07\n",
      " 7.8272640e+07 8.6105760e+07 1.1144595e+08 1.3172794e+08 1.1950400e+08\n",
      " 1.1809203e+08 1.2355430e+08 1.2437722e+08 1.3126912e+08 1.0961421e+08\n",
      " 1.0022349e+08 1.0391117e+08 1.1053402e+08 1.3564122e+08 1.4564301e+08\n",
      " 6.9758464e+07 7.2466176e+07 7.1424512e+07 6.7394304e+07 4.2404864e+07\n",
      " 2.9896192e+07 1.7353728e+07 1.0331392e+07 6.1706240e+06 5.4115840e+06\n",
      " 4.9692160e+06 3.4135040e+06 5.5354880e+06 7.6600320e+06 8.9098240e+06\n",
      " 1.1217664e+07 1.6329728e+07 1.8755840e+07 2.3642624e+07 2.8046592e+07\n",
      " 3.3630720e+07 3.5050496e+07 5.2416000e+07 7.2909056e+07 6.7318784e+07\n",
      " 6.5526784e+07 1.0232499e+08 1.4728013e+08 1.2248755e+08 1.5874739e+08\n",
      " 3.0251059e+08 2.2118093e+08 1.4410573e+08 1.4875827e+08 1.3621606e+08\n",
      " 1.5752243e+08 1.9999334e+08 2.7828634e+08 4.1726208e+08 9.4267034e+08\n",
      " 1.3129887e+09 1.2876590e+09 9.4526362e+08 9.9667866e+08 1.1465871e+09\n",
      " 1.2393257e+09 8.1581056e+08 7.4375987e+08 7.7267456e+08 7.1749120e+08\n",
      " 8.9189478e+08 1.3565850e+09 1.3748306e+09 1.3028680e+09 1.1567124e+09\n",
      " 8.6037914e+08 7.1141990e+08 8.8395981e+08 7.2376525e+08 5.2550451e+08\n",
      " 4.2804838e+08 3.0633574e+08 2.3955661e+08 1.9343770e+08 1.0214810e+08\n",
      " 5.3260288e+07 2.3484416e+07 1.1827200e+07 4.9623040e+06 1.4766080e+06]\n"
     ]
    },
    {
     "name": "stderr",
     "output_type": "stream",
     "text": [
      " 22%|██▏       | 2700/12535 [1:22:23<3:25:41,  1.25s/it]"
     ]
    },
    {
     "name": "stdout",
     "output_type": "stream",
     "text": [
      "[0.         0.         0.         0.         0.         0.\n",
      " 0.         0.         0.         0.         0.         0.\n",
      " 0.         0.         0.         0.         0.         0.\n",
      " 0.         0.         0.         0.         0.         0.\n",
      " 0.         0.         0.         0.         0.         0.\n",
      " 0.         0.         0.         0.         0.         0.\n",
      " 0.         0.         0.         0.         0.         0.\n",
      " 0.         0.         0.         0.03533198 0.03718184 0.03918244\n",
      " 0.         0.03927885 0.03862426 0.04011403 0.0482458  0.05297539\n",
      " 0.06010484 0.05365728 0.04573813 0.04038555 0.04526991 0.06271272\n",
      " 0.07233924 0.06219938 0.05747745 0.05269029 0.04394892 0.03644959\n",
      " 0.02747005 0.02457079 0.02875784 0.03675468 0.03870908 0.04728099\n",
      " 0.04980284 0.0462372  0.0453888  0.04355463 0.03388264 0.02816575\n",
      " 0.02332332 0.02145373 0.02102998 0.01717294 0.01396344 0.01396011\n",
      " 0.01459408 0.01485743 0.01428001 0.0130609  0.00945452 0.00863318\n",
      " 0.01233325 0.01122973 0.00637621 0.00527562 0.00249746 0.00273395\n",
      " 0.00208201 0.00226906 0.         0.00080541] [0.0000000e+00 0.0000000e+00 0.0000000e+00 0.0000000e+00 0.0000000e+00\n",
      " 0.0000000e+00 0.0000000e+00 0.0000000e+00 0.0000000e+00 0.0000000e+00\n",
      " 0.0000000e+00 0.0000000e+00 0.0000000e+00 0.0000000e+00 0.0000000e+00\n",
      " 0.0000000e+00 0.0000000e+00 0.0000000e+00 0.0000000e+00 0.0000000e+00\n",
      " 0.0000000e+00 0.0000000e+00 0.0000000e+00 0.0000000e+00 0.0000000e+00\n",
      " 0.0000000e+00 0.0000000e+00 0.0000000e+00 0.0000000e+00 0.0000000e+00\n",
      " 0.0000000e+00 0.0000000e+00 0.0000000e+00 0.0000000e+00 0.0000000e+00\n",
      " 0.0000000e+00 0.0000000e+00 0.0000000e+00 0.0000000e+00 0.0000000e+00\n",
      " 0.0000000e+00 0.0000000e+00 0.0000000e+00 0.0000000e+00 0.0000000e+00\n",
      " 1.2857391e+05 5.2127953e+05 8.2714750e+04 0.0000000e+00 2.9574369e+05\n",
      " 5.5493125e+05 1.8141576e+06 4.5084660e+06 2.6760025e+06 2.1346730e+06\n",
      " 5.4119120e+06 8.5081440e+06 7.0605260e+06 4.0634680e+06 4.6945720e+06\n",
      " 3.0633320e+06 4.3442160e+06 4.8067000e+06 6.4895960e+06 6.5032480e+06\n",
      " 8.9571840e+06 1.2201064e+07 6.9274480e+06 3.4868160e+06 6.0145760e+06\n",
      " 5.8028000e+06 6.7061840e+06 5.5383440e+06 4.1484400e+06 5.2184480e+06\n",
      " 7.5594000e+06 8.3059200e+06 6.8876000e+06 4.3478720e+06 4.0324000e+06\n",
      " 3.5613600e+06 3.8971200e+06 3.2736480e+06 1.1861760e+06 9.2107200e+05\n",
      " 1.5194080e+06 1.5681120e+06 1.7498080e+06 1.7287200e+06 5.7971200e+05\n",
      " 3.0555200e+05 6.8601600e+05 3.8897600e+05 1.2628800e+05 4.4096000e+04\n",
      " 3.2048000e+04 1.0080000e+04 4.4960000e+03 0.0000000e+00 3.1200000e+03]\n"
     ]
    },
    {
     "name": "stderr",
     "output_type": "stream",
     "text": [
      " 22%|██▏       | 2800/12535 [1:25:20<5:44:42,  2.12s/it]"
     ]
    },
    {
     "name": "stdout",
     "output_type": "stream",
     "text": [
      "[0.02058675 0.02487743 0.02375156 0.02276478 0.02363324 0.02377575\n",
      " 0.02403666 0.02508822 0.02811657 0.03681923 0.03841009 0.04133828\n",
      " 0.04054993 0.03836296 0.03732334 0.0329827  0.02776623 0.02904367\n",
      " 0.03818979 0.03771093 0.03498261 0.03417183 0.03193919 0.0264897\n",
      " 0.02237189 0.02134723 0.02031306 0.02002458 0.01950474 0.01687258\n",
      " 0.01700398 0.02024109 0.02089932 0.01964442 0.02121435 0.02142129\n",
      " 0.02150617 0.02184231 0.02202293 0.02018838 0.02625889 0.03223036\n",
      " 0.03296703 0.02890645 0.02619676 0.02390898 0.0197293  0.01624686\n",
      " 0.0166563  0.01998499 0.02493347 0.02459652 0.02119772 0.02155404\n",
      " 0.01909109 0.01689403 0.01693124 0.01720984 0.01630558 0.01860533\n",
      " 0.0158171  0.01411019 0.01494835 0.01539171 0.01346311 0.01168211\n",
      " 0.01176881 0.01299168 0.01198509 0.01201119 0.0098064  0.01122695\n",
      " 0.01159119 0.01148213 0.0115995  0.00931948 0.01202196 0.01094359\n",
      " 0.01018449 0.0090749  0.00939308 0.00828339 0.00727944 0.0062474\n",
      " 0.00547808 0.00563677 0.006063   0.00615949 0.00510445 0.00456546\n",
      " 0.00353008 0.00298329 0.00364929 0.00235991 0.00173355 0.00198038\n",
      " 0.00121334 0.00095381 0.00043303 0.00022596] [1.3574544e+07 1.6471825e+07 1.6136598e+07 1.3625340e+07 1.9070248e+07\n",
      " 1.8755320e+07 1.5960704e+07 1.3546192e+07 1.2600368e+07 1.8900176e+07\n",
      " 2.1881104e+07 3.2518064e+07 5.9067744e+07 7.0440064e+07 9.3905408e+07\n",
      " 1.0504931e+08 1.0641216e+08 5.2184256e+07 3.8266112e+07 3.9307456e+07\n",
      " 3.9890880e+07 4.4491776e+07 4.8899840e+07 6.2842624e+07 6.9614976e+07\n",
      " 7.3353216e+07 6.9903744e+07 5.2206976e+07 4.2870144e+07 2.8859136e+07\n",
      " 2.0562688e+07 1.9025280e+07 2.2825600e+07 2.6448768e+07 2.9438208e+07\n",
      " 2.4791040e+07 2.4216448e+07 2.5923072e+07 2.2457216e+07 1.6028032e+07\n",
      " 1.8121856e+07 2.3317248e+07 2.9287168e+07 3.2430336e+07 4.7394304e+07\n",
      " 5.3275648e+07 3.1862400e+07 2.1185408e+07 1.8580864e+07 1.3794304e+07\n",
      " 1.4948608e+07 1.6011776e+07 1.6570368e+07 1.9544960e+07 1.7609984e+07\n",
      " 1.9672832e+07 2.1716096e+07 1.9351040e+07 1.7654912e+07 1.7416448e+07\n",
      " 1.5102464e+07 1.6496640e+07 1.3030272e+07 1.5902336e+07 1.6136832e+07\n",
      " 1.4334208e+07 1.1247872e+07 1.0324992e+07 9.5773440e+06 8.9004800e+06\n",
      " 7.5685120e+06 8.0494080e+06 8.1477120e+06 1.0240768e+07 9.2444160e+06\n",
      " 6.8111360e+06 7.1874560e+06 5.8147840e+06 6.8426240e+06 6.4253440e+06\n",
      " 6.0101120e+06 4.7216640e+06 5.0813440e+06 3.5742720e+06 2.5361920e+06\n",
      " 2.1112320e+06 1.8908160e+06 1.9023360e+06 1.1174400e+06 1.2014080e+06\n",
      " 8.7296000e+05 6.0467200e+05 6.7942400e+05 4.4313600e+05 2.5958400e+05\n",
      " 1.3952000e+05 1.6435200e+05 7.1424000e+04 2.6112000e+04 5.1200000e+03]\n"
     ]
    },
    {
     "name": "stderr",
     "output_type": "stream",
     "text": [
      " 23%|██▎       | 2900/12535 [1:28:16<3:27:47,  1.29s/it] "
     ]
    },
    {
     "name": "stdout",
     "output_type": "stream",
     "text": [
      "[0.00000000e+00 0.00000000e+00 0.00000000e+00 0.00000000e+00\n",
      " 0.00000000e+00 3.53025794e-02 3.72281931e-02 4.19247337e-02\n",
      " 4.59896736e-02 4.56131734e-02 4.40880172e-02 4.99734208e-02\n",
      " 5.33004627e-02 5.77367879e-02 5.43800853e-02 4.67119291e-02\n",
      " 4.18765284e-02 3.53528522e-02 3.82238589e-02 4.34552059e-02\n",
      " 4.22522910e-02 4.25956063e-02 3.94564010e-02 4.26746607e-02\n",
      " 4.58893031e-02 4.52447794e-02 4.11547832e-02 3.56511101e-02\n",
      " 3.47755402e-02 3.88023183e-02 3.74105386e-02 4.02807370e-02\n",
      " 4.39279750e-02 5.66028468e-02 5.88231981e-02 5.61008304e-02\n",
      " 5.60096987e-02 5.10565154e-02 4.72610258e-02 4.30614203e-02\n",
      " 4.09332328e-02 3.59157622e-02 3.36676463e-02 3.50385457e-02\n",
      " 3.95867229e-02 4.59092334e-02 5.50887883e-02 5.69470190e-02\n",
      " 5.08871675e-02 4.51745726e-02 3.91612761e-02 3.12554166e-02\n",
      " 2.78371368e-02 2.71496437e-02 3.03352810e-02 3.70150246e-02\n",
      " 4.66633886e-02 4.29703295e-02 3.78451981e-02 3.46534587e-02\n",
      " 3.64346243e-02 3.33770066e-02 3.37166339e-02 3.46588902e-02\n",
      " 3.21844518e-02 3.54240462e-02 3.57364789e-02 4.68394384e-02\n",
      " 4.34211344e-02 3.93757112e-02 3.19928676e-02 2.35865451e-02\n",
      " 1.83434747e-02 1.55570572e-02 1.27399284e-02 1.53127983e-02\n",
      " 1.29478239e-02 1.15817720e-02 1.18080406e-02 1.04071312e-02\n",
      " 9.17037297e-03 9.23482049e-03 9.52975918e-03 8.77657626e-03\n",
      " 9.41655505e-03 7.02165579e-03 5.24616567e-03 5.14578167e-03\n",
      " 5.32195298e-03 4.32034768e-03 3.39226471e-03 2.22252565e-03\n",
      " 3.19303013e-03 2.17609131e-03 2.37117242e-03 1.16619596e-03\n",
      " 3.80464859e-04 1.32230856e-03 1.31226471e-03 7.67813253e-05] [0.0000000e+00 0.0000000e+00 0.0000000e+00 0.0000000e+00 0.0000000e+00\n",
      " 7.3469117e+04 5.0532650e+05 2.9234494e+05 4.5526381e+05 2.0222362e+05\n",
      " 5.7973625e+05 2.7900600e+05 3.3100525e+05 9.0840175e+05 1.9262892e+06\n",
      " 2.4782105e+06 2.0688150e+06 1.4578730e+06 1.0904350e+06 4.0126800e+06\n",
      " 4.5896600e+06 5.4819100e+06 6.1766880e+06 7.6790380e+06 6.8249800e+06\n",
      " 5.2833800e+06 5.6196600e+06 6.5118800e+06 7.9241000e+06 4.9433680e+06\n",
      " 6.3971520e+06 5.6326160e+06 4.5983440e+06 6.5383840e+06 1.0567816e+07\n",
      " 6.8562720e+06 7.6066080e+06 1.1290296e+07 1.7523040e+07 2.2439760e+07\n",
      " 3.0204928e+07 2.7143040e+07 2.7165984e+07 2.5797392e+07 1.3531104e+07\n",
      " 1.3430400e+07 1.0947808e+07 1.0803584e+07 1.5544448e+07 1.5509568e+07\n",
      " 2.0032768e+07 2.1610272e+07 1.5790528e+07 1.5595520e+07 1.0065792e+07\n",
      " 6.5792320e+06 4.3785280e+06 5.6563200e+06 4.7305600e+06 6.1765440e+06\n",
      " 6.9336640e+06 6.0684160e+06 5.8621760e+06 6.4445440e+06 5.3872960e+06\n",
      " 4.7096640e+06 6.0292160e+06 6.5121600e+06 8.5413440e+06 8.2892160e+06\n",
      " 1.4846656e+07 1.6493632e+07 1.5235136e+07 1.1448640e+07 4.2132480e+06\n",
      " 2.1329920e+06 1.4296320e+06 1.4979200e+06 1.1150720e+06 1.2340480e+06\n",
      " 7.8329600e+05 7.4880000e+05 9.2652800e+05 8.5049600e+05 7.1788800e+05\n",
      " 5.6908800e+05 6.8928000e+05 3.1852800e+05 2.0934400e+05 3.4028800e+05\n",
      " 1.4028800e+05 7.2896000e+04 5.5872000e+04 4.6144000e+04 3.2512000e+04\n",
      " 2.5792000e+04 2.8160000e+03 1.0112000e+04 9.2800000e+03 6.4000000e+01]\n"
     ]
    },
    {
     "name": "stderr",
     "output_type": "stream",
     "text": [
      " 24%|██▍       | 3000/12535 [1:31:30<6:38:17,  2.51s/it] "
     ]
    },
    {
     "name": "stdout",
     "output_type": "stream",
     "text": [
      "[1.58231501e-02 1.53070567e-02 1.55163147e-02 1.34508470e-02\n",
      " 1.45843057e-02 1.36264525e-02 1.33200446e-02 1.16185015e-02\n",
      " 1.09457569e-02 9.17273294e-03 1.37940440e-02 1.59299131e-02\n",
      " 1.38426386e-02 1.64691620e-02 1.53182112e-02 1.73282698e-02\n",
      " 1.64153967e-02 1.08742546e-02 1.23955319e-02 1.23730833e-02\n",
      " 1.15995472e-02 1.43238558e-02 1.59003846e-02 1.22996951e-02\n",
      " 1.49897421e-02 1.02632120e-02 1.31835425e-02 1.61914900e-02\n",
      " 1.78735182e-02 1.66870169e-02 1.58937946e-02 1.36441588e-02\n",
      " 1.41970180e-02 1.60450339e-02 1.25171142e-02 1.13220848e-02\n",
      " 1.31890140e-02 1.32288150e-02 1.39404349e-02 1.17942961e-02\n",
      " 1.66113023e-02 1.57900658e-02 1.72681846e-02 1.26652224e-02\n",
      " 1.24587007e-02 9.78007540e-03 9.07451194e-03 8.76235031e-03\n",
      " 1.15623362e-02 1.50028104e-02 1.32269971e-02 1.21870413e-02\n",
      " 1.12212999e-02 1.23738619e-02 1.08200386e-02 9.51549504e-03\n",
      " 9.31854546e-03 9.06045735e-03 8.78251344e-03 1.07445717e-02\n",
      " 7.89825805e-03 8.46423302e-03 1.02836238e-02 1.01639926e-02\n",
      " 9.32863820e-03 7.54085463e-03 7.41599780e-03 8.31605867e-03\n",
      " 1.13095203e-02 9.00494866e-03 7.55159790e-03 6.10613311e-03\n",
      " 5.92623372e-03 6.62575429e-03 6.48471899e-03 5.88592375e-03\n",
      " 6.08735345e-03 4.99048317e-03 4.37159231e-03 5.92533126e-03\n",
      " 5.11514209e-03 4.86634020e-03 4.24239365e-03 4.43233876e-03\n",
      " 5.46538644e-03 6.11730153e-03 3.75838229e-03 3.23496596e-03\n",
      " 3.14109749e-03 3.13779060e-03 2.53457599e-03 2.94104265e-03\n",
      " 2.64045061e-03 1.73131959e-03 1.93157454e-03 1.69437169e-03\n",
      " 1.40961620e-03 5.78327395e-04 4.31812106e-04 1.61415282e-05] [1.4964411e+06 1.3716274e+06 1.4708275e+06 7.3778950e+05 1.3516800e+06\n",
      " 1.1231315e+06 1.3044130e+06 1.5534520e+06 1.9046570e+06 1.5992720e+06\n",
      " 1.3401260e+06 1.0065360e+06 1.2625390e+06 1.4072960e+06 1.2908100e+06\n",
      " 1.1311140e+06 1.3075040e+06 8.1749200e+05 1.4094160e+06 9.3106400e+05\n",
      " 1.6727000e+06 1.0977400e+06 9.8040200e+05 9.2097600e+05 1.0275720e+06\n",
      " 9.4458600e+05 6.4830800e+05 7.5354000e+05 4.5029600e+05 1.0018960e+06\n",
      " 1.0782920e+06 1.1989360e+06 9.2584000e+05 1.3291840e+06 1.5599280e+06\n",
      " 1.1871400e+06 1.5808280e+06 9.9347600e+05 1.1090680e+06 1.6342600e+06\n",
      " 9.0771600e+05 1.0327360e+06 1.3259800e+06 1.0355280e+06 1.3758360e+06\n",
      " 1.5440840e+06 1.7650840e+06 1.2832320e+06 8.0426800e+05 9.0356000e+05\n",
      " 8.7759200e+05 8.0337600e+05 1.3982120e+06 1.7186720e+06 1.8776800e+06\n",
      " 1.5027040e+06 9.1616000e+05 9.0070400e+05 1.5193360e+06 1.6290160e+06\n",
      " 1.2709760e+06 1.2196080e+06 1.2618720e+06 1.3227280e+06 1.7117840e+06\n",
      " 1.8674640e+06 1.3438880e+06 9.6432000e+05 8.0327200e+05 8.1183200e+05\n",
      " 1.2004880e+06 8.7269600e+05 7.8692800e+05 1.0367200e+06 8.8253600e+05\n",
      " 6.4426400e+05 5.2804800e+05 7.0073600e+05 3.9820800e+05 6.0900800e+05\n",
      " 5.4991200e+05 4.2600800e+05 3.9750400e+05 2.5100000e+05 2.8076800e+05\n",
      " 4.7301600e+05 3.6285600e+05 2.3652000e+05 2.1636000e+05 2.0960000e+05\n",
      " 1.7433600e+05 1.6757600e+05 1.6514400e+05 8.2864000e+04 6.5968000e+04\n",
      " 5.3512000e+04 3.8592000e+04 1.1384000e+04 7.0160000e+03 1.9200000e+02]\n"
     ]
    },
    {
     "name": "stderr",
     "output_type": "stream",
     "text": [
      " 25%|██▍       | 3100/12535 [1:34:38<6:07:26,  2.34s/it]"
     ]
    },
    {
     "name": "stdout",
     "output_type": "stream",
     "text": [
      "[0.         0.         0.         0.         0.         0.\n",
      " 0.         0.         0.         0.         0.         0.\n",
      " 0.         0.         0.         0.         0.         0.\n",
      " 0.         0.         0.         0.         0.         0.\n",
      " 0.         0.         0.         0.         0.         0.\n",
      " 0.         0.         0.         0.         0.         0.00299554\n",
      " 0.         0.         0.         0.         0.         0.\n",
      " 0.         0.         0.         0.         0.01162246 0.01258294\n",
      " 0.01673329 0.01688362 0.01719558 0.01661852 0.01561382 0.01402288\n",
      " 0.01295322 0.01154381 0.01115537 0.00971845 0.00940038 0.0083879\n",
      " 0.0066875  0.00610077 0.00572151 0.00658143 0.00652276 0.00737746\n",
      " 0.01459293 0.03235852 0.03025717 0.03218816 0.0363575  0.03831517\n",
      " 0.035649   0.03735292 0.0404062  0.03926585 0.03745592 0.0356489\n",
      " 0.02953458 0.02421494 0.01750332 0.01468573 0.0151084  0.01489719\n",
      " 0.0142167  0.01226648 0.01340558 0.01416308 0.01195096 0.01082136\n",
      " 0.00810556 0.00656637 0.00546716 0.00455249 0.00390051 0.00335404\n",
      " 0.00237695 0.00162557 0.00098133 0.00120406] [0.0000000e+00 0.0000000e+00 0.0000000e+00 0.0000000e+00 0.0000000e+00\n",
      " 0.0000000e+00 0.0000000e+00 0.0000000e+00 0.0000000e+00 0.0000000e+00\n",
      " 0.0000000e+00 0.0000000e+00 0.0000000e+00 0.0000000e+00 0.0000000e+00\n",
      " 0.0000000e+00 0.0000000e+00 0.0000000e+00 0.0000000e+00 0.0000000e+00\n",
      " 0.0000000e+00 0.0000000e+00 0.0000000e+00 0.0000000e+00 0.0000000e+00\n",
      " 0.0000000e+00 0.0000000e+00 0.0000000e+00 0.0000000e+00 0.0000000e+00\n",
      " 0.0000000e+00 0.0000000e+00 0.0000000e+00 0.0000000e+00 0.0000000e+00\n",
      " 7.5594287e+03 0.0000000e+00 0.0000000e+00 0.0000000e+00 0.0000000e+00\n",
      " 0.0000000e+00 0.0000000e+00 0.0000000e+00 0.0000000e+00 0.0000000e+00\n",
      " 0.0000000e+00 5.2718266e+04 2.5343369e+05 4.0708162e+05 1.8941735e+06\n",
      " 2.7339075e+06 5.8316480e+06 8.8521420e+06 1.1575500e+07 1.5183220e+07\n",
      " 1.6492864e+07 2.5294024e+07 1.3494024e+07 1.2943720e+07 1.4235208e+07\n",
      " 1.2464120e+07 4.7307200e+06 2.1497440e+06 1.6187520e+06 2.0158880e+06\n",
      " 7.3476800e+05 6.2408000e+06 1.8830179e+08 1.8614294e+08 1.7210022e+08\n",
      " 1.5738598e+08 1.9554918e+08 2.0330784e+08 1.2850970e+08 1.2849152e+08\n",
      " 1.8649318e+08 2.6046400e+08 2.6059814e+08 2.2003584e+08 2.7337523e+08\n",
      " 1.8942106e+08 1.0509747e+08 9.3902080e+07 8.7072256e+07 8.4804096e+07\n",
      " 5.1864576e+07 4.8102144e+07 5.8914304e+07 3.1521792e+07 2.4385280e+07\n",
      " 1.8749440e+07 8.9848320e+06 4.9640960e+06 3.0748160e+06 1.6522240e+06\n",
      " 1.1156480e+06 5.5347200e+05 2.6854400e+05 9.2160000e+04 1.1110400e+05]\n"
     ]
    },
    {
     "name": "stderr",
     "output_type": "stream",
     "text": [
      " 26%|██▌       | 3200/12535 [1:37:30<4:22:46,  1.69s/it]"
     ]
    },
    {
     "name": "stdout",
     "output_type": "stream",
     "text": [
      "[0.0270513  0.02432231 0.02587084 0.02794319 0.02633159 0.0268108\n",
      " 0.02864618 0.02867513 0.02558346 0.02393506 0.02164466 0.02300522\n",
      " 0.02005611 0.01996256 0.01952094 0.01983694 0.01870711 0.01938538\n",
      " 0.02085395 0.02335124 0.0228687  0.02131072 0.02157948 0.02235576\n",
      " 0.0219148  0.02189363 0.02579645 0.0261034  0.02417173 0.02110641\n",
      " 0.01741256 0.01452529 0.01281129 0.01085729 0.0102894  0.01003743\n",
      " 0.01145039 0.01102098 0.0098975  0.0105244  0.00968603 0.00948919\n",
      " 0.00850198 0.01369083 0.01228899 0.01376215 0.01576805 0.01451922\n",
      " 0.0165944  0.0156156  0.02029287 0.03200034 0.02715479 0.0221157\n",
      " 0.02882488 0.0205542  0.03582985 0.03136538 0.02366995 0.02374578\n",
      " 0.01726819 0.01392176 0.0122287  0.010592   0.00990238 0.00735553\n",
      " 0.01099486 0.00950363 0.01072403 0.01166539 0.0104224  0.00777542\n",
      " 0.00657429 0.00696476 0.01015899 0.00673316 0.00838517 0.00801957\n",
      " 0.00778395 0.0077082  0.00667475 0.00987489 0.00904624 0.00760322\n",
      " 0.00690311 0.00604389 0.00461069 0.00519587 0.00422224 0.00236189\n",
      " 0.00270191 0.00213609 0.0016457  0.00230654 0.00168045 0.00111673\n",
      " 0.00078637 0.00040008 0.00142271 0.00100972] [ 952376.4  876572.5  613260.1  565502.5  297789.  1115979.  1186089.\n",
      " 1312654.   944740.5 1094385.  1931454.  1910448.  1750249.  1241436.\n",
      " 1151227.   973356.  1045296.  1171456.   845632.   639250.  1304318.\n",
      " 1190576.   932242.  1084926.  1082402.  1392670.  1883968.  1253528.\n",
      " 2246778.  2055752.  2244064.  2502184.  2621660.  2330784.  2131588.\n",
      " 1758116.  1215068.  1249224.   864532.   946316.  1115236.  1137636.\n",
      "  699016.   726272.   949448.   856736.   768932.   603888.   413920.\n",
      "  797824.   367612.   509212.   603276.   808332.   867628.   864384.\n",
      " 1474360.  1200480.  1716040.  1949984.  2597016.  3567400.  3120272.\n",
      " 3089792.  2327976.  2474544.  1897936.  1273896.  1796624.  1515352.\n",
      " 1996624.  1714536.  1259072.  1366064.   797224.   628288.   814160.\n",
      "  761880.   630400.   720696.   318816.   429720.   636128.   487256.\n",
      "  593520.   470208.   429456.   353624.   397808.   203576.   205552.\n",
      "  135080.   101832.    65336.    50368.    26976.     9224.     6584.\n",
      "    8240.     4872. ]\n"
     ]
    },
    {
     "name": "stderr",
     "output_type": "stream",
     "text": [
      " 26%|██▋       | 3300/12535 [1:40:41<4:02:27,  1.58s/it] "
     ]
    },
    {
     "name": "stdout",
     "output_type": "stream",
     "text": [
      "[0.         0.         0.         0.         0.         0.\n",
      " 0.         0.         0.         0.         0.         0.\n",
      " 0.         0.         0.         0.         0.         0.\n",
      " 0.         0.         0.         0.02791498 0.02654456 0.02683667\n",
      " 0.02477961 0.         0.02851117 0.         0.03117319 0.03523517\n",
      " 0.03427597 0.         0.03755793 0.04134421 0.04134204 0.04143884\n",
      " 0.03304413 0.03017397 0.02709296 0.03151767 0.03375351 0.02747662\n",
      " 0.03377272 0.02874925 0.03109209 0.03021273 0.03684318 0.03589875\n",
      " 0.03174508 0.03275464 0.0429732  0.03694668 0.0292691  0.02078801\n",
      " 0.03376076 0.03133522 0.0324658  0.0264115  0.02621021 0.01968743\n",
      " 0.01440167 0.01307668 0.01009906 0.0143069  0.01279084 0.01410588\n",
      " 0.01192495 0.01491394 0.01247099 0.01158025 0.01070125 0.00819685\n",
      " 0.00958839 0.00952228 0.007589   0.00723668 0.00766646 0.00965868\n",
      " 0.00841917 0.00798229 0.01069201 0.01195455 0.00868503 0.00702771\n",
      " 0.00614197 0.00516492 0.00459118 0.00497589 0.00570948 0.00440682\n",
      " 0.00344258 0.00312447 0.00251482 0.00198705 0.00091439 0.00127544\n",
      " 0.00035243 0.00067402 0.00010948 0.        ] [0.0000000e+00 0.0000000e+00 0.0000000e+00 0.0000000e+00 0.0000000e+00\n",
      " 0.0000000e+00 0.0000000e+00 0.0000000e+00 0.0000000e+00 0.0000000e+00\n",
      " 0.0000000e+00 0.0000000e+00 0.0000000e+00 0.0000000e+00 0.0000000e+00\n",
      " 0.0000000e+00 0.0000000e+00 0.0000000e+00 0.0000000e+00 0.0000000e+00\n",
      " 0.0000000e+00 3.3893324e+04 1.1177891e+05 2.8414219e+04 3.7926203e+04\n",
      " 0.0000000e+00 6.6287219e+04 0.0000000e+00 4.6315969e+04 6.4291500e+04\n",
      " 5.3437812e+04 0.0000000e+00 9.8481594e+04 5.7612500e+04 1.4555762e+05\n",
      " 1.6557212e+05 4.5939700e+05 3.6875625e+05 3.2068850e+05 2.8339025e+05\n",
      " 4.4560600e+05 3.7116800e+05 4.3424450e+05 4.8605550e+05 5.5999250e+05\n",
      " 5.5268900e+05 1.0572525e+06 6.6632450e+05 4.8610650e+05 5.5600250e+05\n",
      " 5.8039950e+05 1.1497240e+06 1.2506400e+06 8.0816200e+05 1.3510290e+06\n",
      " 1.2501720e+06 2.0202520e+06 2.2860510e+06 2.7446440e+06 3.8697540e+06\n",
      " 5.2679960e+06 4.6975300e+06 3.9837120e+06 2.5349720e+06 2.1434840e+06\n",
      " 3.2919040e+06 2.9599520e+06 2.9032520e+06 3.4811640e+06 3.4442960e+06\n",
      " 3.2226640e+06 2.8675160e+06 1.8541600e+06 1.6882080e+06 1.5460400e+06\n",
      " 1.4123360e+06 1.2901280e+06 1.4614240e+06 1.2744800e+06 1.0908640e+06\n",
      " 1.0995040e+06 1.2292320e+06 1.3572640e+06 1.2632160e+06 7.2465600e+05\n",
      " 7.1161600e+05 4.3976800e+05 6.1029600e+05 4.3204800e+05 6.1947200e+05\n",
      " 3.1128800e+05 1.8866400e+05 8.8944000e+04 6.6360000e+04 2.6648000e+04\n",
      " 6.0000000e+03 4.2320000e+03 1.4080000e+03 8.5600000e+02 0.0000000e+00]\n"
     ]
    },
    {
     "name": "stderr",
     "output_type": "stream",
     "text": [
      " 27%|██▋       | 3400/12535 [1:44:23<7:51:35,  3.10s/it] "
     ]
    },
    {
     "name": "stdout",
     "output_type": "stream",
     "text": [
      "[0.01980241 0.01903129 0.02341077 0.03246251 0.02926256 0.03090257\n",
      " 0.03207024 0.02884764 0.02799904 0.02667308 0.02474383 0.02316461\n",
      " 0.02119068 0.019115   0.02024567 0.02168893 0.02329361 0.0225039\n",
      " 0.02416559 0.0243067  0.02258296 0.02469908 0.0220478  0.02174428\n",
      " 0.0224115  0.01925772 0.01771821 0.02010841 0.02219446 0.02929637\n",
      " 0.03431216 0.03466034 0.03729139 0.0375093  0.04238118 0.0311068\n",
      " 0.03818642 0.03121824 0.03438926 0.03117681 0.02808287 0.02388165\n",
      " 0.02068218 0.016856   0.01697602 0.01680095 0.01709246 0.01837455\n",
      " 0.02054767 0.02010393 0.02005037 0.01932149 0.01331428 0.02041212\n",
      " 0.02945915 0.03109677 0.03998655 0.03742358 0.03970387 0.03512608\n",
      " 0.0295526  0.02313918 0.0220606  0.0201166  0.02100981 0.02173772\n",
      " 0.02192274 0.02739737 0.02995366 0.02877902 0.02583308 0.0270892\n",
      " 0.02515412 0.02102499 0.01858146 0.0146007  0.01510818 0.01323761\n",
      " 0.01431727 0.01421269 0.01312346 0.01072201 0.01115207 0.01035584\n",
      " 0.00911849 0.00702678 0.00703176 0.00571981 0.00408895 0.00490821\n",
      " 0.00395847 0.00384825 0.00309977 0.00258729 0.00282724 0.00179651\n",
      " 0.00134549 0.0011425  0.00073869 0.00050923] [2.0433956e+06 2.5575805e+06 2.3067975e+06 2.3732585e+06 1.9449730e+06\n",
      " 2.5945350e+06 2.5766740e+06 3.6638180e+06 6.8536320e+06 8.8741440e+06\n",
      " 7.9945240e+06 7.2716360e+06 5.3687840e+06 5.0661600e+06 4.3818040e+06\n",
      " 2.6589560e+06 2.7556560e+06 2.8739200e+06 3.1415920e+06 2.4190400e+06\n",
      " 2.1565920e+06 2.9704400e+06 2.5117920e+06 2.6204800e+06 2.1768800e+06\n",
      " 1.9978240e+06 2.1580400e+06 2.4934320e+06 1.1796800e+06 1.5450560e+06\n",
      " 3.0831360e+06 3.0501280e+06 2.3971120e+06 2.2208960e+06 2.0910400e+06\n",
      " 1.5153600e+06 2.3087520e+06 1.1245520e+06 2.4724880e+06 2.4125920e+06\n",
      " 2.8860960e+06 3.5911760e+06 4.3504880e+06 3.1419200e+06 3.0702720e+06\n",
      " 2.6427840e+06 2.4793600e+06 2.1787360e+06 2.3389280e+06 2.6159680e+06\n",
      " 2.4308160e+06 1.7982080e+06 1.0581280e+06 1.1330560e+06 1.7455200e+06\n",
      " 2.3021760e+06 2.9306240e+06 2.9882720e+06 3.8002080e+06 4.6609120e+06\n",
      " 5.7306880e+06 7.0412160e+06 7.9891200e+06 9.0763840e+06 6.3412640e+06\n",
      " 5.9810400e+06 6.6401120e+06 4.9257120e+06 5.3987680e+06 6.7005600e+06\n",
      " 9.1262560e+06 8.7789760e+06 1.0507232e+07 1.0728864e+07 1.3063936e+07\n",
      " 1.3398880e+07 1.1664160e+07 1.0406304e+07 1.1014912e+07 1.0273280e+07\n",
      " 1.0507584e+07 8.5436800e+06 6.4886400e+06 6.1363520e+06 4.7736000e+06\n",
      " 3.0761600e+06 2.1448640e+06 1.6531520e+06 1.1244160e+06 6.8870400e+05\n",
      " 5.4582400e+05 5.2496000e+05 3.7974400e+05 2.3542400e+05 1.7932800e+05\n",
      " 1.1379200e+05 6.9600000e+04 2.5792000e+04 1.7632000e+04 7.5840000e+03]\n"
     ]
    },
    {
     "name": "stderr",
     "output_type": "stream",
     "text": [
      " 28%|██▊       | 3500/12535 [1:47:55<3:40:57,  1.47s/it] "
     ]
    },
    {
     "name": "stdout",
     "output_type": "stream",
     "text": [
      "[0.         0.         0.         0.         0.         0.\n",
      " 0.         0.         0.         0.         0.         0.\n",
      " 0.         0.         0.         0.         0.         0.\n",
      " 0.         0.         0.         0.         0.03083476 0.\n",
      " 0.03521828 0.03387575 0.0367015  0.03654369 0.03951407 0.04124755\n",
      " 0.04546082 0.05095085 0.05546034 0.05990822 0.05730333 0.05625758\n",
      " 0.06435806 0.06595454 0.06164782 0.05928095 0.05757387 0.05568366\n",
      " 0.0589525  0.06031005 0.0607046  0.05614557 0.05409531 0.04669312\n",
      " 0.05024342 0.05098646 0.04856447 0.04556097 0.03992408 0.03153231\n",
      " 0.02751941 0.0258024  0.02649756 0.03540774 0.03090672 0.02599189\n",
      " 0.02076162 0.0181564  0.01729166 0.01800378 0.01669849 0.01587444\n",
      " 0.01539512 0.01495735 0.01380027 0.01441775 0.01442479 0.01657822\n",
      " 0.01605724 0.01310575 0.01391059 0.01588761 0.01352489 0.01116316\n",
      " 0.00863551 0.00962233 0.00848839 0.00779084 0.00541485 0.00432721\n",
      " 0.00471075 0.00410762 0.00354387 0.00327025 0.00494003 0.00388584\n",
      " 0.00402729 0.00318543 0.00240462 0.00231081 0.0016073  0.00109403\n",
      " 0.00088905 0.001066   0.00018675 0.        ] [0.0000000e+00 0.0000000e+00 0.0000000e+00 0.0000000e+00 0.0000000e+00\n",
      " 0.0000000e+00 0.0000000e+00 0.0000000e+00 0.0000000e+00 0.0000000e+00\n",
      " 0.0000000e+00 0.0000000e+00 0.0000000e+00 0.0000000e+00 0.0000000e+00\n",
      " 0.0000000e+00 0.0000000e+00 0.0000000e+00 0.0000000e+00 0.0000000e+00\n",
      " 0.0000000e+00 0.0000000e+00 2.7120143e+04 0.0000000e+00 5.4530188e+04\n",
      " 1.9195886e+05 1.3748022e+05 2.4783459e+05 1.3431869e+05 4.5413062e+04\n",
      " 1.3042256e+05 1.9644681e+05 5.5644788e+05 1.1585835e+06 1.4228620e+06\n",
      " 1.2737860e+06 3.1457450e+05 1.4869215e+06 1.6805985e+06 1.4224830e+06\n",
      " 1.4019890e+06 9.5555300e+05 1.1133430e+06 1.9092320e+06 1.2470550e+06\n",
      " 1.9552420e+06 2.7640520e+06 2.8621400e+06 4.1226020e+06 3.3789320e+06\n",
      " 6.0404780e+06 6.2886880e+06 6.0329640e+06 8.0480320e+06 1.2000180e+07\n",
      " 1.1740544e+07 8.6593440e+06 9.9061360e+06 8.6381440e+06 1.3943344e+07\n",
      " 1.7134992e+07 1.3665344e+07 1.3405376e+07 9.9917440e+06 7.5159360e+06\n",
      " 6.7127040e+06 6.8956960e+06 8.0320800e+06 5.9646400e+06 6.7971680e+06\n",
      " 7.5565280e+06 7.6657280e+06 8.0740160e+06 6.3872000e+06 5.6597600e+06\n",
      " 5.0160480e+06 5.1891520e+06 6.5404160e+06 3.5598400e+06 1.9770880e+06\n",
      " 2.6686080e+06 2.4485440e+06 1.6397760e+06 1.3560640e+06 6.7872000e+05\n",
      " 1.9811200e+05 3.7705600e+05 3.0022400e+05 1.9158400e+05 1.9187200e+05\n",
      " 1.1206400e+05 1.3664000e+05 8.3648000e+04 6.3648000e+04 2.8128000e+04\n",
      " 1.6224000e+04 1.2160000e+04 9.3440000e+03 6.7200000e+02 0.0000000e+00]\n"
     ]
    },
    {
     "name": "stderr",
     "output_type": "stream",
     "text": [
      " 29%|██▊       | 3600/12535 [1:51:15<5:19:27,  2.15s/it] "
     ]
    },
    {
     "name": "stdout",
     "output_type": "stream",
     "text": [
      "[0.01623109 0.01608278 0.01533271 0.01477698 0.01666864 0.01853364\n",
      " 0.0176036  0.0206459  0.02191976 0.02127757 0.02031531 0.02091668\n",
      " 0.02118834 0.02264296 0.02324845 0.02228333 0.02432978 0.02351495\n",
      " 0.02131829 0.02205094 0.02454126 0.02362588 0.02097046 0.01812413\n",
      " 0.01702334 0.01655412 0.01791709 0.01886388 0.01878318 0.0190579\n",
      " 0.01847616 0.01758549 0.01826994 0.01565046 0.01541528 0.01590111\n",
      " 0.01808076 0.01654175 0.01898347 0.01899906 0.02382006 0.02199104\n",
      " 0.02289236 0.0244438  0.0191444  0.01697314 0.01591779 0.01593427\n",
      " 0.01934023 0.01765396 0.01830226 0.01875359 0.01954397 0.01870771\n",
      " 0.01799841 0.0173089  0.01854904 0.01811312 0.01810129 0.01669316\n",
      " 0.01828434 0.02074795 0.02228902 0.02461528 0.02938794 0.03091806\n",
      " 0.01798381 0.01487304 0.01640466 0.01159559 0.00836973 0.00914427\n",
      " 0.00885562 0.01116965 0.01153419 0.00997823 0.01054323 0.01056636\n",
      " 0.00912693 0.0086207  0.00627628 0.00509588 0.00530289 0.0040311\n",
      " 0.00429587 0.00534188 0.00545414 0.00435135 0.00302554 0.00466141\n",
      " 0.00399352 0.00256097 0.00251309 0.00178474 0.00158516 0.00150215\n",
      " 0.00094595 0.00055357 0.0002835  0.        ] [7.9978580e+06 6.5354675e+06 7.6368140e+06 8.5268460e+06 8.1516460e+06\n",
      " 6.0665600e+06 7.8379400e+06 7.8329120e+06 7.3678400e+06 6.5716480e+06\n",
      " 7.9083040e+06 7.1109600e+06 5.9315520e+06 6.9749520e+06 8.6226720e+06\n",
      " 7.7986880e+06 8.4191360e+06 8.0533120e+06 7.7539680e+06 9.1265760e+06\n",
      " 1.1921792e+07 1.3979616e+07 1.3574720e+07 1.1683440e+07 1.0857056e+07\n",
      " 1.1988400e+07 1.0728080e+07 1.0072592e+07 9.4845440e+06 8.0841120e+06\n",
      " 1.0005264e+07 1.0027968e+07 8.1602560e+06 7.9280000e+06 7.2998720e+06\n",
      " 7.0249920e+06 7.5170240e+06 6.1955520e+06 7.3649600e+06 5.6422720e+06\n",
      " 7.6541760e+06 7.3803200e+06 6.8049600e+06 6.8111360e+06 4.1364160e+06\n",
      " 4.4643200e+06 4.2588480e+06 4.0706560e+06 5.6560960e+06 4.7400320e+06\n",
      " 4.4000960e+06 6.7231680e+06 9.2924480e+06 1.2384768e+07 1.1732256e+07\n",
      " 1.0302752e+07 1.1938208e+07 1.1240320e+07 1.0604768e+07 1.1113568e+07\n",
      " 1.0559040e+07 1.4017536e+07 9.2931840e+06 9.2299520e+06 1.6170368e+07\n",
      " 1.6125120e+07 1.9180288e+07 1.3771904e+07 1.4816704e+07 1.5713664e+07\n",
      " 7.1193600e+06 5.1803520e+06 3.6767360e+06 3.5313280e+06 3.3107200e+06\n",
      " 3.2684800e+06 3.4049280e+06 2.7963520e+06 2.8341120e+06 2.7296000e+06\n",
      " 1.9567360e+06 1.0614400e+06 1.2549760e+06 1.0750080e+06 6.6419200e+05\n",
      " 6.3916800e+05 6.0211200e+05 5.0304000e+05 4.0844800e+05 4.5619200e+05\n",
      " 4.8761600e+05 3.6928000e+05 3.2819200e+05 1.7068800e+05 9.0432000e+04\n",
      " 7.2320000e+04 5.0304000e+04 1.2736000e+04 8.3200000e+03 0.0000000e+00]\n"
     ]
    },
    {
     "name": "stderr",
     "output_type": "stream",
     "text": [
      " 30%|██▉       | 3700/12535 [1:54:39<7:00:25,  2.86s/it]"
     ]
    },
    {
     "name": "stdout",
     "output_type": "stream",
     "text": [
      "[0.0305941  0.03252169 0.02913894 0.02435481 0.0306911  0.03525542\n",
      " 0.04070863 0.0386414  0.03459288 0.0317428  0.03532773 0.03890286\n",
      " 0.03914674 0.03366527 0.02723065 0.02383783 0.02492555 0.02514672\n",
      " 0.0252255  0.03084701 0.03113342 0.02856533 0.02451232 0.02314444\n",
      " 0.02038708 0.01768946 0.01574778 0.01449172 0.0171505  0.01773901\n",
      " 0.01825755 0.02115202 0.02171011 0.02153376 0.01764877 0.01734145\n",
      " 0.0196422  0.01585902 0.01746624 0.01444368 0.01590119 0.01973011\n",
      " 0.01759626 0.0191307  0.02245249 0.02784904 0.0223192  0.02103062\n",
      " 0.01681637 0.01482856 0.01405375 0.01377695 0.01266178 0.02186872\n",
      " 0.02046415 0.02253544 0.02263366 0.02642831 0.02488842 0.02085969\n",
      " 0.02104893 0.01883582 0.0207242  0.02295456 0.02155772 0.01797075\n",
      " 0.01430737 0.01252158 0.01368067 0.01212746 0.01178422 0.01109816\n",
      " 0.01046832 0.01195635 0.00976576 0.01073795 0.01036706 0.0107256\n",
      " 0.010583   0.0080591  0.00678237 0.00540457 0.00664656 0.00676578\n",
      " 0.00589033 0.00630181 0.0060797  0.00499803 0.00471054 0.00488712\n",
      " 0.00409164 0.00408082 0.00473024 0.00428922 0.00358725 0.0027591\n",
      " 0.00181672 0.00146535 0.00098766 0.00022534] [1.9860294e+06 1.9236656e+06 2.5127155e+06 3.0700385e+06 3.3493610e+06\n",
      " 3.2636320e+06 2.8826480e+06 3.5262420e+06 4.1078540e+06 6.7909300e+06\n",
      " 7.4926240e+06 5.8191560e+06 6.6201200e+06 7.5932000e+06 1.0980568e+07\n",
      " 1.1605048e+07 7.8012480e+06 7.1120560e+06 6.6530480e+06 7.6019360e+06\n",
      " 5.3840160e+06 5.6758800e+06 5.4039360e+06 5.9652320e+06 7.1922240e+06\n",
      " 7.5657600e+06 1.0086544e+07 8.1552000e+06 5.2431520e+06 3.6929120e+06\n",
      " 3.2044960e+06 3.4159680e+06 3.7299200e+06 2.7338080e+06 4.1308480e+06\n",
      " 5.4363520e+06 6.3016160e+06 5.2630720e+06 4.5154080e+06 4.6348160e+06\n",
      " 4.8103520e+06 4.8588320e+06 3.3960320e+06 3.0704320e+06 1.8176960e+06\n",
      " 2.1684640e+06 2.6726240e+06 4.3549440e+06 4.1516640e+06 4.5944640e+06\n",
      " 4.0110720e+06 4.2248160e+06 2.5610560e+06 2.9625120e+06 2.3987520e+06\n",
      " 2.5152000e+06 2.8654720e+06 2.7472320e+06 3.2090880e+06 3.8830720e+06\n",
      " 4.6311360e+06 4.5161600e+06 4.2192960e+06 4.2230400e+06 4.2736960e+06\n",
      " 4.2823040e+06 5.0667840e+06 6.4972800e+06 6.6843840e+06 6.5910400e+06\n",
      " 6.3081920e+06 5.7422720e+06 4.3944640e+06 4.1143360e+06 4.5195840e+06\n",
      " 4.0634240e+06 3.0050560e+06 2.4637760e+06 1.9715520e+06 2.0361600e+06\n",
      " 2.7714880e+06 1.3352000e+06 1.7834240e+06 1.3058880e+06 8.8681600e+05\n",
      " 6.5468800e+05 7.2883200e+05 7.0169600e+05 3.8790400e+05 3.4908800e+05\n",
      " 4.1068800e+05 1.8345600e+05 3.1523200e+05 1.7561600e+05 2.2166400e+05\n",
      " 1.1881600e+05 4.8320000e+04 2.8960000e+04 1.7088000e+04 1.6000000e+03]\n"
     ]
    },
    {
     "name": "stderr",
     "output_type": "stream",
     "text": [
      " 30%|███       | 3800/12535 [1:57:43<5:08:09,  2.12s/it]"
     ]
    },
    {
     "name": "stdout",
     "output_type": "stream",
     "text": [
      "[0.03368602 0.03106003 0.03346283 0.03321425 0.0362907  0.03808938\n",
      " 0.0328475  0.03019159 0.02885388 0.02680496 0.03303552 0.03632136\n",
      " 0.03512037 0.03598795 0.03292707 0.03068518 0.02898346 0.02815795\n",
      " 0.0258623  0.02391913 0.02282424 0.0278458  0.0322534  0.03039424\n",
      " 0.03028278 0.02695793 0.02437272 0.02424606 0.03350827 0.03874786\n",
      " 0.03550813 0.03540402 0.0225657  0.02615206 0.02933492 0.03451481\n",
      " 0.03216014 0.02932112 0.03542816 0.03069921 0.0370177  0.03772086\n",
      " 0.03336762 0.03144726 0.0253367  0.02399737 0.02402167 0.02484736\n",
      " 0.02790428 0.01949058 0.01647532 0.01547267 0.0115464  0.01054934\n",
      " 0.0106314  0.00965906 0.0101122  0.01357783 0.01320469 0.01344259\n",
      " 0.0153683  0.01353417 0.01264421 0.01107521 0.01498395 0.01188608\n",
      " 0.01074321 0.00787795 0.00828711 0.00855207 0.00849571 0.00833249\n",
      " 0.00756897 0.00735776 0.00755946 0.00703459 0.00690258 0.00598473\n",
      " 0.00724726 0.00574326 0.00597041 0.00743002 0.0075485  0.00737042\n",
      " 0.00886147 0.0083835  0.00723256 0.00352735 0.00444222 0.00367844\n",
      " 0.0040233  0.00454718 0.00369833 0.00383894 0.0028772  0.00303831\n",
      " 0.00191794 0.00118923 0.00057363 0.00050169] [ 900446.06  523972.44  564796.75  645466.    671079.75  464735.25\n",
      "  153211.    824795.25 1001128.   1024025.5  1370313.    895304.\n",
      " 1416349.   1369828.   1682099.   1217052.   1859635.   1737712.\n",
      " 3053908.   2981042.   3018046.   3543966.   3140810.   2045932.\n",
      " 3113640.   2643268.   2360764.   2639976.   1831132.   1333700.\n",
      " 1334324.   2660456.   1647104.   2702404.   2721064.   2006776.\n",
      " 3287880.   1957844.   1920000.   1983328.   1872752.   2776960.\n",
      " 2831240.   4803072.   4575336.   4056856.   3802640.   2690728.\n",
      " 2566208.   3214008.   4552992.   5047760.   4704800.   3325368.\n",
      " 3421648.   2481952.   2159576.   2088224.   1495320.   2206096.\n",
      " 2102624.   2142032.   2396064.   1568672.   1689472.   1483584.\n",
      " 1672176.   1676912.   1598432.   1569728.   2039136.   1559680.\n",
      " 1510368.   1403152.   1053488.   1168784.   1307696.    951888.\n",
      "  776992.    771312.    768144.    754192.    691488.    654080.\n",
      "  801664.    791664.   1038512.    869792.    435696.    271392.\n",
      "  417840.    363504.    268736.    319168.    198480.    217568.\n",
      "   92448.     47984.     12272.      5312.  ]\n"
     ]
    },
    {
     "name": "stderr",
     "output_type": "stream",
     "text": [
      " 31%|███       | 3900/12535 [2:00:49<5:38:47,  2.35s/it]"
     ]
    },
    {
     "name": "stdout",
     "output_type": "stream",
     "text": [
      "[0.01534822 0.01503252 0.01547791 0.01581597 0.01618229 0.01658052\n",
      " 0.01638152 0.0162432  0.01551209 0.01527835 0.01604502 0.01620843\n",
      " 0.01658277 0.01683772 0.01509044 0.01636576 0.01996177 0.02211287\n",
      " 0.03059464 0.02997932 0.03119899 0.02570112 0.02585367 0.02783981\n",
      " 0.02936844 0.03008799 0.03195275 0.03128907 0.02676571 0.02550279\n",
      " 0.02678038 0.03162356 0.03151662 0.02782395 0.02740645 0.0229979\n",
      " 0.02184224 0.0215962  0.0223409  0.02102536 0.02086433 0.02163162\n",
      " 0.02206871 0.02194031 0.02115738 0.02047177 0.02133035 0.01994065\n",
      " 0.02059158 0.02027049 0.02105049 0.02149401 0.0195289  0.02037447\n",
      " 0.01939383 0.0197142  0.01826299 0.01740592 0.01834598 0.02067685\n",
      " 0.01924182 0.0165155  0.01403583 0.01391128 0.01375312 0.01207511\n",
      " 0.01356879 0.01390671 0.01468183 0.02108694 0.02365822 0.02012044\n",
      " 0.01884419 0.01637594 0.01763246 0.02064761 0.02223843 0.02186321\n",
      " 0.02099554 0.01819693 0.01797538 0.01711217 0.01791221 0.01597895\n",
      " 0.01851389 0.01862916 0.01245582 0.01304185 0.01259296 0.01052798\n",
      " 0.00883306 0.00867459 0.00754038 0.00570476 0.00420095 0.00357739\n",
      " 0.00325819 0.00217512 0.0015538  0.00068176] [2.4090168e+06 2.8964432e+06 2.7883155e+06 3.4433560e+06 5.5541070e+06\n",
      " 7.1578400e+06 7.2664520e+06 6.7575720e+06 5.7806640e+06 8.6695680e+06\n",
      " 8.5995480e+06 7.5259080e+06 7.5213440e+06 8.2716720e+06 7.1755040e+06\n",
      " 5.4746720e+06 9.6191280e+06 1.1674744e+07 1.2402552e+07 1.0674136e+07\n",
      " 1.3415792e+07 1.5634848e+07 2.8768016e+07 2.5376880e+07 3.1518608e+07\n",
      " 4.0295424e+07 5.3073472e+07 5.5484000e+07 5.7167104e+07 5.4580320e+07\n",
      " 4.7494240e+07 4.6198592e+07 7.0062272e+07 7.7507456e+07 8.5232512e+07\n",
      " 9.3908800e+07 9.4348224e+07 9.8709504e+07 1.0648026e+08 1.0389914e+08\n",
      " 8.8765824e+07 8.6228480e+07 7.8308992e+07 7.8424320e+07 8.0779136e+07\n",
      " 8.4163456e+07 7.7130496e+07 6.4182528e+07 6.0861312e+07 5.4622080e+07\n",
      " 6.1291136e+07 7.3190912e+07 8.2320640e+07 9.4065664e+07 9.0240256e+07\n",
      " 9.2409088e+07 9.2218368e+07 8.7359488e+07 8.3711232e+07 9.8650880e+07\n",
      " 1.3128730e+08 1.2968832e+08 9.9698176e+07 6.1848320e+07 5.2822784e+07\n",
      " 5.3804800e+07 5.0031104e+07 4.0410368e+07 4.8310528e+07 1.1293082e+08\n",
      " 2.1665382e+08 2.4775552e+08 2.7964877e+08 3.0080563e+08 3.0440653e+08\n",
      " 2.5067418e+08 2.6266061e+08 2.7067187e+08 2.8838349e+08 2.2371891e+08\n",
      " 1.6409549e+08 1.5331072e+08 1.6843981e+08 1.3598106e+08 1.5657370e+08\n",
      " 2.5871923e+08 1.3540659e+08 9.3300224e+07 9.2106752e+07 5.9966976e+07\n",
      " 4.3341312e+07 3.7359104e+07 3.1297024e+07 1.7880576e+07 1.0431488e+07\n",
      " 5.6755200e+06 4.1707520e+06 1.8805760e+06 9.1494400e+05 2.8262400e+05]\n"
     ]
    },
    {
     "name": "stderr",
     "output_type": "stream",
     "text": [
      " 32%|███▏      | 4000/12535 [2:03:52<3:25:54,  1.45s/it]"
     ]
    },
    {
     "name": "stdout",
     "output_type": "stream",
     "text": [
      "[1.88660640e-02 2.26783175e-02 2.13912670e-02 2.20057610e-02\n",
      " 2.58402620e-02 2.94888075e-02 2.79036220e-02 2.08374653e-02\n",
      " 2.10175831e-02 2.10597031e-02 1.98197179e-02 1.93477217e-02\n",
      " 2.21272185e-02 1.89774986e-02 1.90804768e-02 2.00953986e-02\n",
      " 1.96738038e-02 2.40821689e-02 1.81677788e-02 2.04783566e-02\n",
      " 2.76369732e-02 2.28700154e-02 2.05097497e-02 2.14619413e-02\n",
      " 2.22349223e-02 1.95736997e-02 1.89838130e-02 1.78125743e-02\n",
      " 1.74308885e-02 1.72814447e-02 1.61225665e-02 1.65800098e-02\n",
      " 1.87860206e-02 2.05094982e-02 2.21968349e-02 2.33542603e-02\n",
      " 2.00257991e-02 2.35178042e-02 2.49591153e-02 1.85960475e-02\n",
      " 1.60598680e-02 1.48061085e-02 1.42438989e-02 1.50173809e-02\n",
      " 1.49772232e-02 1.40765039e-02 1.19661139e-02 1.02109937e-02\n",
      " 9.53635387e-03 1.03748934e-02 1.17032891e-02 1.23784933e-02\n",
      " 9.84256342e-03 9.95068811e-03 9.59294755e-03 8.62617698e-03\n",
      " 9.62609425e-03 9.56328306e-03 1.14937956e-02 1.33101484e-02\n",
      " 1.03104049e-02 1.14398161e-02 1.01903537e-02 1.06773144e-02\n",
      " 1.14657599e-02 1.08134588e-02 9.28610098e-03 7.32331211e-03\n",
      " 7.13866903e-03 7.16925785e-03 8.60836357e-03 7.91025162e-03\n",
      " 6.74542831e-03 6.20836392e-03 5.82532911e-03 5.20008197e-03\n",
      " 5.60350064e-03 5.96918538e-03 4.61111451e-03 4.12569474e-03\n",
      " 3.51060508e-03 4.11643460e-03 3.51247680e-03 2.80903373e-03\n",
      " 5.41405845e-03 5.49513008e-03 4.58265934e-03 4.04190877e-03\n",
      " 3.91341047e-03 4.70698066e-03 3.03937215e-03 3.20442370e-03\n",
      " 2.05256953e-03 2.09626136e-03 1.46339578e-03 1.65393157e-03\n",
      " 5.44810668e-04 2.74173828e-04 3.85240382e-05 3.85644817e-04] [1.3253552e+06 1.3541064e+06 1.0581500e+06 1.4013945e+06 1.6146430e+06\n",
      " 1.2271260e+06 1.8373540e+06 1.9549050e+06 2.0453700e+06 2.1624480e+06\n",
      " 1.8551890e+06 1.5236260e+06 2.5274340e+06 1.9246960e+06 1.9031900e+06\n",
      " 2.1950040e+06 2.5608960e+06 1.6772780e+06 1.1906040e+06 1.0751000e+06\n",
      " 1.3972440e+06 1.4708120e+06 1.2773800e+06 1.9188280e+06 1.8757680e+06\n",
      " 2.3315840e+06 2.2465560e+06 2.3148800e+06 2.3225640e+06 2.1112760e+06\n",
      " 1.5365440e+06 1.7443720e+06 1.9325760e+06 2.0144960e+06 2.6874920e+06\n",
      " 1.7411800e+06 2.2597920e+06 2.3164880e+06 2.3852640e+06 3.2682960e+06\n",
      " 2.3737440e+06 2.6389840e+06 2.4862400e+06 3.3155840e+06 2.3640720e+06\n",
      " 2.0022960e+06 2.3239120e+06 2.6038720e+06 2.3358080e+06 1.8431760e+06\n",
      " 1.7803440e+06 1.7416560e+06 1.6964560e+06 1.0653280e+06 1.3500240e+06\n",
      " 2.0847600e+06 1.5924720e+06 1.6138880e+06 1.2974800e+06 1.0676400e+06\n",
      " 1.2375600e+06 7.2124800e+05 5.4513600e+05 8.0705600e+05 1.1239600e+06\n",
      " 1.0200320e+06 1.1179360e+06 1.0664880e+06 1.0577200e+06 9.8138400e+05\n",
      " 7.1842400e+05 9.5261600e+05 8.9630400e+05 6.8781600e+05 9.4414400e+05\n",
      " 6.6717600e+05 3.6664000e+05 3.4398400e+05 4.3744000e+05 2.4741600e+05\n",
      " 3.0910400e+05 2.3172800e+05 1.9592000e+05 1.9086400e+05 2.6260800e+05\n",
      " 2.5296800e+05 3.2625600e+05 1.2537600e+05 2.6889600e+05 3.1160000e+05\n",
      " 2.3398400e+05 2.1457600e+05 1.1294400e+05 5.0936000e+04 4.9520000e+04\n",
      " 5.3168000e+04 1.2288000e+04 6.0320000e+03 3.5200000e+02 2.4160000e+03]\n"
     ]
    },
    {
     "name": "stderr",
     "output_type": "stream",
     "text": [
      " 33%|███▎      | 4100/12535 [2:06:55<3:04:37,  1.31s/it]"
     ]
    },
    {
     "name": "stdout",
     "output_type": "stream",
     "text": [
      "[0.03203435 0.03195453 0.         0.         0.03153519 0.03634382\n",
      " 0.03388898 0.02842034 0.03103769 0.03102041 0.02964653 0.03040258\n",
      " 0.02971395 0.02880695 0.02870824 0.02606685 0.02338233 0.0306358\n",
      " 0.03095537 0.04922394 0.04324497 0.04234249 0.04299271 0.04346873\n",
      " 0.0404901  0.04572801 0.03895543 0.02831698 0.02584171 0.02089124\n",
      " 0.01608794 0.01553373 0.01377438 0.01667246 0.01925016 0.02517832\n",
      " 0.02257222 0.02390219 0.02288336 0.02193335 0.02479865 0.0224812\n",
      " 0.02179627 0.01813469 0.01790588 0.01763161 0.01891445 0.01747645\n",
      " 0.01649024 0.01500844 0.01572668 0.01345383 0.01398115 0.01314554\n",
      " 0.01206229 0.01395895 0.01225816 0.01442315 0.01802607 0.0143969\n",
      " 0.01247157 0.01101599 0.01475988 0.01151864 0.01258584 0.01072317\n",
      " 0.0130119  0.0108502  0.00991923 0.00882213 0.00840444 0.00726979\n",
      " 0.00611926 0.00681075 0.00711269 0.00817144 0.00864737 0.00709411\n",
      " 0.00764291 0.00617197 0.00433742 0.00484153 0.00331823 0.00257117\n",
      " 0.00378608 0.00472575 0.00333144 0.00380331 0.0030818  0.00265581\n",
      " 0.00167331 0.00121189 0.00180623 0.00167535 0.00077357 0.00018057\n",
      " 0.00025062 0.         0.00093874 0.        ] [1.52825156e+05 8.11727812e+04 0.00000000e+00 0.00000000e+00\n",
      " 1.31016469e+05 7.21439375e+04 7.38965938e+04 6.77788750e+04\n",
      " 7.11663750e+04 2.23818688e+05 5.96071875e+04 1.05890188e+05\n",
      " 2.35378000e+05 2.33261375e+05 4.30548875e+05 1.04149875e+06\n",
      " 7.85759250e+05 8.77205500e+05 1.03173150e+06 1.08817200e+06\n",
      " 1.39442800e+06 1.15360050e+06 1.32257400e+06 2.41683900e+06\n",
      " 1.59903900e+06 1.03103700e+06 2.34841900e+06 3.19054200e+06\n",
      " 3.77048600e+06 4.15507800e+06 5.88614200e+06 4.48692800e+06\n",
      " 3.45654400e+06 1.74752800e+06 1.47692400e+06 2.10218400e+06\n",
      " 2.17889200e+06 2.34930800e+06 2.11351200e+06 1.69890000e+06\n",
      " 1.78680400e+06 2.36904800e+06 2.87315200e+06 2.25268000e+06\n",
      " 2.78976400e+06 3.10804800e+06 2.84902400e+06 2.75820800e+06\n",
      " 4.00914400e+06 2.80752800e+06 2.68745600e+06 2.40640800e+06\n",
      " 2.15506400e+06 1.33129600e+06 1.66154400e+06 1.97986400e+06\n",
      " 1.58176000e+06 2.53486400e+06 2.96522400e+06 3.15075200e+06\n",
      " 3.46112800e+06 3.36793600e+06 3.35283200e+06 3.04736800e+06\n",
      " 3.58921600e+06 3.24058400e+06 3.62562400e+06 3.08283200e+06\n",
      " 2.39280000e+06 1.82544000e+06 1.50550400e+06 1.01182400e+06\n",
      " 7.35120000e+05 5.34224000e+05 5.44368000e+05 2.83200000e+05\n",
      " 5.16976000e+05 5.95664000e+05 6.96928000e+05 6.02640000e+05\n",
      " 5.33200000e+05 3.48880000e+05 3.19712000e+05 1.95552000e+05\n",
      " 1.35728000e+05 1.20592000e+05 1.07824000e+05 8.94080000e+04\n",
      " 1.30112000e+05 1.25200000e+05 1.03360000e+05 3.36800000e+04\n",
      " 3.55840000e+04 3.07360000e+04 1.36960000e+04 1.50400000e+03\n",
      " 2.27200000e+03 0.00000000e+00 3.87200000e+03 0.00000000e+00]\n"
     ]
    },
    {
     "name": "stderr",
     "output_type": "stream",
     "text": [
      " 34%|███▎      | 4200/12535 [2:09:58<3:18:20,  1.43s/it]"
     ]
    },
    {
     "name": "stdout",
     "output_type": "stream",
     "text": [
      "[0.01866456 0.01724333 0.01636473 0.012852   0.01527696 0.01633765\n",
      " 0.01481302 0.01380175 0.0144485  0.01384039 0.         0.01478539\n",
      " 0.         0.01467605 0.01662361 0.01616323 0.0154137  0.01492455\n",
      " 0.01439973 0.01561027 0.01643071 0.01933894 0.01673506 0.01933704\n",
      " 0.01967256 0.02136612 0.02070504 0.02130557 0.02086544 0.01972565\n",
      " 0.02308383 0.02041504 0.02227954 0.02431558 0.02162681 0.02426676\n",
      " 0.02402164 0.02328002 0.02612055 0.02933495 0.0386594  0.04554546\n",
      " 0.04413423 0.03525377 0.02825694 0.02206646 0.01934019 0.02244859\n",
      " 0.02003623 0.01681329 0.02204652 0.03046473 0.03110619 0.03880789\n",
      " 0.03979202 0.03883107 0.02783993 0.02418522 0.02367405 0.0204435\n",
      " 0.01755711 0.0297612  0.02762333 0.02833234 0.02585933 0.01847672\n",
      " 0.01402956 0.01238218 0.01169056 0.01090596 0.01309365 0.01376969\n",
      " 0.01626292 0.01555452 0.01553615 0.01326835 0.01299367 0.01381175\n",
      " 0.01137956 0.01008047 0.00992178 0.00746954 0.0067927  0.00784019\n",
      " 0.00818215 0.00748485 0.00767309 0.00740714 0.00524412 0.0059505\n",
      " 0.00612151 0.00507325 0.00366198 0.00276128 0.00194375 0.00185139\n",
      " 0.00148715 0.00047033 0.00026305 0.0003539 ] [2.11363281e+05 1.98646781e+05 1.06853969e+05 5.58945938e+04\n",
      " 6.40991250e+04 1.94402875e+05 2.19244250e+05 5.61140000e+04\n",
      " 1.63198750e+04 6.47142500e+04 0.00000000e+00 3.55147500e+04\n",
      " 0.00000000e+00 2.17522500e+04 6.30597500e+04 4.57363750e+04\n",
      " 7.35381250e+04 1.23456500e+05 4.17983750e+04 1.28748375e+05\n",
      " 1.94694875e+05 1.70474000e+05 2.16752375e+05 3.47391000e+05\n",
      " 1.63774250e+05 2.50029750e+05 4.89147500e+05 5.48323000e+05\n",
      " 4.00733250e+05 3.38933000e+05 2.74512500e+05 1.86259000e+05\n",
      " 3.87443000e+05 2.99049000e+05 5.26803500e+05 4.48321500e+05\n",
      " 1.55290500e+05 2.62914500e+05 4.90880000e+05 1.33122400e+06\n",
      " 8.13760000e+05 3.98952000e+05 6.53058000e+05 8.80946000e+05\n",
      " 1.68877100e+06 2.04434400e+06 1.58718700e+06 1.48206800e+06\n",
      " 8.85164000e+05 1.17299200e+06 9.58374000e+05 1.40282600e+06\n",
      " 1.29913000e+06 1.65645000e+06 1.07160600e+06 1.26260000e+06\n",
      " 1.73136000e+06 1.39615200e+06 2.31136000e+06 1.96615600e+06\n",
      " 1.22429600e+06 1.47126800e+06 2.18584400e+06 2.16768400e+06\n",
      " 3.80444400e+06 4.77737600e+06 4.71622000e+06 5.26430000e+06\n",
      " 4.91572000e+06 4.27571200e+06 2.42420800e+06 2.08115200e+06\n",
      " 2.52548800e+06 2.78604800e+06 3.13340800e+06 2.80630400e+06\n",
      " 2.14173600e+06 2.41608800e+06 2.38838400e+06 2.34972000e+06\n",
      " 2.37314400e+06 1.82920800e+06 1.53207200e+06 1.19278400e+06\n",
      " 1.33109600e+06 1.10316800e+06 1.10148000e+06 1.09199200e+06\n",
      " 7.12000000e+05 5.15680000e+05 6.13528000e+05 6.34448000e+05\n",
      " 3.23584000e+05 2.35696000e+05 1.51088000e+05 6.46240000e+04\n",
      " 7.20480000e+04 2.03200000e+04 4.07200000e+03 1.85600000e+03]\n"
     ]
    },
    {
     "name": "stderr",
     "output_type": "stream",
     "text": [
      " 34%|███▍      | 4300/12535 [2:13:40<6:11:09,  2.70s/it] "
     ]
    },
    {
     "name": "stdout",
     "output_type": "stream",
     "text": [
      "[0.01777224 0.01812985 0.01784893 0.01447213 0.02154115 0.02313101\n",
      " 0.         0.02180113 0.02323738 0.02534753 0.03495521 0.03758856\n",
      " 0.03508199 0.04001361 0.04089971 0.03724464 0.03436946 0.04016263\n",
      " 0.03966327 0.0382982  0.03862562 0.04475216 0.05229703 0.05184034\n",
      " 0.04941402 0.04348051 0.04425989 0.05285507 0.05329553 0.0479072\n",
      " 0.04069103 0.03296545 0.02661068 0.02259042 0.02424989 0.03114294\n",
      " 0.03071412 0.03098831 0.0353507  0.05304471 0.05632023 0.05374655\n",
      " 0.04685678 0.04113524 0.04085578 0.03682011 0.03556033 0.03555438\n",
      " 0.03179254 0.03395751 0.03237432 0.02228543 0.01811306 0.02358351\n",
      " 0.02427274 0.03058924 0.02443567 0.02067407 0.01639105 0.02298723\n",
      " 0.02212619 0.01545187 0.01547282 0.02086005 0.02356438 0.01969469\n",
      " 0.018737   0.0168507  0.01807871 0.01640537 0.01517829 0.01194994\n",
      " 0.01524469 0.01219329 0.01299446 0.01341687 0.01203365 0.01209788\n",
      " 0.01372318 0.01104081 0.01180401 0.01141541 0.00899519 0.00879433\n",
      " 0.00791376 0.00805982 0.00588735 0.00713001 0.00812977 0.00920034\n",
      " 0.00822972 0.00636444 0.0053924  0.00415385 0.00301703 0.00223024\n",
      " 0.00170911 0.00104323 0.00038065 0.00044522] [2.9381966e+05 9.3990062e+05 7.9295775e+05 8.5873825e+05 1.8213575e+05\n",
      " 8.1197250e+04 0.0000000e+00 5.3776250e+04 1.4572775e+05 1.9800475e+05\n",
      " 5.8873025e+05 3.9411575e+05 5.4413000e+04 2.9671150e+05 1.2739050e+05\n",
      " 2.8152900e+05 1.2079300e+05 2.3517950e+05 5.2987400e+05 9.1765050e+05\n",
      " 2.6223400e+05 8.7915150e+05 1.9268385e+06 1.8018310e+06 1.7784210e+06\n",
      " 1.9920250e+06 1.7880160e+06 1.3359260e+06 3.0504420e+06 2.0841700e+06\n",
      " 4.6571580e+06 9.5575940e+06 1.2873172e+07 1.4024848e+07 6.7226320e+06\n",
      " 3.2905840e+06 1.5323840e+06 2.3862880e+06 1.2878560e+06 6.1208000e+05\n",
      " 2.0402160e+06 2.1214080e+06 2.8391040e+06 4.6172560e+06 5.0967200e+06\n",
      " 5.3807840e+06 6.7264800e+06 9.4255760e+06 1.0551576e+07 1.2427768e+07\n",
      " 1.7343504e+07 2.5900144e+07 2.2254496e+07 1.4320336e+07 1.1056416e+07\n",
      " 1.3149040e+07 1.1094736e+07 1.4153856e+07 9.9517440e+06 5.7427200e+06\n",
      " 7.6914240e+06 7.5711680e+06 5.1278080e+06 5.5628160e+06 4.4574720e+06\n",
      " 4.6306880e+06 5.4427840e+06 4.9153280e+06 4.8684800e+06 4.9021120e+06\n",
      " 5.4005760e+06 3.5275200e+06 3.4665600e+06 3.2160640e+06 3.3240000e+06\n",
      " 3.3177600e+06 3.5585280e+06 2.5691200e+06 2.0953600e+06 2.2214400e+06\n",
      " 2.0601600e+06 2.5686720e+06 1.9962240e+06 1.3482240e+06 9.0592000e+05\n",
      " 8.7702400e+05 7.6844800e+05 7.9715200e+05 6.5721600e+05 9.0115200e+05\n",
      " 7.8268800e+05 6.4352000e+05 5.0374400e+05 2.3648000e+05 2.6128000e+05\n",
      " 7.4976000e+04 4.0064000e+04 1.1392000e+04 3.3280000e+03 6.7520000e+03]\n"
     ]
    },
    {
     "name": "stderr",
     "output_type": "stream",
     "text": [
      " 35%|███▌      | 4400/12535 [2:17:05<4:20:26,  1.92s/it]"
     ]
    },
    {
     "name": "stdout",
     "output_type": "stream",
     "text": [
      "[0.01115261 0.01122425 0.01123028 0.01098951 0.01057276 0.01072135\n",
      " 0.01046035 0.00979956 0.01069286 0.01123668 0.0108141  0.01012491\n",
      " 0.00960231 0.00983654 0.00976207 0.00920602 0.00947292 0.00919061\n",
      " 0.00947885 0.00923836 0.00896642 0.00841667 0.00827667 0.00863576\n",
      " 0.00857361 0.00847984 0.00878449 0.00787355 0.00760753 0.00756915\n",
      " 0.00736353 0.00725616 0.00722805 0.00769316 0.00789857 0.00755904\n",
      " 0.00738878 0.00700931 0.00897354 0.01525155 0.01583541 0.01445631\n",
      " 0.01349317 0.0135719  0.01204266 0.01376807 0.01470701 0.01570857\n",
      " 0.01536633 0.01552084 0.01888387 0.02146971 0.02355443 0.02453259\n",
      " 0.02574096 0.02585959 0.02666869 0.02781123 0.02595395 0.02140662\n",
      " 0.02006978 0.0202496  0.01812401 0.01253361 0.01281233 0.01693592\n",
      " 0.0243268  0.02289259 0.02251514 0.02213827 0.02058795 0.01858462\n",
      " 0.01686082 0.01561883 0.01540601 0.01414861 0.01418565 0.0152525\n",
      " 0.01416969 0.01532573 0.01645403 0.01648353 0.01503248 0.01490146\n",
      " 0.01287869 0.01030282 0.02304185 0.03073385 0.02204897 0.02217395\n",
      " 0.02715577 0.02365533 0.02725843 0.02608653 0.02097403 0.01383962\n",
      " 0.01033423 0.00509292 0.00206331 0.00096296] [3.7252325e+06 4.5840400e+06 6.5154600e+06 5.3555700e+06 5.3304300e+06\n",
      " 8.2907200e+06 6.4681240e+06 6.0627160e+06 5.1679760e+06 5.6133080e+06\n",
      " 5.0374680e+06 5.3690720e+06 5.9582160e+06 5.4680240e+06 5.9747040e+06\n",
      " 5.6198880e+06 6.1951440e+06 8.1520960e+06 7.4994640e+06 6.4706560e+06\n",
      " 6.5979040e+06 6.5622960e+06 5.1875920e+06 4.3625280e+06 5.0702560e+06\n",
      " 4.2424960e+06 4.2915840e+06 3.6234720e+06 2.9876320e+06 3.0919200e+06\n",
      " 3.1707360e+06 2.5849600e+06 2.8294400e+06 3.6471360e+06 4.1581920e+06\n",
      " 3.8774880e+06 3.1770560e+06 4.5516160e+06 6.8278720e+06 1.1599712e+07\n",
      " 1.1388832e+07 1.4838608e+07 1.5715600e+07 1.9782848e+07 1.2830528e+07\n",
      " 1.3879360e+07 1.2578816e+07 1.0093248e+07 1.0721344e+07 1.0447264e+07\n",
      " 1.3952480e+07 2.0646976e+07 2.3902176e+07 2.4542880e+07 3.2655840e+07\n",
      " 4.7783456e+07 5.5285440e+07 7.9368320e+07 1.0359750e+08 6.5869696e+07\n",
      " 6.6416704e+07 7.0783104e+07 1.0085453e+08 3.3227264e+07 2.2420096e+07\n",
      " 2.4551680e+07 4.5102208e+07 5.2866048e+07 5.7078784e+07 7.1210240e+07\n",
      " 6.8873728e+07 7.2942208e+07 9.2899456e+07 7.4177664e+07 7.0516736e+07\n",
      " 5.6121856e+07 4.7625856e+07 4.5686272e+07 4.3991168e+07 3.8857216e+07\n",
      " 5.0166656e+07 6.2107264e+07 4.6720256e+07 4.2680064e+07 4.1864448e+07\n",
      " 4.2595584e+07 1.5507840e+08 3.4015565e+08 3.8573184e+08 1.7552819e+08\n",
      " 2.6069069e+08 1.4299085e+08 2.2228813e+08 2.0691328e+08 2.1833933e+08\n",
      " 8.7133696e+07 3.6948480e+07 8.6568960e+06 1.7976320e+06 4.0448000e+05]\n"
     ]
    },
    {
     "name": "stderr",
     "output_type": "stream",
     "text": [
      " 36%|███▌      | 4500/12535 [2:20:17<4:47:27,  2.15s/it]"
     ]
    },
    {
     "name": "stdout",
     "output_type": "stream",
     "text": [
      "[0.         0.         0.         0.         0.00574209 0.\n",
      " 0.         0.         0.         0.00466958 0.0044172  0.00485728\n",
      " 0.00333086 0.         0.00505505 0.00376365 0.         0.\n",
      " 0.         0.00336807 0.         0.         0.         0.\n",
      " 0.         0.         0.00913249 0.         0.00538451 0.00558922\n",
      " 0.00233065 0.00576826 0.00478118 0.00477268 0.00474166 0.0055871\n",
      " 0.00655349 0.00619955 0.00598581 0.00586116 0.00536802 0.00487427\n",
      " 0.00469044 0.00471193 0.00543793 0.00494767 0.00695953 0.0073179\n",
      " 0.00880493 0.00739158 0.00694859 0.00747164 0.00672187 0.0072307\n",
      " 0.01065104 0.01225587 0.01099395 0.00968408 0.01044798 0.0098447\n",
      " 0.00912385 0.01104997 0.01088933 0.01267139 0.01189249 0.01326726\n",
      " 0.02664876 0.03116449 0.02897174 0.03390615 0.04347841 0.04122727\n",
      " 0.02828985 0.0209814  0.02040749 0.01765929 0.01328883 0.01160798\n",
      " 0.01113741 0.01116514 0.01302293 0.01366981 0.01330069 0.0109871\n",
      " 0.00793793 0.00855542 0.00836232 0.00678519 0.00546716 0.00545177\n",
      " 0.00547533 0.00481225 0.00310775 0.00240759 0.00241399 0.00216467\n",
      " 0.00126202 0.00100122 0.0009157  0.00060636] [0.0000000e+00 0.0000000e+00 0.0000000e+00 0.0000000e+00 1.5351409e+04\n",
      " 0.0000000e+00 0.0000000e+00 0.0000000e+00 0.0000000e+00 9.3004502e+03\n",
      " 4.3417656e+03 4.5616328e+03 4.3628086e+03 0.0000000e+00 1.2578750e+04\n",
      " 1.9744473e+04 0.0000000e+00 0.0000000e+00 0.0000000e+00 3.0972344e+03\n",
      " 0.0000000e+00 0.0000000e+00 0.0000000e+00 0.0000000e+00 0.0000000e+00\n",
      " 0.0000000e+00 1.6864984e+04 0.0000000e+00 1.5655906e+04 2.1624773e+04\n",
      " 9.4294531e+03 6.9885266e+04 8.2558750e+03 5.7326562e+04 6.4831844e+04\n",
      " 1.9880506e+05 5.9385125e+04 1.7197675e+05 2.8234400e+05 2.2027175e+05\n",
      " 1.7860812e+05 2.7431825e+05 2.7916000e+05 2.2934425e+05 6.9869000e+04\n",
      " 3.5338750e+04 4.6686750e+04 1.8406550e+05 2.2512450e+05 7.2484600e+05\n",
      " 1.2003580e+06 4.7141800e+05 2.2196250e+05 3.9736150e+05 2.9623360e+06\n",
      " 1.3918585e+07 2.6778358e+07 3.6448920e+07 2.2687232e+07 1.4708976e+07\n",
      " 1.1981440e+07 8.3146560e+06 8.3127840e+06 6.8274880e+06 5.6089120e+06\n",
      " 7.8029440e+06 5.7310192e+07 1.5885208e+08 2.0030614e+08 1.9435808e+08\n",
      " 1.2913683e+08 2.8664282e+08 4.0747712e+08 1.2720973e+08 1.1091802e+08\n",
      " 8.8737152e+07 8.3629952e+07 4.8716032e+07 4.6461952e+07 3.3963904e+07\n",
      " 3.1197440e+07 3.6184320e+07 4.0104960e+07 5.3338112e+07 3.3395712e+07\n",
      " 2.1907200e+07 1.9084288e+07 1.4286336e+07 7.9434240e+06 6.0569600e+06\n",
      " 5.5508480e+06 4.8271360e+06 2.4714240e+06 1.5685120e+06 1.2884480e+06\n",
      " 7.8028800e+05 3.9347200e+05 2.2604800e+05 2.0198400e+05 7.5776000e+04]\n"
     ]
    },
    {
     "name": "stderr",
     "output_type": "stream",
     "text": [
      " 37%|███▋      | 4600/12535 [2:23:21<4:07:10,  1.87s/it]"
     ]
    },
    {
     "name": "stdout",
     "output_type": "stream",
     "text": [
      "[0.01184002 0.01211016 0.01148783 0.01099024 0.01140263 0.01847308\n",
      " 0.02969101 0.03493417 0.03357334 0.03814749 0.03584318 0.0349451\n",
      " 0.03407286 0.03056859 0.0305608  0.02839676 0.02864881 0.03628463\n",
      " 0.03110394 0.03546524 0.03670759 0.0264798  0.01966223 0.0196858\n",
      " 0.02441348 0.0261788  0.02953468 0.02971172 0.02872304 0.03239128\n",
      " 0.0294422  0.03246685 0.03408866 0.03412793 0.02976669 0.02751308\n",
      " 0.02730065 0.02870592 0.02944162 0.03464959 0.03437624 0.03244619\n",
      " 0.03108229 0.03178052 0.02925445 0.02639709 0.02435892 0.0255565\n",
      " 0.02408951 0.02230458 0.02367724 0.02537212 0.02125623 0.01585119\n",
      " 0.01342716 0.01044877 0.00958662 0.00957372 0.00944984 0.01017096\n",
      " 0.01060837 0.01069656 0.0259574  0.02621383 0.0230922  0.02232445\n",
      " 0.02255929 0.02439721 0.02813221 0.02182992 0.0194705  0.01895551\n",
      " 0.02146265 0.02270837 0.02262909 0.02379098 0.02699136 0.0280465\n",
      " 0.02752286 0.02541105 0.02181037 0.01943008 0.02004272 0.02080193\n",
      " 0.02020748 0.01993204 0.02401327 0.02090261 0.01891587 0.01617276\n",
      " 0.01395853 0.01268695 0.01053891 0.00897067 0.00707401 0.00543125\n",
      " 0.00395326 0.0029599  0.00157527 0.0010862 ] [4.42256062e+05 7.54926812e+05 1.08022762e+06 1.21839025e+06\n",
      " 1.01221925e+06 1.64438800e+06 3.13842900e+06 7.52754900e+06\n",
      " 7.11479400e+06 5.35930800e+06 1.18747120e+07 1.42458960e+07\n",
      " 9.44248000e+06 1.07117440e+07 8.72441600e+06 1.05097920e+07\n",
      " 6.56040800e+06 8.32916800e+06 9.72904800e+06 1.22690160e+07\n",
      " 1.37806080e+07 1.59448640e+07 7.89452800e+06 7.64372800e+06\n",
      " 1.18874400e+07 1.19741760e+07 1.19893280e+07 1.53520800e+07\n",
      " 1.65648960e+07 1.91854720e+07 2.00278880e+07 2.05123520e+07\n",
      " 2.65774720e+07 2.32244160e+07 2.01339200e+07 2.06833600e+07\n",
      " 2.18248960e+07 3.58545920e+07 3.85052480e+07 5.42069760e+07\n",
      " 6.26524160e+07 7.04807680e+07 8.33511040e+07 7.59645440e+07\n",
      " 7.97870080e+07 8.38017920e+07 7.67137280e+07 7.22365440e+07\n",
      " 7.14990080e+07 8.28427520e+07 7.70522880e+07 9.70827520e+07\n",
      " 1.16885888e+08 6.98990080e+07 4.54993920e+07 3.26524160e+07\n",
      " 2.31906560e+07 1.89699840e+07 1.60629760e+07 9.63443200e+06\n",
      " 6.89190400e+06 7.45164800e+06 8.42746880e+07 1.26685056e+08\n",
      " 1.43964672e+08 1.07757312e+08 7.22316800e+07 8.54809600e+07\n",
      " 1.26844672e+08 1.19345152e+08 1.18141440e+08 7.90840320e+07\n",
      " 6.33249280e+07 7.11290880e+07 1.07050496e+08 8.89761280e+07\n",
      " 8.43701760e+07 9.27997440e+07 1.20659712e+08 1.23546880e+08\n",
      " 1.36832000e+08 1.26803456e+08 9.76135680e+07 9.70982400e+07\n",
      " 6.86737920e+07 5.83388160e+07 5.50228480e+07 6.28234240e+07\n",
      " 7.66540800e+07 9.20550400e+07 7.52302080e+07 3.77200640e+07\n",
      " 2.78538240e+07 2.03709440e+07 1.34896640e+07 7.08147200e+06\n",
      " 3.14880000e+06 1.58156800e+06 5.52448000e+05 2.29376000e+05]\n"
     ]
    },
    {
     "name": "stderr",
     "output_type": "stream",
     "text": [
      " 37%|███▋      | 4700/12535 [2:26:37<3:49:14,  1.76s/it]"
     ]
    },
    {
     "name": "stdout",
     "output_type": "stream",
     "text": [
      "[0.         0.         0.         0.         0.         0.\n",
      " 0.         0.         0.         0.         0.         0.\n",
      " 0.         0.         0.         0.         0.         0.\n",
      " 0.         0.         0.         0.         0.         0.\n",
      " 0.         0.         0.         0.         0.         0.\n",
      " 0.         0.         0.         0.         0.         0.\n",
      " 0.         0.         0.         0.         0.         0.00292779\n",
      " 0.00458084 0.         0.00489356 0.         0.01259804 0.00869989\n",
      " 0.00826044 0.00735358 0.00871664 0.00889354 0.01186055 0.01280091\n",
      " 0.01268598 0.01183544 0.01348679 0.01397346 0.01416968 0.02197977\n",
      " 0.0281586  0.02855284 0.02228368 0.0229406  0.02254129 0.01995187\n",
      " 0.01844994 0.01749924 0.01605818 0.01483962 0.0113666  0.00901887\n",
      " 0.01031886 0.01234154 0.01630202 0.02363084 0.02171231 0.02209668\n",
      " 0.02359812 0.02905617 0.02690177 0.02480505 0.02464543 0.03157546\n",
      " 0.02319227 0.02216924 0.02008039 0.01631408 0.01383394 0.01374464\n",
      " 0.01381392 0.01049549 0.00906315 0.00757564 0.00642856 0.00392262\n",
      " 0.00397271 0.00302113 0.00186416 0.00101344] [0.0000000e+00 0.0000000e+00 0.0000000e+00 0.0000000e+00 0.0000000e+00\n",
      " 0.0000000e+00 0.0000000e+00 0.0000000e+00 0.0000000e+00 0.0000000e+00\n",
      " 0.0000000e+00 0.0000000e+00 0.0000000e+00 0.0000000e+00 0.0000000e+00\n",
      " 0.0000000e+00 0.0000000e+00 0.0000000e+00 0.0000000e+00 0.0000000e+00\n",
      " 0.0000000e+00 0.0000000e+00 0.0000000e+00 0.0000000e+00 0.0000000e+00\n",
      " 0.0000000e+00 0.0000000e+00 0.0000000e+00 0.0000000e+00 0.0000000e+00\n",
      " 0.0000000e+00 0.0000000e+00 0.0000000e+00 0.0000000e+00 0.0000000e+00\n",
      " 0.0000000e+00 0.0000000e+00 0.0000000e+00 0.0000000e+00 0.0000000e+00\n",
      " 0.0000000e+00 4.2157573e+03 7.4224243e+03 0.0000000e+00 1.8765020e+04\n",
      " 0.0000000e+00 4.3592453e+04 7.5763938e+04 1.3238406e+04 8.8438797e+04\n",
      " 4.1885669e+05 6.5008700e+05 1.5337562e+06 2.6865052e+06 2.9302290e+06\n",
      " 3.6937090e+06 4.7404560e+06 7.2758280e+06 8.6717320e+06 1.8954632e+07\n",
      " 3.1051316e+07 3.5276728e+07 4.1107800e+07 4.3610432e+07 5.9435312e+07\n",
      " 6.3466416e+07 3.9694016e+07 5.0686528e+07 3.6426496e+07 4.9707200e+07\n",
      " 4.0620064e+07 2.2579648e+07 1.3340032e+07 1.7859328e+07 2.8119616e+07\n",
      " 5.9598848e+07 6.3547328e+07 6.4790528e+07 7.2055744e+07 7.3117248e+07\n",
      " 9.5267328e+07 6.8690944e+07 6.9303424e+07 1.6406874e+08 8.5473664e+07\n",
      " 7.2123392e+07 6.4857344e+07 6.8830080e+07 5.0703232e+07 4.8673152e+07\n",
      " 5.6392832e+07 3.1711744e+07 2.0301056e+07 1.2296064e+07 8.9427200e+06\n",
      " 3.2200960e+06 1.5303680e+06 7.5353600e+05 3.3996800e+05 1.3542400e+05]\n"
     ]
    },
    {
     "name": "stderr",
     "output_type": "stream",
     "text": [
      " 38%|███▊      | 4800/12535 [2:30:34<4:25:48,  2.06s/it]"
     ]
    },
    {
     "name": "stdout",
     "output_type": "stream",
     "text": [
      "[0.02470182 0.02475811 0.02376717 0.02393565 0.02396486 0.\n",
      " 0.02547405 0.02892429 0.02647761 0.02667574 0.         0.02962788\n",
      " 0.02983628 0.03033411 0.02456751 0.         0.0284577  0.01423697\n",
      " 0.02416102 0.02042521 0.01786843 0.02313914 0.02474596 0.02332639\n",
      " 0.02023765 0.02280593 0.02145809 0.02137171 0.02052808 0.02093206\n",
      " 0.02472172 0.027795   0.03346388 0.03419754 0.03654758 0.03602759\n",
      " 0.03840225 0.03293145 0.03204969 0.03426877 0.03456489 0.03153234\n",
      " 0.03268128 0.03057943 0.02573549 0.02504835 0.03204421 0.02271328\n",
      " 0.02256364 0.0268477  0.03143192 0.04052295 0.03395361 0.03245489\n",
      " 0.0256968  0.01648184 0.02429912 0.02242963 0.02015065 0.01976394\n",
      " 0.01904475 0.01946015 0.01731578 0.01479666 0.01160702 0.01555263\n",
      " 0.01429867 0.01509524 0.01195173 0.01292199 0.01273854 0.01212688\n",
      " 0.01162535 0.01088782 0.0095256  0.01005809 0.00894848 0.00809418\n",
      " 0.00697129 0.00735712 0.00523887 0.00796909 0.00956099 0.00831618\n",
      " 0.00516271 0.00505954 0.00543242 0.00436267 0.00567908 0.00508344\n",
      " 0.00315119 0.00237268 0.00199235 0.00114286 0.00119023 0.00130735\n",
      " 0.00097954 0.00064917 0.00015828 0.00043356] [1.24148461e+05 7.72714922e+04 1.81457797e+05 1.44886750e+05\n",
      " 1.96585062e+05 0.00000000e+00 9.82991250e+04 4.13529375e+04\n",
      " 1.38877938e+05 4.57180625e+04 0.00000000e+00 1.16080125e+05\n",
      " 1.62011375e+05 1.79472750e+05 1.58322000e+05 0.00000000e+00\n",
      " 1.65103750e+05 4.53152500e+04 2.84340375e+05 2.63639750e+05\n",
      " 2.27947750e+05 3.84354000e+05 3.59604500e+05 1.29378250e+05\n",
      " 2.31490500e+05 5.86496500e+05 2.54419500e+05 2.62121500e+05\n",
      " 1.80182000e+05 3.04856500e+05 3.22211000e+05 5.08036500e+05\n",
      " 1.65945500e+05 8.73304500e+05 6.12124500e+05 5.66816000e+05\n",
      " 2.54116000e+05 4.29110000e+05 4.30315000e+05 5.16375000e+05\n",
      " 5.29085000e+05 3.83399000e+05 3.73923000e+05 1.34471200e+06\n",
      " 1.37926000e+06 1.50892700e+06 8.44269000e+05 9.06195000e+05\n",
      " 1.65825800e+06 1.66812800e+06 1.42578200e+06 8.76774000e+05\n",
      " 7.02680000e+05 1.45367600e+06 2.06354800e+06 1.65645400e+06\n",
      " 3.55959000e+06 3.18866000e+06 4.67898000e+06 5.46983200e+06\n",
      " 5.87980000e+06 5.43560000e+06 5.93555200e+06 6.50750000e+06\n",
      " 5.24064000e+06 3.87587200e+06 2.25172000e+06 2.57110400e+06\n",
      " 2.74412000e+06 2.81125600e+06 2.37670400e+06 2.39134400e+06\n",
      " 2.69327200e+06 2.86300800e+06 1.73875200e+06 2.60078400e+06\n",
      " 2.00140000e+06 2.09664000e+06 1.93446400e+06 1.77220000e+06\n",
      " 8.56056000e+05 3.72736000e+05 7.39160000e+05 9.23088000e+05\n",
      " 9.85320000e+05 4.02232000e+05 2.88976000e+05 3.41960000e+05\n",
      " 4.02744000e+05 3.09760000e+05 2.40064000e+05 1.54008000e+05\n",
      " 1.00368000e+05 4.57120000e+04 9.45600000e+03 1.76960000e+04\n",
      " 7.56000000e+03 7.04800000e+03 7.60000000e+02 3.93600000e+03]\n"
     ]
    },
    {
     "name": "stderr",
     "output_type": "stream",
     "text": [
      " 39%|███▉      | 4900/12535 [2:34:22<3:23:46,  1.60s/it] "
     ]
    },
    {
     "name": "stdout",
     "output_type": "stream",
     "text": [
      "[0.00781469 0.00715064 0.01022866 0.00957365 0.00894189 0.00769031\n",
      " 0.00721848 0.00798671 0.00821758 0.00908202 0.00879477 0.00847214\n",
      " 0.00854616 0.00863073 0.00828148 0.00836079 0.00832163 0.00895277\n",
      " 0.00879128 0.00965827 0.01182022 0.01139052 0.01028922 0.00928202\n",
      " 0.00837261 0.01005551 0.01001617 0.00879829 0.00790505 0.00910211\n",
      " 0.0207375  0.01646762 0.01340888 0.02054623 0.02645707 0.02906217\n",
      " 0.02003096 0.01664249 0.01559203 0.01419442 0.01304615 0.01491307\n",
      " 0.01899346 0.02130834 0.01740395 0.01587223 0.01473636 0.0185668\n",
      " 0.01954889 0.01812839 0.01317002 0.0114363  0.01590372 0.02221265\n",
      " 0.02927997 0.03340115 0.03038291 0.02288336 0.01919648 0.01762859\n",
      " 0.01967734 0.01970598 0.02125505 0.01814688 0.01686393 0.01673834\n",
      " 0.01451591 0.01188911 0.01088028 0.01293035 0.01238621 0.01365995\n",
      " 0.01246511 0.01311947 0.01227873 0.01099043 0.01228538 0.01151573\n",
      " 0.00992814 0.00917952 0.00803298 0.00740149 0.00654706 0.00659343\n",
      " 0.00614763 0.00547691 0.00460819 0.00383545 0.0038327  0.0034077\n",
      " 0.00308856 0.00318462 0.00340021 0.00274134 0.00215652 0.00170162\n",
      " 0.00118825 0.0007706  0.00054885 0.00033808] [1.1791819e+05 2.1548344e+04 4.8385484e+05 1.1620942e+06 1.0255974e+06\n",
      " 1.4515450e+05 2.4235875e+05 3.7986125e+05 5.5956725e+05 8.0823275e+05\n",
      " 5.6506100e+05 6.4410300e+05 4.2686600e+05 5.5407700e+05 3.3879700e+05\n",
      " 4.2507850e+05 3.2898650e+05 5.1583350e+05 3.6370900e+05 9.7866000e+05\n",
      " 1.2368150e+06 8.9044200e+05 1.0863310e+06 1.2547480e+06 8.5657600e+05\n",
      " 6.9746200e+05 1.4835670e+06 9.1554800e+05 5.5854800e+05 4.3303200e+05\n",
      " 5.4976600e+05 7.7098800e+05 1.5771760e+06 3.0927040e+06 1.8838520e+06\n",
      " 2.8291100e+06 4.4644800e+06 4.0224200e+06 7.5567920e+06 5.4834240e+06\n",
      " 5.0164600e+06 3.7074200e+06 3.2289640e+06 3.7467440e+06 3.5116400e+06\n",
      " 3.8073200e+06 6.6941200e+06 1.1784536e+07 1.2679208e+07 2.1711976e+07\n",
      " 3.4098296e+07 2.8926896e+07 3.6760384e+07 4.4195216e+07 6.5211936e+07\n",
      " 1.1796074e+08 1.9815891e+08 1.9158810e+08 7.3787776e+07 5.2729024e+07\n",
      " 4.0515200e+07 3.7698752e+07 5.1582144e+07 5.1494656e+07 6.0545024e+07\n",
      " 6.9196288e+07 6.0366208e+07 3.5446144e+07 2.5553920e+07 2.0295424e+07\n",
      " 2.1244928e+07 2.6118784e+07 2.4513536e+07 2.3366400e+07 2.4714112e+07\n",
      " 1.9512704e+07 2.1289472e+07 2.0309504e+07 1.7771136e+07 1.3457920e+07\n",
      " 1.1090048e+07 9.9034880e+06 9.5621120e+06 8.2878720e+06 6.6693120e+06\n",
      " 5.8147840e+06 4.3461120e+06 3.6488960e+06 3.1264000e+06 2.3233280e+06\n",
      " 1.4579200e+06 1.6435200e+06 1.4356480e+06 1.2286720e+06 7.1590400e+05\n",
      " 5.3683200e+05 3.1052800e+05 1.3568000e+05 8.5504000e+04 2.9568000e+04]\n"
     ]
    },
    {
     "name": "stderr",
     "output_type": "stream",
     "text": [
      " 40%|███▉      | 5000/12535 [2:37:49<3:39:53,  1.75s/it]"
     ]
    },
    {
     "name": "stdout",
     "output_type": "stream",
     "text": [
      "[0.02676842 0.0251832  0.01969249 0.01845393 0.01961278 0.01794372\n",
      " 0.01612451 0.01499666 0.014902   0.01412641 0.01598979 0.01974529\n",
      " 0.01804921 0.0178418  0.01537326 0.01453936 0.01274014 0.01216974\n",
      " 0.0106236  0.01317095 0.01176187 0.01315982 0.01201947 0.01196679\n",
      " 0.01166421 0.01024604 0.01140163 0.00951999 0.00964219 0.00979393\n",
      " 0.01245469 0.01224478 0.0149235  0.01448227 0.01196967 0.01740741\n",
      " 0.01556985 0.01189083 0.0125364  0.01292667 0.01794202 0.01469066\n",
      " 0.02514025 0.01652844 0.01591725 0.01194676 0.01524735 0.01496183\n",
      " 0.01009021 0.01139071 0.01275913 0.00893492 0.00882959 0.01038393\n",
      " 0.00966155 0.01060703 0.01391941 0.02014312 0.01562472 0.0133106\n",
      " 0.01205501 0.01146657 0.00822419 0.00761771 0.01156142 0.00800301\n",
      " 0.00805174 0.00735244 0.00654694 0.00543613 0.00484225 0.00420132\n",
      " 0.00464293 0.0047307  0.0052731  0.00427001 0.00447472 0.0054261\n",
      " 0.00449662 0.00325986 0.00459611 0.0044834  0.0028716  0.0028214\n",
      " 0.00471143 0.00297414 0.00336572 0.00219386 0.00203747 0.00164311\n",
      " 0.00167836 0.00195493 0.00188409 0.00113718 0.00108623 0.00097095\n",
      " 0.00061642 0.00052889 0.00056702 0.        ] [4.7375535e+06 5.6725510e+06 5.0012900e+06 3.8919550e+06 3.9101560e+06\n",
      " 3.9745240e+06 2.6759640e+06 3.3464820e+06 2.8823780e+06 1.3678000e+06\n",
      " 1.4701600e+06 1.2965520e+06 1.3412880e+06 2.0817120e+06 1.7433800e+06\n",
      " 2.2019920e+06 2.2966760e+06 2.5879360e+06 2.0000200e+06 1.8722560e+06\n",
      " 1.6805840e+06 2.1111200e+06 1.2432680e+06 1.7186800e+06 9.3194800e+05\n",
      " 1.2558880e+06 1.6602120e+06 1.4197360e+06 1.2837360e+06 6.9690400e+05\n",
      " 6.1835200e+05 6.7714400e+05 6.6663200e+05 3.5414400e+05 5.6652800e+05\n",
      " 5.9160000e+05 9.3056000e+05 7.7035200e+05 6.0166400e+05 5.9158400e+05\n",
      " 7.2888800e+05 5.0036800e+05 8.1021600e+05 6.2729600e+05 1.0797120e+06\n",
      " 5.7112000e+05 1.0070960e+06 1.5117840e+06 1.2691200e+06 1.6293040e+06\n",
      " 1.2839120e+06 1.2504480e+06 1.1577600e+06 1.3853920e+06 1.1955760e+06\n",
      " 8.5795200e+05 7.7105600e+05 1.3773280e+06 1.3242320e+06 1.5778080e+06\n",
      " 1.2312480e+06 1.8483120e+06 1.2419120e+06 1.0793360e+06 1.0956960e+06\n",
      " 1.0308640e+06 7.0852800e+05 6.7288800e+05 4.9881600e+05 2.3526400e+05\n",
      " 2.4517600e+05 2.8659200e+05 2.0492000e+05 1.4112000e+05 1.7999200e+05\n",
      " 1.3898400e+05 1.5442400e+05 6.2192000e+04 1.4636000e+05 6.6752000e+04\n",
      " 8.7384000e+04 7.9608000e+04 6.2136000e+04 6.8456000e+04 4.1264000e+04\n",
      " 8.0280000e+04 9.1832000e+04 5.0496000e+04 5.8968000e+04 4.1632000e+04\n",
      " 2.5392000e+04 3.0320000e+04 5.6520000e+04 5.2960000e+03 1.0464000e+04\n",
      " 6.9200000e+03 2.8960000e+03 7.3040000e+03 5.0320000e+03 0.0000000e+00]\n"
     ]
    },
    {
     "name": "stderr",
     "output_type": "stream",
     "text": [
      " 41%|████      | 5100/12535 [2:41:02<4:26:03,  2.15s/it]"
     ]
    },
    {
     "name": "stdout",
     "output_type": "stream",
     "text": [
      "[0.02303377 0.02354578 0.02623424 0.03010902 0.03177045 0.03098525\n",
      " 0.03153196 0.0325128  0.03279056 0.03354987 0.03295281 0.03113126\n",
      " 0.02832703 0.02505472 0.02540053 0.0285314  0.03377018 0.03536732\n",
      " 0.04313438 0.03682958 0.03372532 0.03126759 0.02975938 0.02686163\n",
      " 0.02418586 0.02185689 0.01976248 0.02081066 0.02006868 0.01676145\n",
      " 0.02348135 0.02512561 0.02710275 0.04007045 0.03348014 0.02651623\n",
      " 0.02555128 0.0216391  0.01944822 0.01657493 0.01814688 0.01764446\n",
      " 0.02253223 0.02026465 0.01593865 0.0152447  0.01387557 0.01208507\n",
      " 0.01315277 0.0131375  0.01267792 0.01203355 0.01231058 0.01175678\n",
      " 0.01309847 0.01197979 0.01158548 0.01166703 0.00940479 0.01160747\n",
      " 0.01396409 0.01210151 0.01313134 0.01279664 0.01048807 0.00885127\n",
      " 0.00854394 0.00966126 0.01094694 0.00947376 0.01245901 0.0111853\n",
      " 0.00894849 0.0091792  0.00742546 0.00812177 0.00726378 0.00600268\n",
      " 0.00453431 0.00607569 0.00631426 0.00549823 0.00441579 0.00530123\n",
      " 0.00603927 0.00498317 0.00464955 0.00468455 0.00318975 0.00445446\n",
      " 0.00417112 0.00330027 0.00280569 0.00154443 0.00222356 0.00175233\n",
      " 0.00102764 0.00120258 0.00083824 0.00026707] [4.6512602e+04 1.4185838e+05 1.1579330e+05 3.0303953e+05 1.6816225e+05\n",
      " 1.4142631e+05 3.5446662e+05 2.8467700e+05 2.5350788e+05 4.7010162e+05\n",
      " 4.2148750e+05 2.2835725e+05 6.6511125e+05 7.3207600e+05 6.9758100e+05\n",
      " 5.8826050e+05 4.5436300e+05 5.6493950e+05 5.1734000e+05 7.9401050e+05\n",
      " 7.8849800e+05 1.5106910e+06 1.0664230e+06 1.4141130e+06 1.3656350e+06\n",
      " 2.0666250e+06 1.1570570e+06 1.8290580e+06 1.0853680e+06 1.3321680e+06\n",
      " 1.3731140e+06 9.0307000e+05 1.2586380e+06 1.4696560e+06 1.3231200e+06\n",
      " 2.1383960e+06 2.0616720e+06 2.7156660e+06 2.3337760e+06 1.8524120e+06\n",
      " 1.6165720e+06 1.8018240e+06 1.3347360e+06 1.0417520e+06 1.4887440e+06\n",
      " 1.9432840e+06 1.8759880e+06 1.7725960e+06 1.5183240e+06 1.7833840e+06\n",
      " 2.1297440e+06 1.2426320e+06 1.2642280e+06 1.2387920e+06 9.7117600e+05\n",
      " 2.3001280e+06 2.1073720e+06 2.0612800e+06 1.6781200e+06 1.7472160e+06\n",
      " 1.7772400e+06 1.5685760e+06 1.7034960e+06 1.9850880e+06 1.2090960e+06\n",
      " 1.5711520e+06 1.4227920e+06 9.3796800e+05 9.7264000e+05 1.2127680e+06\n",
      " 1.1150320e+06 1.7858160e+06 1.5008720e+06 1.3978800e+06 1.1632480e+06\n",
      " 1.0808160e+06 8.0601600e+05 6.3632000e+05 4.9725600e+05 4.6657600e+05\n",
      " 7.9744000e+05 4.7375200e+05 3.5505600e+05 1.6222400e+05 1.5439200e+05\n",
      " 2.2385600e+05 2.4041600e+05 2.2089600e+05 1.7687200e+05 3.5748800e+05\n",
      " 1.4985600e+05 1.5088000e+05 1.0440000e+05 8.1864000e+04 5.4448000e+04\n",
      " 2.3528000e+04 2.2432000e+04 1.9032000e+04 8.8720000e+03 2.5200000e+03]\n"
     ]
    },
    {
     "name": "stderr",
     "output_type": "stream",
     "text": [
      " 41%|████▏     | 5200/12535 [2:44:26<4:39:40,  2.29s/it]"
     ]
    },
    {
     "name": "stdout",
     "output_type": "stream",
     "text": [
      "[0.         0.01337535 0.00738662 0.0053648  0.0056175  0.00505473\n",
      " 0.00972063 0.00786745 0.00579671 0.00496187 0.00347504 0.0018202\n",
      " 0.00408924 0.00209777 0.00193311 0.00166408 0.00174901 0.00115459\n",
      " 0.00112086 0.00078271 0.00087383 0.         0.         0.00297712\n",
      " 0.00185124 0.         0.00259886 0.         0.00192333 0.00107193\n",
      " 0.00080082 0.00256828 0.00223446 0.00312365 0.00095478 0.00592153\n",
      " 0.00636012 0.00656514 0.00645681 0.00639082 0.00668266 0.00736923\n",
      " 0.00823259 0.00735409 0.01142796 0.00827191 0.00980714 0.00805872\n",
      " 0.00776628 0.0095028  0.01317962 0.01254429 0.01527047 0.01576666\n",
      " 0.0149024  0.01401158 0.01123897 0.01281677 0.02142945 0.02412642\n",
      " 0.02244112 0.02852939 0.02855399 0.02593798 0.02552197 0.02271456\n",
      " 0.02441311 0.02450162 0.02273026 0.02308773 0.01956705 0.01839445\n",
      " 0.01982856 0.01895385 0.02154772 0.02239173 0.02160102 0.02421039\n",
      " 0.02314934 0.02624198 0.02719481 0.02593878 0.02567974 0.02309489\n",
      " 0.02005064 0.01904537 0.00785778 0.00690182 0.00582691 0.0042823\n",
      " 0.00500354 0.00401829 0.00428816 0.00405378 0.00315503 0.00315945\n",
      " 0.00179243 0.00135471 0.00072392 0.00069693] [0.00000000e+00 1.30758945e+04 2.95257734e+04 6.16976445e+04\n",
      " 4.68484219e+04 4.79923438e+04 7.80482656e+04 5.31638750e+04\n",
      " 1.07910250e+05 8.99883438e+04 5.54023125e+04 8.43168750e+03\n",
      " 7.45350000e+03 8.76100000e+03 1.94004375e+04 1.05921875e+04\n",
      " 1.02814375e+04 2.31152500e+04 3.92600000e+03 1.77543750e+03\n",
      " 1.85750000e+03 0.00000000e+00 0.00000000e+00 2.89381250e+03\n",
      " 7.16518750e+03 0.00000000e+00 1.07476250e+04 0.00000000e+00\n",
      " 5.83118750e+03 5.26037500e+03 2.66168750e+03 2.15985000e+04\n",
      " 1.48239375e+04 3.88203750e+04 5.98406250e+03 4.49834375e+04\n",
      " 1.20690812e+05 2.27397188e+05 4.29739375e+05 2.55992625e+05\n",
      " 5.49099000e+05 6.67495750e+05 6.59583750e+05 3.17344500e+05\n",
      " 5.75657750e+05 7.77597500e+05 7.26844000e+05 8.41049000e+05\n",
      " 1.41427200e+06 6.43727000e+05 9.23901000e+05 1.17822900e+06\n",
      " 2.34242500e+06 2.83236900e+06 3.08748200e+06 4.54873000e+06\n",
      " 4.45368800e+06 5.21626400e+06 2.35564880e+07 8.74822240e+07\n",
      " 5.80997280e+07 5.08753920e+07 5.50628160e+07 5.73941440e+07\n",
      " 7.49812480e+07 9.76463680e+07 6.61166080e+07 5.40853760e+07\n",
      " 5.83964800e+07 5.48725120e+07 6.37154560e+07 6.60732160e+07\n",
      " 5.81600640e+07 5.23888640e+07 5.37241600e+07 4.91363840e+07\n",
      " 3.64774400e+07 4.86224640e+07 5.13264640e+07 3.94288640e+07\n",
      " 4.26851840e+07 4.57576960e+07 5.13587200e+07 5.99819520e+07\n",
      " 7.60902400e+07 1.42627712e+08 3.61084160e+07 1.37629440e+07\n",
      " 9.50246400e+06 4.73216000e+06 3.23673600e+06 2.60633600e+06\n",
      " 2.78745600e+06 2.56755200e+06 1.53024000e+06 1.25145600e+06\n",
      " 6.00192000e+05 3.30624000e+05 1.07008000e+05 7.41120000e+04]\n"
     ]
    },
    {
     "name": "stderr",
     "output_type": "stream",
     "text": [
      " 42%|████▏     | 5300/12535 [2:47:46<4:50:36,  2.41s/it]"
     ]
    },
    {
     "name": "stdout",
     "output_type": "stream",
     "text": [
      "[0.01501878 0.016072   0.02097429 0.028966   0.02527398 0.02212964\n",
      " 0.01842576 0.0173439  0.01732907 0.01732383 0.01775868 0.01599417\n",
      " 0.01618516 0.018761   0.01914598 0.02245113 0.0231007  0.02527937\n",
      " 0.02237427 0.01998213 0.01913807 0.0209304  0.02595485 0.02885749\n",
      " 0.02621349 0.02403845 0.02086734 0.01842706 0.02175056 0.02015163\n",
      " 0.02514402 0.01979356 0.01706855 0.01880982 0.01904248 0.01911504\n",
      " 0.01959496 0.01936008 0.01691997 0.01549868 0.01495866 0.01857162\n",
      " 0.02107327 0.02115783 0.0207518  0.01570946 0.0136282  0.01229299\n",
      " 0.01028196 0.01222019 0.01461522 0.01482516 0.02012027 0.02049051\n",
      " 0.01834105 0.01491309 0.01574435 0.01611656 0.01216257 0.01315989\n",
      " 0.01397229 0.01506154 0.01591895 0.0140457  0.01613899 0.01685397\n",
      " 0.01328107 0.01104839 0.01016937 0.00999957 0.00991389 0.00894869\n",
      " 0.01107587 0.01215704 0.01348917 0.0128283  0.00969236 0.00825884\n",
      " 0.00732205 0.00781291 0.00859458 0.0081478  0.00695313 0.00649043\n",
      " 0.00712255 0.00414585 0.00357129 0.00207156 0.00272421 0.00181284\n",
      " 0.00144763 0.00162332 0.00105677 0.00059289 0.0004042  0.00067061\n",
      " 0.00080567 0.00013797 0.00040186 0.        ] [2.9413885e+06 2.3826805e+06 3.6109730e+06 3.9229660e+06 5.5355340e+06\n",
      " 5.1812980e+06 6.9567280e+06 7.3160280e+06 8.6358560e+06 7.4811360e+06\n",
      " 6.8756800e+06 7.0752120e+06 5.7565280e+06 6.4953920e+06 6.4544000e+06\n",
      " 4.9041600e+06 3.5665760e+06 5.2248320e+06 6.8814400e+06 8.0525680e+06\n",
      " 7.0245760e+06 7.5530000e+06 7.9049200e+06 7.0754400e+06 5.9410080e+06\n",
      " 5.3311360e+06 6.3285120e+06 7.7983840e+06 9.3276320e+06 4.2819840e+06\n",
      " 4.3035360e+06 5.5359840e+06 7.1999520e+06 6.4253440e+06 6.1512160e+06\n",
      " 6.6527840e+06 5.9346560e+06 4.8638560e+06 4.6364000e+06 5.8522240e+06\n",
      " 5.8066080e+06 6.0823520e+06 6.1076640e+06 6.9780640e+06 7.7183680e+06\n",
      " 1.1678208e+07 7.5570880e+06 6.2484160e+06 4.6864960e+06 3.2641280e+06\n",
      " 2.5967040e+06 3.1625600e+06 3.3309120e+06 3.5403200e+06 4.7762560e+06\n",
      " 4.8566080e+06 3.4530880e+06 3.0709440e+06 2.9140480e+06 3.8713600e+06\n",
      " 4.1120960e+06 4.4051840e+06 6.3964800e+06 3.9456320e+06 3.1881600e+06\n",
      " 3.4638080e+06 4.3405440e+06 4.7483200e+06 3.6691520e+06 2.4107200e+06\n",
      " 2.3499840e+06 1.5227840e+06 1.4687040e+06 1.9063360e+06 2.0418240e+06\n",
      " 2.5250880e+06 3.5335680e+06 2.2360960e+06 1.4649920e+06 1.2147520e+06\n",
      " 1.4323200e+06 1.1306240e+06 1.0990720e+06 5.2124800e+05 9.2150400e+05\n",
      " 4.0710400e+05 4.2195200e+05 1.3097600e+05 9.0048000e+04 1.2617600e+05\n",
      " 6.9120000e+04 5.0816000e+04 3.0304000e+04 1.5104000e+04 4.2880000e+03\n",
      " 9.1840000e+03 1.5360000e+04 1.9520000e+03 5.6960000e+03 0.0000000e+00]\n"
     ]
    },
    {
     "name": "stderr",
     "output_type": "stream",
     "text": [
      " 43%|████▎     | 5400/12535 [2:50:55<5:31:10,  2.78s/it]"
     ]
    },
    {
     "name": "stdout",
     "output_type": "stream",
     "text": [
      "[0.03511053 0.03708083 0.03317693 0.03092846 0.02917098 0.02773424\n",
      " 0.02706138 0.02543847 0.02355019 0.0223246  0.02167026 0.02176425\n",
      " 0.02104192 0.0198301  0.01981195 0.02036867 0.01971513 0.0200995\n",
      " 0.02011397 0.02059402 0.01945025 0.01927394 0.02008092 0.02265959\n",
      " 0.0246739  0.02778446 0.02430123 0.02322711 0.02218036 0.01896753\n",
      " 0.02092896 0.02316343 0.02114437 0.02054958 0.01877162 0.0205188\n",
      " 0.0223776  0.01846224 0.01683715 0.01641781 0.01484559 0.01683764\n",
      " 0.0168634  0.01753236 0.01733119 0.01542252 0.01676008 0.01847892\n",
      " 0.01840143 0.02017212 0.02263501 0.02480919 0.02302457 0.02110693\n",
      " 0.01720161 0.02133889 0.02901041 0.02631369 0.02127112 0.01645585\n",
      " 0.01697205 0.01838368 0.01723223 0.01619069 0.0149694  0.01265195\n",
      " 0.01196505 0.01217812 0.01183505 0.012312   0.01313336 0.01524778\n",
      " 0.01557153 0.01353243 0.01119098 0.00921239 0.00978038 0.00897618\n",
      " 0.00801747 0.00651871 0.0062229  0.00538024 0.00552155 0.00564777\n",
      " 0.00618796 0.00548656 0.00613708 0.00499996 0.00400097 0.0036103\n",
      " 0.00349142 0.0036065  0.00357523 0.0030637  0.00226187 0.00214826\n",
      " 0.00204395 0.00099195 0.00022769 0.00023949] [7.7760820e+06 9.1153860e+06 8.1591960e+06 1.2060248e+07 1.5713184e+07\n",
      " 1.6562720e+07 1.6922368e+07 2.0018792e+07 1.8279520e+07 1.9364648e+07\n",
      " 1.7475232e+07 1.6018880e+07 1.3521536e+07 1.3430656e+07 1.3030416e+07\n",
      " 1.5848752e+07 1.4843728e+07 1.5196512e+07 1.5095136e+07 1.3082048e+07\n",
      " 1.0790880e+07 8.8292480e+06 1.0834016e+07 1.0964032e+07 1.2770688e+07\n",
      " 1.2509888e+07 1.1458400e+07 1.2204192e+07 1.1248096e+07 1.0912480e+07\n",
      " 1.1623328e+07 1.2923392e+07 1.0021120e+07 9.2792320e+06 7.6566400e+06\n",
      " 8.7466880e+06 9.9862080e+06 8.6193600e+06 9.0097920e+06 8.0182720e+06\n",
      " 7.5201600e+06 8.7789440e+06 8.4134080e+06 8.9313600e+06 9.0198400e+06\n",
      " 8.8087680e+06 1.1991488e+07 1.0500992e+07 8.9573120e+06 1.0617024e+07\n",
      " 1.1107712e+07 1.5443008e+07 1.4456384e+07 1.7502656e+07 1.6602432e+07\n",
      " 2.0021568e+07 2.3900672e+07 2.7910016e+07 2.0187520e+07 2.1173824e+07\n",
      " 1.4923392e+07 1.0023424e+07 1.0328512e+07 1.2237824e+07 1.0929152e+07\n",
      " 1.3175168e+07 1.4297600e+07 1.2914240e+07 1.1883840e+07 9.7638400e+06\n",
      " 6.8622080e+06 6.9640960e+06 1.0045952e+07 1.1256320e+07 9.3224960e+06\n",
      " 6.5628800e+06 5.5237760e+06 4.4970880e+06 4.1719680e+06 2.6335360e+06\n",
      " 2.7102720e+06 2.1599360e+06 1.5667200e+06 1.2661760e+06 1.4898560e+06\n",
      " 1.2565760e+06 1.0073600e+06 9.1270400e+05 6.1977600e+05 3.8822400e+05\n",
      " 3.7248000e+05 4.3872000e+05 4.1664000e+05 2.8723200e+05 2.1702400e+05\n",
      " 1.3580800e+05 9.4336000e+04 5.1584000e+04 8.1920000e+03 2.3680000e+03]\n"
     ]
    },
    {
     "name": "stderr",
     "output_type": "stream",
     "text": [
      " 44%|████▍     | 5500/12535 [2:54:22<3:06:27,  1.59s/it]"
     ]
    },
    {
     "name": "stdout",
     "output_type": "stream",
     "text": [
      "[0.0141048  0.01561413 0.01717256 0.0183979  0.02115924 0.02367251\n",
      " 0.02097591 0.02058166 0.0245491  0.02017232 0.02619557 0.01503076\n",
      " 0.02828358 0.03446434 0.03801592 0.0287548  0.03639415 0.0346223\n",
      " 0.02880713 0.02294224 0.02499156 0.0191839  0.01895945 0.01781113\n",
      " 0.01509336 0.01305188 0.01425242 0.01647938 0.01783315 0.01661017\n",
      " 0.01595608 0.01535699 0.01485261 0.01508789 0.01635102 0.01467694\n",
      " 0.01316616 0.01739043 0.01411849 0.01584148 0.01164772 0.01329208\n",
      " 0.01855288 0.02083746 0.02314988 0.02024136 0.02358842 0.02262277\n",
      " 0.02049622 0.0159017  0.01359319 0.00978467 0.00969352 0.01220492\n",
      " 0.01063083 0.01020061 0.01211357 0.01081568 0.00870291 0.01214831\n",
      " 0.00978761 0.01015444 0.01052252 0.01363926 0.0095973  0.00897156\n",
      " 0.01052943 0.00976103 0.00831206 0.00792712 0.00601866 0.0067088\n",
      " 0.0054516  0.00672072 0.00625765 0.00766438 0.00633909 0.00793514\n",
      " 0.00828459 0.00585959 0.00324774 0.00393213 0.0023987  0.00160914\n",
      " 0.00203867 0.00196904 0.00145667 0.00229658 0.00114407 0.00179147\n",
      " 0.00194936 0.0011485  0.00083663 0.00107154 0.00154028 0.00089224\n",
      " 0.00168696 0.0005818  0.00046112 0.00014749] [2.3786242e+06 2.2423998e+06 2.6183420e+06 2.3620810e+06 1.5179170e+06\n",
      " 1.8743020e+06 1.7303330e+06 1.1010810e+06 1.4431620e+06 8.0935600e+05\n",
      " 1.0398260e+06 5.1435200e+05 7.7991000e+05 6.7757000e+05 9.9604400e+05\n",
      " 1.2444380e+06 1.4560220e+06 2.1307880e+06 2.7924240e+06 3.0434140e+06\n",
      " 3.6849220e+06 4.4875120e+06 4.1530000e+06 3.9910200e+06 5.2041080e+06\n",
      " 4.4145200e+06 4.1973200e+06 3.2235160e+06 2.9675360e+06 3.3124160e+06\n",
      " 3.1092880e+06 2.7941840e+06 2.1512320e+06 2.2297280e+06 2.0498000e+06\n",
      " 2.6159120e+06 2.4086000e+06 2.2574320e+06 1.8869280e+06 1.9160720e+06\n",
      " 1.6798480e+06 1.5626960e+06 1.7003440e+06 1.3184160e+06 1.3142080e+06\n",
      " 1.6336000e+06 1.3854560e+06 1.1858880e+06 1.8727600e+06 1.9902800e+06\n",
      " 1.5698400e+06 1.7700400e+06 1.1084800e+06 1.0775200e+06 6.8024800e+05\n",
      " 9.5748000e+05 1.4199440e+06 1.5083440e+06 7.9236000e+05 1.0512000e+06\n",
      " 9.1936000e+05 8.5927200e+05 8.8064000e+05 1.2466240e+06 1.2033600e+06\n",
      " 1.3058960e+06 1.1496720e+06 1.1062640e+06 1.4505760e+06 8.3104000e+05\n",
      " 6.0833600e+05 5.9476800e+05 6.1219200e+05 4.3819200e+05 3.9547200e+05\n",
      " 5.2448000e+05 3.1444800e+05 4.7412800e+05 3.6080000e+05 5.5020800e+05\n",
      " 2.8534400e+05 2.2848000e+05 1.4411200e+05 1.0958400e+05 7.7216000e+04\n",
      " 7.2272000e+04 5.3712000e+04 2.1424000e+04 1.1488000e+04 5.6384000e+04\n",
      " 3.6240000e+04 1.9632000e+04 9.5360000e+03 8.1120000e+03 1.7744000e+04\n",
      " 1.0560000e+04 3.2464000e+04 6.1280000e+03 2.3680000e+03 1.5040000e+03]\n"
     ]
    },
    {
     "name": "stderr",
     "output_type": "stream",
     "text": [
      " 45%|████▍     | 5600/12535 [2:57:46<3:31:45,  1.83s/it]"
     ]
    },
    {
     "name": "stdout",
     "output_type": "stream",
     "text": [
      "[0.01626284 0.01731923 0.01788286 0.02117882 0.02405947 0.0233932\n",
      " 0.02337492 0.0260223  0.02421839 0.02276809 0.02659029 0.02904367\n",
      " 0.02976828 0.02929812 0.02462667 0.02269299 0.02583699 0.03242113\n",
      " 0.04283547 0.04535983 0.0490203  0.04469903 0.03718047 0.03398297\n",
      " 0.02964127 0.02424506 0.02211232 0.02194752 0.02238674 0.02177061\n",
      " 0.01957646 0.02172097 0.02199726 0.02324873 0.02459976 0.02293553\n",
      " 0.02244096 0.02586523 0.024098   0.02526935 0.02400369 0.02633306\n",
      " 0.02616928 0.02273982 0.01984936 0.01880462 0.0160833  0.01815778\n",
      " 0.01752941 0.01890544 0.01772509 0.01661137 0.01890397 0.0191708\n",
      " 0.01700514 0.01754794 0.01950136 0.0184479  0.01941923 0.01968174\n",
      " 0.0214871  0.0213438  0.01599563 0.01651187 0.01454598 0.0193513\n",
      " 0.01990024 0.02087716 0.02151184 0.02071121 0.02351452 0.02047325\n",
      " 0.01956538 0.01854599 0.01822297 0.01641099 0.01508606 0.01624799\n",
      " 0.01585958 0.01377362 0.01454169 0.01332083 0.01233359 0.01414424\n",
      " 0.01227471 0.00994955 0.00892213 0.00778155 0.0071223  0.00786007\n",
      " 0.00652523 0.00530492 0.00507977 0.0036615  0.00313654 0.00265162\n",
      " 0.00114555 0.00060342 0.00047264 0.00032453] [1.0989868e+07 8.9462170e+06 9.8006400e+06 1.4237218e+07 1.7094120e+07\n",
      " 1.3343676e+07 1.4619896e+07 2.1488184e+07 2.0135960e+07 1.7136200e+07\n",
      " 2.2500096e+07 2.1975120e+07 2.1980432e+07 2.6872864e+07 2.8456400e+07\n",
      " 3.3590400e+07 2.7084480e+07 2.6795168e+07 2.6812672e+07 2.5695104e+07\n",
      " 2.6189824e+07 2.8624544e+07 3.2021664e+07 3.5508864e+07 5.4932736e+07\n",
      " 5.4666496e+07 4.0219520e+07 2.8263808e+07 2.2520512e+07 2.2318784e+07\n",
      " 1.7105664e+07 1.9847936e+07 1.8835520e+07 1.7010176e+07 1.4403072e+07\n",
      " 1.3407488e+07 1.1509440e+07 1.0281600e+07 8.4311680e+06 1.0953024e+07\n",
      " 1.1140096e+07 1.1559488e+07 1.1326272e+07 1.2183104e+07 1.7275584e+07\n",
      " 1.7896768e+07 1.3040192e+07 1.4445120e+07 1.4446976e+07 1.2684672e+07\n",
      " 1.1379776e+07 9.6993280e+06 1.0702464e+07 9.9852160e+06 1.0036864e+07\n",
      " 8.3727360e+06 8.3619840e+06 8.2603520e+06 7.9052800e+06 9.4060800e+06\n",
      " 9.8456320e+06 9.0055680e+06 9.3940480e+06 1.0130688e+07 9.3834240e+06\n",
      " 9.5404800e+06 8.0940800e+06 9.9784960e+06 1.1744512e+07 1.1816576e+07\n",
      " 1.5075200e+07 1.3298688e+07 1.2777728e+07 1.3688704e+07 1.2357760e+07\n",
      " 1.2622464e+07 1.4760192e+07 1.5150976e+07 1.2993664e+07 1.5262080e+07\n",
      " 1.4310016e+07 1.3433088e+07 1.3978240e+07 1.4499456e+07 1.3337088e+07\n",
      " 1.0807296e+07 7.7015040e+06 6.4199680e+06 5.1008000e+06 3.9125760e+06\n",
      " 3.4662400e+06 1.9144960e+06 1.5965440e+06 1.1125760e+06 7.7939200e+05\n",
      " 4.3033600e+05 9.9840000e+04 4.3520000e+04 1.7280000e+04 1.0496000e+04]\n"
     ]
    },
    {
     "name": "stderr",
     "output_type": "stream",
     "text": [
      " 45%|████▌     | 5700/12535 [3:00:51<2:54:59,  1.54s/it]"
     ]
    },
    {
     "name": "stdout",
     "output_type": "stream",
     "text": [
      "[0.00346001 0.         0.00578301 0.         0.         0.\n",
      " 0.02538721 0.03208447 0.03218922 0.0334345  0.03334689 0.03245414\n",
      " 0.0340286  0.03468765 0.03187951 0.03050128 0.0299659  0.02850899\n",
      " 0.0296054  0.02881982 0.03819162 0.03743133 0.03216987 0.02608459\n",
      " 0.02710795 0.02545485 0.02294564 0.02396755 0.0213452  0.02108886\n",
      " 0.02757356 0.02620722 0.02580954 0.0393822  0.03848308 0.03817347\n",
      " 0.03355484 0.02720305 0.02300717 0.02064297 0.02023448 0.01977141\n",
      " 0.02050465 0.02278148 0.02361528 0.0292232  0.0289094  0.02698365\n",
      " 0.02435865 0.02726363 0.02589394 0.02625193 0.02929661 0.02674484\n",
      " 0.02483747 0.02542146 0.0290478  0.02588246 0.02754433 0.02601543\n",
      " 0.02329067 0.02292464 0.02838858 0.04387078 0.05903855 0.05092647\n",
      " 0.0436546  0.04030651 0.02869046 0.01905152 0.01569141 0.0152955\n",
      " 0.01304371 0.011935   0.01075582 0.01013602 0.01035338 0.01110714\n",
      " 0.0113426  0.01004543 0.00910034 0.00541188 0.00478976 0.00383578\n",
      " 0.00374734 0.00329627 0.00368101 0.00392097 0.0034048  0.00332029\n",
      " 0.00274608 0.00260869 0.00222625 0.0015264  0.00208833 0.00137451\n",
      " 0.00091031 0.00057575 0.00045915 0.0002665 ] [1.9531141e+04 0.0000000e+00 2.2679547e+04 0.0000000e+00 0.0000000e+00\n",
      " 0.0000000e+00 7.4797438e+05 8.4046180e+06 1.2062793e+07 6.9005800e+06\n",
      " 7.6666640e+06 1.2610068e+07 1.4051108e+07 1.3303288e+07 1.4944928e+07\n",
      " 1.8113712e+07 2.4387248e+07 2.4565976e+07 1.9743792e+07 1.6087040e+07\n",
      " 1.6112256e+07 2.7909200e+07 3.2122224e+07 2.7788448e+07 3.9408224e+07\n",
      " 2.4240096e+07 1.7333696e+07 1.3026912e+07 9.8493120e+06 1.0631968e+07\n",
      " 8.2851200e+06 5.7612480e+06 4.7024000e+06 7.2924800e+06 8.6485440e+06\n",
      " 1.1954784e+07 1.7425344e+07 1.7212896e+07 2.2162912e+07 2.4978912e+07\n",
      " 2.8220864e+07 2.9223488e+07 2.5733504e+07 2.2786368e+07 1.9293504e+07\n",
      " 2.0422016e+07 1.6806464e+07 1.5800384e+07 1.1793024e+07 1.1567360e+07\n",
      " 1.3018688e+07 1.3444480e+07 1.7475200e+07 2.4599296e+07 3.0184256e+07\n",
      " 3.3462912e+07 3.7728192e+07 3.3820288e+07 3.4964992e+07 3.7235520e+07\n",
      " 3.6790080e+07 3.1145280e+07 2.7960832e+07 3.2246400e+07 2.5407744e+07\n",
      " 2.7437312e+07 5.1389952e+07 6.0281472e+07 7.8935936e+07 8.5987328e+07\n",
      " 4.6742656e+07 3.4581120e+07 3.5628032e+07 2.1020928e+07 1.6608384e+07\n",
      " 1.3785472e+07 1.1991168e+07 1.2076288e+07 1.0766848e+07 1.0573312e+07\n",
      " 9.8444800e+06 6.0032000e+06 3.7291520e+06 2.3950080e+06 1.7039360e+06\n",
      " 1.1272960e+06 8.3724800e+05 9.1200000e+05 6.3488000e+05 6.3155200e+05\n",
      " 3.6121600e+05 4.7961600e+05 3.5916800e+05 2.1760000e+05 2.9606400e+05\n",
      " 1.1660800e+05 7.0016000e+04 3.2384000e+04 2.5088000e+04 6.9120000e+03]\n"
     ]
    },
    {
     "name": "stderr",
     "output_type": "stream",
     "text": [
      " 46%|████▋     | 5800/12535 [3:03:57<2:55:55,  1.57s/it]"
     ]
    },
    {
     "name": "stdout",
     "output_type": "stream",
     "text": [
      "[0.0065174  0.00417908 0.         0.         0.         0.\n",
      " 0.         0.         0.         0.         0.00321121 0.\n",
      " 0.         0.03098686 0.02637549 0.0224539  0.01953849 0.01606243\n",
      " 0.0170438  0.01686295 0.01961903 0.01991456 0.01978917 0.0214174\n",
      " 0.02063715 0.01966683 0.02494428 0.02540966 0.0271622  0.02450033\n",
      " 0.02937012 0.02646804 0.03209687 0.03202133 0.02936376 0.03307731\n",
      " 0.02922842 0.02880561 0.03068941 0.03247045 0.0392872  0.04106551\n",
      " 0.03932182 0.04115593 0.03804003 0.03861677 0.03778618 0.0343963\n",
      " 0.03123243 0.02953894 0.02524336 0.02430134 0.02795773 0.02797667\n",
      " 0.02446153 0.02429732 0.02220591 0.02137128 0.02169127 0.02145133\n",
      " 0.02295117 0.02428147 0.02372026 0.02803732 0.029507   0.02668846\n",
      " 0.02281135 0.01980113 0.02141221 0.0206475  0.02115661 0.02291171\n",
      " 0.0208307  0.02075943 0.02309646 0.0225253  0.02139426 0.01908366\n",
      " 0.01806874 0.01451724 0.01712328 0.01904059 0.02121155 0.02645094\n",
      " 0.02729591 0.01508293 0.00773782 0.00729194 0.00774526 0.00882663\n",
      " 0.00599085 0.00508332 0.0049842  0.00459018 0.00376722 0.00374971\n",
      " 0.00298645 0.00162011 0.00064454 0.00057305] [2.2598102e+04 5.7884492e+03 0.0000000e+00 0.0000000e+00 0.0000000e+00\n",
      " 0.0000000e+00 0.0000000e+00 0.0000000e+00 0.0000000e+00 0.0000000e+00\n",
      " 6.1375859e+03 0.0000000e+00 0.0000000e+00 9.7967875e+05 1.4604054e+06\n",
      " 2.4615268e+06 3.9728870e+06 4.6144170e+06 3.9996570e+06 6.1442180e+06\n",
      " 6.9373600e+06 7.0282820e+06 7.2783280e+06 6.2857080e+06 6.2037080e+06\n",
      " 5.6222240e+06 6.6600360e+06 7.6704480e+06 9.9336160e+06 6.3943600e+06\n",
      " 1.0550688e+07 9.1276240e+06 6.4321440e+06 7.1155920e+06 5.5962880e+06\n",
      " 6.6105840e+06 8.5129920e+06 1.0295200e+07 1.0715904e+07 8.5809440e+06\n",
      " 9.0352160e+06 1.0022624e+07 1.3705888e+07 1.7251472e+07 1.4756016e+07\n",
      " 1.8429952e+07 2.0863136e+07 2.3886976e+07 2.6738720e+07 2.9271776e+07\n",
      " 3.0698560e+07 2.6588640e+07 3.3335392e+07 4.6713088e+07 5.5372800e+07\n",
      " 6.5381696e+07 7.3437120e+07 7.1463104e+07 7.0856640e+07 5.7700352e+07\n",
      " 4.7565504e+07 4.6546624e+07 4.1402112e+07 4.4117504e+07 5.1150528e+07\n",
      " 5.4643968e+07 5.0334336e+07 5.2738560e+07 4.3160832e+07 4.4969984e+07\n",
      " 4.1649152e+07 4.1729152e+07 4.2849152e+07 4.2893952e+07 3.8369408e+07\n",
      " 4.4924544e+07 4.3147264e+07 5.8534656e+07 5.6298624e+07 4.8260224e+07\n",
      " 3.9519232e+07 3.6286208e+07 2.5316864e+07 3.1204096e+07 8.2368512e+07\n",
      " 1.0002010e+08 2.4516480e+07 1.1050240e+07 8.5808640e+06 9.4740480e+06\n",
      " 6.4967680e+06 3.7890560e+06 3.7345280e+06 2.6480640e+06 1.9648000e+06\n",
      " 1.4417920e+06 8.6246400e+05 3.7043200e+05 7.3984000e+04 3.8912000e+04]\n"
     ]
    },
    {
     "name": "stderr",
     "output_type": "stream",
     "text": [
      " 47%|████▋     | 5900/12535 [3:07:08<4:12:22,  2.28s/it]"
     ]
    },
    {
     "name": "stdout",
     "output_type": "stream",
     "text": [
      "[0.02446397 0.02705449 0.02743904 0.02670381 0.0231628  0.02535321\n",
      " 0.02799777 0.02777774 0.02897033 0.02766011 0.02337861 0.02156644\n",
      " 0.02144186 0.02019324 0.02009454 0.01864438 0.02278431 0.02049202\n",
      " 0.01826202 0.0193842  0.02114496 0.02111315 0.02151212 0.0211202\n",
      " 0.01881575 0.02132519 0.02192099 0.02104547 0.01941199 0.02059202\n",
      " 0.02034191 0.01843293 0.02009886 0.02258777 0.02469719 0.02620492\n",
      " 0.02901624 0.03033872 0.02660682 0.0263477  0.03062696 0.03640996\n",
      " 0.04167222 0.03534332 0.03002921 0.02257376 0.02335449 0.02456195\n",
      " 0.02254056 0.01752944 0.0187489  0.01656301 0.01779918 0.01806642\n",
      " 0.01495841 0.01580505 0.01464261 0.0165514  0.01676578 0.01557621\n",
      " 0.01397836 0.01677945 0.01767656 0.01841658 0.02129895 0.02174881\n",
      " 0.01870041 0.01499077 0.01152212 0.01049479 0.01234307 0.01052399\n",
      " 0.01250994 0.01306416 0.01143135 0.009636   0.00806409 0.00690892\n",
      " 0.00698408 0.00724134 0.00721926 0.00581239 0.00513977 0.00412334\n",
      " 0.00338574 0.00322999 0.00298302 0.00267865 0.00180547 0.00199414\n",
      " 0.00203085 0.00151559 0.0012668  0.00107242 0.00114052 0.00046543\n",
      " 0.00090003 0.00029247 0.00027256 0.00034902] [1.2374868e+07 9.2790900e+06 8.1190720e+06 8.6305620e+06 9.6201560e+06\n",
      " 1.0230868e+07 1.4346704e+07 1.3258792e+07 1.4325376e+07 1.9640208e+07\n",
      " 1.9914448e+07 2.1659008e+07 1.9153424e+07 1.8619248e+07 1.7238352e+07\n",
      " 1.5235328e+07 2.2289680e+07 2.0811760e+07 1.8153888e+07 1.3969088e+07\n",
      " 1.2909056e+07 1.6272928e+07 1.6538560e+07 1.8384992e+07 1.5888032e+07\n",
      " 1.3931040e+07 1.4522688e+07 1.1960864e+07 1.0458784e+07 8.9236480e+06\n",
      " 1.2602720e+07 1.1294688e+07 1.2634816e+07 1.3731424e+07 1.2398080e+07\n",
      " 9.7628480e+06 1.1311776e+07 1.0333952e+07 6.0878720e+06 7.3861120e+06\n",
      " 8.4188160e+06 6.8245760e+06 8.6385920e+06 1.0891776e+07 1.1700096e+07\n",
      " 1.2195520e+07 1.2442496e+07 1.3570304e+07 1.2987840e+07 1.0789760e+07\n",
      " 1.1788032e+07 1.3160384e+07 1.4167936e+07 1.1440704e+07 9.8780160e+06\n",
      " 8.3877120e+06 8.8104960e+06 7.0733440e+06 8.2682880e+06 8.7864960e+06\n",
      " 9.1779200e+06 8.9551360e+06 9.1356160e+06 1.0262912e+07 1.3356608e+07\n",
      " 1.1687616e+07 1.2888192e+07 1.5527936e+07 1.4499648e+07 1.0391296e+07\n",
      " 7.0753280e+06 7.3406080e+06 5.8292480e+06 5.6291200e+06 5.1192320e+06\n",
      " 5.5953280e+06 4.8176640e+06 3.7521280e+06 2.9637760e+06 2.9356800e+06\n",
      " 2.5233920e+06 2.2257920e+06 1.5943680e+06 1.2210560e+06 7.5360000e+05\n",
      " 8.2028800e+05 5.8841600e+05 4.1235200e+05 2.1510400e+05 1.7619200e+05\n",
      " 2.0505600e+05 1.3440000e+05 1.1545600e+05 6.1440000e+04 5.0112000e+04\n",
      " 1.4016000e+04 4.2432000e+04 8.1280000e+03 9.2160000e+03 6.3360000e+03]\n"
     ]
    },
    {
     "name": "stderr",
     "output_type": "stream",
     "text": [
      " 48%|████▊     | 6000/12535 [3:10:53<3:12:07,  1.76s/it]"
     ]
    },
    {
     "name": "stdout",
     "output_type": "stream",
     "text": [
      "[0.         0.         0.         0.         0.         0.\n",
      " 0.         0.         0.         0.         0.         0.\n",
      " 0.         0.         0.00708144 0.         0.         0.\n",
      " 0.         0.00448899 0.00608202 0.00655866 0.0036802  0.00560788\n",
      " 0.02543955 0.01853099 0.01900739 0.01612929 0.02025473 0.03039929\n",
      " 0.03133653 0.02802348 0.02147641 0.01577322 0.01633658 0.01708616\n",
      " 0.01544289 0.01428972 0.0143239  0.01384254 0.01854838 0.01695568\n",
      " 0.01540693 0.0158613  0.01423708 0.01189207 0.01069626 0.00980444\n",
      " 0.01017181 0.01139023 0.00942881 0.010505   0.01099513 0.01491943\n",
      " 0.01878704 0.0216456  0.02144662 0.02052357 0.02214341 0.02315434\n",
      " 0.02444295 0.0277425  0.02764549 0.034585   0.03326849 0.02974799\n",
      " 0.02680188 0.02663637 0.0256947  0.02791301 0.02838861 0.031896\n",
      " 0.03095209 0.02611963 0.02303897 0.02284329 0.02239031 0.01896304\n",
      " 0.01706969 0.01639522 0.01726789 0.01677858 0.01585542 0.01775619\n",
      " 0.01805415 0.01547903 0.01386452 0.01284125 0.01120638 0.0098753\n",
      " 0.00957276 0.00711577 0.00579739 0.00535895 0.00415295 0.00363903\n",
      " 0.00335504 0.0013441  0.00061331 0.00049241] [0.0000000e+00 0.0000000e+00 0.0000000e+00 0.0000000e+00 0.0000000e+00\n",
      " 0.0000000e+00 0.0000000e+00 0.0000000e+00 0.0000000e+00 0.0000000e+00\n",
      " 0.0000000e+00 0.0000000e+00 0.0000000e+00 0.0000000e+00 7.1681338e+03\n",
      " 0.0000000e+00 0.0000000e+00 0.0000000e+00 0.0000000e+00 1.1631585e+04\n",
      " 5.5121711e+04 8.5564648e+04 1.0717797e+04 2.3493188e+04 7.0250406e+05\n",
      " 1.3271394e+06 4.1275955e+06 3.5503600e+06 2.0041400e+06 2.7395740e+06\n",
      " 4.9092120e+06 4.2788180e+06 4.1507060e+06 4.3917280e+06 3.7183660e+06\n",
      " 5.3979560e+06 4.5369040e+06 4.9017520e+06 5.0184080e+06 4.1649280e+06\n",
      " 4.0502880e+06 3.7050520e+06 4.1882400e+06 4.7496560e+06 4.3613120e+06\n",
      " 7.5574240e+06 7.8228000e+06 6.8537600e+06 5.0534160e+06 2.6984720e+06\n",
      " 2.9457920e+06 3.0232240e+06 3.3277360e+06 6.3805920e+06 9.0609120e+06\n",
      " 1.9692176e+07 3.2540048e+07 3.2744400e+07 3.9024288e+07 4.1085888e+07\n",
      " 3.6748352e+07 3.0133504e+07 2.9302688e+07 3.1836000e+07 2.6234464e+07\n",
      " 3.1437216e+07 3.8582912e+07 4.0920832e+07 4.6724160e+07 5.9413312e+07\n",
      " 5.9406848e+07 6.9737280e+07 8.2711744e+07 8.3090560e+07 7.2755264e+07\n",
      " 7.1174720e+07 7.9070592e+07 6.4849408e+07 5.9525760e+07 4.6282368e+07\n",
      " 3.3782144e+07 3.3530880e+07 3.5657728e+07 2.8844032e+07 2.6947968e+07\n",
      " 2.6073856e+07 3.2663936e+07 2.6807808e+07 2.0399104e+07 1.4520064e+07\n",
      " 1.5725568e+07 1.0099328e+07 4.8840960e+06 3.5856640e+06 1.8476800e+06\n",
      " 1.2476160e+06 1.0689280e+06 2.0812800e+05 6.2848000e+04 3.0080000e+04]\n"
     ]
    },
    {
     "name": "stderr",
     "output_type": "stream",
     "text": [
      " 49%|████▊     | 6100/12535 [3:14:42<3:45:39,  2.10s/it]"
     ]
    },
    {
     "name": "stdout",
     "output_type": "stream",
     "text": [
      "[0.01224892 0.01167489 0.01282495 0.01191756 0.         0.01227881\n",
      " 0.01031101 0.         0.01963758 0.         0.01886575 0.01739219\n",
      " 0.01548032 0.0156811  0.01497278 0.01614169 0.01672776 0.01543151\n",
      " 0.01534876 0.00898905 0.01437852 0.02901543 0.03651174 0.03315305\n",
      " 0.03633291 0.04072491 0.03506476 0.0306519  0.02670646 0.0241687\n",
      " 0.02464724 0.02716029 0.02564198 0.02372573 0.02326588 0.02222864\n",
      " 0.02588349 0.02512788 0.02459362 0.02302174 0.01890883 0.0165791\n",
      " 0.01608526 0.01544002 0.01486048 0.01511603 0.01452264 0.01776074\n",
      " 0.02183552 0.0245879  0.03406262 0.03420565 0.03252066 0.02845569\n",
      " 0.01940006 0.01894246 0.01705662 0.01646869 0.01511338 0.0141137\n",
      " 0.01298236 0.01332732 0.01589236 0.01725599 0.01980694 0.0185084\n",
      " 0.01687666 0.0186479  0.01949849 0.0193717  0.01850685 0.01617622\n",
      " 0.01590836 0.01642562 0.01644225 0.01815945 0.01784281 0.01792189\n",
      " 0.0177795  0.01669912 0.01659296 0.01575728 0.01316345 0.01130855\n",
      " 0.00939319 0.00732747 0.00689921 0.00691206 0.00655535 0.00589588\n",
      " 0.00494958 0.0050467  0.00376229 0.00340323 0.00329068 0.00235136\n",
      " 0.00184065 0.00103367 0.00066181 0.00038177] [2.2684465e+04 1.1860056e+05 1.4897784e+05 7.4106000e+04 0.0000000e+00\n",
      " 6.3355531e+04 1.8862719e+04 0.0000000e+00 4.7591438e+04 0.0000000e+00\n",
      " 6.1393606e+05 5.4237025e+05 6.4599812e+05 1.1628860e+06 1.1829260e+06\n",
      " 1.0668260e+06 7.4111050e+05 1.1440865e+06 2.6161700e+05 2.6375700e+05\n",
      " 4.9364100e+05 2.8765410e+06 7.8812120e+06 9.0095960e+06 1.0063210e+07\n",
      " 1.4779988e+07 1.5186416e+07 1.4426264e+07 1.6858824e+07 1.6738672e+07\n",
      " 1.6456952e+07 1.9814576e+07 2.1548048e+07 2.5567984e+07 2.7942448e+07\n",
      " 2.5686944e+07 2.8842112e+07 3.4497024e+07 3.9314944e+07 3.9717824e+07\n",
      " 3.1733856e+07 2.3306528e+07 2.4967104e+07 2.2692896e+07 2.2088800e+07\n",
      " 1.8053504e+07 1.6198912e+07 2.1512384e+07 2.6758464e+07 2.9767104e+07\n",
      " 5.3371264e+07 8.0960512e+07 1.2946035e+08 2.2864659e+08 8.6889216e+07\n",
      " 7.0443520e+07 6.3063296e+07 6.1687552e+07 5.3349760e+07 5.6225024e+07\n",
      " 5.3057920e+07 4.0881152e+07 3.5524352e+07 3.0367616e+07 5.2019584e+07\n",
      " 4.2378624e+07 3.3518208e+07 2.8862080e+07 2.9808640e+07 3.6703616e+07\n",
      " 4.3773952e+07 4.1567104e+07 3.9567104e+07 4.2161536e+07 4.1175552e+07\n",
      " 3.4975488e+07 3.0459136e+07 2.7147776e+07 2.5625600e+07 2.4679936e+07\n",
      " 3.0837248e+07 2.8984832e+07 2.6934272e+07 2.3328512e+07 1.8775552e+07\n",
      " 1.3005312e+07 9.9054080e+06 6.5326080e+06 5.5872000e+06 5.0234880e+06\n",
      " 3.2972800e+06 3.0440960e+06 2.4010240e+06 1.6921600e+06 1.2080640e+06\n",
      " 7.2422400e+05 4.9408000e+05 1.6204800e+05 7.0144000e+04 3.2000000e+04]\n"
     ]
    },
    {
     "name": "stderr",
     "output_type": "stream",
     "text": [
      " 49%|████▉     | 6200/12535 [3:18:00<2:19:18,  1.32s/it]"
     ]
    },
    {
     "name": "stdout",
     "output_type": "stream",
     "text": [
      "[2.68703904e-02 2.53088940e-02 2.09864918e-02 2.42883544e-02\n",
      " 2.40689777e-02 2.90912949e-02 2.40061320e-02 2.69603170e-02\n",
      " 2.40802914e-02 2.19884831e-02 2.67638527e-02 2.87242495e-02\n",
      " 2.54812185e-02 2.64034048e-02 3.80554944e-02 3.61615717e-02\n",
      " 4.43002321e-02 4.60086316e-02 4.74056676e-02 3.67341638e-02\n",
      " 3.47632878e-02 3.54525968e-02 3.06476597e-02 2.53251940e-02\n",
      " 2.48333942e-02 2.14312598e-02 1.85336992e-02 2.02875789e-02\n",
      " 1.77786574e-02 1.42668709e-02 1.19675016e-02 1.08172148e-02\n",
      " 8.87043774e-03 1.02773942e-02 1.12142628e-02 1.41162630e-02\n",
      " 1.51163237e-02 1.86093710e-02 2.60611828e-02 2.33741477e-02\n",
      " 2.26873718e-02 1.95553731e-02 2.25434750e-02 1.95090063e-02\n",
      " 1.77954659e-02 1.24503486e-02 1.33009227e-02 1.42399212e-02\n",
      " 1.24829048e-02 1.08377757e-02 7.52084889e-03 7.06258137e-03\n",
      " 5.78856468e-03 6.20822236e-03 7.65062822e-03 8.32203776e-03\n",
      " 7.42554991e-03 9.70455818e-03 8.93739518e-03 8.67970474e-03\n",
      " 8.63418635e-03 9.12556238e-03 9.19020642e-03 7.66951637e-03\n",
      " 7.77753070e-03 5.16926032e-03 3.56370560e-03 6.96332101e-03\n",
      " 3.21132084e-03 6.35752641e-03 7.03041442e-03 5.29579259e-03\n",
      " 3.75743862e-03 2.35110568e-03 5.92892710e-03 4.21869289e-03\n",
      " 4.00053896e-03 3.49293975e-03 4.39717388e-03 4.68583265e-03\n",
      " 4.61965194e-03 4.95292665e-03 5.22502325e-03 4.30528633e-03\n",
      " 3.40875471e-03 2.62977858e-03 1.60904962e-03 1.85533287e-03\n",
      " 1.67383358e-03 1.29285047e-03 1.65590865e-03 1.88299525e-03\n",
      " 1.43578323e-03 8.36483203e-04 1.32286653e-03 1.78168749e-03\n",
      " 1.14671083e-03 1.26569159e-03 6.09897776e-04 9.66985608e-05] [3.74783781e+05 5.99954625e+05 7.28079562e+05 8.20864750e+05\n",
      " 1.02310775e+06 1.39753650e+06 1.11343400e+06 1.46692900e+06\n",
      " 1.13241400e+06 1.36097800e+06 1.61534800e+06 1.14752500e+06\n",
      " 1.50541900e+06 8.35495000e+05 1.11898500e+06 1.20156400e+06\n",
      " 1.05261600e+06 9.32846000e+05 1.34686400e+06 1.44124400e+06\n",
      " 2.29401200e+06 1.94332200e+06 3.17110600e+06 2.80650000e+06\n",
      " 2.01034000e+06 2.74349200e+06 3.15798800e+06 3.35597200e+06\n",
      " 3.11719200e+06 3.58264000e+06 3.27859600e+06 2.62131200e+06\n",
      " 1.51235600e+06 1.23716800e+06 6.97080000e+05 6.68380000e+05\n",
      " 5.84592000e+05 5.98444000e+05 5.73336000e+05 9.96928000e+05\n",
      " 9.37040000e+05 8.21984000e+05 1.33834800e+06 9.26204000e+05\n",
      " 1.26027200e+06 1.28024800e+06 1.41536800e+06 1.38792800e+06\n",
      " 1.64499200e+06 2.10481600e+06 8.74288000e+05 5.12328000e+05\n",
      " 1.13289600e+06 1.01357600e+06 5.61680000e+05 5.09640000e+05\n",
      " 5.34248000e+05 2.86368000e+05 4.17880000e+05 4.08080000e+05\n",
      " 4.34312000e+05 5.33608000e+05 3.78840000e+05 4.80392000e+05\n",
      " 3.34504000e+05 3.88424000e+05 2.79712000e+05 3.12816000e+05\n",
      " 1.06904000e+05 1.73592000e+05 1.81728000e+05 6.41040000e+04\n",
      " 1.14280000e+05 4.21920000e+04 2.56160000e+05 1.65376000e+05\n",
      " 1.50536000e+05 1.80888000e+05 2.11312000e+05 1.25912000e+05\n",
      " 9.28720000e+04 1.59896000e+05 2.20400000e+05 3.43960000e+05\n",
      " 2.28536000e+05 1.90160000e+05 4.81440000e+04 5.05040000e+04\n",
      " 4.36960000e+04 6.96400000e+04 4.30000000e+04 4.17520000e+04\n",
      " 2.69760000e+04 2.32560000e+04 3.01280000e+04 2.03280000e+04\n",
      " 9.68800000e+03 1.36800000e+04 7.72800000e+03 1.04000000e+03]\n"
     ]
    },
    {
     "name": "stderr",
     "output_type": "stream",
     "text": [
      " 50%|█████     | 6300/12535 [3:21:56<4:06:27,  2.37s/it]"
     ]
    },
    {
     "name": "stdout",
     "output_type": "stream",
     "text": [
      "[2.36876979e-02 2.50534825e-02 2.18094643e-02 2.20147409e-02\n",
      " 2.16097310e-02 2.14191657e-02 1.93579681e-02 1.80407893e-02\n",
      " 1.81266665e-02 1.67357232e-02 2.23729685e-02 2.46849824e-02\n",
      " 2.31459271e-02 2.52961759e-02 2.12837532e-02 1.89616866e-02\n",
      " 2.08216235e-02 2.39493903e-02 2.01643221e-02 2.21352410e-02\n",
      " 2.16509495e-02 2.25739367e-02 2.31145713e-02 2.32686065e-02\n",
      " 2.18500774e-02 2.19042078e-02 1.80586409e-02 1.92089994e-02\n",
      " 1.99143291e-02 2.05079056e-02 2.12621540e-02 2.14352924e-02\n",
      " 2.21130792e-02 2.52961088e-02 2.40221415e-02 2.12458484e-02\n",
      " 2.33463850e-02 1.98044106e-02 2.05471236e-02 1.97778940e-02\n",
      " 1.88009683e-02 1.70328412e-02 2.10669767e-02 2.16561146e-02\n",
      " 2.01830491e-02 1.73942763e-02 1.48294223e-02 1.53554585e-02\n",
      " 1.45533727e-02 1.56152910e-02 1.39201721e-02 1.60548892e-02\n",
      " 1.82037316e-02 2.33368315e-02 2.48315576e-02 2.28338540e-02\n",
      " 2.10960843e-02 2.10459772e-02 1.98465455e-02 1.83190834e-02\n",
      " 1.35633610e-02 9.92363412e-03 8.09636246e-03 8.61305557e-03\n",
      " 7.98949786e-03 7.08426861e-03 6.99939393e-03 6.88103912e-03\n",
      " 6.98123500e-03 8.52807332e-03 8.86644330e-03 7.75279850e-03\n",
      " 6.51387684e-03 5.67008695e-03 6.43964391e-03 6.84225652e-03\n",
      " 6.14230148e-03 4.69390769e-03 3.80573515e-03 3.93585069e-03\n",
      " 3.83781898e-03 3.60215921e-03 3.93892918e-03 3.55279329e-03\n",
      " 3.95854935e-03 4.65153391e-03 3.58350947e-03 3.56207602e-03\n",
      " 3.29497806e-03 3.40610812e-03 2.12057214e-03 1.70822779e-03\n",
      " 1.36693148e-03 7.65532313e-04 5.39077213e-04 6.78441487e-04\n",
      " 4.85851982e-04 3.75414238e-04 1.15027797e-04 3.01757427e-05] [1.1361577e+07 1.4298467e+07 1.2875706e+07 1.4720768e+07 1.4849472e+07\n",
      " 1.5403184e+07 1.4182536e+07 1.2042976e+07 1.0748240e+07 8.7014960e+06\n",
      " 1.0865808e+07 1.0031168e+07 1.0176576e+07 1.1164704e+07 1.1087984e+07\n",
      " 8.1895360e+06 7.6627200e+06 8.5787040e+06 7.1078560e+06 6.8968000e+06\n",
      " 6.3621120e+06 9.0853760e+06 1.0499072e+07 1.4100064e+07 1.4055424e+07\n",
      " 1.2241504e+07 9.8413760e+06 1.0870496e+07 1.1018720e+07 1.0938656e+07\n",
      " 1.0246592e+07 9.4251520e+06 1.1187936e+07 1.0153568e+07 1.1640928e+07\n",
      " 1.0694560e+07 1.2270400e+07 1.0644864e+07 1.0771264e+07 1.0087680e+07\n",
      " 9.1363200e+06 8.7961280e+06 6.9392960e+06 9.5506560e+06 1.3037312e+07\n",
      " 1.3146880e+07 1.3871008e+07 1.5960384e+07 1.3060000e+07 1.2866752e+07\n",
      " 1.1714176e+07 1.3051584e+07 1.2348032e+07 1.5674560e+07 2.1207616e+07\n",
      " 2.1015808e+07 1.2930240e+07 1.7894336e+07 1.4931776e+07 1.7178880e+07\n",
      " 1.7397824e+07 1.3705344e+07 1.0915072e+07 7.7508480e+06 6.9824640e+06\n",
      " 4.8855040e+06 4.3107200e+06 3.8239360e+06 3.3383680e+06 2.9701120e+06\n",
      " 3.2802560e+06 2.9047040e+06 3.0219520e+06 2.9612160e+06 3.0572800e+06\n",
      " 1.9274240e+06 1.8104320e+06 1.8800000e+06 1.7968000e+06 1.1105280e+06\n",
      " 6.4787200e+05 7.1718400e+05 9.4112000e+05 9.7926400e+05 6.1036800e+05\n",
      " 9.4028800e+05 6.7366400e+05 5.6550400e+05 3.6697600e+05 4.7040000e+05\n",
      " 2.9350400e+05 1.8515200e+05 8.5440000e+04 5.6576000e+04 2.9312000e+04\n",
      " 2.2912000e+04 1.6000000e+04 9.2800000e+03 3.1360000e+03 3.2000000e+02]\n"
     ]
    },
    {
     "name": "stderr",
     "output_type": "stream",
     "text": [
      " 51%|█████     | 6400/12535 [3:25:29<3:24:46,  2.00s/it]"
     ]
    },
    {
     "name": "stdout",
     "output_type": "stream",
     "text": [
      "[0.03119695 0.02185959 0.01767357 0.01444758 0.01195512 0.01189063\n",
      " 0.01018889 0.00918318 0.009484   0.01038134 0.00897329 0.00843158\n",
      " 0.00988709 0.00835732 0.01023802 0.01575723 0.01509726 0.01757816\n",
      " 0.01675234 0.0209729  0.02191292 0.02020603 0.01689058 0.01368599\n",
      " 0.01338956 0.01266783 0.01090877 0.00981844 0.0175814  0.00939911\n",
      " 0.00815897 0.01010063 0.01338671 0.01427115 0.0134371  0.01159212\n",
      " 0.01164286 0.01139773 0.01406161 0.01316861 0.01067723 0.01071035\n",
      " 0.01410916 0.01707874 0.01705312 0.01619751 0.01239706 0.01345739\n",
      " 0.00936487 0.00976055 0.01222943 0.00859291 0.00642888 0.00646433\n",
      " 0.00569687 0.00467595 0.00518196 0.00531879 0.00814252 0.00771377\n",
      " 0.00671496 0.00619163 0.00525685 0.00483145 0.0046322  0.00562301\n",
      " 0.00569758 0.00476587 0.00683786 0.00641747 0.00791136 0.00639286\n",
      " 0.00653883 0.0051427  0.00370012 0.00590349 0.00375207 0.00611106\n",
      " 0.00621132 0.00505043 0.0037089  0.00249309 0.00340719 0.00277431\n",
      " 0.00230162 0.00226592 0.00275953 0.00219413 0.00209845 0.00193159\n",
      " 0.00217756 0.00344291 0.00223292 0.00165635 0.0008878  0.00062849\n",
      " 0.00071536 0.00018459 0.         0.        ] [2.6686365e+06 2.4600910e+06 2.6955320e+06 2.9042775e+06 2.7776250e+06\n",
      " 2.5512610e+06 2.8590960e+06 2.4318640e+06 1.6261920e+06 2.2017880e+06\n",
      " 1.5750580e+06 1.4090260e+06 1.3266100e+06 1.3787900e+06 1.0363880e+06\n",
      " 1.1184900e+06 6.3674600e+05 8.5664400e+05 6.4611600e+05 1.1228320e+06\n",
      " 9.4161200e+05 1.4961800e+06 1.2844320e+06 1.4843720e+06 1.6913880e+06\n",
      " 1.5751760e+06 1.1656280e+06 1.0825360e+06 1.5416720e+06 1.0947960e+06\n",
      " 9.5871200e+05 9.8026000e+05 1.2643120e+06 1.1121800e+06 1.6675080e+06\n",
      " 1.2644280e+06 8.2505200e+05 1.3343480e+06 1.8876480e+06 2.0448000e+06\n",
      " 1.6748080e+06 1.6865120e+06 1.9899800e+06 1.8146640e+06 2.3378480e+06\n",
      " 2.9537040e+06 2.8052000e+06 3.8853600e+06 3.1384880e+06 3.0740720e+06\n",
      " 2.5968320e+06 2.1775360e+06 1.0384960e+06 8.3793600e+05 9.2330400e+05\n",
      " 9.8421600e+05 6.5012800e+05 3.3500000e+05 5.0904800e+05 6.5877600e+05\n",
      " 5.6860000e+05 4.3006400e+05 5.7267200e+05 4.4205600e+05 2.0628000e+05\n",
      " 2.0716000e+05 3.0791200e+05 3.0932000e+05 3.2794400e+05 2.4175200e+05\n",
      " 2.6313600e+05 2.6348800e+05 3.3328800e+05 2.6642400e+05 1.9688000e+05\n",
      " 3.3534400e+05 2.2252000e+05 2.1668000e+05 1.8548800e+05 2.3164800e+05\n",
      " 1.4358400e+05 1.0085600e+05 1.2128000e+05 1.6010400e+05 1.1372800e+05\n",
      " 6.9760000e+04 1.3944000e+05 7.0048000e+04 4.9760000e+04 5.0224000e+04\n",
      " 6.2696000e+04 5.5640000e+04 6.5472000e+04 3.4816000e+04 1.1992000e+04\n",
      " 1.3136000e+04 7.8080000e+03 1.4320000e+03 0.0000000e+00 0.0000000e+00]\n"
     ]
    },
    {
     "name": "stderr",
     "output_type": "stream",
     "text": [
      " 52%|█████▏    | 6500/12535 [3:28:41<4:00:19,  2.39s/it]"
     ]
    },
    {
     "name": "stdout",
     "output_type": "stream",
     "text": [
      "[0.01587901 0.01554355 0.0149108  0.01516756 0.01488569 0.01470915\n",
      " 0.01612119 0.01691557 0.01730214 0.01706959 0.0171946  0.01695049\n",
      " 0.01589518 0.01516658 0.01468669 0.01455433 0.01385641 0.01306463\n",
      " 0.01283867 0.01196614 0.01773845 0.0200281  0.02064529 0.01821532\n",
      " 0.01971422 0.02176911 0.02209293 0.02173181 0.01944055 0.01815607\n",
      " 0.01725133 0.01681576 0.01708919 0.01514795 0.01467256 0.01383397\n",
      " 0.0128569  0.01396783 0.01547797 0.01484361 0.01742104 0.0198341\n",
      " 0.02149376 0.01949317 0.01781743 0.01638538 0.01621423 0.01724643\n",
      " 0.01782147 0.01659886 0.01788113 0.01679404 0.0178023  0.02015074\n",
      " 0.01852414 0.02063117 0.0219009  0.02240501 0.02423514 0.02380668\n",
      " 0.02102021 0.01761881 0.01408537 0.01394172 0.01521171 0.01722538\n",
      " 0.01608625 0.01883803 0.02012308 0.01973573 0.02033828 0.02157405\n",
      " 0.01838736 0.01790952 0.01684274 0.01778037 0.01608879 0.01454176\n",
      " 0.01336439 0.01375722 0.01384827 0.01362473 0.01250459 0.01360191\n",
      " 0.01392708 0.00774869 0.0043985  0.00444564 0.0051279  0.00463802\n",
      " 0.00436601 0.00433778 0.00357251 0.00368885 0.00311067 0.0021846\n",
      " 0.00174142 0.00077437 0.00048361 0.00046927] [5.4536995e+06 6.5283770e+06 5.9702110e+06 3.3381420e+06 4.7904360e+06\n",
      " 6.3927860e+06 6.8026600e+06 8.1456160e+06 7.5296760e+06 1.0633128e+07\n",
      " 1.2998972e+07 1.2250888e+07 1.0534088e+07 1.2856360e+07 1.0424808e+07\n",
      " 9.4765120e+06 9.1450800e+06 8.6373120e+06 6.6537280e+06 6.6378240e+06\n",
      " 1.0795312e+07 1.1824352e+07 9.3427200e+06 7.9816800e+06 9.3246240e+06\n",
      " 1.4860832e+07 1.9585936e+07 2.4079664e+07 2.3879072e+07 2.0779520e+07\n",
      " 1.9508352e+07 1.8800320e+07 1.6470368e+07 1.5709984e+07 1.7245024e+07\n",
      " 1.5091840e+07 1.1566912e+07 1.4317280e+07 1.3039776e+07 1.1359616e+07\n",
      " 1.7111488e+07 2.4749344e+07 3.0513632e+07 2.4381056e+07 2.0165376e+07\n",
      " 2.0427712e+07 1.7680000e+07 1.9992704e+07 2.2574464e+07 2.4268992e+07\n",
      " 2.6463616e+07 2.0350976e+07 2.3470336e+07 2.5537408e+07 2.5620672e+07\n",
      " 3.1102592e+07 4.9233024e+07 4.1530560e+07 3.5077632e+07 2.9369984e+07\n",
      " 3.2019968e+07 3.5855936e+07 4.0225536e+07 3.0003584e+07 2.1245312e+07\n",
      " 1.7713792e+07 1.7661952e+07 1.6966144e+07 1.7983872e+07 1.8722304e+07\n",
      " 1.6128128e+07 1.8072704e+07 2.2989184e+07 2.6632704e+07 2.3133696e+07\n",
      " 2.4780160e+07 2.3022848e+07 1.8781184e+07 1.3262208e+07 1.2315648e+07\n",
      " 1.0415616e+07 8.7770880e+06 1.0526592e+07 9.4432000e+06 2.0631808e+07\n",
      " 7.3981440e+06 3.9856640e+06 2.5248000e+06 2.7175680e+06 1.8574080e+06\n",
      " 1.5646720e+06 1.1255040e+06 9.0739200e+05 9.1110400e+05 6.2233600e+05\n",
      " 3.3190400e+05 1.6793600e+05 7.4240000e+04 2.2784000e+04 1.7280000e+04]\n"
     ]
    },
    {
     "name": "stderr",
     "output_type": "stream",
     "text": [
      " 53%|█████▎    | 6600/12535 [3:32:02<3:42:10,  2.25s/it]"
     ]
    },
    {
     "name": "stdout",
     "output_type": "stream",
     "text": [
      "[0.02014233 0.02163187 0.02197095 0.02408578 0.02416427 0.0230272\n",
      " 0.01937306 0.02084363 0.02345083 0.02683395 0.02779225 0.02462362\n",
      " 0.02632162 0.02491502 0.02710494 0.03684622 0.03458797 0.03457206\n",
      " 0.02516356 0.02822452 0.02573516 0.02363929 0.02043744 0.02004108\n",
      " 0.02453885 0.02578839 0.02544849 0.02456653 0.02400137 0.02315104\n",
      " 0.02394631 0.02134226 0.02121194 0.02099009 0.02497796 0.02312847\n",
      " 0.02159612 0.02252483 0.02247131 0.01628111 0.01805456 0.02436292\n",
      " 0.02676468 0.02881295 0.02791152 0.02338463 0.0205992  0.02029077\n",
      " 0.01755214 0.01321268 0.01015475 0.00976356 0.01228129 0.0143041\n",
      " 0.01705057 0.02459614 0.02800588 0.03302201 0.02880083 0.02204155\n",
      " 0.02227975 0.0244334  0.0193364  0.01734214 0.01732141 0.01503169\n",
      " 0.01577601 0.01904578 0.01828432 0.01230987 0.00849109 0.00745931\n",
      " 0.00721928 0.00696152 0.00618382 0.00677297 0.00564272 0.00579016\n",
      " 0.00624536 0.00566574 0.00563434 0.00431313 0.00525307 0.00510173\n",
      " 0.00417543 0.00423419 0.00412855 0.00366239 0.00421842 0.00307025\n",
      " 0.00280515 0.0020566  0.00162549 0.00155956 0.00130961 0.00115817\n",
      " 0.00067764 0.00071457 0.00039583 0.00016441] [1.0271001e+07 1.0686521e+07 1.0090694e+07 1.1008540e+07 1.0949536e+07\n",
      " 1.0428708e+07 7.8654560e+06 7.0146320e+06 5.3234960e+06 4.0069600e+06\n",
      " 4.6254480e+06 4.4012560e+06 5.2771600e+06 6.3428720e+06 8.9943360e+06\n",
      " 1.9644040e+07 1.9105184e+07 2.7946016e+07 2.3945376e+07 1.1737584e+07\n",
      " 1.0636768e+07 1.1160928e+07 1.3409888e+07 1.2143152e+07 1.3144320e+07\n",
      " 1.6171680e+07 1.8772672e+07 2.2661344e+07 2.1462688e+07 2.1134464e+07\n",
      " 1.9234240e+07 1.4006048e+07 1.5322016e+07 1.5609824e+07 2.1348608e+07\n",
      " 1.7695168e+07 1.5562496e+07 1.4204384e+07 1.3860032e+07 1.0931104e+07\n",
      " 1.0046272e+07 1.0974464e+07 1.4609536e+07 1.8958208e+07 2.5812544e+07\n",
      " 3.0541696e+07 3.1759168e+07 3.9243520e+07 4.7219072e+07 4.1061568e+07\n",
      " 2.8869504e+07 1.6542976e+07 1.2449024e+07 1.1087552e+07 1.2186368e+07\n",
      " 1.6755136e+07 1.4830784e+07 2.1546624e+07 3.3261248e+07 3.6616384e+07\n",
      " 2.5246208e+07 2.5195840e+07 2.6434112e+07 2.3114624e+07 1.8552320e+07\n",
      " 1.6529024e+07 1.3900544e+07 1.1954560e+07 2.0409344e+07 2.1379968e+07\n",
      " 2.0210432e+07 1.5118464e+07 8.7275520e+06 7.0983680e+06 4.9491200e+06\n",
      " 4.6041600e+06 2.9626880e+06 2.3270400e+06 2.2731520e+06 2.0056320e+06\n",
      " 2.7024640e+06 1.7693440e+06 1.6533760e+06 1.8499840e+06 1.1217920e+06\n",
      " 1.0172160e+06 1.2652800e+06 7.7760000e+05 9.8419200e+05 6.1875200e+05\n",
      " 5.8240000e+05 4.1817600e+05 2.5894400e+05 2.1708800e+05 1.5590400e+05\n",
      " 9.3312000e+04 4.6464000e+04 4.2112000e+04 1.7280000e+04 7.2960000e+03]\n"
     ]
    },
    {
     "name": "stderr",
     "output_type": "stream",
     "text": [
      " 53%|█████▎    | 6700/12535 [3:35:24<2:39:52,  1.64s/it]"
     ]
    },
    {
     "name": "stdout",
     "output_type": "stream",
     "text": [
      "[0.         0.         0.         0.         0.         0.\n",
      " 0.         0.         0.         0.         0.         0.\n",
      " 0.         0.         0.         0.00623776 0.00646095 0.00818758\n",
      " 0.         0.0066772  0.         0.00967074 0.00777613 0.\n",
      " 0.         0.         0.01252044 0.01142329 0.01431577 0.01269328\n",
      " 0.0121844  0.01264257 0.01315921 0.01294791 0.01344499 0.01355368\n",
      " 0.01392733 0.0141908  0.01441394 0.01424994 0.0138168  0.01439584\n",
      " 0.01436136 0.01500238 0.01439316 0.01409446 0.01478448 0.01374694\n",
      " 0.01322815 0.01324962 0.01274497 0.01281244 0.01256177 0.01261261\n",
      " 0.0130478  0.01295105 0.01413677 0.01708188 0.01840598 0.01753002\n",
      " 0.02030813 0.01882479 0.0229669  0.02177374 0.02337074 0.02328717\n",
      " 0.02488389 0.02586046 0.02674983 0.02832512 0.03505751 0.03508915\n",
      " 0.03039831 0.02587283 0.024346   0.02272122 0.02138886 0.01980693\n",
      " 0.02234239 0.02291159 0.02300988 0.02060889 0.0110963  0.01006458\n",
      " 0.00878696 0.00847072 0.00788956 0.00669888 0.00789939 0.00646092\n",
      " 0.00512171 0.00360436 0.00334072 0.00292107 0.0030306  0.00192805\n",
      " 0.00081635 0.00062861 0.00057117 0.00040992] [0.0000000e+00 0.0000000e+00 0.0000000e+00 0.0000000e+00 0.0000000e+00\n",
      " 0.0000000e+00 0.0000000e+00 0.0000000e+00 0.0000000e+00 0.0000000e+00\n",
      " 0.0000000e+00 0.0000000e+00 0.0000000e+00 0.0000000e+00 0.0000000e+00\n",
      " 9.6602998e+03 1.2013519e+04 6.4247820e+04 0.0000000e+00 3.9570062e+04\n",
      " 0.0000000e+00 1.9710172e+04 3.5066672e+04 0.0000000e+00 0.0000000e+00\n",
      " 0.0000000e+00 3.8390688e+04 5.0562797e+04 2.3534147e+05 3.7560138e+05\n",
      " 9.5768962e+05 6.2390575e+05 5.9852275e+05 4.2481300e+05 6.9037025e+05\n",
      " 1.3628328e+06 1.5133245e+06 1.6993585e+06 1.7364590e+06 2.1750510e+06\n",
      " 3.5342830e+06 3.5366150e+06 4.4070860e+06 4.6850660e+06 5.1086740e+06\n",
      " 5.6544920e+06 6.1149280e+06 8.7708400e+06 9.0390920e+06 9.9663600e+06\n",
      " 8.2958480e+06 1.0109520e+07 9.2534400e+06 9.5771680e+06 1.2051416e+07\n",
      " 1.0166232e+07 1.5880256e+07 2.0970272e+07 2.2451296e+07 1.9545696e+07\n",
      " 2.5110560e+07 2.3750608e+07 3.0752000e+07 2.8825920e+07 3.5709792e+07\n",
      " 3.8589984e+07 5.4743904e+07 4.9153184e+07 3.5318304e+07 3.3647456e+07\n",
      " 4.6666112e+07 5.1301696e+07 5.6490304e+07 6.5371328e+07 5.3388736e+07\n",
      " 6.6309504e+07 5.0934080e+07 5.5846912e+07 6.4785984e+07 5.8332800e+07\n",
      " 7.1159936e+07 1.2286362e+08 4.5015936e+07 1.8621696e+07 1.7155584e+07\n",
      " 1.0694016e+07 9.4163200e+06 6.2437120e+06 7.6282880e+06 5.5340800e+06\n",
      " 3.4031360e+06 2.2659840e+06 1.5861760e+06 1.1308800e+06 1.0494720e+06\n",
      " 5.7446400e+05 1.2876800e+05 6.6816000e+04 3.9168000e+04 2.1888000e+04]\n"
     ]
    },
    {
     "name": "stderr",
     "output_type": "stream",
     "text": [
      " 54%|█████▍    | 6800/12535 [3:39:03<2:14:40,  1.41s/it]"
     ]
    },
    {
     "name": "stdout",
     "output_type": "stream",
     "text": [
      "[0.02007482 0.0204656  0.02328714 0.02313462 0.02425506 0.02377408\n",
      " 0.02762916 0.03291923 0.03830612 0.03438545 0.03587586 0.03140435\n",
      " 0.02695517 0.02395939 0.02248809 0.02161049 0.02154234 0.02367386\n",
      " 0.02674875 0.02698292 0.02886702 0.02444551 0.02802829 0.02708467\n",
      " 0.03089727 0.03037758 0.03244833 0.03392437 0.02842199 0.02546548\n",
      " 0.02345738 0.02303615 0.02256075 0.02135149 0.01912467 0.02102752\n",
      " 0.03068676 0.02943842 0.02883387 0.02590391 0.02497118 0.03236464\n",
      " 0.0352496  0.03233667 0.02866846 0.03531818 0.03962038 0.04516628\n",
      " 0.04054864 0.03787801 0.02825369 0.02152495 0.01881248 0.02070005\n",
      " 0.02012122 0.02258728 0.02262643 0.02119284 0.02412928 0.023521\n",
      " 0.02431229 0.02313593 0.02001045 0.0210736  0.0208224  0.01708867\n",
      " 0.0216187  0.02104759 0.01837383 0.01652963 0.01359983 0.01008069\n",
      " 0.00927888 0.00897603 0.00980947 0.00816088 0.00928735 0.00844207\n",
      " 0.00742587 0.00686721 0.00663307 0.0071209  0.00636542 0.00808402\n",
      " 0.00609488 0.00582398 0.00490817 0.00369554 0.00290394 0.00267878\n",
      " 0.00220117 0.00227248 0.00211976 0.00105546 0.00139686 0.00081829\n",
      " 0.00042382 0.00047438 0.00054523 0.00011854] [9.5414100e+06 6.6927990e+06 8.0207460e+06 5.1882880e+06 5.7443940e+06\n",
      " 5.1712840e+06 5.4099000e+06 7.7243080e+06 8.4886360e+06 6.4015600e+06\n",
      " 7.9708480e+06 9.1331760e+06 1.3150928e+07 1.3954800e+07 1.2243320e+07\n",
      " 1.2313528e+07 1.0302160e+07 1.0096880e+07 1.0442096e+07 1.1444848e+07\n",
      " 1.2472960e+07 1.1616880e+07 1.2797072e+07 1.3212144e+07 1.4515568e+07\n",
      " 1.3198736e+07 9.2831840e+06 1.0303664e+07 1.1746656e+07 1.7170016e+07\n",
      " 1.9979872e+07 1.9087456e+07 2.0679296e+07 1.7704512e+07 1.2515840e+07\n",
      " 1.1728128e+07 1.1187616e+07 9.9799040e+06 1.0385728e+07 7.3594240e+06\n",
      " 5.5225600e+06 7.6896640e+06 1.0400512e+07 1.0072768e+07 8.5071040e+06\n",
      " 1.1618848e+07 1.1659616e+07 1.2193792e+07 9.4714560e+06 1.0922752e+07\n",
      " 1.6222976e+07 1.8845440e+07 1.9890368e+07 2.2252416e+07 1.7954112e+07\n",
      " 1.8037632e+07 1.8872128e+07 1.4647232e+07 1.1716864e+07 1.1209152e+07\n",
      " 1.2277056e+07 1.0914816e+07 1.2558016e+07 1.3799488e+07 1.7028032e+07\n",
      " 1.4584832e+07 7.5712640e+06 6.9682560e+06 8.1045120e+06 1.0468672e+07\n",
      " 1.4959744e+07 1.2533696e+07 7.7896960e+06 6.4678400e+06 5.6418560e+06\n",
      " 4.9766400e+06 5.1688960e+06 4.2853760e+06 3.9722880e+06 3.7190400e+06\n",
      " 2.6975360e+06 2.5448960e+06 1.6384640e+06 3.0535680e+06 2.3889920e+06\n",
      " 1.6663680e+06 1.2387200e+06 7.8009600e+05 7.5564800e+05 4.8825600e+05\n",
      " 2.7808000e+05 2.4723200e+05 2.5126400e+05 7.7696000e+04 7.6800000e+04\n",
      " 3.3088000e+04 1.9200000e+04 1.1264000e+04 1.4400000e+04 1.0240000e+03]\n"
     ]
    },
    {
     "name": "stderr",
     "output_type": "stream",
     "text": [
      " 55%|█████▌    | 6900/12535 [3:42:14<2:23:05,  1.52s/it]"
     ]
    },
    {
     "name": "stdout",
     "output_type": "stream",
     "text": [
      "[0.01944235 0.01904212 0.02167827 0.02290357 0.02101165 0.01785961\n",
      " 0.02016727 0.02010394 0.01840166 0.01876689 0.02093031 0.02523319\n",
      " 0.03091151 0.03135487 0.03192316 0.03283395 0.02906503 0.02764846\n",
      " 0.02441217 0.02607271 0.02694434 0.02984569 0.02719227 0.0226226\n",
      " 0.02106629 0.01891571 0.02651948 0.02820833 0.0274502  0.02578069\n",
      " 0.02697689 0.02551552 0.02245527 0.02151542 0.02657113 0.02818784\n",
      " 0.02834507 0.0256943  0.02625615 0.02500919 0.02247203 0.02250237\n",
      " 0.02380017 0.02261097 0.02072508 0.01845922 0.022499   0.02039056\n",
      " 0.02178076 0.0212348  0.0233398  0.02230032 0.02287219 0.02022831\n",
      " 0.01791508 0.01718977 0.01716903 0.01612507 0.0153418  0.01393244\n",
      " 0.0139128  0.01260229 0.01125588 0.01044779 0.01001383 0.01098124\n",
      " 0.01094431 0.01245194 0.01295789 0.01196465 0.01155609 0.01256692\n",
      " 0.01195251 0.01359478 0.01187949 0.01408128 0.01395022 0.01334007\n",
      " 0.01070605 0.01096812 0.00865238 0.00931816 0.01022018 0.0115178\n",
      " 0.00811935 0.00586942 0.00543319 0.00417459 0.00357216 0.00363724\n",
      " 0.0030229  0.00229045 0.00159033 0.00127408 0.00087745 0.00067326\n",
      " 0.00045183 0.00022772 0.00018508 0.00010024] [4.8489460e+06 3.5027530e+06 3.6872870e+06 5.6405780e+06 9.4060140e+06\n",
      " 8.8105320e+06 1.0659252e+07 1.0750704e+07 8.0705240e+06 8.2098440e+06\n",
      " 7.7996160e+06 6.9014960e+06 1.0809584e+07 9.4480960e+06 1.0782032e+07\n",
      " 1.5821840e+07 1.7637536e+07 2.7629856e+07 2.3745168e+07 2.8731408e+07\n",
      " 2.5638192e+07 2.2398816e+07 1.9285088e+07 2.3220256e+07 2.4962272e+07\n",
      " 2.1277760e+07 1.8167136e+07 1.6883040e+07 1.3726048e+07 1.4488320e+07\n",
      " 1.5735264e+07 1.5558848e+07 1.6636160e+07 1.3597536e+07 1.1365568e+07\n",
      " 1.1752928e+07 1.2487520e+07 1.3819360e+07 1.5622336e+07 1.8597760e+07\n",
      " 1.6125440e+07 1.5528704e+07 1.2468736e+07 1.1309440e+07 1.2644864e+07\n",
      " 1.2620800e+07 1.1579712e+07 9.1622400e+06 1.1017792e+07 1.1648320e+07\n",
      " 1.0969984e+07 1.0062656e+07 1.2071808e+07 1.1651712e+07 1.2580224e+07\n",
      " 1.3700032e+07 1.2698752e+07 1.1929280e+07 1.2509248e+07 1.1304512e+07\n",
      " 1.1622464e+07 8.3434880e+06 6.6259840e+06 6.8958080e+06 5.1976320e+06\n",
      " 4.8046720e+06 5.0608000e+06 4.7656320e+06 5.9184000e+06 5.0213760e+06\n",
      " 4.9413120e+06 4.7711360e+06 5.1884160e+06 6.0915200e+06 4.8515840e+06\n",
      " 4.9750400e+06 5.6108160e+06 6.2522880e+06 5.7331200e+06 5.6411520e+06\n",
      " 5.8198400e+06 3.7243520e+06 3.5342720e+06 3.4161280e+06 3.6358400e+06\n",
      " 2.1726720e+06 2.2897920e+06 1.2629760e+06 6.8960000e+05 7.6992000e+05\n",
      " 5.6352000e+05 3.6992000e+05 2.8454400e+05 1.3369600e+05 6.9760000e+04\n",
      " 2.8928000e+04 1.5616000e+04 8.4480000e+03 3.6480000e+03 2.6880000e+03]\n"
     ]
    },
    {
     "name": "stderr",
     "output_type": "stream",
     "text": [
      " 56%|█████▌    | 7000/12535 [3:45:26<2:30:44,  1.63s/it]"
     ]
    },
    {
     "name": "stdout",
     "output_type": "stream",
     "text": [
      "[0.         0.         0.         0.         0.         0.\n",
      " 0.         0.         0.00810688 0.         0.00890941 0.00932621\n",
      " 0.00837744 0.00869733 0.00864659 0.00955508 0.008255   0.00819956\n",
      " 0.01025458 0.00911914 0.00898889 0.00946085 0.00893404 0.00872893\n",
      " 0.00907336 0.00966421 0.01022775 0.00940131 0.00893941 0.00950727\n",
      " 0.0091581  0.00809299 0.00918729 0.01014964 0.01141127 0.01044046\n",
      " 0.01016453 0.00988504 0.00927488 0.00875603 0.00820245 0.00715311\n",
      " 0.00722077 0.00736855 0.00679745 0.00621503 0.00574769 0.00551678\n",
      " 0.00685205 0.00626908 0.00605076 0.00587078 0.00605546 0.00665998\n",
      " 0.00646638 0.00927765 0.01853351 0.01897904 0.0205935  0.02630129\n",
      " 0.02401786 0.02853861 0.02896501 0.02450597 0.02671087 0.02805165\n",
      " 0.03652702 0.04140884 0.04415089 0.04399316 0.0342926  0.0297527\n",
      " 0.03045772 0.02971335 0.02733214 0.02681258 0.02655109 0.03073373\n",
      " 0.02749665 0.0217496  0.02269964 0.02147177 0.02461127 0.02400224\n",
      " 0.0235768  0.02377141 0.02290829 0.0215007  0.018724   0.01503122\n",
      " 0.01362074 0.00974424 0.01062899 0.00787267 0.0076132  0.00636061\n",
      " 0.0049411  0.00471412 0.0030649  0.00186508] [0.0000000e+00 0.0000000e+00 0.0000000e+00 0.0000000e+00 0.0000000e+00\n",
      " 0.0000000e+00 0.0000000e+00 0.0000000e+00 4.4447016e+04 0.0000000e+00\n",
      " 1.1830270e+04 1.5946684e+04 3.3236734e+04 1.6523389e+05 4.9091000e+04\n",
      " 6.6034406e+04 2.8613800e+05 5.9713688e+04 5.7184625e+04 2.1749925e+05\n",
      " 3.0942769e+05 2.8543500e+05 2.5473888e+05 4.1185712e+05 1.4653725e+05\n",
      " 2.3353375e+05 3.0935575e+05 3.6431200e+05 3.0503900e+05 5.6190750e+05\n",
      " 7.4125650e+05 8.1468600e+05 7.1725050e+05 1.2832170e+06 1.2513955e+06\n",
      " 1.1831800e+06 1.6760520e+06 2.1429190e+06 1.6726030e+06 2.0175310e+06\n",
      " 2.9343700e+06 2.3027540e+06 2.2647340e+06 1.9612440e+06 2.4042360e+06\n",
      " 1.5560060e+06 7.6601200e+05 4.8264400e+05 8.7871800e+05 9.0681200e+05\n",
      " 5.2626800e+05 3.9940400e+05 5.0788800e+05 1.0797920e+06 1.1420760e+06\n",
      " 7.1926400e+05 3.4419360e+06 2.0408088e+07 1.7612556e+07 2.1815312e+07\n",
      " 2.4275032e+07 2.0928264e+07 2.5865504e+07 2.9377632e+07 3.2319200e+07\n",
      " 4.6623600e+07 3.6487648e+07 3.7302336e+07 3.2525664e+07 5.8949632e+07\n",
      " 8.1430400e+07 6.9648608e+07 6.6392896e+07 6.2906304e+07 6.2907648e+07\n",
      " 4.4322304e+07 3.6985792e+07 3.5329856e+07 5.4878848e+07 5.7152640e+07\n",
      " 4.9742528e+07 4.7633024e+07 4.5613696e+07 4.0871936e+07 3.6353024e+07\n",
      " 3.4769024e+07 4.0240384e+07 4.6288640e+07 4.4208128e+07 6.0032128e+07\n",
      " 3.4536576e+07 2.6448000e+07 2.2359040e+07 1.2561152e+07 6.0949760e+06\n",
      " 3.8627840e+06 2.2041600e+06 1.7296640e+06 7.9769600e+05 2.5420800e+05]\n"
     ]
    },
    {
     "name": "stderr",
     "output_type": "stream",
     "text": [
      " 57%|█████▋    | 7100/12535 [3:48:45<2:16:14,  1.50s/it]"
     ]
    },
    {
     "name": "stdout",
     "output_type": "stream",
     "text": [
      "[0.02652507 0.02823084 0.02598456 0.02376784 0.02551221 0.02404697\n",
      " 0.02325299 0.02580562 0.02305186 0.0243348  0.02182508 0.02507995\n",
      " 0.02544191 0.03495251 0.03159653 0.02849561 0.03112365 0.026622\n",
      " 0.02526477 0.02381323 0.02586623 0.02563782 0.02778885 0.02455247\n",
      " 0.02635722 0.02181537 0.02427005 0.02561021 0.02532244 0.02116475\n",
      " 0.02091511 0.02520899 0.0205934  0.01825232 0.01758871 0.02011184\n",
      " 0.01719529 0.01700368 0.01938146 0.02182433 0.02375325 0.02363946\n",
      " 0.02530445 0.02739787 0.03409352 0.03681086 0.03930156 0.035918\n",
      " 0.03331515 0.03219511 0.03224834 0.02977639 0.02391021 0.01859319\n",
      " 0.01576199 0.01373891 0.01063527 0.0096477  0.01131273 0.01234565\n",
      " 0.01309006 0.01213647 0.01373418 0.01378107 0.02025232 0.01614819\n",
      " 0.01841114 0.01688223 0.01838467 0.0164399  0.01853795 0.01698766\n",
      " 0.01249429 0.01302599 0.01671558 0.01675154 0.01579359 0.01363754\n",
      " 0.01236865 0.01220531 0.01138398 0.0099379  0.00918334 0.00823669\n",
      " 0.00744901 0.00709813 0.00793422 0.00781805 0.00604147 0.00560758\n",
      " 0.00420569 0.00377225 0.00368519 0.00363869 0.00313819 0.00245745\n",
      " 0.0015553  0.00097672 0.00054366 0.00019988] [4.1054642e+06 6.4222760e+06 6.0243380e+06 7.6371840e+06 9.1181300e+06\n",
      " 1.0009804e+07 8.0968160e+06 8.5912800e+06 7.6611960e+06 7.2021600e+06\n",
      " 6.0753520e+06 5.4997920e+06 4.9471440e+06 9.6364960e+06 8.7124000e+06\n",
      " 7.1376560e+06 1.1413680e+07 1.0292240e+07 1.1134752e+07 8.6300800e+06\n",
      " 8.2863200e+06 8.4121440e+06 7.8146560e+06 6.7711200e+06 4.5409120e+06\n",
      " 4.2293760e+06 5.7230400e+06 7.4624000e+06 1.2035104e+07 1.3047424e+07\n",
      " 1.1265552e+07 1.3608240e+07 1.1938960e+07 9.3129280e+06 9.3696000e+06\n",
      " 6.7224640e+06 6.2151040e+06 5.5503680e+06 5.5349440e+06 6.9673600e+06\n",
      " 8.0096960e+06 9.9823040e+06 1.3302112e+07 1.4071392e+07 2.0010688e+07\n",
      " 1.8195424e+07 2.0632544e+07 1.4436384e+07 1.7621888e+07 1.7886016e+07\n",
      " 2.2659904e+07 3.1767680e+07 5.3660864e+07 4.0708928e+07 3.0621632e+07\n",
      " 2.3929664e+07 2.1499712e+07 1.6460672e+07 8.2832640e+06 6.4119680e+06\n",
      " 6.1264000e+06 4.8762240e+06 6.7129600e+06 6.2176640e+06 8.0867200e+06\n",
      " 6.4514560e+06 1.0322624e+07 1.1487616e+07 1.0787392e+07 1.0570624e+07\n",
      " 1.2374016e+07 1.5450496e+07 1.6458752e+07 1.3255808e+07 1.5600960e+07\n",
      " 1.5307712e+07 1.3238336e+07 1.1508480e+07 9.5270400e+06 8.7383680e+06\n",
      " 1.0171136e+07 1.0938496e+07 7.3241600e+06 6.3595520e+06 5.0521600e+06\n",
      " 3.7799040e+06 3.7045120e+06 3.7873280e+06 3.0772480e+06 2.2277760e+06\n",
      " 1.1546240e+06 1.0503680e+06 1.0074240e+06 9.2390400e+05 6.3020800e+05\n",
      " 4.2163200e+05 2.5862400e+05 1.0246400e+05 2.7840000e+04 6.0160000e+03]\n"
     ]
    },
    {
     "name": "stderr",
     "output_type": "stream",
     "text": [
      " 57%|█████▋    | 7200/12535 [3:51:24<2:19:46,  1.57s/it]"
     ]
    },
    {
     "name": "stdout",
     "output_type": "stream",
     "text": [
      "[0.00799105 0.00820115 0.00898813 0.00891817 0.00877133 0.00857507\n",
      " 0.00841334 0.00932256 0.0107802  0.01073174 0.0126571  0.01313942\n",
      " 0.01454178 0.02627882 0.02485948 0.02149484 0.02137209 0.02085922\n",
      " 0.02302082 0.03592766 0.03827224 0.04194654 0.03293287 0.02880314\n",
      " 0.02659612 0.02602742 0.03277121 0.03763281 0.03365675 0.03059769\n",
      " 0.02275751 0.02091374 0.01943588 0.01980078 0.0182863  0.01894638\n",
      " 0.01623045 0.01586998 0.01585768 0.01716202 0.01582511 0.02121965\n",
      " 0.02141973 0.02245357 0.03159834 0.03177418 0.02742164 0.02685113\n",
      " 0.02843706 0.02356581 0.02384321 0.02097217 0.02069842 0.02070648\n",
      " 0.02269478 0.02244563 0.02324601 0.023985   0.0235098  0.01970266\n",
      " 0.01941535 0.01893405 0.0182129  0.01886365 0.01903354 0.0185395\n",
      " 0.01943264 0.01696884 0.02048125 0.02516445 0.03013217 0.03459533\n",
      " 0.02889691 0.01970796 0.01655128 0.00807035 0.00682193 0.00880289\n",
      " 0.00865723 0.00747087 0.00777749 0.00742676 0.00629705 0.0066079\n",
      " 0.00632432 0.00473601 0.0044075  0.00351947 0.00349421 0.00359474\n",
      " 0.00426536 0.00384622 0.00326311 0.00235157 0.00245583 0.00214298\n",
      " 0.00122193 0.00104676 0.00059795 0.00054018] [8.2671069e+05 1.1758515e+06 1.2817032e+06 1.4394935e+06 2.1544125e+06\n",
      " 2.0591935e+06 1.0640080e+06 8.8032900e+05 9.4165200e+05 7.5361500e+05\n",
      " 1.1901970e+06 1.0639690e+06 1.2692810e+06 8.1234240e+06 1.0896224e+07\n",
      " 9.3896840e+06 1.3287116e+07 1.1899560e+07 6.7440960e+06 7.6096640e+06\n",
      " 7.1538640e+06 8.7485040e+06 4.7016960e+06 3.0854400e+06 2.3274000e+06\n",
      " 2.1043680e+06 4.8576640e+06 6.9371920e+06 6.9229200e+06 1.0967840e+07\n",
      " 1.3279456e+07 1.5000256e+07 1.3103296e+07 1.3013712e+07 1.1176080e+07\n",
      " 1.0673008e+07 8.5778400e+06 9.0536000e+06 8.4782880e+06 7.9732640e+06\n",
      " 6.7618560e+06 8.7845920e+06 7.6667840e+06 1.1175392e+07 1.2310624e+07\n",
      " 1.3077792e+07 1.0950880e+07 1.4774464e+07 1.8062304e+07 1.7133888e+07\n",
      " 1.9386528e+07 1.4011264e+07 1.4265504e+07 1.5271520e+07 1.6478496e+07\n",
      " 1.5253408e+07 1.4601984e+07 1.2288768e+07 1.5119744e+07 1.4291616e+07\n",
      " 1.3850080e+07 1.2656832e+07 1.4526080e+07 1.5060864e+07 1.5137920e+07\n",
      " 1.4807296e+07 1.5107776e+07 1.4373056e+07 1.2624704e+07 1.0410688e+07\n",
      " 1.0323520e+07 1.4978304e+07 3.1152512e+07 3.1742784e+07 4.6515200e+07\n",
      " 1.9622784e+07 8.9399040e+06 5.3770880e+06 4.0547840e+06 3.9418880e+06\n",
      " 5.1536000e+06 5.8332160e+06 4.4593280e+06 3.6025600e+06 2.6303360e+06\n",
      " 2.3748480e+06 1.4873600e+06 1.4851840e+06 7.6729600e+05 6.5638400e+05\n",
      " 7.8336000e+05 6.8070400e+05 5.9545600e+05 3.1270400e+05 2.7744000e+05\n",
      " 2.0940800e+05 1.0220800e+05 5.0880000e+04 2.5920000e+04 2.6560000e+04]\n"
     ]
    },
    {
     "name": "stderr",
     "output_type": "stream",
     "text": [
      " 58%|█████▊    | 7300/12535 [3:54:20<2:01:44,  1.40s/it]"
     ]
    },
    {
     "name": "stdout",
     "output_type": "stream",
     "text": [
      "[1.44339725e-02 1.28686521e-02 1.42759094e-02 1.47829195e-02\n",
      " 1.37735326e-02 1.12284645e-02 1.49999531e-02 1.67113710e-02\n",
      " 1.31977182e-02 1.32499728e-02 1.13208350e-02 1.30540701e-02\n",
      " 1.18724834e-02 1.09415781e-02 1.50932195e-02 1.53202433e-02\n",
      " 1.34738255e-02 1.31625254e-02 1.08055556e-02 1.64301638e-02\n",
      " 1.61532965e-02 2.08583884e-02 2.49890517e-02 2.63126027e-02\n",
      " 3.32421474e-02 3.26776505e-02 2.99427751e-02 2.49408036e-02\n",
      " 1.85072385e-02 1.59161817e-02 1.49967950e-02 1.57736354e-02\n",
      " 1.90714691e-02 1.79349631e-02 1.61255151e-02 1.20551372e-02\n",
      " 9.47810616e-03 8.56103096e-03 8.39030556e-03 1.16323642e-02\n",
      " 1.07331946e-02 1.29838632e-02 1.41978739e-02 1.39346635e-02\n",
      " 1.44801000e-02 1.38360234e-02 9.54065938e-03 7.61640444e-03\n",
      " 7.92281236e-03 7.31485384e-03 8.14395770e-03 7.38819735e-03\n",
      " 8.60911421e-03 7.09155994e-03 9.58794542e-03 8.13973788e-03\n",
      " 7.65699893e-03 9.74837597e-03 6.97920891e-03 7.71674374e-03\n",
      " 6.38388796e-03 5.60600124e-03 4.12172452e-03 7.19161518e-03\n",
      " 8.42467044e-03 5.34223439e-03 6.21433882e-03 8.12252983e-03\n",
      " 6.15470717e-03 6.04221132e-03 5.09628188e-03 5.46519738e-03\n",
      " 7.44504295e-03 4.83453646e-03 5.71708381e-03 4.47800895e-03\n",
      " 5.87195111e-03 5.55634173e-03 5.92251308e-03 7.01050228e-03\n",
      " 4.50576423e-03 3.88259138e-03 3.51974950e-03 4.21668915e-03\n",
      " 3.76962218e-03 2.81575718e-03 2.25020037e-03 2.31983443e-03\n",
      " 2.46200105e-03 2.07167515e-03 1.94382470e-03 7.98060384e-04\n",
      " 1.16846559e-03 1.03935029e-03 4.17178147e-04 0.00000000e+00\n",
      " 1.56434035e-04 6.52356903e-05 1.29422289e-04 0.00000000e+00] [3.5938125e+06 2.5354370e+06 1.6924225e+06 1.4409510e+06 2.1703050e+06\n",
      " 1.6061340e+06 1.0591090e+06 1.1798100e+06 9.5930900e+05 1.0213800e+06\n",
      " 1.2461280e+06 1.0757740e+06 1.1501880e+06 1.1134920e+06 1.0402160e+06\n",
      " 1.1833660e+06 8.0195000e+05 1.0869660e+06 7.9806200e+05 1.4241740e+06\n",
      " 1.4877760e+06 1.3841480e+06 1.5355960e+06 2.4949500e+06 2.5160720e+06\n",
      " 2.2719720e+06 2.8979240e+06 3.4191040e+06 4.7382320e+06 6.1536840e+06\n",
      " 4.8410480e+06 3.0410640e+06 3.0362120e+06 2.9093920e+06 3.3591600e+06\n",
      " 3.4106880e+06 2.5372960e+06 1.6053120e+06 1.4346160e+06 9.0112000e+05\n",
      " 9.4647200e+05 1.2596400e+06 1.2876640e+06 1.2818000e+06 1.1004320e+06\n",
      " 1.3155920e+06 1.1849200e+06 1.0657760e+06 1.2158000e+06 8.0138400e+05\n",
      " 6.6192000e+05 2.9357600e+05 4.0768800e+05 3.1870400e+05 1.9955200e+05\n",
      " 3.9659200e+05 4.5971200e+05 5.7138400e+05 3.4316000e+05 4.4677600e+05\n",
      " 4.3683200e+05 3.9874400e+05 1.7315200e+05 2.4101600e+05 2.8492800e+05\n",
      " 1.8256800e+05 1.5446400e+05 2.5360800e+05 1.5769600e+05 1.8228800e+05\n",
      " 8.9144000e+04 1.5937600e+05 2.5091200e+05 2.6798400e+05 1.9052800e+05\n",
      " 9.0992000e+04 1.4988000e+05 1.9857600e+05 5.7032000e+04 6.0280000e+04\n",
      " 1.3457600e+05 1.1980000e+05 1.0223200e+05 1.1999200e+05 1.0186400e+05\n",
      " 9.4608000e+04 9.6272000e+04 5.8744000e+04 7.0472000e+04 4.3880000e+04\n",
      " 3.6576000e+04 1.6616000e+04 1.4120000e+04 1.1008000e+04 2.7840000e+03\n",
      " 0.0000000e+00 4.0800000e+02 2.4800000e+02 4.7200000e+02 0.0000000e+00]\n"
     ]
    },
    {
     "name": "stderr",
     "output_type": "stream",
     "text": [
      " 59%|█████▉    | 7400/12535 [3:57:16<2:17:37,  1.61s/it]"
     ]
    },
    {
     "name": "stdout",
     "output_type": "stream",
     "text": [
      "[0.03038118 0.03006509 0.02948172 0.02723713 0.02890268 0.02898205\n",
      " 0.02581723 0.02810193 0.02883052 0.02858832 0.02814497 0.03005246\n",
      " 0.02828636 0.02430343 0.02207735 0.01959203 0.01714737 0.01683449\n",
      " 0.01706873 0.01666917 0.01620322 0.01450563 0.0151523  0.01606609\n",
      " 0.01494137 0.01606403 0.01780387 0.01801411 0.01485677 0.01431532\n",
      " 0.01288072 0.01311558 0.01363731 0.01531355 0.01498719 0.01603539\n",
      " 0.01629569 0.01748436 0.02032187 0.01923515 0.0154558  0.01516849\n",
      " 0.01684749 0.01441973 0.01122777 0.02083362 0.01536261 0.01339781\n",
      " 0.01435023 0.01648312 0.01554849 0.01480634 0.01373046 0.01263422\n",
      " 0.01216626 0.01822547 0.02188533 0.0156204  0.01513547 0.01353456\n",
      " 0.01460169 0.01459198 0.01542786 0.01279629 0.01170681 0.01089242\n",
      " 0.00915047 0.00903796 0.00820421 0.01040718 0.01064985 0.00764347\n",
      " 0.01275836 0.01253561 0.01213474 0.01100624 0.00998461 0.00965393\n",
      " 0.00829148 0.00778585 0.00715762 0.00812344 0.00915025 0.00786604\n",
      " 0.0084698  0.00587953 0.00539117 0.00519644 0.0047395  0.00480621\n",
      " 0.00380135 0.00254884 0.00267054 0.00173444 0.00187272 0.00110597\n",
      " 0.00097481 0.00050463 0.00127566 0.00029471] [3.818633e+06 4.675783e+06 2.795995e+06 5.047908e+06 6.073513e+06\n",
      " 5.007556e+06 4.400596e+06 3.992388e+06 3.342680e+06 3.299156e+06\n",
      " 2.744600e+06 3.858540e+06 3.579600e+06 3.076720e+06 3.384872e+06\n",
      " 2.741648e+06 3.657392e+06 2.970364e+06 2.841592e+06 2.925496e+06\n",
      " 3.470064e+06 2.980616e+06 3.549008e+06 2.853120e+06 3.174080e+06\n",
      " 3.110304e+06 3.695776e+06 3.374760e+06 3.013184e+06 3.243616e+06\n",
      " 2.354640e+06 2.922216e+06 2.098936e+06 2.194120e+06 2.518040e+06\n",
      " 2.926760e+06 2.438632e+06 2.950264e+06 2.881848e+06 3.806976e+06\n",
      " 3.347592e+06 3.477168e+06 3.241680e+06 1.340624e+06 1.534640e+06\n",
      " 1.958512e+06 1.675920e+06 1.576368e+06 1.146240e+06 2.197280e+06\n",
      " 1.973776e+06 2.547680e+06 2.303280e+06 1.899488e+06 1.814432e+06\n",
      " 2.443792e+06 2.366176e+06 2.172400e+06 2.378000e+06 1.875536e+06\n",
      " 1.803840e+06 2.687008e+06 2.863632e+06 2.840032e+06 2.878048e+06\n",
      " 3.323488e+06 2.367136e+06 2.397760e+06 1.629648e+06 1.878384e+06\n",
      " 1.480000e+06 1.255312e+06 1.704272e+06 1.828144e+06 2.199920e+06\n",
      " 2.022640e+06 1.999840e+06 2.493600e+06 2.504352e+06 2.459152e+06\n",
      " 1.661824e+06 1.604080e+06 1.116896e+06 1.517296e+06 1.253216e+06\n",
      " 1.092096e+06 1.055824e+06 4.801920e+05 7.089920e+05 5.944160e+05\n",
      " 2.916480e+05 2.287680e+05 1.979680e+05 8.115200e+04 6.624000e+04\n",
      " 4.505600e+04 3.729600e+04 9.536000e+03 1.667200e+04 3.472000e+03]\n"
     ]
    },
    {
     "name": "stderr",
     "output_type": "stream",
     "text": [
      " 60%|█████▉    | 7500/12535 [4:00:17<2:57:03,  2.11s/it]"
     ]
    },
    {
     "name": "stdout",
     "output_type": "stream",
     "text": [
      "[0.02760485 0.02800044 0.02434022 0.02204552 0.022207   0.02312868\n",
      " 0.02219351 0.02099034 0.02005365 0.02067597 0.02375968 0.02490354\n",
      " 0.0310696  0.03565863 0.03943586 0.03857129 0.03880279 0.03808958\n",
      " 0.03785738 0.03495163 0.03238659 0.03119447 0.03039469 0.03459308\n",
      " 0.03088839 0.02967256 0.0302984  0.02606737 0.02576846 0.02817389\n",
      " 0.02989119 0.03289712 0.03573685 0.03910201 0.03979975 0.03742968\n",
      " 0.03393445 0.03116162 0.02713807 0.0257216  0.0276831  0.03018405\n",
      " 0.03248125 0.02914823 0.02418247 0.02178295 0.02196464 0.02176097\n",
      " 0.02328623 0.02515474 0.02811829 0.03321472 0.03309838 0.03639362\n",
      " 0.03780005 0.03691229 0.02874656 0.02418253 0.0250889  0.0232935\n",
      " 0.02297569 0.02511673 0.02497385 0.02243335 0.0206547  0.01825502\n",
      " 0.01690849 0.0156831  0.01526007 0.01445792 0.01571641 0.01534768\n",
      " 0.01508813 0.0168527  0.01541328 0.01470254 0.01476868 0.01520449\n",
      " 0.01529929 0.01440453 0.01146781 0.00976326 0.00781401 0.00629809\n",
      " 0.00441211 0.00400463 0.00462008 0.00423192 0.00416273 0.0039445\n",
      " 0.00345683 0.00284047 0.00268617 0.00283101 0.0018659  0.00098315\n",
      " 0.00082577 0.00041065 0.00056695 0.00054566] [4.4138620e+06 5.4046930e+06 6.6268220e+06 6.0885570e+06 9.1458900e+06\n",
      " 7.3066320e+06 7.1646960e+06 5.5217520e+06 6.7409360e+06 6.2892640e+06\n",
      " 5.1130640e+06 5.9542240e+06 6.7689920e+06 5.6276320e+06 4.6907600e+06\n",
      " 4.0504960e+06 1.0812520e+07 9.3371520e+06 1.0870072e+07 1.0919744e+07\n",
      " 9.9749440e+06 1.5891824e+07 1.4711600e+07 1.9975472e+07 1.9501728e+07\n",
      " 1.1840416e+07 1.5329760e+07 1.8613088e+07 1.5339232e+07 1.3042624e+07\n",
      " 9.1463040e+06 8.7278080e+06 9.7820480e+06 1.7022080e+07 1.8905568e+07\n",
      " 2.1212320e+07 2.3371296e+07 2.1808512e+07 2.4466464e+07 2.0790336e+07\n",
      " 2.0395456e+07 1.4888704e+07 1.7015360e+07 1.7757824e+07 1.7448448e+07\n",
      " 1.3142272e+07 1.0607488e+07 1.1225088e+07 1.0184768e+07 1.1614848e+07\n",
      " 9.1130240e+06 9.6012800e+06 1.2112384e+07 1.5873088e+07 1.5609088e+07\n",
      " 1.6441152e+07 2.4929344e+07 2.4804416e+07 2.1173056e+07 2.3490176e+07\n",
      " 2.1922368e+07 1.4197952e+07 1.5828032e+07 2.1318336e+07 2.2261696e+07\n",
      " 1.8538176e+07 1.7965312e+07 1.6007296e+07 1.4724736e+07 1.3691584e+07\n",
      " 1.5162880e+07 1.6614976e+07 1.5542016e+07 1.1986688e+07 1.4527232e+07\n",
      " 1.0497408e+07 7.0355200e+06 6.8426880e+06 7.8433280e+06 8.4864000e+06\n",
      " 8.1534720e+06 8.3516160e+06 5.7922560e+06 2.9268480e+06 2.5020160e+06\n",
      " 1.7903360e+06 1.1095040e+06 1.0670080e+06 9.3772800e+05 6.0723200e+05\n",
      " 5.6550400e+05 5.9929600e+05 4.2137600e+05 3.7952000e+05 2.1939200e+05\n",
      " 8.0000000e+04 3.5968000e+04 2.1888000e+04 2.0352000e+04 1.0880000e+04]\n"
     ]
    },
    {
     "name": "stderr",
     "output_type": "stream",
     "text": [
      " 61%|██████    | 7600/12535 [4:03:24<2:16:04,  1.65s/it]"
     ]
    },
    {
     "name": "stdout",
     "output_type": "stream",
     "text": [
      "[0.01122126 0.01088591 0.0149945  0.01566982 0.01302074 0.01198207\n",
      " 0.01286914 0.01201403 0.01359942 0.01404561 0.01188241 0.01272384\n",
      " 0.00983663 0.0134715  0.01027211 0.00717151 0.00770459 0.00851698\n",
      " 0.01141436 0.00893132 0.01174407 0.01248538 0.01715746 0.01278045\n",
      " 0.01427571 0.01404607 0.01459784 0.01347063 0.01297369 0.01205579\n",
      " 0.01449067 0.01168367 0.01181622 0.01099201 0.01216686 0.01302831\n",
      " 0.01492878 0.01266691 0.01236973 0.01133068 0.008407   0.00623867\n",
      " 0.00660545 0.00858921 0.01064503 0.01008726 0.00871381 0.00795273\n",
      " 0.00765276 0.00596342 0.00570153 0.00489008 0.00695456 0.01357803\n",
      " 0.00819492 0.00838298 0.00881036 0.00885537 0.00960522 0.00793506\n",
      " 0.00488627 0.00541868 0.00659188 0.00653894 0.00469361 0.00449435\n",
      " 0.00382387 0.00204413 0.00461055 0.0039721  0.00433372 0.0032323\n",
      " 0.00264589 0.00348733 0.00378644 0.00347076 0.00286701 0.00225674\n",
      " 0.00632906 0.00508939 0.00296519 0.00277486 0.00476147 0.00301009\n",
      " 0.00364053 0.00404868 0.00345438 0.00385955 0.00279055 0.00311701\n",
      " 0.00295651 0.00272384 0.0021086  0.00170501 0.00090566 0.0023173\n",
      " 0.00083126 0.00344095 0.0012482  0.        ] [1726174.6 1165173.1 1792792.  2018057.5 1838962.5 2458777.  2140768.\n",
      " 2180883.  1918166.  1412498.  1003700.  1306906.   684356.   835354.\n",
      "  906742.  1144850.   859546.   958578.  1273616.   964654.   885460.\n",
      "  806892.  1061968.   983168.  1057230.   902706.  1736684.  1206272.\n",
      " 1087764.  1331404.  1425392.  1015224.  1574884.   737428.  1131620.\n",
      " 1242256.  1496448.  1640344.  1766956.  1797576.  1366228.   913716.\n",
      " 1424204.   689780.   407788.   855028.  1268816.   982276.   832036.\n",
      "  921532.   453352.   519692.   213516.   380508.   305152.   397284.\n",
      "  281760.   908576.   502936.   780584.   674480.   384424.   225976.\n",
      "  523232.   457248.   244304.   205448.    95640.   137944.   109776.\n",
      "   70480.    72248.    43632.    55608.    15992.    71968.    34032.\n",
      "   23488.    60328.    97216.    64064.    25360.    49128.    36800.\n",
      "   82424.    54576.    65560.    83800.    43440.    39304.    59408.\n",
      "   34536.    16560.    31968.     3008.     4976.     3072.    13400.\n",
      "   11752.        0. ]\n"
     ]
    },
    {
     "name": "stderr",
     "output_type": "stream",
     "text": [
      " 61%|██████▏   | 7700/12535 [4:06:39<2:58:01,  2.21s/it]"
     ]
    },
    {
     "name": "stdout",
     "output_type": "stream",
     "text": [
      "[0.02124708 0.02101738 0.01924894 0.02002104 0.02311079 0.02166594\n",
      " 0.02198546 0.01824763 0.01677509 0.01738964 0.01674155 0.02400289\n",
      " 0.02311998 0.02214839 0.02322462 0.02158928 0.0198295  0.02397083\n",
      " 0.0294355  0.02922673 0.03390819 0.03343496 0.02849844 0.02244973\n",
      " 0.01808171 0.018688   0.02060101 0.0244163  0.02271356 0.02464402\n",
      " 0.02798617 0.03055315 0.03347291 0.02600711 0.03104392 0.03416487\n",
      " 0.0308689  0.02792959 0.0275496  0.02880843 0.02584846 0.02761848\n",
      " 0.02490656 0.02316494 0.02241551 0.02275882 0.02247763 0.0233122\n",
      " 0.02606802 0.02478052 0.02068418 0.02240793 0.01929408 0.01718238\n",
      " 0.0185036  0.02010312 0.01914907 0.01418434 0.01661042 0.01884681\n",
      " 0.01986621 0.02103536 0.02148784 0.02049695 0.01801834 0.01927329\n",
      " 0.01905329 0.01706371 0.01870298 0.02028641 0.01652523 0.01328919\n",
      " 0.01915246 0.02434112 0.01784614 0.01689678 0.01426046 0.01581239\n",
      " 0.01282208 0.01100391 0.01057566 0.00849826 0.00782749 0.01049981\n",
      " 0.01094823 0.00786243 0.00366349 0.00373678 0.00370241 0.00260756\n",
      " 0.00191651 0.00154227 0.00173517 0.00143798 0.00120585 0.00094936\n",
      " 0.00079043 0.0010978  0.00014305 0.00060541] [1.1075171e+07 1.0300263e+07 1.1855570e+07 1.2966316e+07 1.2024060e+07\n",
      " 9.0791800e+06 8.2052400e+06 7.6652880e+06 7.0276800e+06 7.3126560e+06\n",
      " 6.0653600e+06 8.9137440e+06 8.2699840e+06 6.4886880e+06 9.8220400e+06\n",
      " 7.2816000e+06 5.7291200e+06 9.4177120e+06 9.2501120e+06 3.8214080e+06\n",
      " 4.7230240e+06 3.5981280e+06 2.9436000e+06 4.2145440e+06 6.2453920e+06\n",
      " 8.5783840e+06 9.6264160e+06 1.0638448e+07 9.4225600e+06 8.3696000e+06\n",
      " 6.6644960e+06 8.4840640e+06 8.9384960e+06 6.9888480e+06 9.3180480e+06\n",
      " 9.6407680e+06 1.1777824e+07 1.4044640e+07 1.8456544e+07 1.4181632e+07\n",
      " 1.3456352e+07 1.2631712e+07 1.5258592e+07 1.5064192e+07 1.3897920e+07\n",
      " 1.3590144e+07 1.2509792e+07 1.1579680e+07 1.3809216e+07 1.2203264e+07\n",
      " 1.2242432e+07 1.2131584e+07 1.5893120e+07 1.4159872e+07 1.3535168e+07\n",
      " 1.1507392e+07 9.0600960e+06 8.6469120e+06 8.9162880e+06 8.2357120e+06\n",
      " 1.0481280e+07 1.1537024e+07 9.5799040e+06 8.1920000e+06 8.5673600e+06\n",
      " 1.0452736e+07 1.0738112e+07 1.0559744e+07 8.7832320e+06 1.0139648e+07\n",
      " 1.1971456e+07 1.0214912e+07 6.0475520e+06 8.2652800e+06 1.1208192e+07\n",
      " 1.2179264e+07 1.1183104e+07 9.1214720e+06 8.1246720e+06 4.7158400e+06\n",
      " 4.2967040e+06 3.3346560e+06 1.7205760e+06 2.3249280e+06 3.8714240e+06\n",
      " 3.0432640e+06 1.1980800e+06 9.1443200e+05 5.1526400e+05 3.1129600e+05\n",
      " 2.5587200e+05 1.9904000e+05 1.0451200e+05 1.0361600e+05 4.6848000e+04\n",
      " 6.2400000e+04 2.5344000e+04 1.7856000e+04 2.4960000e+03 4.3520000e+03]\n"
     ]
    },
    {
     "name": "stderr",
     "output_type": "stream",
     "text": [
      " 62%|██████▏   | 7800/12535 [4:09:42<2:28:56,  1.89s/it]"
     ]
    },
    {
     "name": "stdout",
     "output_type": "stream",
     "text": [
      "[0.0267663  0.02299803 0.02130301 0.02407897 0.03016254 0.02565898\n",
      " 0.03057569 0.03043372 0.02580983 0.02771175 0.03046724 0.03079287\n",
      " 0.02661562 0.02493313 0.02207695 0.01798942 0.02011262 0.02310354\n",
      " 0.04292547 0.04196402 0.03474519 0.02509478 0.01934831 0.01485677\n",
      " 0.0156581  0.02068623 0.01796692 0.0168084  0.01472836 0.01246365\n",
      " 0.01188734 0.01376076 0.01200681 0.01265546 0.01126674 0.01098586\n",
      " 0.01220178 0.01274836 0.0134831  0.01333467 0.01282967 0.01179864\n",
      " 0.01330502 0.01450765 0.01080691 0.0086223  0.00864955 0.00804695\n",
      " 0.00972047 0.01306725 0.01198927 0.01437434 0.01338648 0.0122942\n",
      " 0.00966487 0.00698924 0.00721306 0.00651138 0.00743132 0.00927603\n",
      " 0.00777918 0.00785201 0.00670848 0.00578101 0.00593799 0.00637496\n",
      " 0.00661638 0.00607227 0.00573401 0.00403885 0.00565906 0.00541404\n",
      " 0.00528489 0.00449722 0.0044987  0.00591781 0.0050779  0.00478152\n",
      " 0.00401911 0.00358252 0.00546673 0.00490505 0.00506716 0.00478711\n",
      " 0.00691494 0.00450811 0.0035762  0.00335805 0.00297958 0.0030568\n",
      " 0.00397839 0.00547007 0.00286542 0.00265767 0.00230835 0.00305057\n",
      " 0.00200898 0.00071302 0.00114921 0.00061767] [8.7996360e+06 1.0390934e+07 1.0775790e+07 1.1582928e+07 9.3106240e+06\n",
      " 8.0557000e+06 8.2635640e+06 8.6873040e+06 1.1429480e+07 9.5794080e+06\n",
      " 8.4319440e+06 8.8373440e+06 1.0700456e+07 1.2960888e+07 1.4539360e+07\n",
      " 1.4050352e+07 1.1977248e+07 9.9268000e+06 8.7647840e+06 8.1092800e+06\n",
      " 1.2679600e+07 1.9363936e+07 1.9834128e+07 1.6549568e+07 8.3173760e+06\n",
      " 5.7493440e+06 7.4218240e+06 8.0821120e+06 6.8469120e+06 8.6417920e+06\n",
      " 5.2104000e+06 4.7517440e+06 4.1116480e+06 3.9814400e+06 3.2212160e+06\n",
      " 2.7492480e+06 3.0980800e+06 3.0492160e+06 3.2517120e+06 2.1592320e+06\n",
      " 3.9885440e+06 2.8520320e+06 4.1104640e+06 3.8781440e+06 3.8054720e+06\n",
      " 3.7867520e+06 3.2689920e+06 2.2070400e+06 1.8841280e+06 2.4486720e+06\n",
      " 2.6431680e+06 2.6370560e+06 3.4152320e+06 3.7491840e+06 3.8717760e+06\n",
      " 2.3537600e+06 1.7749120e+06 1.7287360e+06 1.4850880e+06 1.3676160e+06\n",
      " 1.1914880e+06 1.2401920e+06 8.8822400e+05 9.1676800e+05 9.2118400e+05\n",
      " 9.5532800e+05 9.0912000e+05 8.1427200e+05 7.1334400e+05 3.8108800e+05\n",
      " 4.6003200e+05 5.5024000e+05 6.2880000e+05 4.2134400e+05 4.9593600e+05\n",
      " 4.5696000e+05 4.4556800e+05 3.5836800e+05 4.5753600e+05 2.6019200e+05\n",
      " 3.5497600e+05 4.5612800e+05 6.7190400e+05 2.7772800e+05 4.8172800e+05\n",
      " 4.7920000e+05 3.1379200e+05 2.1616000e+05 1.6745600e+05 1.7526400e+05\n",
      " 1.8928000e+05 2.3139200e+05 1.4115200e+05 1.7881600e+05 1.6326400e+05\n",
      " 1.3824000e+05 1.0790400e+05 3.4144000e+04 1.1968000e+04 1.4016000e+04]\n"
     ]
    },
    {
     "name": "stderr",
     "output_type": "stream",
     "text": [
      " 63%|██████▎   | 7900/12535 [4:12:54<2:45:00,  2.14s/it]"
     ]
    },
    {
     "name": "stdout",
     "output_type": "stream",
     "text": [
      "[0.01698863 0.01469255 0.01604331 0.01461886 0.01494602 0.01603505\n",
      " 0.01505541 0.01154058 0.01222676 0.01316828 0.01364956 0.01537195\n",
      " 0.01495964 0.01351747 0.01222647 0.01427626 0.01399748 0.01316367\n",
      " 0.01485675 0.01407865 0.01361867 0.01584175 0.01445009 0.01495426\n",
      " 0.01583082 0.01532908 0.01403143 0.01205395 0.01256474 0.01307958\n",
      " 0.0155722  0.01173748 0.01033383 0.01086017 0.01069096 0.01172628\n",
      " 0.01069712 0.0104062  0.01417641 0.01303855 0.01271378 0.01306422\n",
      " 0.01409775 0.01365596 0.01267878 0.01434607 0.01290842 0.01871586\n",
      " 0.01880743 0.01817728 0.01791911 0.01603191 0.01550526 0.01562745\n",
      " 0.01978303 0.01877981 0.01666337 0.01566026 0.01275094 0.01153507\n",
      " 0.01341902 0.01775246 0.01445214 0.01277571 0.01175672 0.00925774\n",
      " 0.00988767 0.00767559 0.00764106 0.00901594 0.00976821 0.0087115\n",
      " 0.00795107 0.00846189 0.00686641 0.00708303 0.00695781 0.00688334\n",
      " 0.00643078 0.00577067 0.00539668 0.00695926 0.00594126 0.00484241\n",
      " 0.00383601 0.00361327 0.00439374 0.00429003 0.00352227 0.00272419\n",
      " 0.00261873 0.00253286 0.00223113 0.00127768 0.00080959 0.00047025\n",
      " 0.0003841  0.00017992 0.00017089 0.        ] [3.4455790e+06 3.2087950e+06 2.8303200e+06 2.3237270e+06 2.4541320e+06\n",
      " 3.0326750e+06 4.0148180e+06 2.8967300e+06 3.1337120e+06 3.3883080e+06\n",
      " 2.8995000e+06 2.4507200e+06 2.9489520e+06 3.1916480e+06 2.7153360e+06\n",
      " 2.9900160e+06 3.7700920e+06 3.0962600e+06 3.9229080e+06 3.4003680e+06\n",
      " 2.8331640e+06 3.9666800e+06 3.4270720e+06 4.4048080e+06 3.7215680e+06\n",
      " 4.1834080e+06 4.2986880e+06 4.3320160e+06 4.0818240e+06 3.5268800e+06\n",
      " 3.5039520e+06 4.4495920e+06 4.0405440e+06 3.7387280e+06 3.8128800e+06\n",
      " 4.1376640e+06 3.2375200e+06 3.1249520e+06 4.7504560e+06 4.3928480e+06\n",
      " 5.5924160e+06 6.1312960e+06 6.0106720e+06 4.8759200e+06 4.3617280e+06\n",
      " 5.2365760e+06 4.7736960e+06 7.0436320e+06 8.5479840e+06 8.1282720e+06\n",
      " 7.6804480e+06 8.8841120e+06 8.1857120e+06 5.7127040e+06 5.8516960e+06\n",
      " 7.1132160e+06 8.4317760e+06 1.1326656e+07 1.0801632e+07 9.9014080e+06\n",
      " 9.9864960e+06 1.1752704e+07 1.5241952e+07 1.1406272e+07 8.8292160e+06\n",
      " 8.1975040e+06 5.1889280e+06 4.1102400e+06 3.4985920e+06 3.3353600e+06\n",
      " 3.7391680e+06 4.1094080e+06 3.8393600e+06 3.5786880e+06 3.0788800e+06\n",
      " 2.4767040e+06 1.9948160e+06 2.2040640e+06 1.6444480e+06 1.7190720e+06\n",
      " 1.3875840e+06 1.2979520e+06 1.0100160e+06 8.5497600e+05 6.3129600e+05\n",
      " 6.6675200e+05 5.7257600e+05 6.5961600e+05 5.4620800e+05 3.7718400e+05\n",
      " 3.2604800e+05 1.6633600e+05 1.9222400e+05 1.0304000e+05 3.7568000e+04\n",
      " 1.1840000e+04 1.3984000e+04 4.5120000e+03 4.3840000e+03 0.0000000e+00]\n"
     ]
    },
    {
     "name": "stderr",
     "output_type": "stream",
     "text": [
      " 64%|██████▍   | 8000/12535 [4:16:03<2:14:25,  1.78s/it]"
     ]
    },
    {
     "name": "stdout",
     "output_type": "stream",
     "text": [
      "[0.01913803 0.01887227 0.02081666 0.02335652 0.02076531 0.02417668\n",
      " 0.02450304 0.02671011 0.02737275 0.03257591 0.03587576 0.03682432\n",
      " 0.03403389 0.02783004 0.02838962 0.025888   0.02774189 0.02514366\n",
      " 0.0238459  0.02633127 0.02571914 0.02820759 0.0289982  0.0297806\n",
      " 0.03485338 0.04312519 0.03870051 0.03567664 0.03799592 0.03625001\n",
      " 0.03026464 0.02627765 0.02414953 0.02319258 0.01888374 0.01570768\n",
      " 0.01497499 0.01432694 0.01521177 0.01604842 0.0208885  0.01977165\n",
      " 0.01931973 0.01762505 0.02021179 0.02014196 0.01784487 0.01913395\n",
      " 0.01648521 0.01920074 0.01980714 0.01912669 0.02401964 0.02336327\n",
      " 0.02655997 0.02056932 0.01799474 0.01656304 0.01603701 0.01570826\n",
      " 0.01455149 0.01242122 0.0115578  0.01739918 0.01628099 0.01433946\n",
      " 0.01469623 0.01423802 0.01046314 0.00714207 0.0064149  0.0078667\n",
      " 0.00676236 0.00652606 0.00663168 0.00628135 0.00667133 0.00548613\n",
      " 0.00590327 0.00587256 0.00536965 0.0049594  0.00519745 0.00496799\n",
      " 0.00504868 0.0043976  0.00246115 0.00227714 0.00183952 0.00139099\n",
      " 0.00128178 0.00083123 0.00080619 0.00086057 0.00077817 0.00078977\n",
      " 0.00037439 0.00039293 0.00037784 0.00027063] [2.7142615e+06 2.4026795e+06 3.3649330e+06 4.3153470e+06 3.5381080e+06\n",
      " 4.8717370e+06 3.3588520e+06 4.1158560e+06 4.3747660e+06 3.2299120e+06\n",
      " 2.8481240e+06 6.6917880e+06 6.5138920e+06 9.5831120e+06 1.5310328e+07\n",
      " 7.6560560e+06 1.3405456e+07 1.2516816e+07 1.0739480e+07 9.2730960e+06\n",
      " 7.2892560e+06 9.5930560e+06 8.8562080e+06 7.7505120e+06 5.5448480e+06\n",
      " 6.6275840e+06 6.2003040e+06 8.8843040e+06 7.9066720e+06 1.1540816e+07\n",
      " 1.4684880e+07 1.6923664e+07 1.4523088e+07 1.4586496e+07 2.0629376e+07\n",
      " 2.1799008e+07 1.6051136e+07 1.2524800e+07 1.1747424e+07 8.8236480e+06\n",
      " 8.3160640e+06 6.0848640e+06 7.7936320e+06 9.2139840e+06 1.0060544e+07\n",
      " 1.1817344e+07 1.2427168e+07 8.4592320e+06 6.0215360e+06 7.9715840e+06\n",
      " 6.4465920e+06 6.8420800e+06 6.0426240e+06 4.4165120e+06 6.0546880e+06\n",
      " 7.1460800e+06 9.1921920e+06 9.8512320e+06 8.3950080e+06 5.9952960e+06\n",
      " 6.9059520e+06 7.6692480e+06 6.0614400e+06 4.9370240e+06 6.2528000e+06\n",
      " 4.7023360e+06 6.1323520e+06 7.5974400e+06 7.6417280e+06 5.9675520e+06\n",
      " 2.9932160e+06 2.8515200e+06 2.0129280e+06 1.9293440e+06 1.4560640e+06\n",
      " 1.5541120e+06 1.2296320e+06 7.9078400e+05 8.9350400e+05 9.3324800e+05\n",
      " 8.1734400e+05 7.8310400e+05 7.6396800e+05 5.9993600e+05 5.9468800e+05\n",
      " 5.1488000e+05 2.5075200e+05 2.3481600e+05 1.4521600e+05 5.4528000e+04\n",
      " 4.6464000e+04 2.7008000e+04 3.0208000e+04 3.2512000e+04 1.9008000e+04\n",
      " 1.3504000e+04 6.2720000e+03 7.1040000e+03 6.3360000e+03 2.3040000e+03]\n"
     ]
    },
    {
     "name": "stderr",
     "output_type": "stream",
     "text": [
      " 65%|██████▍   | 8100/12535 [4:19:11<2:56:10,  2.38s/it]"
     ]
    },
    {
     "name": "stdout",
     "output_type": "stream",
     "text": [
      "[3.87371294e-02 3.28650177e-02 2.69082729e-02 2.63263769e-02\n",
      " 2.93501746e-02 3.28593776e-02 3.52916196e-02 3.29851098e-02\n",
      " 3.62906456e-02 3.68228294e-02 3.43931690e-02 3.22395973e-02\n",
      " 3.68771628e-02 4.10404019e-02 3.57729271e-02 3.48079838e-02\n",
      " 3.24405134e-02 2.87158117e-02 3.08802705e-02 3.07423901e-02\n",
      " 2.85421237e-02 2.91188601e-02 2.92913057e-02 2.90982611e-02\n",
      " 3.30161117e-02 3.49845514e-02 2.92322412e-02 2.72320043e-02\n",
      " 2.31724791e-02 2.01871656e-02 2.06460152e-02 2.03793515e-02\n",
      " 2.08835248e-02 2.12085377e-02 2.08703540e-02 1.98323037e-02\n",
      " 1.96549445e-02 1.89930797e-02 1.84879452e-02 1.90439224e-02\n",
      " 1.96648072e-02 2.18124222e-02 2.59750281e-02 2.72856820e-02\n",
      " 2.67619472e-02 2.61815339e-02 2.31721327e-02 2.27909200e-02\n",
      " 2.37476528e-02 2.19989922e-02 2.17368565e-02 2.59861108e-02\n",
      " 2.53141876e-02 2.20223907e-02 2.52300650e-02 2.82250270e-02\n",
      " 2.38846652e-02 2.30752137e-02 2.29316801e-02 2.33892221e-02\n",
      " 2.20772922e-02 2.17596386e-02 2.20996737e-02 2.48644017e-02\n",
      " 2.26584394e-02 1.92170721e-02 1.84104517e-02 1.88889932e-02\n",
      " 2.10307222e-02 2.37221494e-02 1.99949853e-02 1.68297887e-02\n",
      " 1.47858476e-02 9.95504204e-03 6.87423907e-03 8.18927679e-03\n",
      " 7.71134812e-03 6.12315349e-03 5.66040445e-03 5.37090423e-03\n",
      " 5.70932776e-03 5.77837694e-03 5.91751840e-03 6.09588530e-03\n",
      " 6.33581821e-03 6.54470595e-03 6.03605667e-03 5.45054348e-03\n",
      " 4.11413796e-03 3.89386667e-03 3.32115614e-03 2.81022140e-03\n",
      " 1.47132308e-03 1.75248017e-03 1.40760373e-03 1.23118400e-03\n",
      " 5.79769374e-04 1.02367240e-03 6.60606136e-04 8.84146357e-05] [9.4186290e+06 1.1092679e+07 1.4309196e+07 9.6522120e+06 6.8274760e+06\n",
      " 6.5784200e+06 6.1777160e+06 6.5912800e+06 7.0321120e+06 7.2604960e+06\n",
      " 5.6622800e+06 5.8080880e+06 5.1765200e+06 5.3531920e+06 5.7726080e+06\n",
      " 5.8583360e+06 7.8946400e+06 8.1029200e+06 1.0361312e+07 1.2664944e+07\n",
      " 1.0633168e+07 1.0319344e+07 8.4565920e+06 8.6106720e+06 7.5318400e+06\n",
      " 7.0340960e+06 8.1044160e+06 1.1468848e+07 1.2884960e+07 1.3961648e+07\n",
      " 1.2371616e+07 1.2454816e+07 9.0982400e+06 8.8957440e+06 9.0863040e+06\n",
      " 9.5974080e+06 1.0513344e+07 1.2196064e+07 9.5659200e+06 9.6398400e+06\n",
      " 8.7324480e+06 7.5513280e+06 7.3280000e+06 7.0484480e+06 8.8745600e+06\n",
      " 8.9051200e+06 9.1260800e+06 9.9992640e+06 1.1229696e+07 1.1327776e+07\n",
      " 1.2932480e+07 1.5117760e+07 1.5691200e+07 1.5126080e+07 1.3696736e+07\n",
      " 1.2598048e+07 1.5694144e+07 1.4248960e+07 1.5791296e+07 1.2046080e+07\n",
      " 1.3280704e+07 1.3102720e+07 1.4499264e+07 1.6171648e+07 1.4605440e+07\n",
      " 1.4007040e+07 1.5835520e+07 9.9882240e+06 9.0236160e+06 1.1752704e+07\n",
      " 1.4852672e+07 1.6389632e+07 2.0011776e+07 1.4716800e+07 7.1920000e+06\n",
      " 5.2512000e+06 3.8788480e+06 2.5926400e+06 2.1516160e+06 1.3031680e+06\n",
      " 1.2002560e+06 1.7840640e+06 1.8612480e+06 1.2551040e+06 1.5082240e+06\n",
      " 9.9148800e+05 1.0935040e+06 1.0662400e+06 7.8464000e+05 5.6851200e+05\n",
      " 5.4483200e+05 3.8201600e+05 1.4624000e+05 1.8956800e+05 1.2044800e+05\n",
      " 7.3536000e+04 2.5792000e+04 3.2768000e+04 2.4128000e+04 1.8560000e+03]\n"
     ]
    },
    {
     "name": "stderr",
     "output_type": "stream",
     "text": [
      " 65%|██████▌   | 8200/12535 [4:21:50<1:29:07,  1.23s/it]"
     ]
    },
    {
     "name": "stdout",
     "output_type": "stream",
     "text": [
      "[2.00049002e-02 1.96384490e-02 1.99438054e-02 1.92184746e-02\n",
      " 2.20604911e-02 2.03109160e-02 2.63338499e-02 3.09552941e-02\n",
      " 2.96016857e-02 2.63224524e-02 2.52520833e-02 2.24359799e-02\n",
      " 2.56913621e-02 2.53266990e-02 2.42571663e-02 2.17675362e-02\n",
      " 2.08390541e-02 2.58604493e-02 3.06708403e-02 3.07635125e-02\n",
      " 2.88778059e-02 2.56899409e-02 2.11578086e-02 1.91491377e-02\n",
      " 2.25744974e-02 2.33793873e-02 2.62623113e-02 2.26535257e-02\n",
      " 2.37257984e-02 2.83340961e-02 3.56367975e-02 2.91815493e-02\n",
      " 2.39969175e-02 1.67639423e-02 1.54864797e-02 1.47332437e-02\n",
      " 1.64562427e-02 2.26318724e-02 2.45304368e-02 3.13422345e-02\n",
      " 2.67918520e-02 3.02954316e-02 2.65005808e-02 1.68038737e-02\n",
      " 2.03146562e-02 2.20367312e-02 2.19529402e-02 2.23295800e-02\n",
      " 1.91575699e-02 1.93114262e-02 1.85951274e-02 1.53904436e-02\n",
      " 1.81558039e-02 1.94245391e-02 1.25060519e-02 1.18768513e-02\n",
      " 1.38815464e-02 1.10641802e-02 1.04499618e-02 7.94639811e-03\n",
      " 5.76596521e-03 7.61034805e-03 1.31696593e-02 1.25003960e-02\n",
      " 1.13529293e-02 9.52584483e-03 8.99222493e-03 6.90322602e-03\n",
      " 4.08098986e-03 4.59847180e-03 5.53975115e-03 4.75152908e-03\n",
      " 4.07572929e-03 3.93356755e-03 4.55634063e-03 4.77447314e-03\n",
      " 3.82959773e-03 4.04574303e-03 4.00775904e-03 4.17048251e-03\n",
      " 3.59208207e-03 3.50875338e-03 3.55659914e-03 3.62013257e-03\n",
      " 3.10284947e-03 2.27711815e-03 1.94728572e-03 1.68511318e-03\n",
      " 1.32352661e-03 7.44971738e-04 1.04130094e-03 7.33170484e-04\n",
      " 8.28746997e-04 5.03749645e-04 4.29924141e-04 5.10589452e-04\n",
      " 0.00000000e+00 3.40402417e-04 1.11744332e-04 5.50095356e-05] [3.7542075e+06 4.3130900e+06 5.3263470e+06 3.4630030e+06 3.8842180e+06\n",
      " 3.4241580e+06 3.5934540e+06 3.0885360e+06 2.6742380e+06 2.4198260e+06\n",
      " 2.8381920e+06 2.6062640e+06 4.3994200e+06 4.7537040e+06 4.2667400e+06\n",
      " 4.5630160e+06 4.6186600e+06 5.0005520e+06 5.2716080e+06 4.0906160e+06\n",
      " 4.3067760e+06 4.9130480e+06 5.6169520e+06 4.9907520e+06 4.4245840e+06\n",
      " 4.9226560e+06 6.0128240e+06 4.7238800e+06 4.0009120e+06 4.1974720e+06\n",
      " 3.2103360e+06 3.3671680e+06 5.1602480e+06 6.7679680e+06 5.9128480e+06\n",
      " 4.8531200e+06 3.8629760e+06 3.6542400e+06 2.9047680e+06 3.0881600e+06\n",
      " 2.6142400e+06 2.7542880e+06 2.2919840e+06 2.0852160e+06 3.0902720e+06\n",
      " 3.5299840e+06 4.0523680e+06 4.2010080e+06 3.7162720e+06 5.2523520e+06\n",
      " 7.0307360e+06 5.9777920e+06 8.6064160e+06 9.2063040e+06 8.6099520e+06\n",
      " 3.4892480e+06 2.7629120e+06 2.8453120e+06 4.3806560e+06 4.5468960e+06\n",
      " 2.2078720e+06 9.9056000e+05 1.4318880e+06 1.5145440e+06 1.7782560e+06\n",
      " 2.5656000e+06 1.9083200e+06 2.1586240e+06 9.6118400e+05 5.5536000e+05\n",
      " 5.2419200e+05 4.7564800e+05 4.7548800e+05 7.0153600e+05 4.5344000e+05\n",
      " 3.7996800e+05 2.7478400e+05 4.3945600e+05 2.9990400e+05 2.7280000e+05\n",
      " 2.9942400e+05 2.7491200e+05 2.0502400e+05 2.2086400e+05 2.7881600e+05\n",
      " 1.4060800e+05 1.1872000e+05 7.8304000e+04 7.1104000e+04 2.2112000e+04\n",
      " 3.3408000e+04 2.1056000e+04 1.4880000e+04 7.3600000e+03 7.7760000e+03\n",
      " 8.4800000e+03 0.0000000e+00 6.1760000e+03 1.0240000e+03 3.8400000e+02]\n"
     ]
    },
    {
     "name": "stderr",
     "output_type": "stream",
     "text": [
      " 66%|██████▌   | 8300/12535 [4:24:21<2:04:21,  1.76s/it]"
     ]
    },
    {
     "name": "stdout",
     "output_type": "stream",
     "text": [
      "[0.01864521 0.01036091 0.01093042 0.01651981 0.01547674 0.01550257\n",
      " 0.01524799 0.01264165 0.01142595 0.01081663 0.01073074 0.01044104\n",
      " 0.00934265 0.00966213 0.00941623 0.00895902 0.00865218 0.00873502\n",
      " 0.01153729 0.01303844 0.01114511 0.01023978 0.00929787 0.00879907\n",
      " 0.00772886 0.00663675 0.00658396 0.00878201 0.00937056 0.01093881\n",
      " 0.00786205 0.01062169 0.01108449 0.01153519 0.01207321 0.01057161\n",
      " 0.0095302  0.00863638 0.0077522  0.00829476 0.00707253 0.01105971\n",
      " 0.00989109 0.00941172 0.00837796 0.00763265 0.00791613 0.00735313\n",
      " 0.00760291 0.00535555 0.00579602 0.00719471 0.00743129 0.00705124\n",
      " 0.00640345 0.00791062 0.0067965  0.00540475 0.00651995 0.00686052\n",
      " 0.00756826 0.00737599 0.00619138 0.00619123 0.00577035 0.00501775\n",
      " 0.00440808 0.00583712 0.00598227 0.00424195 0.00521141 0.00667326\n",
      " 0.00613245 0.00703975 0.00747498 0.00576768 0.00490876 0.00534886\n",
      " 0.005059   0.00343291 0.00297747 0.00300005 0.00270851 0.00312418\n",
      " 0.00278625 0.00267514 0.00273327 0.0030405  0.00316217 0.00228091\n",
      " 0.0024522  0.00214759 0.00156831 0.00170043 0.00091517 0.00103556\n",
      " 0.00067323 0.00012927 0.00066645 0.00087323] [2.5882265e+06 2.0750612e+06 2.1254990e+06 2.6019365e+06 2.9005420e+06\n",
      " 3.9166490e+06 4.2495080e+06 4.5451700e+06 3.7474640e+06 2.9109200e+06\n",
      " 2.8217860e+06 2.6730640e+06 2.0766960e+06 1.9427080e+06 1.3251280e+06\n",
      " 1.3559800e+06 1.1577560e+06 9.6196000e+05 1.2227560e+06 1.1065440e+06\n",
      " 1.4114520e+06 1.4201240e+06 1.6435760e+06 1.6575800e+06 1.5827680e+06\n",
      " 1.2500080e+06 1.2345600e+06 7.4683200e+05 8.5977200e+05 1.6470840e+06\n",
      " 8.3266400e+05 1.3898680e+06 1.5950880e+06 1.4795760e+06 2.0729920e+06\n",
      " 2.0029680e+06 1.6127200e+06 1.5270640e+06 1.3801120e+06 1.4180720e+06\n",
      " 6.7356000e+05 6.2072000e+05 5.1023200e+05 6.8192800e+05 6.3152000e+05\n",
      " 1.0472400e+06 1.0877760e+06 8.5420000e+05 9.0034400e+05 7.4803200e+05\n",
      " 7.3520800e+05 6.6135200e+05 5.5363200e+05 6.4734400e+05 6.4170400e+05\n",
      " 8.2302400e+05 7.7517600e+05 6.0588000e+05 6.0067200e+05 5.5934400e+05\n",
      " 4.7694400e+05 7.0969600e+05 6.4266400e+05 4.9454400e+05 5.1191200e+05\n",
      " 5.4932800e+05 3.0698400e+05 5.5964000e+05 5.5210400e+05 2.8638400e+05\n",
      " 4.3302400e+05 4.5061600e+05 3.3295200e+05 4.5265600e+05 3.2600000e+05\n",
      " 5.7150400e+05 3.2487200e+05 4.3057600e+05 2.9974400e+05 3.4687200e+05\n",
      " 2.6865600e+05 2.0814400e+05 2.0883200e+05 2.0231200e+05 2.3352800e+05\n",
      " 1.4835200e+05 1.6530400e+05 1.7656800e+05 2.1384800e+05 1.1176800e+05\n",
      " 8.0296000e+04 7.6312000e+04 8.6352000e+04 5.0280000e+04 4.0544000e+04\n",
      " 2.3712000e+04 9.3040000e+03 1.3040000e+03 1.0528000e+04 5.0960000e+03]\n"
     ]
    },
    {
     "name": "stderr",
     "output_type": "stream",
     "text": [
      " 67%|██████▋   | 8400/12535 [4:27:05<1:38:41,  1.43s/it]"
     ]
    },
    {
     "name": "stdout",
     "output_type": "stream",
     "text": [
      "[0.028567   0.02825466 0.02990782 0.0289788  0.03044961 0.03842193\n",
      " 0.03589232 0.02935212 0.02763349 0.0231662  0.02287677 0.02391691\n",
      " 0.02570494 0.02632912 0.02716525 0.02834711 0.02741982 0.03166664\n",
      " 0.03725666 0.03720489 0.03107749 0.0291183  0.02708536 0.02703098\n",
      " 0.02813472 0.02827107 0.0246968  0.024905   0.02303989 0.02244752\n",
      " 0.02514169 0.02248704 0.02375873 0.02350179 0.02276713 0.02108765\n",
      " 0.02598136 0.02573715 0.02677852 0.0277412  0.02894777 0.03199129\n",
      " 0.02779363 0.02521707 0.02537178 0.02690095 0.02742278 0.02777638\n",
      " 0.03139503 0.03010509 0.02613716 0.02375104 0.02142593 0.01909924\n",
      " 0.01949134 0.01662981 0.01401555 0.01481649 0.01344413 0.013246\n",
      " 0.0132785  0.01527713 0.01568048 0.01853158 0.02009848 0.01706276\n",
      " 0.01675905 0.01575718 0.016644   0.01711611 0.01762495 0.01529913\n",
      " 0.01085273 0.0081461  0.00665177 0.00610091 0.00649508 0.00588143\n",
      " 0.00587175 0.00567552 0.00578518 0.00657719 0.00679122 0.00536818\n",
      " 0.00735065 0.00547938 0.00468414 0.00373288 0.00349817 0.00263005\n",
      " 0.00244866 0.00191498 0.00188046 0.00135814 0.00144399 0.0008604\n",
      " 0.00076834 0.00067907 0.00072203 0.00032341] [9.2050690e+06 6.2488830e+06 6.1638540e+06 6.3111440e+06 6.4609340e+06\n",
      " 4.6022120e+06 5.2537480e+06 7.1220800e+06 9.2820240e+06 9.5126840e+06\n",
      " 9.8012080e+06 9.3484880e+06 6.5207200e+06 5.7262240e+06 5.6693920e+06\n",
      " 6.3678800e+06 5.0649360e+06 4.2946000e+06 5.3309280e+06 7.3029120e+06\n",
      " 8.0014560e+06 1.1961728e+07 1.1919888e+07 1.0811120e+07 1.2616368e+07\n",
      " 1.5603200e+07 1.2149200e+07 1.2626896e+07 1.0696032e+07 9.1549440e+06\n",
      " 1.2316656e+07 8.9325280e+06 1.0352864e+07 9.7789120e+06 7.9033600e+06\n",
      " 7.7116480e+06 8.3758400e+06 8.9089920e+06 9.0024640e+06 7.4512960e+06\n",
      " 5.8326400e+06 7.0472640e+06 7.4002880e+06 1.0751648e+07 1.2699264e+07\n",
      " 1.2535232e+07 1.1116480e+07 1.0742784e+07 1.4158720e+07 1.3785984e+07\n",
      " 1.7318848e+07 1.4245088e+07 1.4598144e+07 1.4700640e+07 1.4356480e+07\n",
      " 1.3513440e+07 1.0941792e+07 1.0445376e+07 1.0027648e+07 1.0055168e+07\n",
      " 8.0460800e+06 6.1496960e+06 4.5671040e+06 5.6700160e+06 5.4671360e+06\n",
      " 5.8616320e+06 6.7515520e+06 6.1263360e+06 6.8632960e+06 8.2602880e+06\n",
      " 1.0571840e+07 9.7533440e+06 7.6535680e+06 3.9655680e+06 4.8921600e+06\n",
      " 1.8479360e+06 1.5821440e+06 1.4743040e+06 1.4437760e+06 1.1944960e+06\n",
      " 1.2488320e+06 7.6832000e+05 1.0054400e+06 6.9888000e+05 8.8211200e+05\n",
      " 8.5260800e+05 8.2182400e+05 6.8640000e+05 4.1504000e+05 3.2300800e+05\n",
      " 2.0172800e+05 1.9238400e+05 1.6147200e+05 8.9152000e+04 7.1936000e+04\n",
      " 2.3168000e+04 2.2848000e+04 2.6752000e+04 1.9392000e+04 2.7520000e+03]\n"
     ]
    },
    {
     "name": "stderr",
     "output_type": "stream",
     "text": [
      " 68%|██████▊   | 8500/12535 [4:29:39<1:44:17,  1.55s/it]"
     ]
    },
    {
     "name": "stdout",
     "output_type": "stream",
     "text": [
      "[0.03300339 0.03694215 0.04026181 0.03622143 0.03522796 0.03271775\n",
      " 0.03414904 0.03452262 0.03399686 0.03259994 0.0307503  0.0279923\n",
      " 0.02694492 0.02732474 0.0267413  0.0263651  0.02542279 0.02264995\n",
      " 0.02120508 0.01997204 0.02108467 0.02364418 0.02416732 0.02324093\n",
      " 0.0255158  0.02407048 0.02465365 0.03010071 0.03026258 0.02928826\n",
      " 0.02488554 0.02010451 0.01790751 0.01911599 0.01821896 0.02058721\n",
      " 0.02650163 0.01832782 0.01953252 0.02577573 0.03197544 0.02657699\n",
      " 0.02258907 0.02057583 0.02150851 0.02088905 0.01976278 0.02257879\n",
      " 0.02393686 0.02121186 0.01995963 0.01709655 0.01709482 0.01639799\n",
      " 0.02046142 0.01817503 0.01597513 0.01461467 0.01244494 0.01142373\n",
      " 0.01222511 0.01407013 0.01423025 0.0137206  0.01239108 0.01212458\n",
      " 0.01186786 0.0118873  0.01261366 0.01182678 0.01176412 0.01391288\n",
      " 0.01236718 0.01023948 0.00763837 0.00678934 0.00905981 0.00920178\n",
      " 0.01050598 0.00761439 0.00499072 0.00540997 0.00615524 0.00477979\n",
      " 0.00612817 0.00492203 0.00412442 0.00242889 0.00180983 0.00249789\n",
      " 0.00253214 0.00254954 0.002186   0.00172953 0.00110839 0.0009577\n",
      " 0.00113144 0.00020609 0.0005032  0.00022802] [8.5428200e+06 7.7032570e+06 7.8501170e+06 6.3614360e+06 8.6951900e+06\n",
      " 9.2489920e+06 9.4254240e+06 9.5149560e+06 1.2714352e+07 1.5324728e+07\n",
      " 1.4306584e+07 1.5062280e+07 1.5930200e+07 1.5779424e+07 1.2888400e+07\n",
      " 1.2517936e+07 1.4626864e+07 1.2258160e+07 1.3786384e+07 1.0851056e+07\n",
      " 9.0870720e+06 9.0467520e+06 8.2833280e+06 6.7145440e+06 6.7042560e+06\n",
      " 7.0082880e+06 5.6221120e+06 5.9446720e+06 6.6964800e+06 7.9335360e+06\n",
      " 9.4050880e+06 1.2303872e+07 1.2551360e+07 1.3634752e+07 1.1037504e+07\n",
      " 8.9892160e+06 1.1073472e+07 7.3436480e+06 7.4259840e+06 7.6392640e+06\n",
      " 1.1936896e+07 1.4044896e+07 1.1434336e+07 1.0130496e+07 8.2896640e+06\n",
      " 7.9743360e+06 1.0583712e+07 1.1376160e+07 1.2493728e+07 1.5102880e+07\n",
      " 1.3964512e+07 1.2303616e+07 1.0378176e+07 8.3422720e+06 7.5233280e+06\n",
      " 6.8897280e+06 6.6592640e+06 9.0332800e+06 1.0599936e+07 1.0044352e+07\n",
      " 7.0723840e+06 6.8266240e+06 7.1353600e+06 5.9813760e+06 5.6326400e+06\n",
      " 7.5141760e+06 7.6007040e+06 7.0265600e+06 5.0727040e+06 5.0988160e+06\n",
      " 4.0120960e+06 3.8896000e+06 4.2547200e+06 5.3469440e+06 4.9368960e+06\n",
      " 2.7205120e+06 2.1479040e+06 2.6716160e+06 3.1920640e+06 3.5556480e+06\n",
      " 1.3190400e+06 8.9804800e+05 9.4700800e+05 7.3952000e+05 9.7542400e+05\n",
      " 1.0518400e+06 6.5062400e+05 4.5926400e+05 3.0464000e+05 2.1811200e+05\n",
      " 2.1075200e+05 1.9168000e+05 1.3209600e+05 9.7152000e+04 5.0816000e+04\n",
      " 2.1120000e+04 2.5920000e+04 3.5200000e+03 1.2480000e+04 4.0320000e+03]\n"
     ]
    },
    {
     "name": "stderr",
     "output_type": "stream",
     "text": [
      " 69%|██████▊   | 8600/12535 [4:32:08<1:25:10,  1.30s/it]"
     ]
    },
    {
     "name": "stdout",
     "output_type": "stream",
     "text": [
      "[0.02018218 0.02196899 0.02694292 0.02217706 0.02761624 0.02747706\n",
      " 0.02847726 0.02566565 0.02755137 0.02543172 0.02661959 0.02422174\n",
      " 0.02311243 0.02225093 0.0223716  0.02345777 0.0227289  0.02295198\n",
      " 0.02215893 0.02168704 0.01962545 0.01926412 0.01732721 0.01790275\n",
      " 0.01623154 0.01806196 0.01751949 0.01975731 0.02060378 0.01836192\n",
      " 0.01770223 0.01894068 0.02089849 0.02043352 0.01852837 0.01619837\n",
      " 0.01607876 0.01674601 0.01674616 0.01816381 0.02433208 0.02121007\n",
      " 0.02025419 0.01957987 0.01990933 0.02354861 0.02211601 0.01932537\n",
      " 0.01823596 0.01646999 0.01360778 0.01400426 0.01480774 0.01418865\n",
      " 0.01422288 0.01245325 0.01124353 0.01259685 0.01379872 0.01402501\n",
      " 0.01434796 0.0137618  0.01500699 0.01314222 0.01392314 0.01707147\n",
      " 0.01400658 0.01099994 0.00827606 0.00881293 0.00801697 0.00732199\n",
      " 0.01103435 0.00778641 0.00656461 0.00421548 0.00366029 0.00323956\n",
      " 0.00314576 0.00292073 0.00385171 0.00422178 0.00378984 0.00277557\n",
      " 0.00311389 0.00227365 0.00170541 0.00194236 0.00171687 0.00152901\n",
      " 0.00138033 0.00086263 0.00145655 0.00075353 0.00065646 0.00053561\n",
      " 0.00062162 0.00075393 0.00033667 0.00020932] [4.3232230e+06 4.1206465e+06 3.2500840e+06 3.9893630e+06 4.0703490e+06\n",
      " 4.0523760e+06 3.5190000e+06 2.9965780e+06 4.1648780e+06 4.0738120e+06\n",
      " 5.1637640e+06 4.5027040e+06 4.6207640e+06 5.1692240e+06 5.4212960e+06\n",
      " 4.2567960e+06 5.5815200e+06 6.9193040e+06 6.3435040e+06 4.6701600e+06\n",
      " 4.2760240e+06 4.2890800e+06 4.4636400e+06 4.4176080e+06 4.1603200e+06\n",
      " 5.7629040e+06 4.2579760e+06 4.4147520e+06 4.1387520e+06 4.3036720e+06\n",
      " 3.8455520e+06 4.0068960e+06 4.5297600e+06 4.0063040e+06 4.0505760e+06\n",
      " 4.0745280e+06 4.3111360e+06 4.2187200e+06 4.3688480e+06 3.7356000e+06\n",
      " 3.7520960e+06 4.0046560e+06 3.7216160e+06 4.4762560e+06 3.8163520e+06\n",
      " 3.1215520e+06 4.6148960e+06 4.8109280e+06 5.6144480e+06 5.1588320e+06\n",
      " 5.0676800e+06 3.3723520e+06 2.9088640e+06 2.3028160e+06 1.9529760e+06\n",
      " 3.0105600e+06 2.4875680e+06 2.6903040e+06 2.5459520e+06 2.3619680e+06\n",
      " 2.6021120e+06 2.8145280e+06 2.9620960e+06 3.2578240e+06 2.7064480e+06\n",
      " 4.5462080e+06 5.6789920e+06 5.1576320e+06 3.4502400e+06 2.8209600e+06\n",
      " 2.1564800e+06 1.3546880e+06 1.2947840e+06 9.1430400e+05 1.0429440e+06\n",
      " 1.1202880e+06 7.2368000e+05 4.6051200e+05 4.0352000e+05 1.9638400e+05\n",
      " 2.4521600e+05 2.5443200e+05 2.8102400e+05 1.6806400e+05 1.4172800e+05\n",
      " 1.0944000e+05 9.8944000e+04 3.9680000e+04 8.6592000e+04 6.4864000e+04\n",
      " 6.2240000e+04 2.0064000e+04 4.3200000e+04 2.9312000e+04 1.3088000e+04\n",
      " 6.4960000e+03 8.7040000e+03 1.0112000e+04 7.1040000e+03 2.4320000e+03]\n"
     ]
    },
    {
     "name": "stderr",
     "output_type": "stream",
     "text": [
      " 69%|██████▉   | 8700/12535 [4:34:45<1:40:58,  1.58s/it]"
     ]
    },
    {
     "name": "stdout",
     "output_type": "stream",
     "text": [
      "[0.         0.         0.00307326 0.         0.         0.\n",
      " 0.         0.         0.         0.         0.         0.\n",
      " 0.00465875 0.00426058 0.00440549 0.00422215 0.00830079 0.01104737\n",
      " 0.0107577  0.01279016 0.01434311 0.01562173 0.01592259 0.01619671\n",
      " 0.01656566 0.01545139 0.01740072 0.01968926 0.02123513 0.02113657\n",
      " 0.02146489 0.01900427 0.01832054 0.02037916 0.02028797 0.02106285\n",
      " 0.02142739 0.02703952 0.02627899 0.0258656  0.02763925 0.02773401\n",
      " 0.02713575 0.02241098 0.02266962 0.02381299 0.02497206 0.02413641\n",
      " 0.03234138 0.03312843 0.03608298 0.03738466 0.03767622 0.03303083\n",
      " 0.02809812 0.02776006 0.02827455 0.02679491 0.02688801 0.02506646\n",
      " 0.02593184 0.02531453 0.02606567 0.0280012  0.02554416 0.02365033\n",
      " 0.02288759 0.02132823 0.01954978 0.01818419 0.02110212 0.01997538\n",
      " 0.01872211 0.01864456 0.01542851 0.01743863 0.02335123 0.02871565\n",
      " 0.02576458 0.02346648 0.01931515 0.01890219 0.0170405  0.01613098\n",
      " 0.01379977 0.01147074 0.00950333 0.00842595 0.00740687 0.00674856\n",
      " 0.00587083 0.00546382 0.00510029 0.00455101 0.00423953 0.00292455\n",
      " 0.00134997 0.00093374 0.00057229 0.00040623] [0.0000000e+00 0.0000000e+00 8.0123750e+03 0.0000000e+00 0.0000000e+00\n",
      " 0.0000000e+00 0.0000000e+00 0.0000000e+00 0.0000000e+00 0.0000000e+00\n",
      " 0.0000000e+00 0.0000000e+00 7.3814121e+03 2.5578908e+04 1.5020789e+04\n",
      " 1.2003953e+04 4.0108578e+05 9.0154962e+05 1.2056699e+06 1.7723382e+06\n",
      " 2.4493700e+06 2.5629910e+06 3.0189440e+06 4.3344610e+06 5.2441090e+06\n",
      " 4.9042140e+06 4.2404020e+06 4.6340720e+06 5.6545280e+06 6.2851800e+06\n",
      " 7.7272680e+06 7.8645000e+06 1.0054808e+07 7.2472800e+06 8.2803280e+06\n",
      " 6.9072240e+06 7.7503600e+06 6.4408080e+06 9.0385200e+06 7.7709840e+06\n",
      " 5.9567760e+06 6.1818320e+06 6.8985280e+06 7.5611040e+06 1.0179040e+07\n",
      " 8.2385600e+06 8.5008640e+06 7.5006400e+06 6.9612800e+06 6.3098400e+06\n",
      " 7.5905760e+06 7.2181280e+06 5.8388800e+06 9.2918080e+06 1.0189888e+07\n",
      " 1.1829776e+07 1.0290208e+07 7.9476320e+06 8.4079040e+06 9.2938880e+06\n",
      " 9.5087680e+06 1.1566848e+07 1.1946336e+07 8.5160640e+06 1.0769792e+07\n",
      " 1.6801216e+07 1.9555648e+07 1.7720384e+07 1.6331136e+07 1.1013568e+07\n",
      " 1.0046688e+07 1.0913696e+07 1.2966144e+07 1.4024512e+07 1.2846944e+07\n",
      " 1.3616544e+07 1.0385024e+07 1.1836384e+07 1.6200384e+07 1.3605600e+07\n",
      " 1.4664256e+07 1.8655552e+07 1.6923200e+07 1.8068352e+07 1.4614976e+07\n",
      " 1.0509952e+07 7.8688000e+06 4.9409920e+06 4.0099200e+06 3.4647040e+06\n",
      " 2.7906560e+06 1.6004480e+06 1.1621120e+06 9.0732800e+05 8.4627200e+05\n",
      " 6.8230400e+05 1.6953600e+05 6.1056000e+04 2.1376000e+04 1.1328000e+04]\n"
     ]
    },
    {
     "name": "stderr",
     "output_type": "stream",
     "text": [
      " 70%|███████   | 8800/12535 [4:37:16<1:29:53,  1.44s/it]"
     ]
    },
    {
     "name": "stdout",
     "output_type": "stream",
     "text": [
      "[1.31122628e-02 1.25540467e-02 1.30694937e-02 1.05277738e-02\n",
      " 1.14521049e-02 1.22909229e-02 1.34410979e-02 1.34190060e-02\n",
      " 1.24177672e-02 1.08057717e-02 9.76740755e-03 7.91890360e-03\n",
      " 9.35901236e-03 9.99516342e-03 1.04005793e-02 1.22826137e-02\n",
      " 1.62397884e-02 1.15719205e-02 1.70665160e-02 1.77076161e-02\n",
      " 1.61139145e-02 1.51820853e-02 1.61153786e-02 1.79100093e-02\n",
      " 1.67720467e-02 1.98360477e-02 1.49298441e-02 1.71235260e-02\n",
      " 1.57695059e-02 1.58918556e-02 1.47121241e-02 1.38496198e-02\n",
      " 1.23460805e-02 1.37852477e-02 1.10113071e-02 9.73023009e-03\n",
      " 1.04862573e-02 1.09416936e-02 9.57309175e-03 1.00639537e-02\n",
      " 9.66940355e-03 1.03153307e-02 9.85210668e-03 1.19633209e-02\n",
      " 1.26117552e-02 1.08296555e-02 9.94779821e-03 1.04127349e-02\n",
      " 1.32196071e-02 1.05004171e-02 1.08458642e-02 1.15283458e-02\n",
      " 8.05994216e-03 8.85467790e-03 1.20033231e-02 1.21232355e-02\n",
      " 1.12018771e-02 1.29395677e-02 1.06700538e-02 1.40000992e-02\n",
      " 1.37062082e-02 1.55278351e-02 1.62371304e-02 1.30164772e-02\n",
      " 1.56349055e-02 1.29472492e-02 1.10759456e-02 1.41673144e-02\n",
      " 1.29766967e-02 1.38901034e-02 1.31513504e-02 9.12524294e-03\n",
      " 1.08242109e-02 9.30928160e-03 1.11889448e-02 1.00462856e-02\n",
      " 6.74099987e-03 5.51806297e-03 6.21543219e-03 5.80439717e-03\n",
      " 5.59523748e-03 6.10797899e-03 6.95199147e-03 7.49805477e-03\n",
      " 6.47520926e-03 4.75723296e-03 3.91653040e-03 3.10337101e-03\n",
      " 2.86416430e-03 2.23225867e-03 1.90059852e-03 1.73414010e-03\n",
      " 9.84243117e-04 1.03803223e-03 7.26398779e-04 3.85605992e-04\n",
      " 3.42372514e-04 4.42993114e-05 7.71843188e-05 0.00000000e+00] [3.1598665e+06 3.6415460e+06 3.3298745e+06 3.9154120e+06 3.1888200e+06\n",
      " 3.3656880e+06 2.9293180e+06 1.9471240e+06 3.0079480e+06 3.1279020e+06\n",
      " 2.3038280e+06 2.3635280e+06 1.5510240e+06 1.0828680e+06 9.9822400e+05\n",
      " 1.1597680e+06 1.4109960e+06 1.0485160e+06 1.1636600e+06 1.5522320e+06\n",
      " 1.5093720e+06 1.6434080e+06 1.2815320e+06 1.3475800e+06 1.7249800e+06\n",
      " 2.2349520e+06 2.0478720e+06 2.0573920e+06 2.3095800e+06 2.3720800e+06\n",
      " 1.6399240e+06 2.9070640e+06 2.6252800e+06 2.5276560e+06 2.3824960e+06\n",
      " 2.3064800e+06 2.3338240e+06 1.9912720e+06 1.5975600e+06 1.6331520e+06\n",
      " 2.1642880e+06 2.5782240e+06 2.4808720e+06 2.4667120e+06 2.3718720e+06\n",
      " 2.7574320e+06 2.4965440e+06 2.5638320e+06 2.0987440e+06 1.8606000e+06\n",
      " 1.7454560e+06 1.8108320e+06 2.0703440e+06 1.8578400e+06 2.3050560e+06\n",
      " 2.3038880e+06 2.6196720e+06 1.9442560e+06 2.0662960e+06 2.2127200e+06\n",
      " 2.3346080e+06 2.3114880e+06 1.8572160e+06 1.6253760e+06 2.7020480e+06\n",
      " 2.4802240e+06 2.2625920e+06 2.4204320e+06 2.0094720e+06 2.1754080e+06\n",
      " 2.6518240e+06 2.7497600e+06 2.4934880e+06 2.2904800e+06 3.0086080e+06\n",
      " 3.0327040e+06 2.3417280e+06 8.0907200e+05 7.0656000e+05 6.6196800e+05\n",
      " 7.5547200e+05 5.4843200e+05 4.7000000e+05 5.5512000e+05 4.0731200e+05\n",
      " 4.2515200e+05 4.3278400e+05 2.4793600e+05 1.9688000e+05 1.3225600e+05\n",
      " 1.0876800e+05 6.4128000e+04 4.1904000e+04 3.7472000e+04 1.7216000e+04\n",
      " 5.0400000e+03 5.4720000e+03 6.7200000e+02 2.5600000e+02 0.0000000e+00]\n"
     ]
    },
    {
     "name": "stderr",
     "output_type": "stream",
     "text": [
      " 71%|███████   | 8900/12535 [4:39:49<1:25:25,  1.41s/it]"
     ]
    },
    {
     "name": "stdout",
     "output_type": "stream",
     "text": [
      "[0.01886432 0.01878443 0.02038226 0.0224699  0.02769959 0.03056338\n",
      " 0.02675667 0.02487813 0.03008039 0.02614353 0.02990061 0.02832732\n",
      " 0.02430286 0.02475699 0.02954675 0.01875206 0.01869028 0.0155742\n",
      " 0.0166165  0.01846753 0.01872105 0.0178713  0.01887508 0.01901355\n",
      " 0.01802362 0.01755492 0.01806895 0.01716144 0.01502824 0.01373438\n",
      " 0.01190244 0.01214819 0.01156012 0.014998   0.01446182 0.01671683\n",
      " 0.01673328 0.01780736 0.01791719 0.02112367 0.01579106 0.01708702\n",
      " 0.01846395 0.01792275 0.02254733 0.01926717 0.01638283 0.01583678\n",
      " 0.01698749 0.01966251 0.0208687  0.01619077 0.0165162  0.01398707\n",
      " 0.01215519 0.01139039 0.01381639 0.013936   0.01183038 0.01249374\n",
      " 0.01574344 0.0161623  0.01570621 0.01560356 0.01544442 0.01146506\n",
      " 0.01295647 0.01342709 0.01499218 0.01412998 0.01332587 0.0131738\n",
      " 0.01098656 0.00957097 0.00881922 0.01047476 0.00930015 0.00858331\n",
      " 0.00810696 0.00824558 0.00731664 0.00733881 0.00663177 0.00644569\n",
      " 0.00783069 0.0079692  0.00697376 0.0061432  0.00614366 0.0051795\n",
      " 0.00619195 0.00499837 0.00356451 0.00253726 0.00193029 0.00180389\n",
      " 0.00130456 0.00064347 0.00109729 0.00016704] [1.6080852e+06 1.5379590e+06 1.5046888e+06 1.2680265e+06 8.9200400e+05\n",
      " 8.4752800e+05 9.1235950e+05 7.7588000e+05 7.9544100e+05 7.9348500e+05\n",
      " 9.8811800e+05 6.4429100e+05 3.8587500e+05 8.5399800e+05 3.0198990e+06\n",
      " 2.6391220e+06 4.1597120e+06 4.7292220e+06 4.7984720e+06 5.1288140e+06\n",
      " 5.4052080e+06 5.4449800e+06 4.6377840e+06 4.5600400e+06 3.8664640e+06\n",
      " 5.4851040e+06 5.0168240e+06 3.8267520e+06 4.4414240e+06 4.6332880e+06\n",
      " 3.0366880e+06 3.4272320e+06 4.2788160e+06 3.4405280e+06 3.1691360e+06\n",
      " 3.5832240e+06 3.0553120e+06 3.3386080e+06 3.6361040e+06 4.4596320e+06\n",
      " 3.6933760e+06 4.9198640e+06 5.3341520e+06 4.6520640e+06 4.8969600e+06\n",
      " 6.2820960e+06 6.8309920e+06 6.6285280e+06 6.3893760e+06 5.3657600e+06\n",
      " 4.8594560e+06 3.6991840e+06 6.9219840e+06 6.5200800e+06 5.6170560e+06\n",
      " 4.0259680e+06 3.8422240e+06 3.8877440e+06 4.5221760e+06 3.7921600e+06\n",
      " 2.9030560e+06 3.1177760e+06 2.5125760e+06 2.5619680e+06 2.8736800e+06\n",
      " 2.8812960e+06 2.8190880e+06 3.4703200e+06 3.2197120e+06 3.1804960e+06\n",
      " 3.6431680e+06 4.1043360e+06 3.7675680e+06 4.6102080e+06 4.0225280e+06\n",
      " 3.0481600e+06 2.9437440e+06 2.2657600e+06 2.3549440e+06 2.5028160e+06\n",
      " 1.9413440e+06 1.4764160e+06 1.2007040e+06 1.0670720e+06 1.1088640e+06\n",
      " 9.6342400e+05 9.0848000e+05 8.2163200e+05 9.2694400e+05 6.4390400e+05\n",
      " 7.0720000e+05 7.4070400e+05 3.3260800e+05 2.9632000e+05 1.0483200e+05\n",
      " 7.9680000e+04 5.1936000e+04 1.4400000e+04 2.8448000e+04 4.0960000e+03]\n"
     ]
    },
    {
     "name": "stderr",
     "output_type": "stream",
     "text": [
      " 72%|███████▏  | 9000/12535 [4:42:11<1:22:56,  1.41s/it]"
     ]
    },
    {
     "name": "stdout",
     "output_type": "stream",
     "text": [
      "[0.03632957 0.03953239 0.04313    0.04529737 0.04246873 0.04329704\n",
      " 0.0475497  0.04196941 0.03742724 0.02821321 0.0222473  0.01850679\n",
      " 0.01595668 0.01566195 0.01611545 0.01577611 0.01506724 0.0118346\n",
      " 0.01155371 0.01360266 0.01159386 0.01208702 0.01400768 0.01462216\n",
      " 0.01363077 0.01505363 0.01641847 0.01580861 0.01326867 0.01459109\n",
      " 0.01780967 0.0220619  0.02226784 0.02582621 0.0229328  0.02329511\n",
      " 0.02037665 0.01809568 0.01594984 0.01409759 0.01600364 0.01696305\n",
      " 0.01701105 0.01974569 0.01734605 0.01779777 0.0170506  0.0155623\n",
      " 0.01622766 0.01865708 0.01651691 0.01319982 0.01301834 0.01409086\n",
      " 0.01336337 0.01158187 0.01503329 0.01532366 0.02326219 0.02397775\n",
      " 0.02340742 0.01737054 0.01639625 0.01363589 0.01237938 0.01135881\n",
      " 0.00965695 0.01005679 0.00821099 0.00950407 0.01258613 0.0117041\n",
      " 0.01097365 0.01049232 0.01079396 0.00850419 0.00572019 0.00536055\n",
      " 0.00885542 0.00718589 0.00563286 0.00553325 0.004929   0.00394184\n",
      " 0.0064253  0.00472319 0.00510695 0.00456897 0.00315039 0.00326151\n",
      " 0.00333494 0.00285803 0.00156068 0.00080887 0.00032849 0.00038577\n",
      " 0.00013432 0.00045603 0.         0.00018622] [5.7755535e+06 2.8984495e+06 5.0800490e+06 4.3413060e+06 3.4977180e+06\n",
      " 3.1500160e+06 2.2351220e+06 1.8027240e+06 3.8679240e+06 4.5111020e+06\n",
      " 5.6097720e+06 5.8725160e+06 7.8877400e+06 6.7524520e+06 6.6608520e+06\n",
      " 5.8297760e+06 4.4802640e+06 3.4069520e+06 3.9634720e+06 5.2411200e+06\n",
      " 3.6129680e+06 3.7132640e+06 3.9042560e+06 4.1116480e+06 4.6614960e+06\n",
      " 3.7137920e+06 4.3044400e+06 4.2616480e+06 3.7972400e+06 5.3936960e+06\n",
      " 4.1352640e+06 3.5306720e+06 3.6339520e+06 5.3930880e+06 3.7501600e+06\n",
      " 4.9700800e+06 5.8929920e+06 5.6560160e+06 5.8346560e+06 6.2596640e+06\n",
      " 4.1149920e+06 3.6730080e+06 3.9181440e+06 3.8405280e+06 4.2032480e+06\n",
      " 3.4573760e+06 3.9641280e+06 4.4834560e+06 5.0889600e+06 5.3832320e+06\n",
      " 5.1282880e+06 4.5225120e+06 3.3834720e+06 3.3859040e+06 2.5892480e+06\n",
      " 2.5320160e+06 2.3711360e+06 1.7167360e+06 2.4956960e+06 3.2800640e+06\n",
      " 4.4200160e+06 5.3350560e+06 5.1287520e+06 3.6847360e+06 3.1448960e+06\n",
      " 3.0596800e+06 2.8843200e+06 2.1625600e+06 1.3739520e+06 1.5598720e+06\n",
      " 2.2155840e+06 1.7764160e+06 2.6170560e+06 3.0192960e+06 3.0208320e+06\n",
      " 2.2821120e+06 2.0126400e+06 1.2550400e+06 1.8339200e+06 1.6240320e+06\n",
      " 8.6956800e+05 4.9990400e+05 4.3779200e+05 3.0476800e+05 4.1708800e+05\n",
      " 4.4934400e+05 4.4326400e+05 3.3340800e+05 2.1516800e+05 1.9664000e+05\n",
      " 1.7923200e+05 1.2044800e+05 7.3952000e+04 2.2816000e+04 6.3360000e+03\n",
      " 5.0880000e+03 2.6240000e+03 4.3840000e+03 0.0000000e+00 1.6960000e+03]\n"
     ]
    },
    {
     "name": "stderr",
     "output_type": "stream",
     "text": [
      " 73%|███████▎  | 9100/12535 [4:44:47<1:51:26,  1.95s/it]"
     ]
    },
    {
     "name": "stdout",
     "output_type": "stream",
     "text": [
      "[0.02543065 0.02368432 0.02627738 0.03331698 0.03314406 0.03423529\n",
      " 0.03332414 0.02907451 0.02251961 0.02561753 0.02597231 0.03083889\n",
      " 0.02962065 0.02787623 0.0283147  0.02507065 0.02141134 0.02289168\n",
      " 0.02296094 0.02528658 0.02726256 0.02782992 0.02549415 0.02506096\n",
      " 0.02686441 0.02857241 0.02781648 0.0270799  0.02486602 0.02324557\n",
      " 0.02163902 0.01986696 0.01919785 0.0185672  0.01944029 0.01975389\n",
      " 0.02310242 0.02450447 0.0217897  0.02355253 0.01981859 0.01918943\n",
      " 0.01798351 0.01828767 0.01425479 0.01631097 0.01744696 0.02651168\n",
      " 0.02408572 0.02000863 0.01934873 0.0191884  0.01694023 0.01606772\n",
      " 0.01431987 0.01455634 0.01370206 0.01462467 0.01314586 0.01342779\n",
      " 0.01271196 0.01140829 0.00905558 0.00854384 0.00852125 0.00779958\n",
      " 0.00856528 0.00925475 0.0074469  0.00659688 0.00665304 0.00716119\n",
      " 0.00858941 0.00714708 0.00745319 0.00704618 0.007196   0.00633202\n",
      " 0.00665099 0.00666909 0.00535005 0.00492388 0.00492011 0.00475057\n",
      " 0.00436265 0.00367323 0.00387868 0.00327504 0.00227324 0.00233279\n",
      " 0.00298311 0.0026098  0.00232407 0.0021122  0.00130456 0.00185778\n",
      " 0.00178169 0.00090914 0.00055316 0.00015356] [6.0480805e+06 5.0048695e+06 5.0185790e+06 3.6115570e+06 4.9671420e+06\n",
      " 5.8334140e+06 4.9020500e+06 5.2522920e+06 3.9517280e+06 4.6461960e+06\n",
      " 4.0967960e+06 4.1359760e+06 6.4200160e+06 4.5320880e+06 5.5376480e+06\n",
      " 5.7309920e+06 6.3492000e+06 5.9646480e+06 5.7247200e+06 6.2099040e+06\n",
      " 8.0566720e+06 7.6450000e+06 9.6193840e+06 9.2981520e+06 8.1532320e+06\n",
      " 7.8181280e+06 7.9050560e+06 6.4436480e+06 6.0276960e+06 7.8356000e+06\n",
      " 6.4699520e+06 9.5159200e+06 6.6608160e+06 6.9740320e+06 6.0844800e+06\n",
      " 7.1370400e+06 4.5773920e+06 6.0350400e+06 5.7014400e+06 7.8885920e+06\n",
      " 6.6195520e+06 8.1564480e+06 7.3507040e+06 8.8841280e+06 8.1084800e+06\n",
      " 5.8189120e+06 4.1708160e+06 6.0184320e+06 5.8389760e+06 6.2133440e+06\n",
      " 7.7314880e+06 7.5022720e+06 8.8295040e+06 8.9664000e+06 1.1334816e+07\n",
      " 1.0819040e+07 6.9280960e+06 4.7878400e+06 4.2512320e+06 5.4283840e+06\n",
      " 4.5672640e+06 4.9131840e+06 3.4253760e+06 3.2204160e+06 2.0175360e+06\n",
      " 2.0184000e+06 1.9776320e+06 1.8219840e+06 2.4517440e+06 1.6632000e+06\n",
      " 1.5197120e+06 1.3521280e+06 1.1814720e+06 1.5215680e+06 1.3209280e+06\n",
      " 1.4320320e+06 1.4206720e+06 1.0973120e+06 1.4974080e+06 1.6975360e+06\n",
      " 1.2974720e+06 9.5180800e+05 1.2117760e+06 8.1516800e+05 8.5264000e+05\n",
      " 5.4201600e+05 5.0768000e+05 4.6953600e+05 3.7779200e+05 2.5926400e+05\n",
      " 4.2236800e+05 3.0662400e+05 2.7251200e+05 1.7452800e+05 7.1744000e+04\n",
      " 1.4457600e+05 1.3328000e+05 6.0864000e+04 2.5568000e+04 4.0960000e+03]\n"
     ]
    },
    {
     "name": "stderr",
     "output_type": "stream",
     "text": [
      " 73%|███████▎  | 9200/12535 [4:47:13<1:20:31,  1.45s/it]"
     ]
    },
    {
     "name": "stdout",
     "output_type": "stream",
     "text": [
      "[0.02073501 0.01859553 0.0219297  0.02157086 0.02160343 0.0191356\n",
      " 0.02194264 0.02376594 0.02200339 0.02939527 0.02850119 0.02376779\n",
      " 0.02574717 0.02562765 0.02207323 0.02491998 0.03183219 0.02061375\n",
      " 0.02032703 0.01713788 0.0182035  0.01841893 0.01926853 0.01874813\n",
      " 0.01464307 0.0139452  0.01569124 0.01587949 0.01246268 0.0210759\n",
      " 0.02074227 0.02477934 0.02123436 0.02151614 0.02184851 0.02249596\n",
      " 0.02296308 0.01841374 0.01646127 0.01277168 0.0132074  0.01296433\n",
      " 0.01071453 0.0087899  0.01039183 0.01089913 0.01157924 0.01387486\n",
      " 0.01172873 0.01370864 0.01129292 0.00983797 0.00938174 0.00960726\n",
      " 0.01094719 0.0098611  0.00959165 0.01089266 0.00983057 0.00721539\n",
      " 0.00901572 0.00957804 0.00907777 0.00703209 0.00685952 0.00563716\n",
      " 0.0052197  0.00602646 0.0041555  0.00582562 0.00577317 0.00584802\n",
      " 0.00692806 0.0058748  0.00533177 0.00514814 0.00492222 0.00557987\n",
      " 0.00492321 0.00400237 0.00350547 0.00366606 0.00406488 0.00326539\n",
      " 0.00262837 0.0026279  0.00188002 0.00199445 0.00204609 0.00133841\n",
      " 0.0012495  0.00103857 0.00126661 0.00054735 0.00065936 0.00021018\n",
      " 0.00033811 0.00102574 0.00015953 0.        ] [3.1094285e+06 2.0666405e+06 2.1883935e+06 2.8056285e+06 2.4586730e+06\n",
      " 1.8765540e+06 2.0855650e+06 1.7330050e+06 1.2787340e+06 2.2925240e+06\n",
      " 2.1214680e+06 1.6837880e+06 2.3951540e+06 1.8167700e+06 1.6189420e+06\n",
      " 1.9818380e+06 1.9293260e+06 1.4289120e+06 2.0724720e+06 2.1741840e+06\n",
      " 1.9472160e+06 2.1298440e+06 1.6756800e+06 2.2403520e+06 1.7838360e+06\n",
      " 1.6672840e+06 1.4536000e+06 2.5278640e+06 2.0006840e+06 2.6423520e+06\n",
      " 3.3731800e+06 4.0037640e+06 3.3859840e+06 3.3130480e+06 4.4189840e+06\n",
      " 4.4798640e+06 4.4321440e+06 5.9844800e+06 6.6439680e+06 5.7470560e+06\n",
      " 7.0253120e+06 6.8031200e+06 6.4418000e+06 5.5327120e+06 4.7348800e+06\n",
      " 3.8164160e+06 2.8982720e+06 2.7657440e+06 2.5326080e+06 2.6016960e+06\n",
      " 3.6780640e+06 3.3734080e+06 3.6956800e+06 2.6980960e+06 2.5578240e+06\n",
      " 2.6061120e+06 1.9849280e+06 2.1106880e+06 2.5824800e+06 1.6781920e+06\n",
      " 1.6096800e+06 1.3389760e+06 1.4845600e+06 1.3347520e+06 1.3029440e+06\n",
      " 1.1316480e+06 9.9422400e+05 1.1857760e+06 6.8300800e+05 9.0806400e+05\n",
      " 7.1404800e+05 7.6612800e+05 8.7105600e+05 8.6545600e+05 4.9873600e+05\n",
      " 4.3288000e+05 5.4932800e+05 4.7987200e+05 4.2076800e+05 4.0624000e+05\n",
      " 2.4444800e+05 2.8590400e+05 2.1657600e+05 2.5835200e+05 1.5432000e+05\n",
      " 1.8691200e+05 1.4617600e+05 6.1584000e+04 9.5296000e+04 3.6848000e+04\n",
      " 4.6544000e+04 4.0064000e+04 2.9184000e+04 1.7264000e+04 2.2736000e+04\n",
      " 3.6160000e+03 5.2800000e+03 5.1520000e+03 2.0160000e+03 0.0000000e+00]\n"
     ]
    },
    {
     "name": "stderr",
     "output_type": "stream",
     "text": [
      " 74%|███████▍  | 9300/12535 [4:49:43<1:10:53,  1.31s/it]"
     ]
    },
    {
     "name": "stdout",
     "output_type": "stream",
     "text": [
      "[0.02814246 0.02995494 0.03009542 0.0303114  0.02666472 0.02803357\n",
      " 0.02449104 0.01803271 0.01537027 0.01461988 0.01167884 0.01208697\n",
      " 0.01410373 0.01249531 0.01170095 0.01041011 0.01012279 0.01004512\n",
      " 0.00964505 0.01126099 0.01183177 0.00959386 0.01388941 0.01391916\n",
      " 0.00903684 0.00875077 0.01044985 0.00965379 0.01355475 0.01794703\n",
      " 0.0133371  0.0112286  0.0100837  0.01152583 0.01383729 0.01687005\n",
      " 0.02131242 0.02363695 0.01836138 0.01378875 0.01187608 0.01729717\n",
      " 0.01780376 0.01473701 0.01749089 0.01135306 0.0112178  0.01197665\n",
      " 0.0120342  0.01252748 0.01100027 0.01078644 0.01647544 0.01464656\n",
      " 0.01215816 0.00873167 0.00777864 0.00635686 0.00727197 0.00932978\n",
      " 0.00946143 0.00708785 0.01090916 0.00715232 0.01078461 0.00769956\n",
      " 0.00664627 0.00626213 0.00752899 0.00607035 0.00572347 0.00616483\n",
      " 0.00391655 0.00571444 0.006081   0.00505714 0.0045787  0.00613441\n",
      " 0.00411089 0.00418137 0.00509757 0.00531297 0.00472944 0.00488633\n",
      " 0.00374703 0.00210566 0.00303122 0.00226546 0.00127125 0.00120714\n",
      " 0.00113281 0.00091776 0.00063107 0.00059959 0.00034741 0.00035697\n",
      " 0.00057075 0.         0.         0.        ] [3031954.5 2065229.  2741663.  1698794.5 1853805.  2062204.   744696.\n",
      "  742990.   422921.   779475.   528207.   898093.   999716.  1721772.\n",
      " 2126572.  2106362.  2698130.  3073004.  2137586.  2337658.  2051632.\n",
      " 2167804.  2494312.  2422064.  1479076.  1473964.  1584988.  1732364.\n",
      " 1504276.  2224232.  1718396.  2177852.  1405164.  1265288.  1173544.\n",
      " 1078664.  1109168.  1060412.   815492.   616896.  1187532.  1157552.\n",
      "  861736.  1099048.  1869704.  1995592.  1337400.  2212552.  2598296.\n",
      " 2672248.  2464528.  2071040.  2006416.  1359928.  2395920.  2407208.\n",
      " 1631128.  1039408.  1054912.   770864.   740352.   769576.   600440.\n",
      "  477040.   743008.  1081536.   808496.   523520.   465056.   468192.\n",
      "  285024.   324256.   164256.   345384.   382552.   287656.   369208.\n",
      "  293120.   167696.   228216.   230480.   331320.   344968.   200184.\n",
      "  211712.   121176.   146560.   132400.    46840.    33904.    50048.\n",
      "   35568.     9648.    19896.     3328.     7424.     5440.        0.\n",
      "       0.        0. ]\n"
     ]
    },
    {
     "name": "stderr",
     "output_type": "stream",
     "text": [
      " 75%|███████▍  | 9400/12535 [4:52:07<1:10:26,  1.35s/it]"
     ]
    },
    {
     "name": "stdout",
     "output_type": "stream",
     "text": [
      "[0.01578703 0.01516592 0.014356   0.01492623 0.01801696 0.01705337\n",
      " 0.01521958 0.01487165 0.01495235 0.01381766 0.01351281 0.01448989\n",
      " 0.01967067 0.01632352 0.0125075  0.01482584 0.01934428 0.02215555\n",
      " 0.02687105 0.02432612 0.02044934 0.02329177 0.02389378 0.02352482\n",
      " 0.02795753 0.02671619 0.02117965 0.01713581 0.01405572 0.01531614\n",
      " 0.01717138 0.02054247 0.01741765 0.01683641 0.01896235 0.01788914\n",
      " 0.01845199 0.0178752  0.01769493 0.0154392  0.01616489 0.01695382\n",
      " 0.01895681 0.01502526 0.01406547 0.01300016 0.0106323  0.00913254\n",
      " 0.00917273 0.01162591 0.01290769 0.01135819 0.0105876  0.01460131\n",
      " 0.01607517 0.01324429 0.00983825 0.00752121 0.00630244 0.00836555\n",
      " 0.00651119 0.00818291 0.00819477 0.0071828  0.00603901 0.00593009\n",
      " 0.00591578 0.01024561 0.00872961 0.00795581 0.00735483 0.00667942\n",
      " 0.00540074 0.00545937 0.00432525 0.00414494 0.00377397 0.00443241\n",
      " 0.00465482 0.00303307 0.0026167  0.00376497 0.00292523 0.00361647\n",
      " 0.00312203 0.00226808 0.00192192 0.00185956 0.0010565  0.00178953\n",
      " 0.00113659 0.0011781  0.00103681 0.001089   0.00049783 0.00068641\n",
      " 0.00097506 0.00019711 0.00035873 0.00022115] [3.4321008e+06 3.2095362e+06 2.4677570e+06 3.6638570e+06 3.7008610e+06\n",
      " 4.2277400e+06 3.8512400e+06 4.0253820e+06 4.5844440e+06 4.3523980e+06\n",
      " 3.4608600e+06 2.7813240e+06 2.5513680e+06 2.1388840e+06 2.3211840e+06\n",
      " 2.8834080e+06 2.4900920e+06 2.6847960e+06 2.9474200e+06 4.5494600e+06\n",
      " 4.0046000e+06 3.7380960e+06 4.0378640e+06 5.0594400e+06 3.5247280e+06\n",
      " 4.9656240e+06 5.2774720e+06 6.2655920e+06 5.9408480e+06 2.9538960e+06\n",
      " 2.4195760e+06 2.9282240e+06 2.3749360e+06 2.9399760e+06 2.0028800e+06\n",
      " 2.5773920e+06 2.5319840e+06 2.9110640e+06 3.0566240e+06 2.7926880e+06\n",
      " 2.6901600e+06 2.4554560e+06 1.8408480e+06 1.9409120e+06 1.5626080e+06\n",
      " 2.6824800e+06 3.2910880e+06 3.5009120e+06 2.3868320e+06 2.3176160e+06\n",
      " 2.9010240e+06 2.9905440e+06 2.6843520e+06 2.3506080e+06 2.8138560e+06\n",
      " 4.2735840e+06 4.0696000e+06 2.9191520e+06 2.0608800e+06 1.7168800e+06\n",
      " 1.3467200e+06 1.3245920e+06 1.5971520e+06 1.0896640e+06 1.1620320e+06\n",
      " 7.0772800e+05 5.6532800e+05 9.5995200e+05 1.0051680e+06 8.4337600e+05\n",
      " 1.1028000e+06 1.1952960e+06 1.1022720e+06 6.7203200e+05 6.4819200e+05\n",
      " 5.8195200e+05 4.4337600e+05 3.8963200e+05 2.6188800e+05 2.1379200e+05\n",
      " 2.0380800e+05 2.3908800e+05 1.7974400e+05 1.7561600e+05 1.4801600e+05\n",
      " 1.2390400e+05 1.1971200e+05 1.1745600e+05 3.2736000e+04 7.5936000e+04\n",
      " 4.2864000e+04 4.3152000e+04 6.4864000e+04 2.4592000e+04 1.1184000e+04\n",
      " 1.2240000e+04 1.8112000e+04 2.1280000e+03 9.1680000e+03 1.8880000e+03]\n"
     ]
    },
    {
     "name": "stderr",
     "output_type": "stream",
     "text": [
      " 76%|███████▌  | 9500/12535 [4:54:32<1:13:58,  1.46s/it]"
     ]
    },
    {
     "name": "stdout",
     "output_type": "stream",
     "text": [
      "[0.02551559 0.02553359 0.02480596 0.02052385 0.02405704 0.02251414\n",
      " 0.0210578  0.02029799 0.0193529  0.02004061 0.02233    0.02301016\n",
      " 0.02098029 0.02383973 0.02489344 0.02277454 0.01877505 0.01639878\n",
      " 0.01595109 0.01453786 0.02194041 0.02080448 0.01891399 0.0167399\n",
      " 0.0158084  0.0168001  0.0157019  0.01469253 0.01441281 0.01786163\n",
      " 0.01609559 0.01746139 0.01926826 0.02161038 0.02045099 0.02190113\n",
      " 0.01780753 0.02117604 0.01874094 0.01735871 0.01533062 0.0148722\n",
      " 0.01798817 0.015853   0.01305635 0.01049405 0.00981845 0.01024331\n",
      " 0.01228285 0.01153451 0.01230125 0.00934973 0.01165195 0.01459432\n",
      " 0.0133989  0.0134742  0.01380643 0.01440912 0.01194131 0.0111513\n",
      " 0.01191405 0.01002831 0.01100521 0.00984528 0.00713969 0.00593925\n",
      " 0.00546997 0.00713567 0.00642766 0.00666593 0.00440736 0.00461255\n",
      " 0.00397332 0.00362538 0.00531393 0.00487064 0.00584093 0.00518276\n",
      " 0.00511504 0.00445251 0.00399932 0.00466564 0.00388719 0.00254556\n",
      " 0.00267027 0.00204841 0.0023291  0.00213094 0.00132171 0.00044931\n",
      " 0.0016345  0.00142545 0.00100129 0.00193836 0.00118133 0.00041049\n",
      " 0.00054616 0.00035468 0.00012978 0.00023607] [6.2184255e+06 5.9805260e+06 6.3103010e+06 4.0947380e+06 5.0324380e+06\n",
      " 4.0614320e+06 6.2012800e+06 7.1825960e+06 7.3235680e+06 7.9798880e+06\n",
      " 9.5105760e+06 9.2702400e+06 5.9232240e+06 6.5149200e+06 7.1829920e+06\n",
      " 8.9214400e+06 6.6580240e+06 8.0092640e+06 5.0833840e+06 3.5837520e+06\n",
      " 5.1020480e+06 4.1641760e+06 4.4709600e+06 4.0804000e+06 3.8670400e+06\n",
      " 3.4457440e+06 3.8369440e+06 3.1065600e+06 3.5103840e+06 4.5298880e+06\n",
      " 3.9186080e+06 4.4046720e+06 3.7002560e+06 3.0633440e+06 2.8917920e+06\n",
      " 3.3746880e+06 2.9476000e+06 2.8720160e+06 3.0589440e+06 2.9640160e+06\n",
      " 2.3939040e+06 1.6357920e+06 2.5505280e+06 3.6577920e+06 2.6641280e+06\n",
      " 3.3492320e+06 4.0242400e+06 2.9828320e+06 3.6412640e+06 2.7130400e+06\n",
      " 2.3798400e+06 1.8185760e+06 2.0135040e+06 1.7392800e+06 1.3524000e+06\n",
      " 1.5148640e+06 1.2445920e+06 1.1408960e+06 1.4252480e+06 1.2998400e+06\n",
      " 1.4340960e+06 1.2276160e+06 2.0611840e+06 2.4208160e+06 1.8947360e+06\n",
      " 1.5586720e+06 8.5622400e+05 1.1888000e+06 7.9643200e+05 7.5481600e+05\n",
      " 5.5198400e+05 5.5003200e+05 3.6185600e+05 2.8489600e+05 3.2448000e+05\n",
      " 3.8200000e+05 3.2496000e+05 3.6000000e+05 2.4329600e+05 4.2625600e+05\n",
      " 3.5168000e+05 2.4315200e+05 2.4393600e+05 1.3737600e+05 1.7139200e+05\n",
      " 1.4252800e+05 1.0608000e+05 9.6160000e+04 5.1904000e+04 8.3520000e+03\n",
      " 5.4880000e+04 5.7280000e+04 1.8304000e+04 3.0976000e+04 2.5984000e+04\n",
      " 3.9680000e+03 5.8880000e+03 6.5280000e+03 1.2800000e+03 1.1840000e+03]\n"
     ]
    },
    {
     "name": "stderr",
     "output_type": "stream",
     "text": [
      " 77%|███████▋  | 9600/12535 [4:56:59<1:10:22,  1.44s/it]"
     ]
    },
    {
     "name": "stdout",
     "output_type": "stream",
     "text": [
      "[2.18765736e-02 2.28794180e-02 1.95902120e-02 2.30410621e-02\n",
      " 2.32188720e-02 2.46856026e-02 1.89348850e-02 2.15206258e-02\n",
      " 1.87829006e-02 2.46068966e-02 1.96850616e-02 2.05707494e-02\n",
      " 2.40421686e-02 3.11189834e-02 3.88337485e-02 3.51160020e-02\n",
      " 3.15700434e-02 2.19159257e-02 2.30961926e-02 2.64692772e-02\n",
      " 3.15717123e-02 1.89409573e-02 2.31221598e-02 3.29567306e-02\n",
      " 3.07205617e-02 2.53914185e-02 1.64529495e-02 1.29924146e-02\n",
      " 1.11570247e-02 1.34634953e-02 1.16181141e-02 1.31743206e-02\n",
      " 1.23861320e-02 1.39105972e-02 1.14289485e-02 9.34471283e-03\n",
      " 7.50617357e-03 1.02777062e-02 1.16266776e-02 1.10411495e-02\n",
      " 1.18010202e-02 1.39076971e-02 1.05673000e-02 1.85028296e-02\n",
      " 1.09147597e-02 1.40941646e-02 1.45395854e-02 1.39901275e-02\n",
      " 1.14489794e-02 1.12550845e-02 1.05234915e-02 9.11401864e-03\n",
      " 9.23535787e-03 7.65724620e-03 7.13934423e-03 6.40444364e-03\n",
      " 9.08154901e-03 7.94921909e-03 8.59787501e-03 7.82479439e-03\n",
      " 9.31271352e-03 1.21985618e-02 8.65581073e-03 8.40025395e-03\n",
      " 9.08344053e-03 8.56705382e-03 9.99527145e-03 8.14625807e-03\n",
      " 6.30383147e-03 6.86742738e-03 6.44927658e-03 6.65167486e-03\n",
      " 5.41917281e-03 5.70896501e-03 6.02592435e-03 7.85337295e-03\n",
      " 4.75869002e-03 5.39773237e-03 4.71876422e-03 6.59226160e-03\n",
      " 6.03055255e-03 6.02581073e-03 4.44297679e-03 4.02843626e-03\n",
      " 4.00843006e-03 3.56461899e-03 4.01456049e-03 2.93799234e-03\n",
      " 2.97439587e-03 2.96561210e-03 2.14018859e-03 1.97897526e-03\n",
      " 1.43347832e-03 1.27689890e-03 9.63590166e-04 1.44497200e-03\n",
      " 1.05579512e-03 9.48816130e-04 8.17716864e-05 4.71437197e-05] [3.2990118e+06 4.4027960e+06 2.2034350e+06 3.4082810e+06 2.9450950e+06\n",
      " 3.2433580e+06 2.3428820e+06 2.8189100e+06 1.8547000e+06 1.9293760e+06\n",
      " 1.4425440e+06 1.6904720e+06 1.7770340e+06 1.1752440e+06 2.0223920e+06\n",
      " 1.5587640e+06 1.4409760e+06 1.9779400e+06 1.9637720e+06 2.0365200e+06\n",
      " 1.9902120e+06 2.3200000e+06 2.0010960e+06 4.3960080e+06 5.0358520e+06\n",
      " 8.5005040e+06 1.1500048e+07 6.6446160e+06 4.1709120e+06 2.6357120e+06\n",
      " 2.7566480e+06 3.2537680e+06 2.2126000e+06 2.0955440e+06 2.6530960e+06\n",
      " 2.4475360e+06 2.5426160e+06 1.7770400e+06 2.0249840e+06 1.6975600e+06\n",
      " 1.5566320e+06 1.6300800e+06 9.5744000e+05 1.3988400e+06 1.1765280e+06\n",
      " 1.6910400e+06 1.2859600e+06 1.9497680e+06 1.7703280e+06 2.0130560e+06\n",
      " 2.1128720e+06 1.4624800e+06 1.5847200e+06 9.8819200e+05 9.7089600e+05\n",
      " 1.3900000e+06 1.5662880e+06 6.5771200e+05 9.7888000e+05 1.0183520e+06\n",
      " 1.0152640e+06 1.2495200e+06 9.6203200e+05 1.0700800e+06 1.1491840e+06\n",
      " 6.7160000e+05 6.2632000e+05 9.9524800e+05 9.0347200e+05 1.1584640e+06\n",
      " 7.4907200e+05 9.6990400e+05 7.0350400e+05 8.6046400e+05 7.8172800e+05\n",
      " 6.7326400e+05 3.9561600e+05 6.1041600e+05 5.2814400e+05 5.7788800e+05\n",
      " 5.5585600e+05 6.9513600e+05 4.9945600e+05 5.0324800e+05 5.4057600e+05\n",
      " 3.5225600e+05 3.7465600e+05 2.4976000e+05 2.6518400e+05 2.2107200e+05\n",
      " 1.5193600e+05 1.5112000e+05 7.9888000e+04 7.4160000e+04 3.2832000e+04\n",
      " 5.1264000e+04 2.6384000e+04 1.7440000e+04 1.5840000e+03 4.8000000e+02]\n"
     ]
    },
    {
     "name": "stderr",
     "output_type": "stream",
     "text": [
      " 77%|███████▋  | 9700/12535 [4:59:17<1:02:52,  1.33s/it]"
     ]
    },
    {
     "name": "stdout",
     "output_type": "stream",
     "text": [
      "[0.         0.         0.         0.         0.         0.\n",
      " 0.         0.008512   0.03493689 0.03717581 0.03666562 0.03862198\n",
      " 0.03423005 0.03420536 0.0317267  0.0311935  0.02887378 0.02952532\n",
      " 0.02668566 0.03426853 0.03706682 0.04257245 0.05063487 0.05264744\n",
      " 0.05394389 0.04922425 0.04220454 0.03626996 0.03177981 0.02580862\n",
      " 0.02443446 0.02616931 0.02722374 0.02618319 0.0244424  0.02274715\n",
      " 0.02485629 0.02622063 0.0212258  0.01977328 0.01728491 0.02711768\n",
      " 0.03438258 0.03104033 0.02594133 0.02421074 0.02132972 0.02206252\n",
      " 0.02214117 0.02340106 0.02584813 0.02677696 0.02440363 0.02326212\n",
      " 0.026032   0.02474118 0.0229977  0.02216823 0.02219957 0.02774538\n",
      " 0.0339773  0.03247238 0.03082241 0.02737606 0.02980236 0.02419432\n",
      " 0.02064123 0.02151304 0.02389037 0.02629614 0.02926179 0.02587336\n",
      " 0.03047976 0.02524441 0.02330924 0.01915456 0.02313849 0.02505527\n",
      " 0.02605285 0.0240223  0.01636931 0.01660998 0.01745133 0.01564101\n",
      " 0.0150012  0.01246223 0.00977494 0.00933903 0.00967992 0.00920363\n",
      " 0.00758684 0.00685115 0.00760011 0.00757524 0.00570634 0.00579047\n",
      " 0.00376406 0.00205085 0.00073962 0.00037823] [0.0000000e+00 0.0000000e+00 0.0000000e+00 0.0000000e+00 0.0000000e+00\n",
      " 0.0000000e+00 0.0000000e+00 2.7133791e+04 5.2041125e+06 4.4651185e+06\n",
      " 7.3168970e+06 7.0887820e+06 3.7963900e+06 3.6573600e+06 1.8475840e+06\n",
      " 2.3132180e+06 2.0119080e+06 3.1682440e+06 2.2750840e+06 3.4817920e+06\n",
      " 3.8869040e+06 3.5782000e+06 3.4729720e+06 3.1079880e+06 5.6542520e+06\n",
      " 7.2952760e+06 9.0075600e+06 9.0889520e+06 1.1533640e+07 1.2284360e+07\n",
      " 1.0283528e+07 1.0121032e+07 9.4766560e+06 7.1124960e+06 1.0574208e+07\n",
      " 8.9944480e+06 8.3843680e+06 1.0154656e+07 1.1351840e+07 9.7281760e+06\n",
      " 6.6480960e+06 5.9238400e+06 6.1324000e+06 9.6664320e+06 9.1345760e+06\n",
      " 7.6641600e+06 7.8429600e+06 7.1119680e+06 7.4024320e+06 6.4015360e+06\n",
      " 7.9656640e+06 7.0065600e+06 9.9421760e+06 1.0024128e+07 7.7884160e+06\n",
      " 8.7615680e+06 1.0157504e+07 9.7913280e+06 9.1998080e+06 8.1774720e+06\n",
      " 9.5519680e+06 7.9260800e+06 1.1874784e+07 1.1837280e+07 1.2459520e+07\n",
      " 1.2057760e+07 1.0809056e+07 9.0237760e+06 9.6943680e+06 9.6546560e+06\n",
      " 1.1186368e+07 1.1112512e+07 1.0912896e+07 1.1132320e+07 1.2191968e+07\n",
      " 1.2212864e+07 1.3567360e+07 1.2418560e+07 1.4185984e+07 1.6691392e+07\n",
      " 1.6272384e+07 1.2012544e+07 1.2664512e+07 1.1755200e+07 1.1810048e+07\n",
      " 1.1030272e+07 8.7256320e+06 6.3824000e+06 5.6187520e+06 5.3102080e+06\n",
      " 3.4853120e+06 1.8491520e+06 1.6432000e+06 2.3784960e+06 1.4160640e+06\n",
      " 1.0951680e+06 8.4710400e+05 3.1136000e+05 3.8656000e+04 1.5424000e+04]\n"
     ]
    },
    {
     "name": "stderr",
     "output_type": "stream",
     "text": [
      " 78%|███████▊  | 9800/12535 [5:01:44<1:33:35,  2.05s/it]"
     ]
    },
    {
     "name": "stdout",
     "output_type": "stream",
     "text": [
      "[0.01336056 0.01233075 0.01557907 0.01467023 0.0156956  0.02035249\n",
      " 0.02217656 0.01666853 0.01709969 0.01839098 0.01722911 0.014876\n",
      " 0.01416419 0.01480544 0.01592979 0.01573433 0.01519164 0.01425704\n",
      " 0.01250547 0.01218146 0.01125986 0.00980164 0.01252953 0.01079869\n",
      " 0.01507964 0.016237   0.01541757 0.01748828 0.01329382 0.01366075\n",
      " 0.01301452 0.01286426 0.01412553 0.01292809 0.01272826 0.01641963\n",
      " 0.01441956 0.01883358 0.01611585 0.01332431 0.02010812 0.02587931\n",
      " 0.02548875 0.029332   0.02486732 0.02761536 0.02834069 0.02241705\n",
      " 0.01988517 0.01453253 0.01219017 0.01188083 0.01260599 0.01250673\n",
      " 0.0118425  0.01752448 0.02431882 0.02565355 0.03035688 0.0285378\n",
      " 0.0202494  0.01673587 0.01628922 0.01706548 0.01476897 0.01302367\n",
      " 0.01189809 0.01183075 0.01293788 0.01257605 0.01289477 0.0132372\n",
      " 0.01301826 0.01021026 0.00609124 0.00465418 0.00394513 0.00510589\n",
      " 0.00631614 0.00717545 0.00757198 0.00478415 0.00610262 0.00543076\n",
      " 0.00553058 0.00434999 0.00394355 0.00415012 0.00336918 0.00330208\n",
      " 0.00248323 0.00230245 0.00132257 0.0018024  0.00166456 0.00110526\n",
      " 0.00055448 0.0002282  0.00015424 0.00030126] [2.8928355e+06 2.7257592e+06 2.4235010e+06 2.2087220e+06 1.9831520e+06\n",
      " 2.4173830e+06 2.5180850e+06 2.9382940e+06 3.3482100e+06 2.7600360e+06\n",
      " 3.2229140e+06 3.3570560e+06 3.4490200e+06 3.0269960e+06 3.4898120e+06\n",
      " 3.3174760e+06 3.6158680e+06 3.8271240e+06 3.5074560e+06 3.2584280e+06\n",
      " 2.3223640e+06 1.4390200e+06 1.5912640e+06 1.1466280e+06 2.0043600e+06\n",
      " 1.6111760e+06 1.9836160e+06 1.9822720e+06 1.5156160e+06 1.7332240e+06\n",
      " 1.9453360e+06 1.5580960e+06 1.4425920e+06 1.2453200e+06 1.4589120e+06\n",
      " 1.5971760e+06 1.5023360e+06 1.5920640e+06 1.9802080e+06 1.1000480e+06\n",
      " 2.3783200e+06 1.7172400e+06 1.9081280e+06 1.6616800e+06 1.6250960e+06\n",
      " 2.0702560e+06 1.9265360e+06 2.1740160e+06 1.9096080e+06 1.8793680e+06\n",
      " 2.1618160e+06 1.6550160e+06 2.2066240e+06 1.8278960e+06 1.3914320e+06\n",
      " 9.0554400e+05 1.3933680e+06 1.0276000e+06 1.2116640e+06 1.3278800e+06\n",
      " 2.2500800e+06 2.6692480e+06 2.4129520e+06 3.7417760e+06 3.3961760e+06\n",
      " 2.4101120e+06 1.9791360e+06 2.2153760e+06 3.5061600e+06 2.6798080e+06\n",
      " 2.2134400e+06 2.9575680e+06 3.9675360e+06 3.2703040e+06 1.8675040e+06\n",
      " 1.4007840e+06 8.9140800e+05 4.6676800e+05 3.1566400e+05 3.8296000e+05\n",
      " 5.0118400e+05 4.6828800e+05 4.5792000e+05 3.5705600e+05 4.4248000e+05\n",
      " 3.7796800e+05 2.5203200e+05 4.5539200e+05 2.3560000e+05 2.3099200e+05\n",
      " 2.0440000e+05 1.8121600e+05 1.1076800e+05 6.1728000e+04 4.5328000e+04\n",
      " 3.1440000e+04 1.3024000e+04 4.4160000e+03 4.8000000e+02 4.1440000e+03]\n"
     ]
    },
    {
     "name": "stderr",
     "output_type": "stream",
     "text": [
      " 79%|███████▉  | 9900/12535 [5:04:01<1:00:55,  1.39s/it]"
     ]
    },
    {
     "name": "stdout",
     "output_type": "stream",
     "text": [
      "[0.02374328 0.03025994 0.03210264 0.03133292 0.02749552 0.03029929\n",
      " 0.02869053 0.02990555 0.02973025 0.02751331 0.0222041  0.02538827\n",
      " 0.02409374 0.02206356 0.02657922 0.0277388  0.02851228 0.02790433\n",
      " 0.02715513 0.02514066 0.02412197 0.02534634 0.03274592 0.0388552\n",
      " 0.04346349 0.03821781 0.04308066 0.03894334 0.03456441 0.03022761\n",
      " 0.02619724 0.02328145 0.0214446  0.02105818 0.02039454 0.01961956\n",
      " 0.0203212  0.01960098 0.01799794 0.01896328 0.01884554 0.01882432\n",
      " 0.01753823 0.01617931 0.01680009 0.01875943 0.01805101 0.01535405\n",
      " 0.01821095 0.01977453 0.02026431 0.02124784 0.02351338 0.02287232\n",
      " 0.02150813 0.01791253 0.01995032 0.02090554 0.0215366  0.02183263\n",
      " 0.02182931 0.02189824 0.02122615 0.02236698 0.01916824 0.01553857\n",
      " 0.0165714  0.01420298 0.01064194 0.01309005 0.01182474 0.01363729\n",
      " 0.01198182 0.01116089 0.01039057 0.00806361 0.00797438 0.00835693\n",
      " 0.00958884 0.00844103 0.01319991 0.00861469 0.00670716 0.00602208\n",
      " 0.00426403 0.0039223  0.00310235 0.00484487 0.00535841 0.00569366\n",
      " 0.00464986 0.00386671 0.00473202 0.00308228 0.00241651 0.00142938\n",
      " 0.00169641 0.00121655 0.00048048 0.00118734] [2717553.5 2388504.8 1748255.  2111961.5 1506048.  1906952.  1624131.\n",
      " 2090599.  2448344.  2540050.  2363238.  2666218.  2623502.  2638614.\n",
      " 2545696.  2574512.  2039888.  2524816.  3048292.  2801804.  3325352.\n",
      " 3866212.  2404240.  2189588.  3173388.  2212480.  3709376.  3446624.\n",
      " 3543112.  4852072.  5440320.  5822200.  5149576.  6238008.  5322400.\n",
      " 5530464.  4929016.  5132208.  4183816.  5046288.  4921768.  4245552.\n",
      " 5017488.  6414592.  4210464.  5929808.  4163472.  3334368.  3739616.\n",
      " 3969648.  4155744.  3139856.  2994736.  4167472.  3721968.  4718352.\n",
      " 6171968.  4048480.  5305824.  5240480.  5519568.  4900160.  4879136.\n",
      " 7820704.  7586112.  6866080.  5024112.  5819488.  4746144.  3280640.\n",
      " 3276544.  2431904.  2309760.  1896704.  2837472.  2439232.  1964480.\n",
      " 1497408.  1434208.  1600192.  2196736.  2277856.   873248.  1006304.\n",
      "  969376.   517184.   331808.   357376.   373792.   517632.   321984.\n",
      "  201472.   248608.   209184.   108544.    50528.    38592.    26624.\n",
      "    8320.    23456. ]\n"
     ]
    },
    {
     "name": "stderr",
     "output_type": "stream",
     "text": [
      " 80%|███████▉  | 10000/12535 [5:06:35<1:19:21,  1.88s/it]"
     ]
    },
    {
     "name": "stdout",
     "output_type": "stream",
     "text": [
      "[0.01192408 0.011077   0.01046508 0.01324988 0.0111256  0.01601186\n",
      " 0.01930108 0.01832671 0.01771526 0.01969132 0.0202553  0.02885231\n",
      " 0.02784146 0.02214019 0.02534865 0.02127183 0.01877142 0.01882295\n",
      " 0.01195152 0.01171583 0.01367725 0.01173152 0.01295331 0.01586851\n",
      " 0.01505925 0.01435288 0.01545062 0.01767857 0.01581875 0.01747231\n",
      " 0.01020204 0.01230939 0.01666934 0.01469709 0.0129743  0.01248031\n",
      " 0.01194386 0.00886346 0.0121675  0.01467322 0.0137156  0.01415337\n",
      " 0.0122146  0.00963832 0.01542862 0.01524777 0.01593443 0.01487432\n",
      " 0.01262876 0.00958203 0.01274553 0.01475178 0.01440467 0.01435537\n",
      " 0.01364199 0.01284164 0.0094584  0.00885251 0.0098333  0.00986859\n",
      " 0.01948592 0.02927664 0.01738603 0.01681171 0.01017853 0.00815083\n",
      " 0.00822839 0.00773833 0.01004489 0.01195518 0.00824144 0.01083292\n",
      " 0.01125453 0.00925693 0.00690334 0.00640744 0.0066821  0.00664733\n",
      " 0.00747789 0.00616655 0.00591183 0.00658762 0.00529614 0.0070695\n",
      " 0.00551286 0.00413575 0.00543073 0.00405693 0.00440423 0.00426539\n",
      " 0.0035644  0.0021739  0.00216919 0.00169084 0.00144777 0.00144952\n",
      " 0.00142403 0.00041333 0.00013151 0.00035672] [2.1421392e+06 2.0729035e+06 1.4408200e+06 1.0746575e+06 9.0288100e+05\n",
      " 8.5745400e+05 9.0880000e+05 1.3923770e+06 9.0825500e+05 9.1412100e+05\n",
      " 6.6830700e+05 9.2174500e+05 7.8638900e+05 3.1245800e+05 4.6249400e+05\n",
      " 7.3134800e+05 1.2115250e+06 1.7277840e+06 1.1230240e+06 9.9661000e+05\n",
      " 1.5229060e+06 1.3941520e+06 1.4357080e+06 1.4827820e+06 1.3278220e+06\n",
      " 1.6823540e+06 1.4699040e+06 1.3886520e+06 1.1554440e+06 1.2035440e+06\n",
      " 8.5150000e+05 1.0997920e+06 1.1605360e+06 6.9874800e+05 1.0627320e+06\n",
      " 8.2991600e+05 8.4105600e+05 7.2069200e+05 5.7113200e+05 7.5486000e+05\n",
      " 8.6215600e+05 1.4974400e+06 1.3279640e+06 9.6183600e+05 1.1847360e+06\n",
      " 1.1325800e+06 1.3380920e+06 1.2253200e+06 2.1089680e+06 1.6225440e+06\n",
      " 1.5208560e+06 1.4385800e+06 1.8774800e+06 2.0041840e+06 2.2846600e+06\n",
      " 1.9083240e+06 1.7379200e+06 9.9467200e+05 8.6146400e+05 5.6768800e+05\n",
      " 1.2388080e+06 1.0634400e+06 1.7406640e+06 3.0189600e+06 3.3617680e+06\n",
      " 1.5230400e+06 1.4236640e+06 8.2800000e+05 7.3001600e+05 9.8622400e+05\n",
      " 6.3259200e+05 7.4840000e+05 8.8650400e+05 1.1055040e+06 1.1007520e+06\n",
      " 9.5442400e+05 9.8316000e+05 4.4271200e+05 7.1344000e+05 4.6311200e+05\n",
      " 5.1828000e+05 5.4420800e+05 4.6868000e+05 6.2812800e+05 5.9571200e+05\n",
      " 4.6972000e+05 5.9204000e+05 5.1489600e+05 4.1847200e+05 4.1654400e+05\n",
      " 3.2419200e+05 8.0744000e+04 7.9632000e+04 5.0128000e+04 4.9040000e+04\n",
      " 2.8144000e+04 1.9400000e+04 7.3120000e+03 1.0640000e+03 3.6320000e+03]\n"
     ]
    },
    {
     "name": "stderr",
     "output_type": "stream",
     "text": [
      " 81%|████████  | 10100/12535 [5:08:59<55:02,  1.36s/it]  "
     ]
    },
    {
     "name": "stdout",
     "output_type": "stream",
     "text": [
      "[0.02240442 0.02767554 0.02294162 0.01998403 0.01727074 0.01437063\n",
      " 0.01247697 0.01196496 0.01115698 0.01173087 0.01161293 0.01093513\n",
      " 0.01087892 0.0092517  0.00892634 0.01035599 0.0108923  0.01169902\n",
      " 0.01167999 0.01026231 0.00981233 0.01116266 0.01447551 0.01315465\n",
      " 0.01332119 0.01601635 0.01961469 0.02111503 0.02014445 0.02109549\n",
      " 0.02356435 0.02141432 0.02325833 0.02309455 0.02762593 0.02338907\n",
      " 0.02264785 0.02108792 0.02420581 0.02264506 0.02566772 0.02353009\n",
      " 0.02733302 0.02547047 0.02193115 0.01745503 0.01603829 0.01576947\n",
      " 0.01521972 0.0130678  0.01032934 0.00898103 0.00999065 0.01126848\n",
      " 0.00905327 0.00956564 0.01199642 0.0115918  0.01260031 0.01051073\n",
      " 0.01060541 0.01001668 0.01293121 0.01125614 0.01184736 0.01227579\n",
      " 0.01026659 0.01379925 0.01669409 0.01388528 0.00975241 0.00877932\n",
      " 0.01008161 0.00911633 0.00845553 0.00813002 0.00734224 0.00738412\n",
      " 0.00830271 0.0080699  0.00925856 0.00865689 0.0072874  0.00728161\n",
      " 0.00681651 0.00549017 0.00505031 0.00590488 0.00431325 0.00340023\n",
      " 0.00395372 0.00360839 0.00234802 0.0012579  0.00082223 0.00033827\n",
      " 0.00180619 0.0008293  0.00026901 0.00051862] [1.2412689e+06 2.4533295e+06 3.5240122e+06 5.5945895e+06 5.1337180e+06\n",
      " 3.7310460e+06 4.0200940e+06 4.0649520e+06 3.2370200e+06 2.8957340e+06\n",
      " 2.6682040e+06 3.3881000e+06 2.9929000e+06 2.3724160e+06 2.5390320e+06\n",
      " 1.9528840e+06 1.3014400e+06 1.0116880e+06 1.3594480e+06 1.7600280e+06\n",
      " 1.4606680e+06 1.6422240e+06 2.1229320e+06 2.2083440e+06 1.2912880e+06\n",
      " 1.9173040e+06 1.7226880e+06 1.5005520e+06 1.8270560e+06 1.1304320e+06\n",
      " 1.3784080e+06 1.1609920e+06 1.7815600e+06 1.5114080e+06 1.3663280e+06\n",
      " 1.1204000e+06 1.5849120e+06 2.1693040e+06 2.8978560e+06 2.9696640e+06\n",
      " 3.9948400e+06 6.3075280e+06 4.0859760e+06 2.5461280e+06 5.6036720e+06\n",
      " 5.0621520e+06 4.7822240e+06 4.4474000e+06 4.0804240e+06 3.3459600e+06\n",
      " 1.9688480e+06 1.7173600e+06 1.4012000e+06 1.0511840e+06 1.5501280e+06\n",
      " 1.5210400e+06 1.8980160e+06 1.3692640e+06 1.8462880e+06 1.6167520e+06\n",
      " 1.2487520e+06 1.1328640e+06 1.2697600e+06 1.1809600e+06 1.4768640e+06\n",
      " 1.6045120e+06 1.5637120e+06 1.2441280e+06 1.9427840e+06 1.9155200e+06\n",
      " 1.5450560e+06 1.3441440e+06 1.3911520e+06 1.5832640e+06 1.9231840e+06\n",
      " 1.4572320e+06 1.3201120e+06 1.3199520e+06 1.0533440e+06 9.1646400e+05\n",
      " 1.2132160e+06 1.0994560e+06 9.0064000e+05 9.2302400e+05 7.1856000e+05\n",
      " 6.8756800e+05 4.4878400e+05 4.1681600e+05 3.6854400e+05 2.5080000e+05\n",
      " 2.5785600e+05 2.5294400e+05 1.5955200e+05 6.8896000e+04 1.9840000e+04\n",
      " 3.9520000e+03 3.1984000e+04 1.5808000e+04 1.9360000e+03 2.8800000e+03]\n"
     ]
    },
    {
     "name": "stderr",
     "output_type": "stream",
     "text": [
      " 81%|████████▏ | 10200/12535 [5:11:21<53:15,  1.37s/it]  "
     ]
    },
    {
     "name": "stdout",
     "output_type": "stream",
     "text": [
      "[0.02002068 0.01950688 0.01764373 0.01663288 0.0180891  0.01679012\n",
      " 0.01810304 0.01746802 0.01580562 0.0144521  0.01374063 0.01592631\n",
      " 0.01636127 0.01591019 0.01369053 0.01236917 0.01407531 0.0183386\n",
      " 0.01886149 0.01995162 0.02161152 0.02231237 0.02101345 0.01838422\n",
      " 0.02272221 0.020034   0.02320324 0.02165354 0.02255533 0.01808844\n",
      " 0.02030055 0.01954472 0.01976298 0.02289064 0.02229142 0.02379858\n",
      " 0.0248801  0.02509926 0.02536765 0.02219767 0.02087655 0.02532909\n",
      " 0.01900093 0.01908977 0.01795149 0.01907001 0.02300951 0.02031424\n",
      " 0.02568689 0.02038233 0.01929335 0.01749874 0.01833197 0.01724478\n",
      " 0.01389194 0.01605963 0.01372013 0.01627034 0.01746556 0.01702899\n",
      " 0.01516854 0.01502446 0.01366636 0.01572245 0.01485271 0.01977919\n",
      " 0.02184013 0.01916518 0.0203684  0.02163181 0.01934268 0.01669102\n",
      " 0.01350956 0.01172268 0.01057285 0.00798412 0.00597639 0.0061281\n",
      " 0.00672441 0.00647338 0.00778738 0.00669332 0.00782844 0.00636275\n",
      " 0.00595957 0.00781681 0.00584682 0.00430274 0.00441085 0.00372432\n",
      " 0.0029525  0.00301122 0.00191587 0.00104896 0.00094064 0.00052734\n",
      " 0.00053486 0.00037139 0.00024043 0.00031658] [2.0687442e+06 2.7628498e+06 2.4111985e+06 2.7054870e+06 3.2052470e+06\n",
      " 2.4591120e+06 3.3409070e+06 3.7315720e+06 3.3414960e+06 2.8313120e+06\n",
      " 3.2932440e+06 3.6699940e+06 3.0224240e+06 3.8275320e+06 3.9697520e+06\n",
      " 3.2006040e+06 2.9059720e+06 3.4452960e+06 2.7881840e+06 2.7515280e+06\n",
      " 3.0394280e+06 3.2863680e+06 3.8324880e+06 3.2356000e+06 2.6475440e+06\n",
      " 3.4430320e+06 3.4830320e+06 3.6966640e+06 3.3099360e+06 2.8199680e+06\n",
      " 3.1926880e+06 3.1724160e+06 3.6325440e+06 3.6525760e+06 2.4142240e+06\n",
      " 1.8436320e+06 1.5567600e+06 2.5370480e+06 4.2007600e+06 5.2976640e+06\n",
      " 3.9413760e+06 4.8578560e+06 4.3482400e+06 3.7590080e+06 3.2723200e+06\n",
      " 2.4107520e+06 1.9483200e+06 2.6185600e+06 2.0037120e+06 2.6636320e+06\n",
      " 2.8440800e+06 3.5908640e+06 3.9891680e+06 3.7049440e+06 3.2995840e+06\n",
      " 4.1431360e+06 3.4885120e+06 2.8951680e+06 3.1261440e+06 2.9631520e+06\n",
      " 2.8163680e+06 2.8568800e+06 2.7091520e+06 2.6975840e+06 2.8180480e+06\n",
      " 2.0980800e+06 2.8944320e+06 4.8085920e+06 4.2269280e+06 3.6964000e+06\n",
      " 4.7495360e+06 4.6601280e+06 4.3684480e+06 4.2489440e+06 3.4099680e+06\n",
      " 2.9185440e+06 1.8466880e+06 1.6010240e+06 9.8208000e+05 8.9081600e+05\n",
      " 9.2512000e+05 5.8628800e+05 6.9536000e+05 4.2905600e+05 5.5865600e+05\n",
      " 7.5523200e+05 9.6041600e+05 5.8323200e+05 3.7280000e+05 2.5187200e+05\n",
      " 2.0358400e+05 1.6438400e+05 1.1046400e+05 5.5568000e+04 3.8096000e+04\n",
      " 1.2192000e+04 6.6080000e+03 2.8960000e+03 5.8880000e+03 2.6080000e+03]\n"
     ]
    },
    {
     "name": "stderr",
     "output_type": "stream",
     "text": [
      " 82%|████████▏ | 10300/12535 [5:13:32<49:30,  1.33s/it]  "
     ]
    },
    {
     "name": "stdout",
     "output_type": "stream",
     "text": [
      "[0.03714329 0.03600769 0.0401847  0.03355533 0.02891822 0.02779707\n",
      " 0.02775848 0.02537202 0.03218202 0.02796538 0.02540336 0.02514803\n",
      " 0.02532332 0.02124156 0.02086064 0.01875372 0.01682549 0.01533062\n",
      " 0.01885996 0.01793293 0.02259324 0.02360645 0.02356461 0.02253307\n",
      " 0.02749875 0.03914448 0.03439924 0.03163442 0.03058116 0.02820289\n",
      " 0.02616454 0.02139443 0.01946892 0.0157294  0.01357795 0.01226806\n",
      " 0.01252913 0.01280545 0.01409081 0.01281225 0.01230821 0.0135979\n",
      " 0.01375082 0.0137936  0.0124271  0.01168193 0.01136482 0.01066614\n",
      " 0.00869993 0.01154506 0.01059328 0.00934359 0.00968784 0.00734107\n",
      " 0.00852051 0.00780037 0.00886827 0.00778411 0.00824642 0.0083879\n",
      " 0.00672629 0.00707257 0.00516265 0.00448008 0.00505623 0.00714743\n",
      " 0.00498933 0.00426451 0.00468414 0.00700091 0.0058077  0.00479229\n",
      " 0.00503998 0.00545714 0.00550629 0.00661427 0.00693398 0.00579822\n",
      " 0.00530652 0.00494915 0.0051904  0.0050176  0.00526115 0.00437431\n",
      " 0.00360328 0.00315641 0.00341998 0.0021823  0.00242211 0.00291193\n",
      " 0.00214684 0.00220373 0.00147549 0.00134014 0.00212311 0.00189844\n",
      " 0.00131514 0.00067666 0.00055571 0.00085759] [1307050.4 1226857.1 1185168.5 1125413.5 1980585.5 1605377.  2118721.\n",
      " 2434169.  2653814.  2977860.  1817616.  3597826.  3588372.  4406976.\n",
      " 5481790.  6142772.  3515656.  1885420.  2635800.  2273756.  2987160.\n",
      " 3141052.  3368268.  4198192.  4449888.  4752152.  4092808.  3660320.\n",
      " 4701392.  5070072.  5015888.  4421840.  4609512.  4131944.  5085024.\n",
      " 4282656.  3769712.  2811584.  2952864.  2176192.  1863216.  1624208.\n",
      " 1745440.  2089360.  2506144.  2068784.  1975024.  1996832.  1725216.\n",
      " 2302480.  2043424.  1977744.  1605584.  1360496.  1435280.  1337584.\n",
      " 1368224.  1440944.   794544.   714416.   693600.  1087136.   901040.\n",
      "  903120.   475840.   420592.   354176.   502560.   426064.   432000.\n",
      "  535856.   270672.   493824.   447440.   392176.   473312.   346464.\n",
      "  347984.   488560.   455232.   392048.   305584.   316096.   246240.\n",
      "  171264.   112864.   195184.   111792.   128640.    98400.    69664.\n",
      "  101232.    51904.    33152.    59104.    28608.    18400.    15408.\n",
      "    7776.     6192. ]\n"
     ]
    },
    {
     "name": "stderr",
     "output_type": "stream",
     "text": [
      " 83%|████████▎ | 10400/12535 [5:15:49<47:40,  1.34s/it]  "
     ]
    },
    {
     "name": "stdout",
     "output_type": "stream",
     "text": [
      "[2.10296977e-02 2.37165876e-02 2.83003878e-02 3.20316106e-02\n",
      " 3.05423979e-02 2.65156273e-02 2.83216909e-02 2.86469348e-02\n",
      " 2.29561646e-02 1.99356508e-02 2.20908616e-02 1.96301583e-02\n",
      " 2.04919390e-02 1.85278188e-02 1.83740258e-02 1.50979897e-02\n",
      " 1.55441267e-02 1.22157605e-02 1.60075035e-02 2.14743558e-02\n",
      " 1.85294263e-02 1.87414438e-02 1.96056366e-02 2.39627603e-02\n",
      " 2.23991740e-02 1.95824858e-02 1.79704763e-02 1.73116364e-02\n",
      " 1.59374177e-02 1.71314627e-02 2.01623775e-02 1.86466929e-02\n",
      " 1.83943883e-02 1.61477290e-02 1.35229463e-02 1.39883393e-02\n",
      " 1.33340117e-02 1.34154791e-02 1.02436980e-02 1.22433482e-02\n",
      " 9.90189984e-03 1.02368658e-02 1.06898975e-02 9.86244157e-03\n",
      " 1.05341505e-02 8.29896331e-03 9.89735592e-03 1.06718754e-02\n",
      " 8.19410942e-03 9.36549809e-03 8.03280994e-03 9.85929836e-03\n",
      " 1.16151972e-02 1.00719314e-02 1.21797603e-02 1.09966844e-02\n",
      " 9.37309023e-03 9.84842889e-03 7.20749144e-03 7.59686157e-03\n",
      " 7.28948181e-03 7.00166309e-03 8.53834301e-03 7.16246525e-03\n",
      " 5.88033395e-03 6.17732061e-03 4.33810428e-03 4.98321187e-03\n",
      " 3.94673226e-03 4.62926645e-03 5.00788633e-03 5.32972813e-03\n",
      " 3.15284915e-03 2.37550819e-03 3.42938746e-03 3.94553505e-03\n",
      " 3.85372597e-03 3.22218589e-03 2.90577579e-03 3.12741660e-03\n",
      " 4.06748755e-03 2.34294892e-03 1.66964787e-03 1.15322520e-03\n",
      " 5.54877101e-04 4.80134186e-04 1.35840476e-03 1.35566073e-03\n",
      " 1.26784237e-03 1.11765228e-03 1.06161297e-03 8.22662492e-04\n",
      " 5.96005179e-04 7.42563163e-04 4.37773160e-05 0.00000000e+00\n",
      " 9.50956193e-04 3.67118191e-04 0.00000000e+00 0.00000000e+00] [4.234792e+06 4.593056e+06 3.982205e+06 3.162710e+06 4.529550e+06\n",
      " 6.314178e+06 5.056184e+06 4.015312e+06 4.211364e+06 4.361548e+06\n",
      " 3.971288e+06 3.468740e+06 4.793776e+06 3.593740e+06 4.579548e+06\n",
      " 4.509828e+06 4.177720e+06 2.697440e+06 3.284328e+06 2.909776e+06\n",
      " 3.561440e+06 2.813992e+06 2.781624e+06 2.947280e+06 3.026264e+06\n",
      " 3.879320e+06 2.943280e+06 2.873344e+06 3.335856e+06 3.333808e+06\n",
      " 3.218496e+06 3.622640e+06 3.932512e+06 3.420024e+06 3.657304e+06\n",
      " 3.184840e+06 2.588592e+06 3.375120e+06 3.226464e+06 3.238688e+06\n",
      " 2.726752e+06 1.919680e+06 1.906752e+06 1.759760e+06 1.825328e+06\n",
      " 1.065760e+06 9.603520e+05 1.132720e+06 1.178240e+06 1.195360e+06\n",
      " 1.377952e+06 1.538992e+06 1.342864e+06 1.146064e+06 1.320880e+06\n",
      " 1.175168e+06 1.115072e+06 1.336608e+06 7.321280e+05 1.041952e+06\n",
      " 6.584000e+05 8.405760e+05 1.317872e+06 7.824960e+05 8.613280e+05\n",
      " 9.435040e+05 5.606080e+05 6.299520e+05 2.675200e+05 3.173440e+05\n",
      " 2.922080e+05 2.833280e+05 2.380160e+05 1.107040e+05 1.282400e+05\n",
      " 1.261440e+05 1.884160e+05 1.198880e+05 6.392000e+04 4.555200e+04\n",
      " 3.784000e+04 8.424000e+04 6.440000e+04 2.532800e+04 7.328000e+03\n",
      " 3.536000e+03 3.248000e+04 1.771200e+04 1.096000e+04 3.232000e+03\n",
      " 1.294400e+04 9.424000e+03 4.736000e+03 1.486400e+04 4.000000e+02\n",
      " 0.000000e+00 4.048000e+03 1.568000e+03 0.000000e+00 0.000000e+00]\n"
     ]
    },
    {
     "name": "stderr",
     "output_type": "stream",
     "text": [
      " 84%|████████▍ | 10500/12535 [5:18:18<47:48,  1.41s/it]  "
     ]
    },
    {
     "name": "stdout",
     "output_type": "stream",
     "text": [
      "[0.02395741 0.02484259 0.03049561 0.02860302 0.02424873 0.02349329\n",
      " 0.02100434 0.01984764 0.01777817 0.01928817 0.02421483 0.02608044\n",
      " 0.02621094 0.02551484 0.02874728 0.0296274  0.03067605 0.02863668\n",
      " 0.02355275 0.02056773 0.02564043 0.02287094 0.0188375  0.01916923\n",
      " 0.01693308 0.01722051 0.01524323 0.01464854 0.01779818 0.0148666\n",
      " 0.02484092 0.02199131 0.02292839 0.02674555 0.02177956 0.01877377\n",
      " 0.01670134 0.0135528  0.01624064 0.01499016 0.01716151 0.0164528\n",
      " 0.02001109 0.01834403 0.01591033 0.0157351  0.01369402 0.01850292\n",
      " 0.02003218 0.01814576 0.01525325 0.01380762 0.01085176 0.01162066\n",
      " 0.01447531 0.01648045 0.01523565 0.01294919 0.01103679 0.01300387\n",
      " 0.01051159 0.00854687 0.00760066 0.00925917 0.0092258  0.00807767\n",
      " 0.01023439 0.01001837 0.01065418 0.00943226 0.00935749 0.00874021\n",
      " 0.0073193  0.00654512 0.00438845 0.00490131 0.00387401 0.0036334\n",
      " 0.00321059 0.00291706 0.00332056 0.00336827 0.00285662 0.00273873\n",
      " 0.00246161 0.00257643 0.00158197 0.00159977 0.00148224 0.00088697\n",
      " 0.00138549 0.00062535 0.00084931 0.00029199 0.00080711 0.00026204\n",
      " 0.00027546 0.0006312  0.00013309 0.        ] [4.5514675e+06 5.0149155e+06 3.5379180e+06 3.8112390e+06 4.2953080e+06\n",
      " 4.8529580e+06 5.1173500e+06 4.7392880e+06 4.5258760e+06 2.5938440e+06\n",
      " 2.4960880e+06 3.1405960e+06 3.1724720e+06 3.0841520e+06 2.9308720e+06\n",
      " 2.8201640e+06 3.1119360e+06 3.1413000e+06 3.3164080e+06 2.8274400e+06\n",
      " 2.6563120e+06 2.5083120e+06 3.3777200e+06 3.5071760e+06 2.1555520e+06\n",
      " 2.4336320e+06 2.5373440e+06 2.8433440e+06 2.3218800e+06 8.3381600e+05\n",
      " 1.1292800e+06 1.9827840e+06 1.7286640e+06 1.7586160e+06 2.4233760e+06\n",
      " 3.0879200e+06 3.9442480e+06 3.1599120e+06 3.6237680e+06 2.7218720e+06\n",
      " 2.4275440e+06 2.0991440e+06 2.4971280e+06 2.1904080e+06 2.2527680e+06\n",
      " 2.2832160e+06 2.3360160e+06 2.9405920e+06 2.8471360e+06 3.4829920e+06\n",
      " 3.0635040e+06 2.7504320e+06 2.4717600e+06 2.7665760e+06 2.5964800e+06\n",
      " 3.5842720e+06 4.1359520e+06 4.3410080e+06 3.8761920e+06 3.6238720e+06\n",
      " 3.0982080e+06 1.6845760e+06 1.6177440e+06 1.2396160e+06 1.6533760e+06\n",
      " 1.4148960e+06 1.2538400e+06 8.4340800e+05 7.1364800e+05 1.4059680e+06\n",
      " 1.4416800e+06 1.1278400e+06 8.9564800e+05 8.3764800e+05 4.7736000e+05\n",
      " 4.4435200e+05 5.4118400e+05 3.3371200e+05 3.3587200e+05 2.8200000e+05\n",
      " 1.8604800e+05 1.3704000e+05 9.2848000e+04 1.5641600e+05 1.2681600e+05\n",
      " 1.2459200e+05 9.1536000e+04 4.0448000e+04 4.5712000e+04 3.4048000e+04\n",
      " 3.4240000e+04 1.1456000e+04 1.3776000e+04 3.7760000e+03 8.0640000e+03\n",
      " 1.9360000e+03 4.0480000e+03 1.3552000e+04 1.9360000e+03 0.0000000e+00]\n"
     ]
    },
    {
     "name": "stderr",
     "output_type": "stream",
     "text": [
      " 85%|████████▍ | 10600/12535 [5:20:31<41:34,  1.29s/it]  "
     ]
    },
    {
     "name": "stdout",
     "output_type": "stream",
     "text": [
      "[0.00887249 0.00979006 0.00812761 0.00884787 0.01039877 0.00759026\n",
      " 0.00838434 0.00933059 0.01143197 0.01744459 0.00970897 0.01048775\n",
      " 0.00872381 0.01199077 0.01193789 0.01092848 0.00902914 0.0143069\n",
      " 0.01008874 0.01024342 0.01308691 0.01414032 0.0157623  0.01597533\n",
      " 0.01645554 0.0131386  0.01379292 0.01310883 0.01343465 0.01133476\n",
      " 0.00937715 0.00867769 0.0103804  0.01222483 0.01323012 0.01563676\n",
      " 0.01333713 0.01400165 0.01573588 0.01484273 0.01181385 0.01224804\n",
      " 0.01521997 0.01785461 0.01632539 0.01342345 0.01104965 0.01015629\n",
      " 0.00826672 0.00756901 0.00662354 0.00712515 0.00871197 0.00812044\n",
      " 0.0061768  0.00617089 0.00381506 0.00416585 0.00257822 0.00299135\n",
      " 0.00831529 0.0081112  0.00690872 0.00654758 0.00467621 0.00422956\n",
      " 0.00319589 0.00291389 0.00375922 0.00339398 0.00316812 0.00226248\n",
      " 0.00220074 0.00159784 0.00229104 0.00212147 0.00295006 0.00128578\n",
      " 0.00097316 0.00135001 0.00241292 0.00177898 0.00168262 0.0008519\n",
      " 0.00060921 0.00091298 0.00054139 0.00211067 0.00237084 0.0015132\n",
      " 0.00073199 0.00089828 0.00064928 0.00059869 0.         0.00106239\n",
      " 0.00031336 0.         0.00047315 0.        ] [4.0039362e+05 4.0862119e+05 2.8463025e+05 4.3401162e+05 4.1890412e+05\n",
      " 2.3006062e+05 3.2029850e+05 3.7844675e+05 4.7639675e+05 5.0521500e+05\n",
      " 7.6583100e+05 5.3653100e+05 5.2939550e+05 8.0360550e+05 7.9249550e+05\n",
      " 6.4363450e+05 5.1731200e+05 1.0483310e+06 6.2884500e+05 6.6374000e+05\n",
      " 9.7954900e+05 1.3624250e+06 7.5746800e+05 1.2281590e+06 1.3915900e+06\n",
      " 1.3815150e+06 1.3979160e+06 1.3348560e+06 1.2697440e+06 1.5775720e+06\n",
      " 1.1424180e+06 1.1427800e+06 7.2728600e+05 6.1999000e+05 7.6208200e+05\n",
      " 6.4861600e+05 3.3899600e+05 4.1752800e+05 7.9842600e+05 8.4054800e+05\n",
      " 1.0985540e+06 6.9040200e+05 1.0353440e+06 9.9926400e+05 1.6067320e+06\n",
      " 1.9959600e+06 1.6171600e+06 1.0973760e+06 1.1414680e+06 1.1727280e+06\n",
      " 1.0505160e+06 8.9794000e+05 1.2835800e+06 1.5074440e+06 9.3825600e+05\n",
      " 6.1728000e+05 5.8572800e+05 6.8848400e+05 2.3082000e+05 1.7072400e+05\n",
      " 2.4966400e+05 2.8806400e+05 4.1217600e+05 5.3303200e+05 6.0971200e+05\n",
      " 4.3338800e+05 1.8645600e+05 8.7772000e+04 1.2671200e+05 9.8956000e+04\n",
      " 2.0578800e+05 6.3488000e+04 6.8480000e+04 5.3532000e+04 4.7120000e+04\n",
      " 4.4888000e+04 4.0620000e+04 4.0124000e+04 2.2744000e+04 1.3596000e+04\n",
      " 1.6536000e+04 1.6804000e+04 3.3528000e+04 5.1800000e+03 2.4080000e+03\n",
      " 3.3600000e+03 1.9520000e+03 1.1428000e+04 2.5524000e+04 8.1520000e+03\n",
      " 5.6760000e+03 9.6040000e+03 9.4600000e+03 2.5120000e+03 0.0000000e+00\n",
      " 2.1600000e+03 2.0400000e+03 0.0000000e+00 2.5800000e+03 0.0000000e+00]\n"
     ]
    },
    {
     "name": "stderr",
     "output_type": "stream",
     "text": [
      " 85%|████████▌ | 10700/12535 [5:22:42<37:42,  1.23s/it]"
     ]
    },
    {
     "name": "stdout",
     "output_type": "stream",
     "text": [
      "[0.01793281 0.01880434 0.01935488 0.0191779  0.01920605 0.02035986\n",
      " 0.01781511 0.01957204 0.01961816 0.02794489 0.02178706 0.02490972\n",
      " 0.02397925 0.02759461 0.02910469 0.02898691 0.03842236 0.03650175\n",
      " 0.02913759 0.02574999 0.01943813 0.01710224 0.01633383 0.01610482\n",
      " 0.01593445 0.0161244  0.01631283 0.01624483 0.01478494 0.0133593\n",
      " 0.01538618 0.02355616 0.02477165 0.03201431 0.02968425 0.0250863\n",
      " 0.02090118 0.01621672 0.01441106 0.01278169 0.01068055 0.00910673\n",
      " 0.00887648 0.009459   0.00953176 0.0108102  0.01209733 0.01361683\n",
      " 0.01633447 0.01682209 0.02035221 0.01435843 0.01202932 0.01218775\n",
      " 0.01052741 0.01065657 0.01097074 0.00930686 0.01184923 0.01328343\n",
      " 0.01017592 0.01147494 0.00713191 0.00845226 0.00896513 0.00700059\n",
      " 0.00816067 0.01179476 0.01380514 0.01183301 0.01010034 0.01061759\n",
      " 0.00863986 0.00834566 0.0078014  0.00927355 0.00902581 0.00838516\n",
      " 0.00759117 0.00662147 0.00516933 0.00578209 0.00552572 0.00490746\n",
      " 0.00389575 0.00286319 0.00280971 0.00242621 0.00265329 0.00276243\n",
      " 0.00268651 0.00191406 0.00152914 0.00089604 0.0006654  0.0012017\n",
      " 0.00086434 0.00075821 0.00020002 0.00011369] [3.8171810e+06 4.0826265e+06 3.6722335e+06 2.6009740e+06 2.3342450e+06\n",
      " 2.0437170e+06 2.4097860e+06 2.8391540e+06 2.4198180e+06 2.7321500e+06\n",
      " 2.3263980e+06 3.1731240e+06 3.7326360e+06 4.0458280e+06 2.8523120e+06\n",
      " 2.2275600e+06 3.0204480e+06 2.5298040e+06 3.0130040e+06 4.6763160e+06\n",
      " 5.1702360e+06 5.4002720e+06 5.0147840e+06 3.1945200e+06 3.1074880e+06\n",
      " 2.8905200e+06 2.8286000e+06 2.7564960e+06 2.2706640e+06 1.6846000e+06\n",
      " 1.3173920e+06 1.8065440e+06 1.1104800e+06 1.0227040e+06 1.3525760e+06\n",
      " 2.4296960e+06 3.0314080e+06 3.0712160e+06 3.2965120e+06 4.2590880e+06\n",
      " 3.6436160e+06 2.7107120e+06 2.2818640e+06 2.2866880e+06 1.6471120e+06\n",
      " 1.3947920e+06 1.3171680e+06 1.5896160e+06 1.7965760e+06 1.5672480e+06\n",
      " 1.0876640e+06 1.3645440e+06 1.5946240e+06 1.8105920e+06 1.6021280e+06\n",
      " 1.4271200e+06 1.5368160e+06 1.6867840e+06 1.8674720e+06 1.2699040e+06\n",
      " 1.1111520e+06 1.6883360e+06 1.5170240e+06 1.4903840e+06 1.2712320e+06\n",
      " 1.0516480e+06 6.8910400e+05 9.2484800e+05 1.1892160e+06 8.5128000e+05\n",
      " 6.4950400e+05 1.2885440e+06 7.2054400e+05 1.0028000e+06 7.5321600e+05\n",
      " 9.0648000e+05 7.3217600e+05 9.1088000e+05 7.7348800e+05 8.1777600e+05\n",
      " 4.8416000e+05 4.0520000e+05 3.7160000e+05 2.4609600e+05 3.3379200e+05\n",
      " 2.9960000e+05 1.0688000e+05 9.0528000e+04 8.8864000e+04 8.5040000e+04\n",
      " 9.2304000e+04 6.0848000e+04 4.6496000e+04 2.5616000e+04 8.5280000e+03\n",
      " 2.6080000e+04 1.3232000e+04 1.1504000e+04 3.6000000e+03 1.1520000e+03]\n"
     ]
    },
    {
     "name": "stderr",
     "output_type": "stream",
     "text": [
      " 86%|████████▌ | 10800/12535 [5:24:59<36:51,  1.27s/it]  "
     ]
    },
    {
     "name": "stdout",
     "output_type": "stream",
     "text": [
      "[1.88775733e-02 2.10318156e-02 1.19724432e-02 1.19978990e-02\n",
      " 1.81912202e-02 1.14825591e-02 8.27596337e-03 1.53982984e-02\n",
      " 1.49451895e-02 1.36693865e-02 1.46712754e-02 9.44075361e-03\n",
      " 1.30672203e-02 1.65123027e-02 1.94451194e-02 2.53943671e-02\n",
      " 2.03211587e-02 2.55576316e-02 2.01211032e-02 2.12881994e-02\n",
      " 2.18806006e-02 2.34031491e-02 2.75918115e-02 2.35199090e-02\n",
      " 2.20150910e-02 2.00035647e-02 1.47027932e-02 1.46869048e-02\n",
      " 1.59039889e-02 1.38645722e-02 1.17451493e-02 1.18287075e-02\n",
      " 1.11240139e-02 1.26296785e-02 9.54670552e-03 8.04707501e-03\n",
      " 1.05179455e-02 9.25649889e-03 8.36667232e-03 1.39271105e-02\n",
      " 1.47277946e-02 1.65006593e-02 1.15451701e-02 1.44808684e-02\n",
      " 9.63698979e-03 1.02114901e-02 1.66267827e-02 1.43703278e-02\n",
      " 1.18835801e-02 1.54732745e-02 1.28745316e-02 1.48696285e-02\n",
      " 1.30786952e-02 1.03204185e-02 9.93399322e-03 1.09189916e-02\n",
      " 1.24294916e-02 1.15435608e-02 1.06843486e-02 1.11204749e-02\n",
      " 9.48353857e-03 7.12174131e-03 9.44479462e-03 7.70208985e-03\n",
      " 7.86448829e-03 1.19147599e-02 1.52246486e-02 1.06137311e-02\n",
      " 9.52294469e-03 8.69826600e-03 9.04819462e-03 1.09748431e-02\n",
      " 1.02462266e-02 9.11140442e-03 9.00101848e-03 9.97672230e-03\n",
      " 6.98018586e-03 5.85552491e-03 5.52451704e-03 5.87337324e-03\n",
      " 7.85618834e-03 7.05352146e-03 6.09205151e-03 6.86652306e-03\n",
      " 5.64447418e-03 5.58510562e-03 8.09478387e-03 5.94340172e-03\n",
      " 5.90597466e-03 5.54311182e-03 4.27057315e-03 3.47636966e-03\n",
      " 3.50557803e-03 3.09081096e-03 2.45067151e-03 1.70667109e-03\n",
      " 9.05562658e-04 5.96299360e-04 6.43673920e-05 1.25766953e-03] [7.4131281e+05 9.3313706e+05 1.6700438e+05 3.5432175e+05 6.6914950e+05\n",
      " 3.1176875e+05 2.6679375e+05 6.3696550e+05 6.8787950e+05 6.8492900e+05\n",
      " 7.2613750e+05 7.1645350e+05 5.9189950e+05 6.8712000e+05 5.5650250e+05\n",
      " 5.4965600e+05 3.5417600e+05 3.2376000e+05 7.7677500e+05 8.4858100e+05\n",
      " 1.1649330e+06 1.3173150e+06 1.3990240e+06 1.7795050e+06 1.4794860e+06\n",
      " 1.3295720e+06 1.5935080e+06 1.4292440e+06 1.1396600e+06 1.5057360e+06\n",
      " 9.4987400e+05 1.5381620e+06 1.0975760e+06 1.1703060e+06 1.4909920e+06\n",
      " 1.1437940e+06 9.1631400e+05 7.8100800e+05 6.7758000e+05 8.7531600e+05\n",
      " 5.7755200e+05 8.3470000e+05 8.3625600e+05 8.6844800e+05 6.6728800e+05\n",
      " 8.3048400e+05 6.8380400e+05 5.9892400e+05 7.7423600e+05 9.5659200e+05\n",
      " 8.7032000e+05 1.3682000e+06 1.2654920e+06 1.4013840e+06 1.0610560e+06\n",
      " 8.4411600e+05 6.6832400e+05 1.0370720e+06 8.2596000e+05 4.7439200e+05\n",
      " 5.5898800e+05 4.0291600e+05 5.2353600e+05 3.6581600e+05 4.3899600e+05\n",
      " 3.3846000e+05 4.5299200e+05 3.2143200e+05 7.3678400e+05 4.5423600e+05\n",
      " 5.4771200e+05 4.7516400e+05 6.3338400e+05 3.3437600e+05 2.4628400e+05\n",
      " 3.6797600e+05 2.6447600e+05 3.4373600e+05 1.8667600e+05 1.9132800e+05\n",
      " 2.5894400e+05 4.7277600e+05 3.0562800e+05 4.7201600e+05 3.4368400e+05\n",
      " 2.6951200e+05 2.8114000e+05 2.6538800e+05 1.8326400e+05 1.7034400e+05\n",
      " 1.9610800e+05 1.4305600e+05 8.6880000e+04 1.2005600e+05 5.9116000e+04\n",
      " 1.5124000e+04 1.0076000e+04 7.5560000e+03 6.9600000e+02 6.1920000e+03]\n"
     ]
    },
    {
     "name": "stderr",
     "output_type": "stream",
     "text": [
      " 87%|████████▋ | 10900/12535 [5:27:21<36:30,  1.34s/it]"
     ]
    },
    {
     "name": "stdout",
     "output_type": "stream",
     "text": [
      "[0.01234661 0.01390178 0.0177117  0.01839691 0.01592491 0.01296746\n",
      " 0.01437742 0.01412116 0.01518183 0.01370748 0.01360032 0.01504614\n",
      " 0.01436154 0.01747297 0.01808807 0.01837985 0.01600127 0.0167979\n",
      " 0.01672021 0.01678271 0.01391626 0.02318211 0.02844221 0.01954946\n",
      " 0.01687698 0.01454718 0.01673373 0.0176215  0.01996961 0.01886114\n",
      " 0.01789008 0.01224948 0.01209226 0.01020984 0.01468634 0.01085754\n",
      " 0.01019354 0.00863486 0.00767187 0.00778829 0.0079716  0.00756484\n",
      " 0.01186776 0.00888176 0.01043738 0.00787386 0.01083022 0.00701526\n",
      " 0.00888676 0.00547526 0.01054238 0.01693226 0.01242557 0.00906133\n",
      " 0.00815065 0.00830675 0.0066612  0.00540486 0.0053185  0.00688261\n",
      " 0.00661026 0.00541835 0.00454982 0.00385684 0.00275936 0.00333046\n",
      " 0.00322899 0.0024795  0.00287901 0.00347369 0.00260611 0.00244565\n",
      " 0.00170453 0.00162474 0.00143934 0.00088478 0.00133054 0.00245154\n",
      " 0.00139407 0.0013269  0.00263251 0.00279532 0.00152637 0.00146161\n",
      " 0.00117896 0.00092514 0.00164421 0.0011361  0.00166704 0.00078841\n",
      " 0.00090624 0.00098953 0.00059692 0.0009905  0.         0.00155054\n",
      " 0.         0.00171916 0.00046576 0.        ] [1.4564365e+06 8.3689600e+05 8.7191250e+05 1.4688460e+06 1.9133130e+06\n",
      " 2.3601210e+06 2.0191720e+06 1.3221640e+06 1.6609140e+06 1.6745210e+06\n",
      " 1.9213680e+06 1.5962560e+06 1.1940880e+06 1.1305260e+06 1.2487240e+06\n",
      " 1.3872980e+06 9.7689400e+05 9.4331000e+05 1.2174260e+06 1.4640540e+06\n",
      " 1.4162020e+06 1.3042280e+06 1.4213860e+06 2.0503400e+06 1.8338440e+06\n",
      " 2.2289160e+06 2.5070200e+06 2.7850520e+06 2.8081480e+06 3.1746000e+06\n",
      " 3.6353000e+06 1.6058960e+06 1.4380360e+06 8.0853600e+05 1.5445120e+06\n",
      " 1.8140080e+06 1.8636440e+06 1.9308320e+06 1.2354640e+06 1.0296200e+06\n",
      " 1.0930480e+06 6.9434400e+05 6.2872000e+05 7.3545600e+05 1.2416960e+06\n",
      " 6.0213600e+05 1.0092480e+06 5.7383200e+05 9.4107200e+05 3.3420800e+05\n",
      " 6.2300800e+05 7.0627200e+05 1.1506880e+06 1.0594720e+06 1.4539200e+06\n",
      " 1.1711520e+06 1.1581280e+06 1.1186880e+06 1.1217280e+06 4.6828000e+05\n",
      " 4.3608000e+05 4.9921600e+05 5.0844800e+05 6.0021600e+05 3.6129600e+05\n",
      " 1.7608000e+05 2.3519200e+05 1.2232800e+05 1.4089600e+05 1.1167200e+05\n",
      " 7.3256000e+04 7.9032000e+04 5.0896000e+04 4.9328000e+04 2.8264000e+04\n",
      " 2.4240000e+04 3.9120000e+04 5.5232000e+04 3.8088000e+04 1.0944000e+04\n",
      " 7.6272000e+04 9.0920000e+04 6.0328000e+04 5.5272000e+04 2.0032000e+04\n",
      " 5.8560000e+03 2.4808000e+04 1.5296000e+04 2.4048000e+04 6.5200000e+03\n",
      " 8.3120000e+03 7.4400000e+03 5.9920000e+03 4.5840000e+03 0.0000000e+00\n",
      " 1.4208000e+04 0.0000000e+00 6.6720000e+03 2.1920000e+03 0.0000000e+00]\n"
     ]
    },
    {
     "name": "stderr",
     "output_type": "stream",
     "text": [
      " 88%|████████▊ | 11000/12535 [5:29:42<35:13,  1.38s/it]"
     ]
    },
    {
     "name": "stdout",
     "output_type": "stream",
     "text": [
      "[2.04835776e-02 1.78319011e-02 1.59738362e-02 1.44378208e-02\n",
      " 1.31173367e-02 1.22708259e-02 1.17071373e-02 1.37205068e-02\n",
      " 2.03960668e-02 2.44569927e-02 2.34442074e-02 2.30665412e-02\n",
      " 2.09763870e-02 2.49584783e-02 2.06538849e-02 2.30056457e-02\n",
      " 2.31561270e-02 2.50959005e-02 2.26194523e-02 2.41022892e-02\n",
      " 1.97096691e-02 1.82351023e-02 1.50469281e-02 1.47592947e-02\n",
      " 1.64177027e-02 1.81334112e-02 2.06772778e-02 2.03720499e-02\n",
      " 1.67023297e-02 1.60533749e-02 1.32114086e-02 1.36742536e-02\n",
      " 2.00852267e-02 1.64328925e-02 1.78700164e-02 1.76281761e-02\n",
      " 1.78832430e-02 1.46505255e-02 1.49977216e-02 1.78717040e-02\n",
      " 1.69150550e-02 1.60769429e-02 1.66156683e-02 1.38699478e-02\n",
      " 1.95845980e-02 2.43320819e-02 2.47319955e-02 3.12918462e-02\n",
      " 3.25721800e-02 1.82075649e-02 1.89328268e-02 3.01762074e-02\n",
      " 2.03163009e-02 1.92694906e-02 1.20826699e-02 1.26990806e-02\n",
      " 1.05251912e-02 1.11057116e-02 1.02914926e-02 9.66333784e-03\n",
      " 1.09080756e-02 9.47351661e-03 1.11344634e-02 1.01080798e-02\n",
      " 9.98707674e-03 1.16248364e-02 8.26408528e-03 1.32486522e-02\n",
      " 1.16455816e-02 1.13654975e-02 1.11175366e-02 9.53938905e-03\n",
      " 7.52038974e-03 6.71823975e-03 7.74835097e-03 8.71812552e-03\n",
      " 1.13310600e-02 9.68521181e-03 8.84450134e-03 8.09058640e-03\n",
      " 7.49896793e-03 7.23675825e-03 7.92330969e-03 9.28754825e-03\n",
      " 7.95639958e-03 7.20803253e-03 5.63704502e-03 6.47876551e-03\n",
      " 6.67749858e-03 3.34808230e-03 2.11827015e-03 1.52095291e-03\n",
      " 1.07463822e-03 7.15140195e-04 1.06298446e-03 1.24636886e-03\n",
      " 5.32858481e-04 1.24027894e-03 3.16638238e-04 9.88808169e-05] [3.2729552e+06 3.0694292e+06 2.7998895e+06 3.2429050e+06 3.2665770e+06\n",
      " 2.7475420e+06 1.5963500e+06 1.7159880e+06 1.3313560e+06 1.2847520e+06\n",
      " 1.3176920e+06 2.3283580e+06 2.0464200e+06 2.1918000e+06 2.3270220e+06\n",
      " 3.1381880e+06 2.1744440e+06 2.8904760e+06 2.4823000e+06 2.1333480e+06\n",
      " 2.5936840e+06 2.8939720e+06 3.7956200e+06 2.5775840e+06 2.4920360e+06\n",
      " 1.8535560e+06 1.9224880e+06 1.8217320e+06 2.7396480e+06 2.8107760e+06\n",
      " 2.3180480e+06 1.7708320e+06 1.5609840e+06 1.9391760e+06 2.2258320e+06\n",
      " 1.5814160e+06 1.5810320e+06 1.8347840e+06 1.8157600e+06 2.1040320e+06\n",
      " 1.6051040e+06 2.1870240e+06 1.6745360e+06 1.9839360e+06 1.3164560e+06\n",
      " 8.9040000e+05 1.2256560e+06 8.9731200e+05 4.5269600e+05 8.9007200e+05\n",
      " 8.0227200e+05 9.2378400e+05 8.2538400e+05 1.6681200e+06 1.9317920e+06\n",
      " 1.9748960e+06 2.2360640e+06 2.4229600e+06 1.2602240e+06 8.0084800e+05\n",
      " 1.1047280e+06 1.0625520e+06 1.2685920e+06 1.3985520e+06 1.4458960e+06\n",
      " 7.0506400e+05 9.8616000e+05 1.1708400e+06 1.3207200e+06 1.3011760e+06\n",
      " 1.4863360e+06 1.4481360e+06 1.3263840e+06 1.1504000e+06 7.0732800e+05\n",
      " 5.8291200e+05 1.4297920e+06 1.9853760e+06 1.0921920e+06 1.0150240e+06\n",
      " 6.2320000e+05 4.9372800e+05 6.4811200e+05 7.6227200e+05 4.6444800e+05\n",
      " 5.5416000e+05 5.7356800e+05 4.0147200e+05 5.2408000e+05 4.3468800e+05\n",
      " 1.3057600e+05 1.0636800e+05 4.3040000e+04 2.1808000e+04 1.7552000e+04\n",
      " 1.6256000e+04 7.7280000e+03 4.7360000e+03 3.2320000e+03 8.6400000e+02]\n"
     ]
    },
    {
     "name": "stderr",
     "output_type": "stream",
     "text": [
      " 89%|████████▊ | 11100/12535 [5:31:58<32:33,  1.36s/it]"
     ]
    },
    {
     "name": "stdout",
     "output_type": "stream",
     "text": [
      "[0.02225551 0.02228999 0.02566322 0.02853202 0.02603962 0.02434763\n",
      " 0.02541666 0.02498809 0.03706823 0.03820601 0.0311835  0.03066298\n",
      " 0.03215064 0.03717297 0.03483303 0.03142063 0.03382431 0.02972394\n",
      " 0.02709809 0.0246258  0.0251903  0.02532271 0.02603388 0.02357461\n",
      " 0.02809089 0.03151425 0.03015058 0.03096959 0.02516205 0.02096883\n",
      " 0.02164635 0.02718448 0.02326289 0.02413756 0.02230753 0.02111959\n",
      " 0.01947561 0.01794088 0.01773333 0.02145123 0.01785083 0.01734453\n",
      " 0.01731564 0.02145597 0.02172549 0.01808783 0.01863865 0.01962106\n",
      " 0.01980305 0.02395701 0.02122167 0.02024736 0.02240668 0.01804014\n",
      " 0.02209758 0.01875595 0.01957814 0.02054054 0.0213682  0.01782613\n",
      " 0.01908419 0.01881964 0.0179778  0.01622514 0.01756606 0.01832864\n",
      " 0.01521165 0.0128328  0.01128567 0.01016757 0.00857114 0.0101656\n",
      " 0.01222952 0.01067294 0.0075791  0.01078951 0.01081007 0.00892004\n",
      " 0.00992853 0.00697921 0.00827211 0.01017093 0.0120411  0.00908767\n",
      " 0.00580838 0.00533517 0.00707959 0.00580889 0.00466099 0.00360141\n",
      " 0.00316298 0.00294083 0.00240964 0.00221394 0.00155698 0.00172463\n",
      " 0.0013609  0.00082689 0.00039248 0.00023483] [2.0570215e+06 1.9990720e+06 1.7088705e+06 1.5777210e+06 2.2038960e+06\n",
      " 1.6025990e+06 8.6732800e+05 3.7228900e+05 1.3810900e+06 1.3834270e+06\n",
      " 1.6871120e+06 2.9028100e+06 2.4991800e+06 2.2859220e+06 1.6811700e+06\n",
      " 1.9869060e+06 2.2071480e+06 2.8259620e+06 2.5702000e+06 1.7095680e+06\n",
      " 2.2159920e+06 2.0477960e+06 1.9745360e+06 2.5910520e+06 1.8406160e+06\n",
      " 1.8981480e+06 1.7181680e+06 3.7648160e+06 3.2217640e+06 2.7815280e+06\n",
      " 2.8827760e+06 4.1027560e+06 3.8979040e+06 3.6748720e+06 4.4839840e+06\n",
      " 5.1149280e+06 4.8099040e+06 5.0999680e+06 4.2147600e+06 4.2529040e+06\n",
      " 4.3103760e+06 3.5239280e+06 2.7348720e+06 2.9399280e+06 3.3011840e+06\n",
      " 4.1376240e+06 3.7881840e+06 3.9179440e+06 2.6948880e+06 3.4172800e+06\n",
      " 4.3866720e+06 3.2776960e+06 3.3936320e+06 3.0519040e+06 3.7797120e+06\n",
      " 4.2081120e+06 4.5543680e+06 4.1335680e+06 3.4858240e+06 3.3412320e+06\n",
      " 3.7362560e+06 3.8750080e+06 4.4119200e+06 3.4326720e+06 3.3245120e+06\n",
      " 3.6705600e+06 2.4512480e+06 2.0389120e+06 2.9835840e+06 2.6948000e+06\n",
      " 2.3373280e+06 1.9599040e+06 1.3941760e+06 1.3764320e+06 1.3139680e+06\n",
      " 1.4862720e+06 1.4877760e+06 1.1041600e+06 1.2583360e+06 1.4224960e+06\n",
      " 1.0816160e+06 1.4136320e+06 1.2447840e+06 1.4316000e+06 7.0273600e+05\n",
      " 6.4136000e+05 7.3806400e+05 8.1398400e+05 6.9651200e+05 5.0475200e+05\n",
      " 1.9801600e+05 1.9841600e+05 2.4448000e+05 2.0486400e+05 6.0976000e+04\n",
      " 5.9264000e+04 3.4768000e+04 2.5856000e+04 8.5600000e+03 2.3200000e+03]\n"
     ]
    },
    {
     "name": "stderr",
     "output_type": "stream",
     "text": [
      " 89%|████████▉ | 11200/12535 [5:34:11<33:41,  1.51s/it]"
     ]
    },
    {
     "name": "stdout",
     "output_type": "stream",
     "text": [
      "[3.35322320e-02 3.08471695e-02 2.65335664e-02 2.10535228e-02\n",
      " 1.65590513e-02 1.64695680e-02 1.33753857e-02 1.79365054e-02\n",
      " 1.94490775e-02 2.15138141e-02 2.52923612e-02 1.93014424e-02\n",
      " 1.55047383e-02 1.60713941e-02 1.47937145e-02 1.23230228e-02\n",
      " 1.81124788e-02 1.95367076e-02 1.84762403e-02 1.85171682e-02\n",
      " 2.03028936e-02 1.96439214e-02 1.98228322e-02 2.33695172e-02\n",
      " 2.30176374e-02 1.87036805e-02 1.93490777e-02 1.89895350e-02\n",
      " 1.72545817e-02 1.75664909e-02 1.47453062e-02 1.68380160e-02\n",
      " 1.87209863e-02 1.68204140e-02 2.09729075e-02 2.11404338e-02\n",
      " 1.91522036e-02 1.90479755e-02 1.81681179e-02 1.76414624e-02\n",
      " 1.73628498e-02 1.54145276e-02 1.73237845e-02 1.70343872e-02\n",
      " 1.65364929e-02 1.61073413e-02 1.53012872e-02 1.48584079e-02\n",
      " 1.44653684e-02 1.74382366e-02 1.53318532e-02 1.32611105e-02\n",
      " 1.18986527e-02 1.19384211e-02 1.35593768e-02 1.00060236e-02\n",
      " 1.14448620e-02 1.32364975e-02 1.40470611e-02 1.22468974e-02\n",
      " 1.01590445e-02 1.18889017e-02 1.03779640e-02 8.66719522e-03\n",
      " 1.04795434e-02 1.07802935e-02 9.23992600e-03 8.36011954e-03\n",
      " 5.43851405e-03 5.58928400e-03 4.98092081e-03 6.78454852e-03\n",
      " 4.63725114e-03 4.23391256e-03 5.12037380e-03 7.51043856e-03\n",
      " 7.79853901e-03 6.40858663e-03 4.93582990e-03 4.02615359e-03\n",
      " 8.55682231e-03 8.00955854e-03 4.50823503e-03 3.82364681e-03\n",
      " 2.75947643e-03 4.34201816e-03 3.13792517e-03 4.84220358e-03\n",
      " 3.47974035e-03 4.43852600e-03 3.94899724e-03 3.28254024e-03\n",
      " 3.12686316e-03 1.89527730e-03 1.96780101e-03 1.34440616e-03\n",
      " 8.08361568e-04 8.03975854e-04 3.21118387e-05 1.49987376e-04] [1.0491979e+06 1.2807619e+06 1.5704252e+06 2.7837590e+06 2.6155480e+06\n",
      " 2.8425500e+06 2.4407370e+06 2.0715040e+06 1.5479150e+06 1.4752900e+06\n",
      " 1.0553980e+06 1.4901800e+06 1.8064980e+06 2.1654880e+06 2.6653720e+06\n",
      " 2.3401960e+06 3.1274160e+06 2.5292040e+06 2.0520440e+06 1.5767360e+06\n",
      " 1.6155360e+06 2.0684440e+06 1.6737600e+06 1.1729120e+06 1.5595720e+06\n",
      " 1.9372920e+06 1.9006800e+06 1.8454400e+06 2.0246200e+06 2.8169120e+06\n",
      " 2.9172360e+06 2.8750000e+06 2.2794960e+06 2.5217680e+06 2.2010480e+06\n",
      " 2.2533200e+06 1.9236240e+06 2.0038640e+06 2.7054160e+06 2.5020640e+06\n",
      " 2.2813840e+06 2.1402960e+06 1.9203600e+06 1.7876240e+06 1.6808400e+06\n",
      " 1.7856480e+06 1.7303920e+06 1.8614880e+06 1.4877120e+06 1.2756240e+06\n",
      " 1.4836720e+06 1.2460640e+06 1.6931680e+06 1.5183440e+06 1.1719120e+06\n",
      " 9.9461600e+05 1.1323360e+06 1.2905200e+06 1.0532320e+06 6.2330400e+05\n",
      " 5.9476800e+05 1.0785520e+06 1.1433840e+06 8.9611200e+05 8.5422400e+05\n",
      " 8.3287200e+05 6.2561600e+05 6.5150400e+05 3.9492000e+05 5.2236000e+05\n",
      " 3.1720800e+05 4.7409600e+05 4.7774400e+05 3.3707200e+05 3.1372800e+05\n",
      " 2.7996800e+05 3.5080000e+05 5.0620000e+05 2.7594400e+05 2.0731200e+05\n",
      " 1.8380000e+05 1.8534400e+05 2.8252800e+05 1.3312800e+05 6.5432000e+04\n",
      " 1.1088000e+05 6.2928000e+04 1.6681600e+05 1.1725600e+05 1.2681600e+05\n",
      " 7.1872000e+04 7.7344000e+04 1.3426400e+05 3.8464000e+04 2.2928000e+04\n",
      " 1.9144000e+04 1.0376000e+04 1.1632000e+04 2.4800000e+02 4.5600000e+02]\n"
     ]
    },
    {
     "name": "stderr",
     "output_type": "stream",
     "text": [
      " 90%|█████████ | 11300/12535 [5:36:24<26:06,  1.27s/it]"
     ]
    },
    {
     "name": "stdout",
     "output_type": "stream",
     "text": [
      "[0.01593853 0.0154249  0.01516152 0.0108346  0.01188331 0.01228998\n",
      " 0.01413266 0.01549367 0.01558376 0.01371818 0.01260568 0.01307406\n",
      " 0.0146562  0.01593733 0.01488315 0.015438   0.01391041 0.01247643\n",
      " 0.00901255 0.00806134 0.00668211 0.01250426 0.01312278 0.0136525\n",
      " 0.01375165 0.01419237 0.01167976 0.01064328 0.0102757  0.00690746\n",
      " 0.00746189 0.00890368 0.01490795 0.02365922 0.01328116 0.01991621\n",
      " 0.01687956 0.0140715  0.01484315 0.01326374 0.01568132 0.02002686\n",
      " 0.01469087 0.01144511 0.00926555 0.01149664 0.01198711 0.00936201\n",
      " 0.01077352 0.01133212 0.01168532 0.01207653 0.00974486 0.00855189\n",
      " 0.00870251 0.00806718 0.00790118 0.00859724 0.00954563 0.00773418\n",
      " 0.00724632 0.0079486  0.00713993 0.00628221 0.00859894 0.00608187\n",
      " 0.0054426  0.00455726 0.00480069 0.00930319 0.01238892 0.00384125\n",
      " 0.00584574 0.00786807 0.00731761 0.00554202 0.00554447 0.00524296\n",
      " 0.00509009 0.00522681 0.00528459 0.005938   0.00610998 0.00453298\n",
      " 0.00556435 0.0066112  0.00590777 0.00510213 0.00398201 0.00352818\n",
      " 0.00298968 0.00372858 0.00294062 0.00158405 0.00266114 0.00089485\n",
      " 0.00042139 0.00071996 0.00063319 0.        ] [ 798251.06  469547.8   912193.9   915610.25  806187.25  854964.25\n",
      "  627957.5   801591.   1017341.5  1128920.   1424062.5  1049593.\n",
      " 1173667.   1290789.   1286929.   1422689.   2026002.   1429080.\n",
      " 1265750.   1453622.    417270.    636756.    448380.    474076.\n",
      "  634512.    302208.    474592.    425644.    636086.    591060.\n",
      "  797032.    307554.    421800.    606324.    326646.    385848.\n",
      "  493084.    642608.    721458.    664958.    677084.    901428.\n",
      " 1582552.   1389024.   1279264.    900880.    794152.    847764.\n",
      "  871488.    842492.    851580.   1034660.    833344.    974720.\n",
      "  674136.    551988.    468308.    482856.    546412.    630260.\n",
      "  659256.    807144.    726684.    707516.    693960.    585164.\n",
      "  546992.    439256.    162960.    218380.    435760.     74460.\n",
      "  297108.    357336.    225464.    503900.    303748.    325048.\n",
      "  296100.    312984.    259556.    188052.    330700.    223520.\n",
      "  123576.     72072.    146732.    128104.    182280.    178448.\n",
      "   91520.    107912.    135400.     37220.    102580.     23568.\n",
      "    4452.      4412.      7568.         0.  ]\n"
     ]
    },
    {
     "name": "stderr",
     "output_type": "stream",
     "text": [
      " 91%|█████████ | 11400/12535 [5:38:38<23:15,  1.23s/it]"
     ]
    },
    {
     "name": "stdout",
     "output_type": "stream",
     "text": [
      "[0.02066202 0.02187398 0.02548906 0.03062812 0.03318464 0.03705602\n",
      " 0.03399736 0.03182434 0.03182558 0.04201737 0.04060585 0.03875485\n",
      " 0.03717919 0.03562698 0.03308956 0.03081744 0.02777774 0.02757368\n",
      " 0.02573214 0.02438586 0.02489923 0.0205397  0.01586527 0.02504597\n",
      " 0.02299458 0.03755078 0.03034948 0.02566544 0.02340678 0.02336858\n",
      " 0.02595071 0.02525568 0.02705072 0.02731435 0.02327018 0.02573051\n",
      " 0.03120913 0.03114716 0.0282515  0.02337143 0.02368668 0.02260094\n",
      " 0.0253966  0.02561162 0.0189136  0.01862959 0.02350674 0.02359374\n",
      " 0.0327377  0.03622865 0.03065887 0.03700509 0.0330651  0.03105951\n",
      " 0.03458086 0.02871418 0.02418599 0.02659352 0.02322167 0.02123362\n",
      " 0.02110978 0.01797867 0.01632616 0.01644927 0.01693617 0.01593143\n",
      " 0.01641298 0.01978407 0.01846435 0.02089749 0.02045661 0.0167472\n",
      " 0.01657986 0.01515032 0.01344832 0.01294869 0.01242512 0.01101814\n",
      " 0.01017419 0.00967436 0.01063265 0.01007773 0.00846246 0.00619764\n",
      " 0.00733157 0.00765198 0.00543881 0.00364986 0.00340633 0.00327665\n",
      " 0.0043594  0.0041467  0.00404352 0.00363987 0.00360051 0.00286691\n",
      " 0.00203523 0.00271458 0.00190506 0.00107542] [1719897.9  925578.6  791836.5  771860.5  356231.   400205.  1443675.\n",
      " 1659804.  1469484.5 1341665.  1220452.  1482505.  2597611.  1870616.\n",
      " 2237962.  2064386.  1882218.  2284906.  2085894.  2356100.  3030412.\n",
      " 2967084.  1972880.  1562240.  1084308.  1576460.  1383544.  1601428.\n",
      " 2524352.  2810152.  2215016.  2228936.  1819280.  2163968.  1521460.\n",
      " 1961296.  2467792.  4286112.  4515040.  3502768.  3765408.  2625128.\n",
      " 4545896.  4349488.  5367768.  3782672.  4797728.  4843752.  3594480.\n",
      " 3300120.  2207360.  2588296.  4737640.  3439752.  5051864.  4121360.\n",
      " 4508672.  6529360.  6513696.  6918032.  7334256.  5088752.  4756896.\n",
      " 3536720.  3028128.  3569888.  2827616.  3933232.  4097056.  5637232.\n",
      " 6604224.  6863632.  8533792.  8127344.  7785648.  7745696.  7123664.\n",
      " 6905328.  5399040.  5074272.  4225632.  4726592.  4035136.  2626272.\n",
      " 1723744.  1731424.  1854336.   779840.   718496.   537216.   616736.\n",
      "  458592.   331104.   333952.   276512.   256000.   121664.   153024.\n",
      "   62624.    34528. ]\n"
     ]
    },
    {
     "name": "stderr",
     "output_type": "stream",
     "text": [
      " 92%|█████████▏| 11500/12535 [5:40:49<20:56,  1.21s/it]"
     ]
    },
    {
     "name": "stdout",
     "output_type": "stream",
     "text": [
      "[0.02141587 0.01938962 0.01899864 0.01756596 0.01767709 0.01913596\n",
      " 0.02181208 0.01967021 0.02420513 0.02376847 0.01960721 0.01801969\n",
      " 0.01546802 0.02005053 0.02385054 0.02629646 0.02172812 0.01724075\n",
      " 0.01798456 0.02390727 0.03265277 0.03487318 0.03233116 0.03156126\n",
      " 0.02853063 0.02613586 0.01995018 0.02005858 0.02181502 0.02211351\n",
      " 0.02570401 0.02357185 0.0254596  0.02479233 0.03132135 0.02797248\n",
      " 0.02657418 0.02784879 0.02210985 0.02156207 0.01611181 0.01350109\n",
      " 0.01236027 0.01159903 0.01336522 0.01268934 0.0121566  0.0100032\n",
      " 0.00950896 0.01194794 0.01392618 0.01443025 0.01580834 0.01805462\n",
      " 0.0171802  0.01925438 0.01959037 0.02953934 0.02598761 0.02249876\n",
      " 0.02121645 0.01684092 0.01392184 0.01270979 0.01098146 0.00864593\n",
      " 0.01021281 0.00862768 0.01232898 0.01089177 0.00935082 0.00871828\n",
      " 0.00953428 0.01019827 0.01004586 0.00893262 0.00765338 0.00663838\n",
      " 0.00733356 0.00693916 0.00694388 0.00749448 0.00657033 0.00442143\n",
      " 0.00291706 0.00341526 0.00294197 0.00274162 0.00165649 0.00157688\n",
      " 0.00163415 0.00108434 0.00125878 0.00130964 0.00072516 0.00112223\n",
      " 0.00101833 0.00066683 0.         0.00125953] [1002212.75  839849.75 1248227.5  1142878.5  1265853.    827902.5\n",
      "  746857.5   557216.5   630805.    758202.    599931.   1341857.\n",
      " 1053765.    737689.    591446.   1310040.    730190.   1163880.\n",
      " 1264057.    756862.    737662.    802688.    712674.    904258.\n",
      "  417358.   1449482.   1470098.   1726694.   1283058.   1936416.\n",
      " 1280206.   1710932.   1817996.   1173492.   1260660.   1927192.\n",
      " 2419072.   2271260.   2178380.   2527676.   2432228.   2229708.\n",
      " 2373812.   1583332.   1629556.   1548744.   1004144.    847296.\n",
      "  659684.    559272.    980724.    767292.    609088.    725448.\n",
      "  763032.    619704.   1048840.   1168136.   1672488.   1597264.\n",
      " 1895872.   2321216.   2091600.   2099080.   2572624.   1923520.\n",
      " 1310424.   1035856.    760952.    510096.    683696.    768168.\n",
      "  861208.    992584.   1011080.    693224.    537144.    701992.\n",
      "  548176.    261504.    390720.    463776.    491512.    418024.\n",
      "  134312.    142552.    189152.    133056.     79376.     57296.\n",
      "   55448.     44696.     43624.     38696.     23032.     11976.\n",
      "    5376.     20096.         0.      5920.  ]\n"
     ]
    },
    {
     "name": "stderr",
     "output_type": "stream",
     "text": [
      " 93%|█████████▎| 11600/12535 [5:43:01<20:43,  1.33s/it]"
     ]
    },
    {
     "name": "stdout",
     "output_type": "stream",
     "text": [
      "[0.02494966 0.02702329 0.02956703 0.02858315 0.02372439 0.01739496\n",
      " 0.01618251 0.01799108 0.0206415  0.01719245 0.01690332 0.01640668\n",
      " 0.01753696 0.01749907 0.01946784 0.01557858 0.01916358 0.01696743\n",
      " 0.01719258 0.01728107 0.01382232 0.01464903 0.02049972 0.01553305\n",
      " 0.01210751 0.01355528 0.01405696 0.01273098 0.01777839 0.01762682\n",
      " 0.0171174  0.02028984 0.01992566 0.02416232 0.02690873 0.02334708\n",
      " 0.0223061  0.02593715 0.0228378  0.01838507 0.0174378  0.0150866\n",
      " 0.0141052  0.01095147 0.00954896 0.01354914 0.01141271 0.01683184\n",
      " 0.01498201 0.01563906 0.01657668 0.01611413 0.01502117 0.01404056\n",
      " 0.01818278 0.01436001 0.01065841 0.01618333 0.01646954 0.01650689\n",
      " 0.01595798 0.01381585 0.01578045 0.01390661 0.01236571 0.01181189\n",
      " 0.0142765  0.01678763 0.01208692 0.01159355 0.01173688 0.01366258\n",
      " 0.01553339 0.01479435 0.01809992 0.01240382 0.01195766 0.01196044\n",
      " 0.01092021 0.01332347 0.01173112 0.00857234 0.00897854 0.0084\n",
      " 0.00714764 0.00643943 0.00585604 0.00495853 0.00549783 0.00450784\n",
      " 0.00595677 0.00428888 0.00500186 0.00395342 0.00313084 0.00250089\n",
      " 0.00107248 0.00064515 0.00075281 0.        ] [2314862.8 1288905.5 1736727.  1644171.5 1036396.5 2849402.5 2511368.\n",
      " 2908420.  2339629.  2159994.  1706318.  1706488.  1278700.  1845014.\n",
      " 1334224.  1195498.  1233180.  1278446.  1511532.  2336856.  1501816.\n",
      " 1201616.  1102440.  1377060.  1300752.  1152836.  1399848.   910800.\n",
      " 1511904.  1312180.  1589060.  1574580.  1346880.  1600784.  1727504.\n",
      " 1116524.  1034152.  1311316.  1054348.  1784800.  1773256.  2256048.\n",
      " 2360112.  1802464.  1381152.  1699160.  1160896.  1273424.   923640.\n",
      " 1716808.  2122400.  2311656.  2051224.  1268400.  1460832.  1678992.\n",
      "  911528.  1600680.  1506120.  1095800.  1445024.  1251128.  1510504.\n",
      " 1267920.  1656456.  1260320.  1035824.  1079488.   963216.  1340480.\n",
      " 1456632.  2138088.  1706448.  1603384.  2366592.  1665320.  1319960.\n",
      " 1544960.  1505360.  1408152.  1199008.  1271776.  1300072.   954416.\n",
      " 1073640.  1026768.   656032.   687488.   595208.   381496.   470216.\n",
      "  277760.   281536.   341312.   181728.   137280.    20496.    12400.\n",
      "    7072.        0. ]\n"
     ]
    },
    {
     "name": "stderr",
     "output_type": "stream",
     "text": [
      " 93%|█████████▎| 11700/12535 [5:45:12<20:42,  1.49s/it]"
     ]
    },
    {
     "name": "stdout",
     "output_type": "stream",
     "text": [
      "[0.02251526 0.02229166 0.02501755 0.02234967 0.02078053 0.02122176\n",
      " 0.02246873 0.01835511 0.01991794 0.01676825 0.01829953 0.01904289\n",
      " 0.0204454  0.01764827 0.02121388 0.01855326 0.01747964 0.01672415\n",
      " 0.02100757 0.01927171 0.01776682 0.018751   0.02156794 0.01889996\n",
      " 0.01659422 0.01939688 0.02145848 0.03135157 0.03370322 0.02819264\n",
      " 0.02557905 0.02340723 0.01928578 0.01544842 0.01808929 0.01818432\n",
      " 0.01687857 0.01369448 0.01413085 0.01552648 0.01510187 0.01541439\n",
      " 0.01378648 0.01708216 0.01581714 0.01737079 0.0253467  0.01901198\n",
      " 0.01990753 0.01868798 0.02020812 0.01741327 0.01405247 0.01322052\n",
      " 0.01311495 0.01188689 0.0126934  0.01262042 0.01374827 0.0154479\n",
      " 0.01680119 0.01610207 0.01391671 0.01367655 0.01042965 0.00955661\n",
      " 0.01002752 0.00917632 0.00958761 0.00847907 0.00899698 0.00973173\n",
      " 0.00734941 0.00816568 0.01004526 0.00742934 0.00799992 0.00810732\n",
      " 0.00701291 0.00750853 0.00541059 0.0064712  0.00726924 0.00693857\n",
      " 0.00541621 0.00560617 0.00550139 0.00537796 0.00361263 0.00268697\n",
      " 0.00262398 0.00259352 0.00193587 0.0010905  0.00096715 0.00122137\n",
      " 0.00015396 0.00030153 0.00072543 0.00022496] [2.5702968e+06 2.1519872e+06 2.4820390e+06 2.9643470e+06 3.0011290e+06\n",
      " 2.3639070e+06 2.1801860e+06 2.2487460e+06 3.0194540e+06 2.0409460e+06\n",
      " 2.4996260e+06 1.8452700e+06 1.8590620e+06 1.5812560e+06 2.0106360e+06\n",
      " 1.6303360e+06 2.0026960e+06 1.5856480e+06 1.9362240e+06 1.7042480e+06\n",
      " 1.0880640e+06 2.0697120e+06 2.4564120e+06 1.4164240e+06 1.7708080e+06\n",
      " 2.4001880e+06 1.4594240e+06 1.8408520e+06 1.6284360e+06 1.3007120e+06\n",
      " 2.9841760e+06 3.8944240e+06 3.3347840e+06 3.5062240e+06 2.7738800e+06\n",
      " 2.5477040e+06 2.1138640e+06 2.6185360e+06 2.1206560e+06 2.0752080e+06\n",
      " 1.5739120e+06 1.5410640e+06 1.7466480e+06 1.9859520e+06 1.6286080e+06\n",
      " 9.4892000e+05 1.5684880e+06 8.8617600e+05 1.4556640e+06 1.5192560e+06\n",
      " 9.2622400e+05 1.2107200e+06 1.5040720e+06 1.2207520e+06 1.2238960e+06\n",
      " 1.3976640e+06 1.7188160e+06 1.3420400e+06 1.2051600e+06 1.1967600e+06\n",
      " 1.3794160e+06 1.3778960e+06 1.7343760e+06 1.5484880e+06 1.1139840e+06\n",
      " 1.9686480e+06 1.4038960e+06 1.1105600e+06 8.5340000e+05 8.4117600e+05\n",
      " 1.1197280e+06 8.6537600e+05 7.6768800e+05 1.0963840e+06 1.0430560e+06\n",
      " 6.2496000e+05 4.7924800e+05 4.8849600e+05 4.2558400e+05 4.4769600e+05\n",
      " 3.0225600e+05 4.4700800e+05 6.8150400e+05 6.5916800e+05 2.8750400e+05\n",
      " 4.1824000e+05 4.4292800e+05 4.2475200e+05 2.5464000e+05 1.5992000e+05\n",
      " 1.6174400e+05 9.8064000e+04 7.4736000e+04 3.0944000e+04 1.8800000e+04\n",
      " 2.2336000e+04 2.1600000e+03 3.6320000e+03 4.7200000e+03 1.7120000e+03]\n"
     ]
    },
    {
     "name": "stderr",
     "output_type": "stream",
     "text": [
      " 94%|█████████▍| 11800/12535 [5:47:28<15:49,  1.29s/it]"
     ]
    },
    {
     "name": "stdout",
     "output_type": "stream",
     "text": [
      "[0.02119373 0.0250675  0.02164828 0.0461624  0.03127179 0.02673298\n",
      " 0.01907308 0.01641017 0.0163021  0.01465612 0.012374   0.01104691\n",
      " 0.01046217 0.01279679 0.01547162 0.01520852 0.01779329 0.01534055\n",
      " 0.01410885 0.01083508 0.01031471 0.01027573 0.01217324 0.01178173\n",
      " 0.0097434  0.01054163 0.00884257 0.00910774 0.00877285 0.00747573\n",
      " 0.00596885 0.0059809  0.00574769 0.00681158 0.00799682 0.00764398\n",
      " 0.00693276 0.00669171 0.00518657 0.01128922 0.01076341 0.01091947\n",
      " 0.00949976 0.00976453 0.00792444 0.00883251 0.00784638 0.00739701\n",
      " 0.00670903 0.0089683  0.00881254 0.00909616 0.01157466 0.00981175\n",
      " 0.00975481 0.01055406 0.00628574 0.01328321 0.01453969 0.00868079\n",
      " 0.00945144 0.00938893 0.00633268 0.00480652 0.00487491 0.00466584\n",
      " 0.00678055 0.0040175  0.00472196 0.00383087 0.00350273 0.00349153\n",
      " 0.00434206 0.00485068 0.0042651  0.00353611 0.00255516 0.00209984\n",
      " 0.00356664 0.00336014 0.00297767 0.00306897 0.00400695 0.00279771\n",
      " 0.00293074 0.00288539 0.00248081 0.00294327 0.00219342 0.00175972\n",
      " 0.0012902  0.0013121  0.00116721 0.00169339 0.00179345 0.00057724\n",
      " 0.00048656 0.00143709 0.         0.0005571 ] [1165162.1 1034010.4 1163974.2 1102876.8  909691.5 1460646.5 1499426.\n",
      " 1263830.  1147830.  1267222.  1007832.  1067504.   813940.   924764.\n",
      "  850835.   841830.   857740.  1295376.  1207190.   937696.   841918.\n",
      " 1210964.  1371088.  1235766.  1165718.  1151786.   875932.  1004780.\n",
      "  998298.  1063648.   857676.  1027984.   539744.   459632.   358456.\n",
      "  291304.   340816.   137836.    72124.   225088.   159512.   361692.\n",
      "  437664.   423440.   519756.   458592.   513656.   362112.   354352.\n",
      "  420388.   473336.   379264.   375148.   405564.   269676.   592192.\n",
      "  260740.   399416.   446808.   564500.   578364.   530388.   401232.\n",
      "  283056.   297052.   302640.   401016.   270340.   290688.   191912.\n",
      "  162308.   170840.   143828.   125516.   114504.   132944.   101776.\n",
      "   97480.    67088.    66192.    76928.    47980.    58172.    50400.\n",
      "   68108.    50220.    30112.    40516.    38420.    38852.    24316.\n",
      "   11268.    12820.    36184.    22508.     5676.     3460.    13724.\n",
      "       0.     4432. ]\n"
     ]
    },
    {
     "name": "stderr",
     "output_type": "stream",
     "text": [
      " 95%|█████████▍| 11900/12535 [5:49:36<13:16,  1.25s/it]"
     ]
    },
    {
     "name": "stdout",
     "output_type": "stream",
     "text": [
      "[0.01095822 0.01040523 0.01234086 0.0114324  0.01039411 0.010562\n",
      " 0.01243754 0.0120889  0.01299719 0.01306859 0.01972392 0.01728246\n",
      " 0.01446066 0.01614263 0.01493351 0.01420583 0.01620418 0.01384495\n",
      " 0.01247253 0.01087642 0.01278896 0.01252667 0.01235919 0.01300947\n",
      " 0.01205105 0.01250197 0.01225081 0.01243048 0.01171154 0.01612104\n",
      " 0.01285857 0.01261427 0.01245841 0.01449179 0.013772   0.01149834\n",
      " 0.01304242 0.01219592 0.01005638 0.00972936 0.00998373 0.00865586\n",
      " 0.01087823 0.01140843 0.01108436 0.0102053  0.01049553 0.01035271\n",
      " 0.00927743 0.00931981 0.01079066 0.01244744 0.01219871 0.01145984\n",
      " 0.01025815 0.01134349 0.01148457 0.01339483 0.01261296 0.0196636\n",
      " 0.01390071 0.01613477 0.01401898 0.01435034 0.01022771 0.01032264\n",
      " 0.01271399 0.01530262 0.01029462 0.01267133 0.01440456 0.01315331\n",
      " 0.01093983 0.00988203 0.0082536  0.01104318 0.01135238 0.00953994\n",
      " 0.00690601 0.00785496 0.00665059 0.00799709 0.01053619 0.00851066\n",
      " 0.00581256 0.00595075 0.00794448 0.00794752 0.00585399 0.00687349\n",
      " 0.00785057 0.00633114 0.00484284 0.0046877  0.0034626  0.00292753\n",
      " 0.00230624 0.00107615 0.00083338 0.00124251] [ 644671.6   452958.62  674268.4   747230.6   678539.5   442780.5\n",
      "  626479.75  674635.5   654009.    475466.    816672.5   468666.\n",
      "  538931.5   429413.5   546358.    715764.    634449.    796824.\n",
      " 1065271.    871540.    875468.    448009.    559235.    491589.\n",
      "  411889.    612855.    660090.    678188.    539410.    848362.\n",
      "  571982.    729312.    453022.    906178.    981876.   1086930.\n",
      "  858396.    980160.    653960.    832198.    670568.    675564.\n",
      "  598966.    505128.    681548.    867074.    824392.    933942.\n",
      "  882812.    847292.    652412.    707604.    848768.    649420.\n",
      "  822096.    705264.    545732.    384948.    254500.    651656.\n",
      "  458712.    491220.    840188.   1123700.    998588.   1180688.\n",
      " 1377004.   1661944.   1083016.   1076968.   1103508.   1243740.\n",
      " 1102696.    869664.    850840.   1493764.   1120692.   1068000.\n",
      "  941724.    866508.    765984.    824716.   1045924.    994812.\n",
      "  645796.    642692.    730780.    917760.    506744.    585592.\n",
      "  927024.    504216.    473752.    293000.    193528.    147136.\n",
      "   63568.     32056.     14304.     16296.  ]\n"
     ]
    },
    {
     "name": "stderr",
     "output_type": "stream",
     "text": [
      " 96%|█████████▌| 12000/12535 [5:51:42<11:28,  1.29s/it]"
     ]
    },
    {
     "name": "stdout",
     "output_type": "stream",
     "text": [
      "[0.0189001  0.0156203  0.01491078 0.01736716 0.01662573 0.01657519\n",
      " 0.0145883  0.01470156 0.01428128 0.01313219 0.01610634 0.01354532\n",
      " 0.0129082  0.0124787  0.01068955 0.01102889 0.00893385 0.00868195\n",
      " 0.00942381 0.00925843 0.00810665 0.00753342 0.0071777  0.00821262\n",
      " 0.00790514 0.00800984 0.00773598 0.00867878 0.00976382 0.00925186\n",
      " 0.00880927 0.00942052 0.00917906 0.01188071 0.01252798 0.00988971\n",
      " 0.00878978 0.01005334 0.01288783 0.00997868 0.01279065 0.01191018\n",
      " 0.01003902 0.01014061 0.01026025 0.01354064 0.01158779 0.01213224\n",
      " 0.01184388 0.01234649 0.01035449 0.01298162 0.0164898  0.01742131\n",
      " 0.01397555 0.01346798 0.01534955 0.01258181 0.01118436 0.00955827\n",
      " 0.00839804 0.00718647 0.00597008 0.00619141 0.00634703 0.00576327\n",
      " 0.00485263 0.00703444 0.00371849 0.01068064 0.0104049  0.01266382\n",
      " 0.01294343 0.01666708 0.00967444 0.00900927 0.00851952 0.00698468\n",
      " 0.0077525  0.00613676 0.00535916 0.005004   0.00517324 0.00447823\n",
      " 0.00426092 0.0055507  0.00656898 0.00623313 0.00512994 0.00508762\n",
      " 0.00629929 0.00340366 0.00380557 0.00317272 0.00158864 0.00154278\n",
      " 0.00104685 0.00102722 0.00025097 0.        ] [1079442.6 1159038.1  966475.  1286565.2  877792.5 1328625.   904982.5\n",
      " 1190110.   571330.   477593.  1196067.   871144.  1044310.   901497.\n",
      "  905734.  1032377.   737008.   481373.   824100.   525322.   848262.\n",
      "  557952.   694960.   484890.   464114.   705080.   544590.   606146.\n",
      "  812776.   656248.   797152.   613956.   429964.   467050.   604842.\n",
      "  707132.   350176.   355872.   427970.   357894.   425712.   509486.\n",
      "  596834.   696316.   556130.   728822.   888524.  1092372.   933008.\n",
      " 1091052.   820232.   971628.  1154588.  1092696.   803464.   332620.\n",
      "  515572.   495684.   839200.   973932.   851132.   843624.   672956.\n",
      "  709792.   467268.   393556.   233560.   299436.   145564.   357196.\n",
      "  370200.   197836.   398232.   442140.   389816.   455292.   414712.\n",
      "  429128.   372616.   348120.   397472.   283096.   345184.   178024.\n",
      "  369972.   244880.   256100.   336392.   326480.   211632.   170860.\n",
      "  242936.   205320.   138296.    50184.    31676.    12340.     8476.\n",
      "    3660.        0. ]\n"
     ]
    },
    {
     "name": "stderr",
     "output_type": "stream",
     "text": [
      " 97%|█████████▋| 12100/12535 [5:53:50<08:38,  1.19s/it]"
     ]
    },
    {
     "name": "stdout",
     "output_type": "stream",
     "text": [
      "[1.47054074e-02 2.26191692e-02 3.11385673e-02 3.05698067e-02\n",
      " 3.03991158e-02 2.75243334e-02 2.34121662e-02 2.25176178e-02\n",
      " 2.52700280e-02 2.24620439e-02 1.73237827e-02 1.99591015e-02\n",
      " 2.71272529e-02 2.53316555e-02 2.36409847e-02 1.87875610e-02\n",
      " 1.83449704e-02 1.64506771e-02 1.81914680e-02 1.71254091e-02\n",
      " 1.57036781e-02 1.78691186e-02 2.01194007e-02 1.79155711e-02\n",
      " 2.24834215e-02 2.68057808e-02 2.52800602e-02 2.67966595e-02\n",
      " 2.45612822e-02 1.76369138e-02 1.50902923e-02 1.38277998e-02\n",
      " 1.41221061e-02 1.43894916e-02 1.43447760e-02 1.45374844e-02\n",
      " 1.38374884e-02 1.47673329e-02 1.53209893e-02 1.52775925e-02\n",
      " 1.55121200e-02 1.92864295e-02 1.91591382e-02 1.56466458e-02\n",
      " 1.35019282e-02 1.50438314e-02 1.46556376e-02 1.40613317e-02\n",
      " 1.43497121e-02 1.08609628e-02 1.53369382e-02 1.77120212e-02\n",
      " 1.95621122e-02 2.04576012e-02 1.51034156e-02 1.54032372e-02\n",
      " 1.32666435e-02 1.11775836e-02 1.30434036e-02 1.31844506e-02\n",
      " 1.41296461e-02 1.89804826e-02 1.35156857e-02 1.17456941e-02\n",
      " 1.30637866e-02 1.51215522e-02 1.35397902e-02 1.05888415e-02\n",
      " 9.86533705e-03 1.18897762e-02 7.82016758e-03 7.05704046e-03\n",
      " 7.07502244e-03 9.41515155e-03 8.16326309e-03 9.75140743e-03\n",
      " 6.91406569e-03 6.89384481e-03 7.11943116e-03 5.78099908e-03\n",
      " 5.87792229e-03 4.35196841e-03 4.75975685e-03 3.14609194e-03\n",
      " 4.94942162e-03 4.06040670e-03 3.85065307e-03 2.31529586e-03\n",
      " 3.71620385e-03 3.04049114e-03 4.15171823e-03 4.29904973e-03\n",
      " 2.72001186e-03 1.43092987e-03 8.08569835e-04 5.48971992e-04\n",
      " 7.91508064e-04 4.34186484e-04 9.34207565e-05 1.06167689e-04] [7.3056019e+05 1.3817645e+06 8.1448625e+05 8.5044125e+05 8.8633025e+05\n",
      " 1.2978340e+06 1.8255980e+06 1.3761255e+06 1.3139840e+06 1.4807130e+06\n",
      " 1.7237230e+06 1.4206690e+06 1.7091610e+06 1.3326980e+06 1.0542200e+06\n",
      " 9.2876200e+05 1.9778860e+06 1.5860380e+06 1.4896000e+06 1.4950280e+06\n",
      " 1.6290760e+06 1.5487500e+06 1.9891540e+06 1.0990220e+06 1.0139800e+06\n",
      " 1.5281920e+06 2.0279640e+06 1.5165520e+06 1.8845680e+06 1.9139320e+06\n",
      " 1.7801040e+06 1.1879040e+06 1.4089280e+06 1.4350960e+06 1.2617160e+06\n",
      " 1.0372200e+06 1.2975800e+06 1.1691040e+06 1.4441560e+06 1.0723120e+06\n",
      " 7.5691600e+05 9.6518800e+05 6.6769200e+05 8.5875200e+05 1.8370400e+06\n",
      " 1.1104880e+06 1.1683840e+06 1.3242040e+06 1.0232240e+06 8.2253600e+05\n",
      " 6.4891200e+05 6.8396400e+05 4.7540000e+05 8.3674400e+05 9.4932000e+05\n",
      " 1.2144080e+06 1.2963120e+06 8.2880800e+05 6.3529600e+05 6.1354400e+05\n",
      " 7.2632800e+05 6.3575200e+05 5.6640800e+05 4.0104800e+05 7.0074400e+05\n",
      " 9.7508800e+05 9.7341600e+05 8.8659200e+05 1.0990080e+06 9.1432800e+05\n",
      " 8.7709600e+05 9.2782400e+05 4.7791200e+05 4.5284800e+05 4.8035200e+05\n",
      " 7.0851200e+05 3.1863200e+05 4.2786400e+05 6.1740800e+05 4.6439200e+05\n",
      " 5.7235200e+05 2.8407200e+05 2.3519200e+05 6.5392000e+04 3.8416000e+05\n",
      " 2.7498400e+05 1.8464800e+05 5.1328000e+04 1.8318400e+05 1.1737600e+05\n",
      " 1.6575200e+05 1.9015200e+05 1.0722400e+05 1.0928000e+05 1.3200000e+04\n",
      " 5.7280000e+03 5.2160000e+03 5.4720000e+03 1.4800000e+03 6.4800000e+02]\n"
     ]
    },
    {
     "name": "stderr",
     "output_type": "stream",
     "text": [
      " 97%|█████████▋| 12200/12535 [5:55:54<06:26,  1.15s/it]"
     ]
    },
    {
     "name": "stdout",
     "output_type": "stream",
     "text": [
      "[0.02246417 0.02262581 0.02444182 0.02773194 0.03244052 0.03033144\n",
      " 0.02423156 0.02251694 0.02590854 0.02989874 0.02830169 0.02527832\n",
      " 0.03421826 0.03139291 0.03441601 0.03539662 0.03155623 0.03590246\n",
      " 0.04537899 0.05070803 0.03846597 0.03290039 0.02795376 0.02038768\n",
      " 0.022223   0.01808395 0.01555449 0.01482808 0.01350213 0.01148317\n",
      " 0.01188514 0.01289882 0.01213511 0.01228516 0.01210584 0.01725606\n",
      " 0.01724281 0.01873479 0.02099706 0.01497222 0.01850474 0.01731523\n",
      " 0.01272506 0.01750131 0.01731493 0.02172541 0.01943853 0.01811049\n",
      " 0.01754735 0.01624117 0.02546199 0.02881663 0.03215075 0.04287233\n",
      " 0.03095386 0.02195008 0.01816862 0.01373937 0.01169693 0.00996194\n",
      " 0.00753524 0.00813921 0.00722602 0.00854677 0.00797337 0.00600777\n",
      " 0.00733141 0.00962451 0.00719385 0.00788002 0.00903181 0.00967484\n",
      " 0.00816291 0.00706346 0.01057582 0.00873993 0.00912575 0.00875366\n",
      " 0.00729954 0.0058942  0.0052834  0.00523034 0.006821   0.00658822\n",
      " 0.0041133  0.0067684  0.00528788 0.004716   0.00496184 0.00430314\n",
      " 0.00288692 0.00256769 0.00345091 0.00148776 0.00220506 0.00136261\n",
      " 0.00078174 0.00046706 0.00057906 0.00042092] [ 963307.25 1127352.6  1279877.1  1342790.   1251041.   1260231.\n",
      " 1530336.   1471922.    856203.   1023886.    821622.    695817.\n",
      " 1027139.    925718.   1337328.    768264.    949464.   1218818.\n",
      " 1747226.    963206.   1027188.   1319776.   1406578.   1236006.\n",
      " 1721400.   1276470.   1695584.   2285738.   1531232.   1178200.\n",
      "  994512.   1214160.    565952.    832796.    638680.    454292.\n",
      " 1034436.    709584.    991924.    641068.   1097496.    746276.\n",
      "  823724.   1016064.    876480.   1199476.   1218020.   1688424.\n",
      " 1212244.   1096824.   1503028.   1736980.   1032248.    848348.\n",
      " 1154768.   1418016.   1582476.   1997424.   1848144.   1734376.\n",
      " 1477672.   1139016.    636992.    509240.    659104.    373184.\n",
      "  553544.    686992.    515832.    631104.    336648.    606776.\n",
      "  354552.    422240.    721736.    692160.    414992.    716616.\n",
      "  513368.    336096.    323192.    278888.    279416.    387368.\n",
      "  258736.    427664.    358448.    232624.    326096.    258912.\n",
      "  137536.    167176.    135584.     48360.     41960.     16224.\n",
      "    3184.      8624.      5848.      3504.  ]\n"
     ]
    },
    {
     "name": "stderr",
     "output_type": "stream",
     "text": [
      " 98%|█████████▊| 12300/12535 [5:58:10<04:32,  1.16s/it]"
     ]
    },
    {
     "name": "stdout",
     "output_type": "stream",
     "text": [
      "[0.02540495 0.02586442 0.02484787 0.02463931 0.02725347 0.02573386\n",
      " 0.02992096 0.02999019 0.02865789 0.02689556 0.02568317 0.02858199\n",
      " 0.02725606 0.02931928 0.02993808 0.03690588 0.03519703 0.03794501\n",
      " 0.04281693 0.04612024 0.05248367 0.0457793  0.03937629 0.03973093\n",
      " 0.03573326 0.03144066 0.03804129 0.02752532 0.02991308 0.02715884\n",
      " 0.03068619 0.02404255 0.02894953 0.02710024 0.02681694 0.0204998\n",
      " 0.0180725  0.01509541 0.01593143 0.01596459 0.01711184 0.01938158\n",
      " 0.01583172 0.01519136 0.01664758 0.01627866 0.01299054 0.01290492\n",
      " 0.0121327  0.01268894 0.01145776 0.01177275 0.01186028 0.00961826\n",
      " 0.01271605 0.01081457 0.01408079 0.01302337 0.01213209 0.00992689\n",
      " 0.00828652 0.00759589 0.00990929 0.01003099 0.01066875 0.01156182\n",
      " 0.00888491 0.00870672 0.0082178  0.0073145  0.00678832 0.00707342\n",
      " 0.00797402 0.01091488 0.00941289 0.00873947 0.00715562 0.00515841\n",
      " 0.00573812 0.00631348 0.0059091  0.00598314 0.00592586 0.00604411\n",
      " 0.00459753 0.00720342 0.00600416 0.00591102 0.00548452 0.00519855\n",
      " 0.00427153 0.00422231 0.00320784 0.00291557 0.00225635 0.00173515\n",
      " 0.00092419 0.00102702 0.00055954 0.00034632] [1.6922795e+06 1.7819888e+06 1.9333888e+06 9.9459150e+05 1.3123510e+06\n",
      " 6.8660250e+05 9.8745000e+05 1.0042290e+06 9.7723500e+05 7.7131300e+05\n",
      " 8.8889000e+05 8.7410500e+05 1.0716280e+06 8.5205100e+05 1.3012230e+06\n",
      " 7.8888600e+05 1.2128300e+06 4.7875800e+05 8.1584000e+05 1.0397760e+06\n",
      " 7.4115000e+05 8.2805000e+05 6.9074200e+05 1.6164600e+06 1.5192820e+06\n",
      " 1.1015700e+06 8.0304000e+05 1.1372900e+06 1.7156800e+06 1.6557820e+06\n",
      " 3.4174340e+06 2.6635880e+06 3.9263200e+06 3.4244720e+06 4.2577960e+06\n",
      " 4.2402640e+06 4.1077880e+06 4.1381920e+06 2.9672360e+06 2.0895760e+06\n",
      " 1.9968800e+06 3.5270240e+06 2.6948880e+06 2.5843760e+06 2.8163840e+06\n",
      " 2.0771680e+06 1.8916720e+06 1.9658960e+06 1.7983200e+06 1.9728640e+06\n",
      " 2.0628640e+06 1.6072000e+06 1.9510400e+06 1.4955360e+06 2.1803920e+06\n",
      " 1.3351120e+06 2.3398000e+06 2.5142240e+06 1.9481600e+06 2.5442560e+06\n",
      " 1.7974880e+06 1.6370400e+06 1.6216000e+06 1.4899200e+06 1.3630160e+06\n",
      " 1.5177040e+06 1.5163200e+06 9.5844000e+05 1.4306560e+06 1.5735200e+06\n",
      " 1.5563760e+06 1.6733600e+06 1.3167440e+06 1.0428320e+06 1.0234240e+06\n",
      " 1.0829360e+06 1.1832800e+06 7.4065600e+05 7.5822400e+05 5.9200000e+05\n",
      " 5.7110400e+05 5.4153600e+05 4.3372800e+05 3.0859200e+05 2.7169600e+05\n",
      " 2.7078400e+05 2.9252800e+05 4.5968000e+05 3.3075200e+05 3.4576000e+05\n",
      " 3.6896000e+05 2.2347200e+05 1.7012800e+05 1.2188800e+05 1.0206400e+05\n",
      " 4.5104000e+04 2.2960000e+04 1.6528000e+04 1.0624000e+04 2.7200000e+03]\n"
     ]
    },
    {
     "name": "stderr",
     "output_type": "stream",
     "text": [
      " 99%|█████████▉| 12400/12535 [6:00:19<02:54,  1.29s/it]"
     ]
    },
    {
     "name": "stdout",
     "output_type": "stream",
     "text": [
      "[0.03250786 0.03695608 0.03593254 0.02760411 0.02766805 0.02445779\n",
      " 0.03043254 0.04534793 0.03885239 0.02705201 0.02436991 0.02545577\n",
      " 0.02437524 0.02226545 0.0260582  0.02254239 0.0205213  0.01862843\n",
      " 0.02310514 0.01920462 0.01867211 0.01768846 0.01795924 0.01610345\n",
      " 0.02012656 0.01929613 0.02113445 0.02451632 0.02832161 0.02745732\n",
      " 0.0276958  0.02773433 0.03621552 0.03262064 0.02960922 0.02783059\n",
      " 0.01769139 0.01741411 0.01354582 0.01243309 0.01220912 0.01390104\n",
      " 0.01238677 0.01277434 0.01118586 0.01278471 0.01346221 0.01402852\n",
      " 0.01329821 0.01220195 0.00840571 0.00874963 0.01023173 0.00829925\n",
      " 0.00853884 0.01004262 0.01089454 0.01116533 0.01166575 0.01014497\n",
      " 0.00889726 0.00902245 0.0081109  0.01024238 0.0080003  0.00716487\n",
      " 0.0074121  0.00672246 0.00798017 0.00988875 0.00973676 0.01193073\n",
      " 0.01094787 0.01126982 0.00826447 0.00776968 0.00836337 0.00830649\n",
      " 0.00682703 0.00678251 0.00910627 0.01096515 0.0088294  0.00609029\n",
      " 0.00674299 0.0061567  0.00797414 0.00561954 0.00486074 0.00447565\n",
      " 0.00365044 0.00261043 0.00341481 0.00193654 0.00128837 0.00159781\n",
      " 0.00050509 0.00018286 0.         0.        ] [ 399830.06  367326.44  296048.25  612229.5  1321761.5  1029751.\n",
      "  579595.25  554722.    794940.5  1226843.   2144740.5  1748042.\n",
      " 1726407.   1922793.   1818619.   1399863.   1011890.   1534600.\n",
      " 1137916.   1226298.   1452384.   1336404.   1270742.   1302000.\n",
      " 1290684.   1130814.   1421888.   1134234.   1540050.   1124504.\n",
      " 1946044.   2539368.   2671224.   1425216.    922212.   1410780.\n",
      " 1530864.   2190888.   2269984.   1623688.   1456084.   2057112.\n",
      " 1744508.   1460040.    979708.   1015328.    965912.    800652.\n",
      " 1067952.   1159680.   1342996.   1542800.   1131008.    923096.\n",
      "  649208.    895952.    752216.    658864.   1034064.   1104032.\n",
      " 1128536.   1152024.    905560.    975832.    583608.    456200.\n",
      "  646360.    585880.    740584.    560504.    447912.    450248.\n",
      "  622464.    843232.    640864.    751144.    799120.    704424.\n",
      "  558400.    709600.    576288.    818432.   1219328.    480104.\n",
      "  650296.    622112.    638360.    483552.    418032.    273744.\n",
      "  269704.     96720.    278096.    106960.     44232.     30264.\n",
      "   13544.      3064.         0.         0.  ]\n"
     ]
    },
    {
     "name": "stderr",
     "output_type": "stream",
     "text": [
      "100%|█████████▉| 12500/12535 [6:02:31<00:47,  1.36s/it]"
     ]
    },
    {
     "name": "stdout",
     "output_type": "stream",
     "text": [
      "[0.0330185  0.03488703 0.03334204 0.02897654 0.02902049 0.02775119\n",
      " 0.02981906 0.03227582 0.0332668  0.03290875 0.0375081  0.03583539\n",
      " 0.0387756  0.03726601 0.03506399 0.03676537 0.03740212 0.04047841\n",
      " 0.03952538 0.04375481 0.04235363 0.03976888 0.0417698  0.03961601\n",
      " 0.03762855 0.03307936 0.03225702 0.03216326 0.0340282  0.0409456\n",
      " 0.04870666 0.05014485 0.04398373 0.03800283 0.03932012 0.03192217\n",
      " 0.0234147  0.02114272 0.02104953 0.01999733 0.02145727 0.01849302\n",
      " 0.01624565 0.01635375 0.01354254 0.01344069 0.01733736 0.01689698\n",
      " 0.01437328 0.01661183 0.01447313 0.01432341 0.01408678 0.01432425\n",
      " 0.01313598 0.01226698 0.01735856 0.01374881 0.01792635 0.01646625\n",
      " 0.02091601 0.01615127 0.01647749 0.01776648 0.01122478 0.01128515\n",
      " 0.01111332 0.01103496 0.01263222 0.01662929 0.01323884 0.01664197\n",
      " 0.01616407 0.01196303 0.01000623 0.00991072 0.01059198 0.01000719\n",
      " 0.01149917 0.01478909 0.00954109 0.00560868 0.006277   0.00759927\n",
      " 0.0054567  0.00421618 0.00427966 0.00473189 0.0034682  0.00254685\n",
      " 0.00256251 0.00259905 0.00136528 0.00071209 0.00036713 0.00030283\n",
      " 0.00072468 0.00296788 0.         0.00099392] [1006704.4   462039.62  766667.   1020251.25  694485.25  963940.5\n",
      "  876345.    381573.5   419562.5   374837.    794095.    475476.\n",
      "  863125.    480499.   1079890.    288584.    560370.    430733.\n",
      " 1151657.   1190978.    760213.    909114.    436221.   1508887.\n",
      "  870396.   1489928.   1503080.   1492192.   1291214.    887504.\n",
      "  751370.    748328.   1375400.   2075402.   2560204.   3237394.\n",
      " 3997200.   4588892.   4935112.   4944080.   3921304.   4665412.\n",
      " 4187596.   3990984.   4212696.   3776496.   3080464.   3075832.\n",
      " 2805816.   2349152.   2258120.   2138664.   2766248.   2103264.\n",
      " 2292240.   2141936.   2369288.   2090840.   1787968.   1637760.\n",
      " 2207328.   1504296.   1512272.   1884736.   1360496.   2153552.\n",
      " 1758176.   2059416.   1911424.   2097872.   1450472.   1747576.\n",
      " 2310760.   2316288.   2099504.   2042224.   1813824.   1493440.\n",
      "  971344.   1416784.   2672032.   1701152.    894304.   1036656.\n",
      " 1061360.    477712.    322928.    274272.    354128.    155824.\n",
      "   91856.    123168.     69504.     23360.      5120.      5392.\n",
      "    5872.      7072.         0.      6528.  ]\n"
     ]
    },
    {
     "name": "stderr",
     "output_type": "stream",
     "text": [
      "100%|██████████| 12535/12535 [6:03:22<00:00,  1.74s/it]\n"
     ]
    }
   ],
   "source": [
    "#NB: running this for the full 12K galaxies takes a long time. In this example notebook, we do only 10\n",
    "from tqdm import tqdm\n",
    "for i in tqdm(range(0,len(SubID))):\n",
    "    if i%100 == 0: print(zh,z)\n",
    "    #sfh, zh = get_sfh(SubID[i], radius=2*SubhaloHalfmass_stars[i])\n",
    "    #print(f_zh[0,:],zh)\n",
    "    sfh, zh,z = get_sfh(SubID[i], force_download=True)\n",
    "    #print(zh)\n",
    "    f_sfh[i,:] = sfh\n",
    "    f_zh[i,:] = zh\n",
    "    #print(zh)\n",
    "    f.flush()\n",
    "#print(f_zh[0,:]*f_sfh[0,:])\n",
    "f.close()\n"
   ]
  },
  {
   "cell_type": "markdown",
   "metadata": {},
   "source": [
    "Reading the full (previously created) file, and making some plots"
   ]
  },
  {
   "cell_type": "code",
   "execution_count": null,
   "metadata": {},
   "outputs": [],
   "source": []
  },
  {
   "cell_type": "code",
   "execution_count": null,
   "metadata": {},
   "outputs": [],
   "source": [
    "#bf.close()\n",
    "f = h5py.File(\"SFHs_TNG_full.hdf5\", \"r\")\n"
   ]
  },
  {
   "cell_type": "code",
   "execution_count": null,
   "metadata": {},
   "outputs": [],
   "source": [
    "h2 = h5py.File(\"hih2_galaxy_099.hdf5\",\"r\")"
   ]
  },
  {
   "cell_type": "code",
   "execution_count": null,
   "metadata": {},
   "outputs": [],
   "source": [
    "print(h2['id_subhalo'][()])\n",
    "#plt.hist(h2['id_subhalo'][()])\n",
    "#plt.hist(SubID)\n",
    "\n",
    "np.shape(np.argwhere(np.in1d(h2['id_subhalo'][()],SubID) == True))\n",
    "H2idx = (np.argwhere(np.in1d(h2['id_subhalo'][()],SubID) == True))\n",
    "#print(H2idx)\n",
    "MNeutral = (h2['m_neutral_H'][()])[H2idx]\n",
    "print(np.size(np.argwhere(MNeutral ==0)))\n",
    "\n",
    "np.size(MNeutral)\n",
    "#plt.hist(logMs)\n",
    "#plt.hist(MNeutral,alpha = 0.5)\n"
   ]
  },
  {
   "cell_type": "code",
   "execution_count": null,
   "metadata": {},
   "outputs": [],
   "source": [
    "sfht = f['sfh_t'][()]\n",
    "sfh = f['sfh'][()]\n",
    "logMs = f['logMs'][()]\n",
    "zh = f['zh'][()]"
   ]
  },
  {
   "cell_type": "code",
   "execution_count": null,
   "metadata": {},
   "outputs": [],
   "source": [
    "plt.plot(sfht,np.mean(zh,axis=0))"
   ]
  },
  {
   "cell_type": "code",
   "execution_count": null,
   "metadata": {},
   "outputs": [],
   "source": [
    "f.close()"
   ]
  },
  {
   "cell_type": "code",
   "execution_count": null,
   "metadata": {},
   "outputs": [],
   "source": [
    "l0207 = h5py.File(\"02_07_output_file.hdf5\",\"r\")\n"
   ]
  },
  {
   "cell_type": "code",
   "execution_count": null,
   "metadata": {},
   "outputs": [],
   "source": [
    "lz = l0207['zh'][()]"
   ]
  },
  {
   "cell_type": "code",
   "execution_count": null,
   "metadata": {},
   "outputs": [],
   "source": [
    "lz"
   ]
  },
  {
   "cell_type": "code",
   "execution_count": null,
   "metadata": {},
   "outputs": [],
   "source": [
    "l0207.close()"
   ]
  },
  {
   "cell_type": "code",
   "execution_count": null,
   "metadata": {},
   "outputs": [],
   "source": [
    "L = h5py.File(\"LINoutput_file.hdf5\",\"r\")"
   ]
  },
  {
   "cell_type": "code",
   "execution_count": null,
   "metadata": {},
   "outputs": [],
   "source": [
    "Lz = L['zh'][()]\n",
    "sfhtL= L['sfh_t'][()]\n",
    "plt.plot(sfhtL,np.mean(Lz,axis=0))"
   ]
  },
  {
   "cell_type": "code",
   "execution_count": null,
   "metadata": {},
   "outputs": [],
   "source": [
    "#comparing total stellar mass with integral of SFR\n",
    "plt.scatter(f['logMs'][:], np.log10(np.sum(f['sfh'], axis=1)))\n",
    "plt.plot([9.5,12.8], [9.5,12.8], color='red')\n",
    "plt.xlabel('log total stellar masss')\n",
    "plt.ylabel('log sum(SFH)')\n",
    "#plt.xlim(9.5, 10.7)"
   ]
  },
  {
   "cell_type": "code",
   "execution_count": null,
   "metadata": {},
   "outputs": [],
   "source": [
    "plt.scatter(logMs, np.log10(np.sum(zh,axis = 1)))"
   ]
  },
  {
   "cell_type": "code",
   "execution_count": null,
   "metadata": {},
   "outputs": [],
   "source": [
    "plt.scatter((np.sum(sfh,axis =1 )), np.log10(np.sum(zh,axis =1 )))"
   ]
  },
  {
   "cell_type": "code",
   "execution_count": null,
   "metadata": {},
   "outputs": [],
   "source": [
    "plt.plot(f['sfh_t'],f['sfh'][1])\n",
    "#print(np.max(sfh_t),np.max(f['sfh_t']))\n",
    "print(sfh_t)\n",
    "print('BREAK')\n",
    "\n",
    "\n",
    "\n",
    "plt.plot(sfh_t,sfh[1])\n",
    "plt.xlabel('lookback time [Gyrs]')\n",
    "plt.ylabel('stellar mass formed in bin [solar mass]')\n",
    "plt.title('SFH for galaxy number 1')"
   ]
  },
  {
   "cell_type": "code",
   "execution_count": null,
   "metadata": {
    "scrolled": true
   },
   "outputs": [],
   "source": [
    "#plt.plot(f['sfh_t'],f['zh'][1])\n",
    "plt.plot(sfh_t[11],zh[11,1],'ro')\n",
    "plt.plot(sfh_t,zh[1])\n",
    "plt.xlabel('lookback time [Gyrs]')\n",
    "plt.ylabel('mass-weighted metallicity of stars formed in bin [solar mass]')\n",
    "plt.title('chemical enrichment for galaxy number 1')"
   ]
  },
  {
   "cell_type": "code",
   "execution_count": null,
   "metadata": {},
   "outputs": [],
   "source": [
    "zs = zh*sfh\n",
    "dt= np.diff(sfh_t_boundary)\n",
    "np.sum(sfh,axis =1)"
   ]
  },
  {
   "cell_type": "code",
   "execution_count": null,
   "metadata": {},
   "outputs": [],
   "source": [
    "zs = zh*sfh\n",
    "dt= np.diff(sfh_t_boundary)\n",
    "np.sum(sfh,axis =1)\n",
    "zmeanm = np.sum(zs,axis =1)/np.sum(sfh,axis =1)\n",
    "SFR= sfh/dt\n",
    "sfrm = np.mean(SFR,axis = 1)"
   ]
  },
  {
   "cell_type": "code",
   "execution_count": null,
   "metadata": {},
   "outputs": [],
   "source": [
    "print(logMs[0])"
   ]
  },
  {
   "cell_type": "code",
   "execution_count": null,
   "metadata": {},
   "outputs": [],
   "source": [
    "plt.scatter(logMs,zmeanm,s = .01)\n",
    "plt.show()\n",
    "plt.scatter(logMs,np.log10(sfrm), s = 0.01)\n",
    "plt.show()\n",
    "plt.scatter(zmeanm,np.log10(sfrm), s = 0.01)"
   ]
  },
  {
   "cell_type": "code",
   "execution_count": null,
   "metadata": {},
   "outputs": [],
   "source": [
    "plt.title('Star formation rate over time, galaxy 0')\n",
    "plt.xlabel('Lookback time [Gyr]')\n",
    "plt.ylabel('Star formation rate, $[M_\\\\odot]$ / Gyr ')\n",
    "plt.plot(sfht,SFR[0,:],'k-o')\n"
   ]
  },
  {
   "cell_type": "code",
   "execution_count": null,
   "metadata": {},
   "outputs": [],
   "source": [
    "plt.figure(2,figsize =(10,10))\n",
    "plt.title('Log of the mean star formation rate vs mean metallicity')\n",
    "plt.ylabel('Mass-weighted Mean Metallicity')\n",
    "plt.xlabel('Log of mean star formation rate')\n",
    "plt.scatter(np.log10(sfrm),zmeanm)"
   ]
  },
  {
   "cell_type": "code",
   "execution_count": null,
   "metadata": {},
   "outputs": [],
   "source": [
    "# SFH = SFR*delta t"
   ]
  },
  {
   "cell_type": "code",
   "execution_count": null,
   "metadata": {},
   "outputs": [],
   "source": [
    "plt.scatter(zmeanm,logMs)"
   ]
  },
  {
   "cell_type": "code",
   "execution_count": null,
   "metadata": {},
   "outputs": [],
   "source": [
    "#plt.plot(sfh_t,sfh[0,:])\n",
    "plt.plot(sfh_t,SFR[0,:])\n",
    "plt.xlim(0,0.5)\n",
    "plt.ylim(0,1e10)"
   ]
  },
  {
   "cell_type": "code",
   "execution_count": null,
   "metadata": {},
   "outputs": [],
   "source": [
    "plt.title('Star formation histories of TNG galaxies')\n",
    "plt.ylabel('Stellar mass formed in bin [solar masses]')\n",
    "plt.xlabel('Lookback Time [Gyr]')\n",
    "for i in range(12535):\n",
    "    plt.plot(f['sfh_t'],f['sfh'][i])"
   ]
  },
  {
   "cell_type": "code",
   "execution_count": null,
   "metadata": {},
   "outputs": [],
   "source": [
    "for i in range(12535):\n",
    "    plt.plot(f['sfh_t'],f['zh'][i])"
   ]
  },
  {
   "cell_type": "code",
   "execution_count": null,
   "metadata": {},
   "outputs": [],
   "source": [
    "plt.title('Chemical enrichment history vs SFH at z = 0')\n",
    "plt.xlabel('mass-weighted metallicity of stars formed in a bin (solar masses)')\n",
    "plt.ylabel('stellar mass formed in bin [solar mass]')\n",
    "plt.scatter(zh[:,-1],sfh[:,-1])"
   ]
  },
  {
   "cell_type": "code",
   "execution_count": null,
   "metadata": {},
   "outputs": [],
   "source": [
    "np.shape(logMs)"
   ]
  },
  {
   "cell_type": "code",
   "execution_count": null,
   "metadata": {},
   "outputs": [],
   "source": [
    "plt.title('Mass vs SFH at z = 0')\n",
    "plt.scatter(logMs,sfh[:,-1])"
   ]
  },
  {
   "cell_type": "code",
   "execution_count": null,
   "metadata": {},
   "outputs": [],
   "source": [
    "plt.title('Mass vs Chem Enrichment at z = 0')\n",
    "plt.scatter(logMs,zh[:,-1])"
   ]
  },
  {
   "cell_type": "code",
   "execution_count": null,
   "metadata": {},
   "outputs": [],
   "source": [
    "np.shape(sfh)"
   ]
  },
  {
   "cell_type": "code",
   "execution_count": null,
   "metadata": {},
   "outputs": [],
   "source": [
    "meanSFH = np.mean(sfh,axis = 1)\n",
    "meanZH = np.mean(zh,axis = 1)\n",
    "print(np.shape(meanSFH),np.shape(meanZH))\n",
    "plt.scatter(meanZH,meanSFH, color = 'red',s = 2)\n",
    "#plt.scatter(zh[:,-1],sfh[:,-1], color = 'black')"
   ]
  },
  {
   "cell_type": "code",
   "execution_count": null,
   "metadata": {},
   "outputs": [],
   "source": [
    "from sklearn.cluster import KMeans\n",
    "from sklearn.model_selection import train_test_split\n",
    "# given this training data, want to predict the chem enrichment from a SF history\n",
    "X,y  = zh[:,-1],sfh[:,-1]\n",
    "X_train, X_test, y_train, y_test = train_test_split(X, y, test_size=0.33, random_state=42)\n",
    "\n",
    "# splitting the model data into training and test"
   ]
  },
  {
   "cell_type": "code",
   "execution_count": null,
   "metadata": {},
   "outputs": [],
   "source": [
    "reduced_data =np.vstack((X,y)).T\n",
    "train = np.vstack((X_train,y_train)).T\n",
    "test = np.vstack((X_test,y_test)).T"
   ]
  },
  {
   "cell_type": "code",
   "execution_count": null,
   "metadata": {},
   "outputs": [],
   "source": [
    "y_pred = KMeans(n_clusters=8, random_state=42).fit(train)\n",
    "np.size(y_pred.labels_)\n",
    "y_pred.predict(test)\n",
    "print((y_pred.cluster_centers_))\n",
    "plt.plot(y_pred.cluster_centers_[:,0],y_pred.cluster_centers_[:,1],'o')\n",
    "plt.plot(zh[:,-1],sfh[:,-1],'k.', alpha = 0.01)\n"
   ]
  },
  {
   "cell_type": "code",
   "execution_count": null,
   "metadata": {},
   "outputs": [],
   "source": [
    "np.shape(sfh[:,0])"
   ]
  },
  {
   "cell_type": "code",
   "execution_count": null,
   "metadata": {},
   "outputs": [],
   "source": [
    "np.argwhere(sfh[:,0] != 0)"
   ]
  },
  {
   "cell_type": "code",
   "execution_count": null,
   "metadata": {},
   "outputs": [],
   "source": [
    "#stellar mass formed between time t_i and t_i+1 ---> ith entry in SFH:\n",
    "sfr = sfh/np.diff(sfh_t_boundary)\n",
    "plt.title('SFH vs SFR')\n",
    "plt.plot(sfh_t,sfh[:][2])\n",
    "plt.plot(sfh_t,sfr[:][2])\n",
    "print(sfr[:][20])"
   ]
  }
 ],
 "metadata": {
  "kernelspec": {
   "display_name": "Python 3",
   "language": "python",
   "name": "python3"
  },
  "language_info": {
   "codemirror_mode": {
    "name": "ipython",
    "version": 3
   },
   "file_extension": ".py",
   "mimetype": "text/x-python",
   "name": "python",
   "nbconvert_exporter": "python",
   "pygments_lexer": "ipython3",
   "version": "3.7.4"
  }
 },
 "nbformat": 4,
 "nbformat_minor": 4
}
